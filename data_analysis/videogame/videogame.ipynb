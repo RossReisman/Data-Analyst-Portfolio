{
 "cells": [
  {
   "cell_type": "markdown",
   "metadata": {},
   "source": [
    "## Step 1: Data and Library Import"
   ]
  },
  {
   "cell_type": "code",
   "execution_count": 1,
   "metadata": {},
   "outputs": [],
   "source": [
    "import pandas as pd\n",
    "import numpy as np\n",
    "import matplotlib as mpl\n",
    "from matplotlib import pyplot as plt\n",
    "from matplotlib.ticker import (MultipleLocator, FormatStrFormatter, AutoMinorLocator)\n",
    "import seaborn as sns\n",
    "import datetime\n",
    "\n",
    "with open(\"vgsales.csv\", \"r\") as f:\n",
    "    df = pd.read_csv(f)"
   ]
  },
  {
   "cell_type": "markdown",
   "metadata": {},
   "source": [
    "## Step 2: Dataset Examination"
   ]
  },
  {
   "cell_type": "code",
   "execution_count": 2,
   "metadata": {},
   "outputs": [
    {
     "data": {
      "text/html": [
       "<div>\n",
       "<style scoped>\n",
       "    .dataframe tbody tr th:only-of-type {\n",
       "        vertical-align: middle;\n",
       "    }\n",
       "\n",
       "    .dataframe tbody tr th {\n",
       "        vertical-align: top;\n",
       "    }\n",
       "\n",
       "    .dataframe thead th {\n",
       "        text-align: right;\n",
       "    }\n",
       "</style>\n",
       "<table border=\"1\" class=\"dataframe\">\n",
       "  <thead>\n",
       "    <tr style=\"text-align: right;\">\n",
       "      <th></th>\n",
       "      <th>Rank</th>\n",
       "      <th>Name</th>\n",
       "      <th>Platform</th>\n",
       "      <th>Year</th>\n",
       "      <th>Genre</th>\n",
       "      <th>Publisher</th>\n",
       "      <th>NA_Sales</th>\n",
       "      <th>EU_Sales</th>\n",
       "      <th>JP_Sales</th>\n",
       "      <th>Other_Sales</th>\n",
       "      <th>Global_Sales</th>\n",
       "    </tr>\n",
       "  </thead>\n",
       "  <tbody>\n",
       "    <tr>\n",
       "      <th>0</th>\n",
       "      <td>1</td>\n",
       "      <td>Wii Sports</td>\n",
       "      <td>Wii</td>\n",
       "      <td>2006.00</td>\n",
       "      <td>Sports</td>\n",
       "      <td>Nintendo</td>\n",
       "      <td>41.49</td>\n",
       "      <td>29.02</td>\n",
       "      <td>3.77</td>\n",
       "      <td>8.46</td>\n",
       "      <td>82.74</td>\n",
       "    </tr>\n",
       "    <tr>\n",
       "      <th>1</th>\n",
       "      <td>2</td>\n",
       "      <td>Super Mario Bros.</td>\n",
       "      <td>NES</td>\n",
       "      <td>1985.00</td>\n",
       "      <td>Platform</td>\n",
       "      <td>Nintendo</td>\n",
       "      <td>29.08</td>\n",
       "      <td>3.58</td>\n",
       "      <td>6.81</td>\n",
       "      <td>0.77</td>\n",
       "      <td>40.24</td>\n",
       "    </tr>\n",
       "    <tr>\n",
       "      <th>2</th>\n",
       "      <td>3</td>\n",
       "      <td>Mario Kart Wii</td>\n",
       "      <td>Wii</td>\n",
       "      <td>2008.00</td>\n",
       "      <td>Racing</td>\n",
       "      <td>Nintendo</td>\n",
       "      <td>15.85</td>\n",
       "      <td>12.88</td>\n",
       "      <td>3.79</td>\n",
       "      <td>3.31</td>\n",
       "      <td>35.82</td>\n",
       "    </tr>\n",
       "    <tr>\n",
       "      <th>3</th>\n",
       "      <td>4</td>\n",
       "      <td>Wii Sports Resort</td>\n",
       "      <td>Wii</td>\n",
       "      <td>2009.00</td>\n",
       "      <td>Sports</td>\n",
       "      <td>Nintendo</td>\n",
       "      <td>15.75</td>\n",
       "      <td>11.01</td>\n",
       "      <td>3.28</td>\n",
       "      <td>2.96</td>\n",
       "      <td>33.00</td>\n",
       "    </tr>\n",
       "    <tr>\n",
       "      <th>4</th>\n",
       "      <td>5</td>\n",
       "      <td>Pokemon Red/Pokemon Blue</td>\n",
       "      <td>GB</td>\n",
       "      <td>1996.00</td>\n",
       "      <td>Role-Playing</td>\n",
       "      <td>Nintendo</td>\n",
       "      <td>11.27</td>\n",
       "      <td>8.89</td>\n",
       "      <td>10.22</td>\n",
       "      <td>1.00</td>\n",
       "      <td>31.37</td>\n",
       "    </tr>\n",
       "  </tbody>\n",
       "</table>\n",
       "</div>"
      ],
      "text/plain": [
       "   Rank                      Name Platform    Year         Genre Publisher  \\\n",
       "0     1                Wii Sports      Wii 2006.00        Sports  Nintendo   \n",
       "1     2         Super Mario Bros.      NES 1985.00      Platform  Nintendo   \n",
       "2     3            Mario Kart Wii      Wii 2008.00        Racing  Nintendo   \n",
       "3     4         Wii Sports Resort      Wii 2009.00        Sports  Nintendo   \n",
       "4     5  Pokemon Red/Pokemon Blue       GB 1996.00  Role-Playing  Nintendo   \n",
       "\n",
       "   NA_Sales  EU_Sales  JP_Sales  Other_Sales  Global_Sales  \n",
       "0     41.49     29.02      3.77         8.46         82.74  \n",
       "1     29.08      3.58      6.81         0.77         40.24  \n",
       "2     15.85     12.88      3.79         3.31         35.82  \n",
       "3     15.75     11.01      3.28         2.96         33.00  \n",
       "4     11.27      8.89     10.22         1.00         31.37  "
      ]
     },
     "execution_count": 2,
     "metadata": {},
     "output_type": "execute_result"
    }
   ],
   "source": [
    "pd.set_option('display.float_format', lambda x: '%.2f' %x)\n",
    "#pd.set_option('display.max_rows', None)\n",
    "pd.set_option('display.max_columns', None)\n",
    "df.head()"
   ]
  },
  {
   "cell_type": "code",
   "execution_count": 3,
   "metadata": {},
   "outputs": [
    {
     "data": {
      "text/plain": [
       "(16598, 11)"
      ]
     },
     "execution_count": 3,
     "metadata": {},
     "output_type": "execute_result"
    }
   ],
   "source": [
    "df.shape"
   ]
  },
  {
   "cell_type": "code",
   "execution_count": 4,
   "metadata": {},
   "outputs": [
    {
     "name": "stdout",
     "output_type": "stream",
     "text": [
      "<class 'pandas.core.frame.DataFrame'>\n",
      "RangeIndex: 16598 entries, 0 to 16597\n",
      "Data columns (total 11 columns):\n",
      " #   Column        Non-Null Count  Dtype  \n",
      "---  ------        --------------  -----  \n",
      " 0   Rank          16598 non-null  int64  \n",
      " 1   Name          16598 non-null  object \n",
      " 2   Platform      16598 non-null  object \n",
      " 3   Year          16327 non-null  float64\n",
      " 4   Genre         16598 non-null  object \n",
      " 5   Publisher     16540 non-null  object \n",
      " 6   NA_Sales      16598 non-null  float64\n",
      " 7   EU_Sales      16598 non-null  float64\n",
      " 8   JP_Sales      16598 non-null  float64\n",
      " 9   Other_Sales   16598 non-null  float64\n",
      " 10  Global_Sales  16598 non-null  float64\n",
      "dtypes: float64(6), int64(1), object(4)\n",
      "memory usage: 1.4+ MB\n"
     ]
    }
   ],
   "source": [
    "df.info()"
   ]
  },
  {
   "cell_type": "markdown",
   "metadata": {},
   "source": [
    "### Note\n",
    "- There are some Null values in the Year and Publisher columns\n",
    "\n",
    "- Year is a float, will need to change to int or datetime"
   ]
  },
  {
   "cell_type": "code",
   "execution_count": 5,
   "metadata": {},
   "outputs": [
    {
     "data": {
      "text/html": [
       "<div>\n",
       "<style scoped>\n",
       "    .dataframe tbody tr th:only-of-type {\n",
       "        vertical-align: middle;\n",
       "    }\n",
       "\n",
       "    .dataframe tbody tr th {\n",
       "        vertical-align: top;\n",
       "    }\n",
       "\n",
       "    .dataframe thead th {\n",
       "        text-align: right;\n",
       "    }\n",
       "</style>\n",
       "<table border=\"1\" class=\"dataframe\">\n",
       "  <thead>\n",
       "    <tr style=\"text-align: right;\">\n",
       "      <th></th>\n",
       "      <th>Rank</th>\n",
       "      <th>Year</th>\n",
       "      <th>NA_Sales</th>\n",
       "      <th>EU_Sales</th>\n",
       "      <th>JP_Sales</th>\n",
       "      <th>Other_Sales</th>\n",
       "      <th>Global_Sales</th>\n",
       "    </tr>\n",
       "  </thead>\n",
       "  <tbody>\n",
       "    <tr>\n",
       "      <th>count</th>\n",
       "      <td>16598.00</td>\n",
       "      <td>16327.00</td>\n",
       "      <td>16598.00</td>\n",
       "      <td>16598.00</td>\n",
       "      <td>16598.00</td>\n",
       "      <td>16598.00</td>\n",
       "      <td>16598.00</td>\n",
       "    </tr>\n",
       "    <tr>\n",
       "      <th>mean</th>\n",
       "      <td>8300.61</td>\n",
       "      <td>2006.41</td>\n",
       "      <td>0.26</td>\n",
       "      <td>0.15</td>\n",
       "      <td>0.08</td>\n",
       "      <td>0.05</td>\n",
       "      <td>0.54</td>\n",
       "    </tr>\n",
       "    <tr>\n",
       "      <th>std</th>\n",
       "      <td>4791.85</td>\n",
       "      <td>5.83</td>\n",
       "      <td>0.82</td>\n",
       "      <td>0.51</td>\n",
       "      <td>0.31</td>\n",
       "      <td>0.19</td>\n",
       "      <td>1.56</td>\n",
       "    </tr>\n",
       "    <tr>\n",
       "      <th>min</th>\n",
       "      <td>1.00</td>\n",
       "      <td>1980.00</td>\n",
       "      <td>0.00</td>\n",
       "      <td>0.00</td>\n",
       "      <td>0.00</td>\n",
       "      <td>0.00</td>\n",
       "      <td>0.01</td>\n",
       "    </tr>\n",
       "    <tr>\n",
       "      <th>25%</th>\n",
       "      <td>4151.25</td>\n",
       "      <td>2003.00</td>\n",
       "      <td>0.00</td>\n",
       "      <td>0.00</td>\n",
       "      <td>0.00</td>\n",
       "      <td>0.00</td>\n",
       "      <td>0.06</td>\n",
       "    </tr>\n",
       "    <tr>\n",
       "      <th>50%</th>\n",
       "      <td>8300.50</td>\n",
       "      <td>2007.00</td>\n",
       "      <td>0.08</td>\n",
       "      <td>0.02</td>\n",
       "      <td>0.00</td>\n",
       "      <td>0.01</td>\n",
       "      <td>0.17</td>\n",
       "    </tr>\n",
       "    <tr>\n",
       "      <th>75%</th>\n",
       "      <td>12449.75</td>\n",
       "      <td>2010.00</td>\n",
       "      <td>0.24</td>\n",
       "      <td>0.11</td>\n",
       "      <td>0.04</td>\n",
       "      <td>0.04</td>\n",
       "      <td>0.47</td>\n",
       "    </tr>\n",
       "    <tr>\n",
       "      <th>max</th>\n",
       "      <td>16600.00</td>\n",
       "      <td>2020.00</td>\n",
       "      <td>41.49</td>\n",
       "      <td>29.02</td>\n",
       "      <td>10.22</td>\n",
       "      <td>10.57</td>\n",
       "      <td>82.74</td>\n",
       "    </tr>\n",
       "  </tbody>\n",
       "</table>\n",
       "</div>"
      ],
      "text/plain": [
       "          Rank     Year  NA_Sales  EU_Sales  JP_Sales  Other_Sales  \\\n",
       "count 16598.00 16327.00  16598.00  16598.00  16598.00     16598.00   \n",
       "mean   8300.61  2006.41      0.26      0.15      0.08         0.05   \n",
       "std    4791.85     5.83      0.82      0.51      0.31         0.19   \n",
       "min       1.00  1980.00      0.00      0.00      0.00         0.00   \n",
       "25%    4151.25  2003.00      0.00      0.00      0.00         0.00   \n",
       "50%    8300.50  2007.00      0.08      0.02      0.00         0.01   \n",
       "75%   12449.75  2010.00      0.24      0.11      0.04         0.04   \n",
       "max   16600.00  2020.00     41.49     29.02     10.22        10.57   \n",
       "\n",
       "       Global_Sales  \n",
       "count      16598.00  \n",
       "mean           0.54  \n",
       "std            1.56  \n",
       "min            0.01  \n",
       "25%            0.06  \n",
       "50%            0.17  \n",
       "75%            0.47  \n",
       "max           82.74  "
      ]
     },
     "execution_count": 5,
     "metadata": {},
     "output_type": "execute_result"
    }
   ],
   "source": [
    "df.describe()"
   ]
  },
  {
   "cell_type": "code",
   "execution_count": 6,
   "metadata": {},
   "outputs": [
    {
     "data": {
      "text/plain": [
       "array(['Wii', 'NES', 'GB', 'DS', 'X360', 'PS3', 'PS2', 'SNES', 'GBA',\n",
       "       '3DS', 'PS4', 'N64', 'PS', 'XB', 'PC', '2600', 'PSP', 'XOne', 'GC',\n",
       "       'WiiU', 'GEN', 'DC', 'PSV', 'SAT', 'SCD', 'WS', 'NG', 'TG16',\n",
       "       '3DO', 'GG', 'PCFX'], dtype=object)"
      ]
     },
     "execution_count": 6,
     "metadata": {},
     "output_type": "execute_result"
    }
   ],
   "source": [
    "df['Platform'].unique()"
   ]
  },
  {
   "cell_type": "code",
   "execution_count": 7,
   "metadata": {},
   "outputs": [
    {
     "data": {
      "text/plain": [
       "array([2006., 1985., 2008., 2009., 1996., 1989., 1984., 2005., 1999.,\n",
       "       2007., 2010., 2013., 2004., 1990., 1988., 2002., 2001., 2011.,\n",
       "       1998., 2015., 2012., 2014., 1992., 1997., 1993., 1994., 1982.,\n",
       "       2003., 1986., 2000.,   nan, 1995., 2016., 1991., 1981., 1987.,\n",
       "       1980., 1983., 2020., 2017.])"
      ]
     },
     "execution_count": 7,
     "metadata": {},
     "output_type": "execute_result"
    }
   ],
   "source": [
    "df['Year'].unique()"
   ]
  },
  {
   "cell_type": "code",
   "execution_count": 8,
   "metadata": {},
   "outputs": [
    {
     "data": {
      "text/plain": [
       "39"
      ]
     },
     "execution_count": 8,
     "metadata": {},
     "output_type": "execute_result"
    }
   ],
   "source": [
    "df['Year'].nunique()"
   ]
  },
  {
   "cell_type": "code",
   "execution_count": 9,
   "metadata": {},
   "outputs": [
    {
     "data": {
      "text/plain": [
       "array(['Sports', 'Platform', 'Racing', 'Role-Playing', 'Puzzle', 'Misc',\n",
       "       'Shooter', 'Simulation', 'Action', 'Fighting', 'Adventure',\n",
       "       'Strategy'], dtype=object)"
      ]
     },
     "execution_count": 9,
     "metadata": {},
     "output_type": "execute_result"
    }
   ],
   "source": [
    "df['Genre'].unique()"
   ]
  },
  {
   "cell_type": "code",
   "execution_count": 10,
   "metadata": {},
   "outputs": [
    {
     "data": {
      "text/plain": [
       "Rank              0\n",
       "Name              0\n",
       "Platform          0\n",
       "Year            271\n",
       "Genre             0\n",
       "Publisher        58\n",
       "NA_Sales          0\n",
       "EU_Sales          0\n",
       "JP_Sales          0\n",
       "Other_Sales       0\n",
       "Global_Sales      0\n",
       "dtype: int64"
      ]
     },
     "execution_count": 10,
     "metadata": {},
     "output_type": "execute_result"
    }
   ],
   "source": [
    "df.isna().sum()"
   ]
  },
  {
   "cell_type": "markdown",
   "metadata": {},
   "source": [
    "## Step 3: EDA and Feature Engineering"
   ]
  },
  {
   "cell_type": "code",
   "execution_count": 11,
   "metadata": {},
   "outputs": [
    {
     "data": {
      "text/html": [
       "<div>\n",
       "<style scoped>\n",
       "    .dataframe tbody tr th:only-of-type {\n",
       "        vertical-align: middle;\n",
       "    }\n",
       "\n",
       "    .dataframe tbody tr th {\n",
       "        vertical-align: top;\n",
       "    }\n",
       "\n",
       "    .dataframe thead th {\n",
       "        text-align: right;\n",
       "    }\n",
       "</style>\n",
       "<table border=\"1\" class=\"dataframe\">\n",
       "  <thead>\n",
       "    <tr style=\"text-align: right;\">\n",
       "      <th></th>\n",
       "      <th>index</th>\n",
       "      <th>Rank</th>\n",
       "      <th>Name</th>\n",
       "      <th>Platform</th>\n",
       "      <th>Year</th>\n",
       "      <th>Genre</th>\n",
       "      <th>Publisher</th>\n",
       "      <th>NA_Sales</th>\n",
       "      <th>EU_Sales</th>\n",
       "      <th>JP_Sales</th>\n",
       "      <th>Other_Sales</th>\n",
       "      <th>Global_Sales</th>\n",
       "    </tr>\n",
       "  </thead>\n",
       "  <tbody>\n",
       "    <tr>\n",
       "      <th>0</th>\n",
       "      <td>179</td>\n",
       "      <td>180</td>\n",
       "      <td>Madden NFL 2004</td>\n",
       "      <td>PS2</td>\n",
       "      <td>NaN</td>\n",
       "      <td>Sports</td>\n",
       "      <td>Electronic Arts</td>\n",
       "      <td>4.26</td>\n",
       "      <td>0.26</td>\n",
       "      <td>0.01</td>\n",
       "      <td>0.71</td>\n",
       "      <td>5.23</td>\n",
       "    </tr>\n",
       "    <tr>\n",
       "      <th>1</th>\n",
       "      <td>377</td>\n",
       "      <td>378</td>\n",
       "      <td>FIFA Soccer 2004</td>\n",
       "      <td>PS2</td>\n",
       "      <td>NaN</td>\n",
       "      <td>Sports</td>\n",
       "      <td>Electronic Arts</td>\n",
       "      <td>0.59</td>\n",
       "      <td>2.36</td>\n",
       "      <td>0.04</td>\n",
       "      <td>0.51</td>\n",
       "      <td>3.49</td>\n",
       "    </tr>\n",
       "    <tr>\n",
       "      <th>2</th>\n",
       "      <td>431</td>\n",
       "      <td>432</td>\n",
       "      <td>LEGO Batman: The Videogame</td>\n",
       "      <td>Wii</td>\n",
       "      <td>NaN</td>\n",
       "      <td>Action</td>\n",
       "      <td>Warner Bros. Interactive Entertainment</td>\n",
       "      <td>1.86</td>\n",
       "      <td>1.02</td>\n",
       "      <td>0.00</td>\n",
       "      <td>0.29</td>\n",
       "      <td>3.17</td>\n",
       "    </tr>\n",
       "    <tr>\n",
       "      <th>3</th>\n",
       "      <td>470</td>\n",
       "      <td>471</td>\n",
       "      <td>wwe Smackdown vs. Raw 2006</td>\n",
       "      <td>PS2</td>\n",
       "      <td>NaN</td>\n",
       "      <td>Fighting</td>\n",
       "      <td>NaN</td>\n",
       "      <td>1.57</td>\n",
       "      <td>1.02</td>\n",
       "      <td>0.00</td>\n",
       "      <td>0.41</td>\n",
       "      <td>3.00</td>\n",
       "    </tr>\n",
       "    <tr>\n",
       "      <th>4</th>\n",
       "      <td>607</td>\n",
       "      <td>608</td>\n",
       "      <td>Space Invaders</td>\n",
       "      <td>2600</td>\n",
       "      <td>NaN</td>\n",
       "      <td>Shooter</td>\n",
       "      <td>Atari</td>\n",
       "      <td>2.36</td>\n",
       "      <td>0.14</td>\n",
       "      <td>0.00</td>\n",
       "      <td>0.03</td>\n",
       "      <td>2.53</td>\n",
       "    </tr>\n",
       "    <tr>\n",
       "      <th>...</th>\n",
       "      <td>...</td>\n",
       "      <td>...</td>\n",
       "      <td>...</td>\n",
       "      <td>...</td>\n",
       "      <td>...</td>\n",
       "      <td>...</td>\n",
       "      <td>...</td>\n",
       "      <td>...</td>\n",
       "      <td>...</td>\n",
       "      <td>...</td>\n",
       "      <td>...</td>\n",
       "      <td>...</td>\n",
       "    </tr>\n",
       "    <tr>\n",
       "      <th>266</th>\n",
       "      <td>16307</td>\n",
       "      <td>16310</td>\n",
       "      <td>Freaky Flyers</td>\n",
       "      <td>GC</td>\n",
       "      <td>NaN</td>\n",
       "      <td>Racing</td>\n",
       "      <td>Unknown</td>\n",
       "      <td>0.01</td>\n",
       "      <td>0.00</td>\n",
       "      <td>0.00</td>\n",
       "      <td>0.00</td>\n",
       "      <td>0.01</td>\n",
       "    </tr>\n",
       "    <tr>\n",
       "      <th>267</th>\n",
       "      <td>16327</td>\n",
       "      <td>16330</td>\n",
       "      <td>Inversion</td>\n",
       "      <td>PC</td>\n",
       "      <td>NaN</td>\n",
       "      <td>Shooter</td>\n",
       "      <td>Namco Bandai Games</td>\n",
       "      <td>0.01</td>\n",
       "      <td>0.00</td>\n",
       "      <td>0.00</td>\n",
       "      <td>0.00</td>\n",
       "      <td>0.01</td>\n",
       "    </tr>\n",
       "    <tr>\n",
       "      <th>268</th>\n",
       "      <td>16366</td>\n",
       "      <td>16369</td>\n",
       "      <td>Hakuouki: Shinsengumi Kitan</td>\n",
       "      <td>PS3</td>\n",
       "      <td>NaN</td>\n",
       "      <td>Adventure</td>\n",
       "      <td>Unknown</td>\n",
       "      <td>0.01</td>\n",
       "      <td>0.00</td>\n",
       "      <td>0.00</td>\n",
       "      <td>0.00</td>\n",
       "      <td>0.01</td>\n",
       "    </tr>\n",
       "    <tr>\n",
       "      <th>269</th>\n",
       "      <td>16427</td>\n",
       "      <td>16430</td>\n",
       "      <td>Virtua Quest</td>\n",
       "      <td>GC</td>\n",
       "      <td>NaN</td>\n",
       "      <td>Role-Playing</td>\n",
       "      <td>Unknown</td>\n",
       "      <td>0.01</td>\n",
       "      <td>0.00</td>\n",
       "      <td>0.00</td>\n",
       "      <td>0.00</td>\n",
       "      <td>0.01</td>\n",
       "    </tr>\n",
       "    <tr>\n",
       "      <th>270</th>\n",
       "      <td>16493</td>\n",
       "      <td>16496</td>\n",
       "      <td>The Smurfs</td>\n",
       "      <td>3DS</td>\n",
       "      <td>NaN</td>\n",
       "      <td>Action</td>\n",
       "      <td>Unknown</td>\n",
       "      <td>0.00</td>\n",
       "      <td>0.01</td>\n",
       "      <td>0.00</td>\n",
       "      <td>0.00</td>\n",
       "      <td>0.01</td>\n",
       "    </tr>\n",
       "  </tbody>\n",
       "</table>\n",
       "<p>271 rows × 12 columns</p>\n",
       "</div>"
      ],
      "text/plain": [
       "     index   Rank                         Name Platform  Year         Genre  \\\n",
       "0      179    180              Madden NFL 2004      PS2   NaN        Sports   \n",
       "1      377    378             FIFA Soccer 2004      PS2   NaN        Sports   \n",
       "2      431    432   LEGO Batman: The Videogame      Wii   NaN        Action   \n",
       "3      470    471   wwe Smackdown vs. Raw 2006      PS2   NaN      Fighting   \n",
       "4      607    608               Space Invaders     2600   NaN       Shooter   \n",
       "..     ...    ...                          ...      ...   ...           ...   \n",
       "266  16307  16310                Freaky Flyers       GC   NaN        Racing   \n",
       "267  16327  16330                    Inversion       PC   NaN       Shooter   \n",
       "268  16366  16369  Hakuouki: Shinsengumi Kitan      PS3   NaN     Adventure   \n",
       "269  16427  16430                 Virtua Quest       GC   NaN  Role-Playing   \n",
       "270  16493  16496                   The Smurfs      3DS   NaN        Action   \n",
       "\n",
       "                                  Publisher  NA_Sales  EU_Sales  JP_Sales  \\\n",
       "0                           Electronic Arts      4.26      0.26      0.01   \n",
       "1                           Electronic Arts      0.59      2.36      0.04   \n",
       "2    Warner Bros. Interactive Entertainment      1.86      1.02      0.00   \n",
       "3                                       NaN      1.57      1.02      0.00   \n",
       "4                                     Atari      2.36      0.14      0.00   \n",
       "..                                      ...       ...       ...       ...   \n",
       "266                                 Unknown      0.01      0.00      0.00   \n",
       "267                      Namco Bandai Games      0.01      0.00      0.00   \n",
       "268                                 Unknown      0.01      0.00      0.00   \n",
       "269                                 Unknown      0.01      0.00      0.00   \n",
       "270                                 Unknown      0.00      0.01      0.00   \n",
       "\n",
       "     Other_Sales  Global_Sales  \n",
       "0           0.71          5.23  \n",
       "1           0.51          3.49  \n",
       "2           0.29          3.17  \n",
       "3           0.41          3.00  \n",
       "4           0.03          2.53  \n",
       "..           ...           ...  \n",
       "266         0.00          0.01  \n",
       "267         0.00          0.01  \n",
       "268         0.00          0.01  \n",
       "269         0.00          0.01  \n",
       "270         0.00          0.01  \n",
       "\n",
       "[271 rows x 12 columns]"
      ]
     },
     "execution_count": 11,
     "metadata": {},
     "output_type": "execute_result"
    }
   ],
   "source": [
    "yearnan = df[df['Year'].isnull()].reset_index()\n",
    "yearnan"
   ]
  },
  {
   "cell_type": "code",
   "execution_count": 12,
   "metadata": {},
   "outputs": [
    {
     "data": {
      "text/html": [
       "<div>\n",
       "<style scoped>\n",
       "    .dataframe tbody tr th:only-of-type {\n",
       "        vertical-align: middle;\n",
       "    }\n",
       "\n",
       "    .dataframe tbody tr th {\n",
       "        vertical-align: top;\n",
       "    }\n",
       "\n",
       "    .dataframe thead th {\n",
       "        text-align: right;\n",
       "    }\n",
       "</style>\n",
       "<table border=\"1\" class=\"dataframe\">\n",
       "  <thead>\n",
       "    <tr style=\"text-align: right;\">\n",
       "      <th></th>\n",
       "      <th>index</th>\n",
       "      <th>Rank</th>\n",
       "      <th>Name</th>\n",
       "      <th>Platform</th>\n",
       "      <th>Year</th>\n",
       "      <th>Genre</th>\n",
       "      <th>Publisher</th>\n",
       "      <th>NA_Sales</th>\n",
       "      <th>EU_Sales</th>\n",
       "      <th>JP_Sales</th>\n",
       "      <th>Other_Sales</th>\n",
       "      <th>Global_Sales</th>\n",
       "    </tr>\n",
       "  </thead>\n",
       "  <tbody>\n",
       "    <tr>\n",
       "      <th>0</th>\n",
       "      <td>470</td>\n",
       "      <td>471</td>\n",
       "      <td>wwe Smackdown vs. Raw 2006</td>\n",
       "      <td>PS2</td>\n",
       "      <td>NaN</td>\n",
       "      <td>Fighting</td>\n",
       "      <td>NaN</td>\n",
       "      <td>1.57</td>\n",
       "      <td>1.02</td>\n",
       "      <td>0.00</td>\n",
       "      <td>0.41</td>\n",
       "      <td>3.00</td>\n",
       "    </tr>\n",
       "    <tr>\n",
       "      <th>1</th>\n",
       "      <td>1303</td>\n",
       "      <td>1305</td>\n",
       "      <td>Triple Play 99</td>\n",
       "      <td>PS</td>\n",
       "      <td>NaN</td>\n",
       "      <td>Sports</td>\n",
       "      <td>NaN</td>\n",
       "      <td>0.81</td>\n",
       "      <td>0.55</td>\n",
       "      <td>0.00</td>\n",
       "      <td>0.10</td>\n",
       "      <td>1.46</td>\n",
       "    </tr>\n",
       "    <tr>\n",
       "      <th>2</th>\n",
       "      <td>1662</td>\n",
       "      <td>1664</td>\n",
       "      <td>Shrek / Shrek 2 2-in-1 Gameboy Advance Video</td>\n",
       "      <td>GBA</td>\n",
       "      <td>2007.00</td>\n",
       "      <td>Misc</td>\n",
       "      <td>NaN</td>\n",
       "      <td>0.87</td>\n",
       "      <td>0.32</td>\n",
       "      <td>0.00</td>\n",
       "      <td>0.02</td>\n",
       "      <td>1.21</td>\n",
       "    </tr>\n",
       "    <tr>\n",
       "      <th>3</th>\n",
       "      <td>2222</td>\n",
       "      <td>2224</td>\n",
       "      <td>Bentley's Hackpack</td>\n",
       "      <td>GBA</td>\n",
       "      <td>2005.00</td>\n",
       "      <td>Misc</td>\n",
       "      <td>NaN</td>\n",
       "      <td>0.67</td>\n",
       "      <td>0.25</td>\n",
       "      <td>0.00</td>\n",
       "      <td>0.02</td>\n",
       "      <td>0.93</td>\n",
       "    </tr>\n",
       "    <tr>\n",
       "      <th>4</th>\n",
       "      <td>3159</td>\n",
       "      <td>3161</td>\n",
       "      <td>Nicktoons Collection: Game Boy Advance Video V...</td>\n",
       "      <td>GBA</td>\n",
       "      <td>2004.00</td>\n",
       "      <td>Misc</td>\n",
       "      <td>NaN</td>\n",
       "      <td>0.46</td>\n",
       "      <td>0.17</td>\n",
       "      <td>0.00</td>\n",
       "      <td>0.01</td>\n",
       "      <td>0.64</td>\n",
       "    </tr>\n",
       "    <tr>\n",
       "      <th>5</th>\n",
       "      <td>3166</td>\n",
       "      <td>3168</td>\n",
       "      <td>SpongeBob SquarePants: Game Boy Advance Video ...</td>\n",
       "      <td>GBA</td>\n",
       "      <td>2004.00</td>\n",
       "      <td>Misc</td>\n",
       "      <td>NaN</td>\n",
       "      <td>0.46</td>\n",
       "      <td>0.17</td>\n",
       "      <td>0.00</td>\n",
       "      <td>0.01</td>\n",
       "      <td>0.64</td>\n",
       "    </tr>\n",
       "    <tr>\n",
       "      <th>6</th>\n",
       "      <td>3766</td>\n",
       "      <td>3768</td>\n",
       "      <td>SpongeBob SquarePants: Game Boy Advance Video ...</td>\n",
       "      <td>GBA</td>\n",
       "      <td>2004.00</td>\n",
       "      <td>Misc</td>\n",
       "      <td>NaN</td>\n",
       "      <td>0.38</td>\n",
       "      <td>0.14</td>\n",
       "      <td>0.00</td>\n",
       "      <td>0.01</td>\n",
       "      <td>0.53</td>\n",
       "    </tr>\n",
       "    <tr>\n",
       "      <th>7</th>\n",
       "      <td>4145</td>\n",
       "      <td>4147</td>\n",
       "      <td>Sonic the Hedgehog</td>\n",
       "      <td>PS3</td>\n",
       "      <td>NaN</td>\n",
       "      <td>Platform</td>\n",
       "      <td>NaN</td>\n",
       "      <td>0.00</td>\n",
       "      <td>0.48</td>\n",
       "      <td>0.00</td>\n",
       "      <td>0.00</td>\n",
       "      <td>0.48</td>\n",
       "    </tr>\n",
       "    <tr>\n",
       "      <th>8</th>\n",
       "      <td>4526</td>\n",
       "      <td>4528</td>\n",
       "      <td>The Fairly Odd Parents: Game Boy Advance Video...</td>\n",
       "      <td>GBA</td>\n",
       "      <td>2004.00</td>\n",
       "      <td>Misc</td>\n",
       "      <td>NaN</td>\n",
       "      <td>0.31</td>\n",
       "      <td>0.11</td>\n",
       "      <td>0.00</td>\n",
       "      <td>0.01</td>\n",
       "      <td>0.43</td>\n",
       "    </tr>\n",
       "    <tr>\n",
       "      <th>9</th>\n",
       "      <td>4635</td>\n",
       "      <td>4637</td>\n",
       "      <td>The Fairly Odd Parents: Game Boy Advance Video...</td>\n",
       "      <td>GBA</td>\n",
       "      <td>2004.00</td>\n",
       "      <td>Misc</td>\n",
       "      <td>NaN</td>\n",
       "      <td>0.30</td>\n",
       "      <td>0.11</td>\n",
       "      <td>0.00</td>\n",
       "      <td>0.01</td>\n",
       "      <td>0.42</td>\n",
       "    </tr>\n",
       "    <tr>\n",
       "      <th>10</th>\n",
       "      <td>5302</td>\n",
       "      <td>5304</td>\n",
       "      <td>Dragon Ball Z: Budokai Tenkaichi 2 (JP sales)</td>\n",
       "      <td>Wii</td>\n",
       "      <td>NaN</td>\n",
       "      <td>Action</td>\n",
       "      <td>NaN</td>\n",
       "      <td>0.15</td>\n",
       "      <td>0.05</td>\n",
       "      <td>0.14</td>\n",
       "      <td>0.01</td>\n",
       "      <td>0.35</td>\n",
       "    </tr>\n",
       "    <tr>\n",
       "      <th>11</th>\n",
       "      <td>5647</td>\n",
       "      <td>5649</td>\n",
       "      <td>Cartoon Network Collection: Game Boy Advance V...</td>\n",
       "      <td>GBA</td>\n",
       "      <td>2005.00</td>\n",
       "      <td>Misc</td>\n",
       "      <td>NaN</td>\n",
       "      <td>0.23</td>\n",
       "      <td>0.08</td>\n",
       "      <td>0.00</td>\n",
       "      <td>0.01</td>\n",
       "      <td>0.32</td>\n",
       "    </tr>\n",
       "    <tr>\n",
       "      <th>12</th>\n",
       "      <td>6272</td>\n",
       "      <td>6274</td>\n",
       "      <td>The Legend of Zelda: The Minish Cap(weekly JP ...</td>\n",
       "      <td>GBA</td>\n",
       "      <td>NaN</td>\n",
       "      <td>Action</td>\n",
       "      <td>NaN</td>\n",
       "      <td>0.00</td>\n",
       "      <td>0.00</td>\n",
       "      <td>0.27</td>\n",
       "      <td>0.01</td>\n",
       "      <td>0.27</td>\n",
       "    </tr>\n",
       "    <tr>\n",
       "      <th>13</th>\n",
       "      <td>6437</td>\n",
       "      <td>6439</td>\n",
       "      <td>Sonic X: Game Boy Advance Video Volume 1</td>\n",
       "      <td>GBA</td>\n",
       "      <td>2004.00</td>\n",
       "      <td>Misc</td>\n",
       "      <td>NaN</td>\n",
       "      <td>0.19</td>\n",
       "      <td>0.07</td>\n",
       "      <td>0.00</td>\n",
       "      <td>0.00</td>\n",
       "      <td>0.27</td>\n",
       "    </tr>\n",
       "    <tr>\n",
       "      <th>14</th>\n",
       "      <td>6562</td>\n",
       "      <td>6564</td>\n",
       "      <td>Dora the Explorer: Game Boy Advance Video Volu...</td>\n",
       "      <td>GBA</td>\n",
       "      <td>2004.00</td>\n",
       "      <td>Misc</td>\n",
       "      <td>NaN</td>\n",
       "      <td>0.18</td>\n",
       "      <td>0.07</td>\n",
       "      <td>0.00</td>\n",
       "      <td>0.00</td>\n",
       "      <td>0.26</td>\n",
       "    </tr>\n",
       "    <tr>\n",
       "      <th>15</th>\n",
       "      <td>6648</td>\n",
       "      <td>6650</td>\n",
       "      <td>Cartoon Network Collection: Game Boy Advance V...</td>\n",
       "      <td>GBA</td>\n",
       "      <td>2004.00</td>\n",
       "      <td>Misc</td>\n",
       "      <td>NaN</td>\n",
       "      <td>0.18</td>\n",
       "      <td>0.07</td>\n",
       "      <td>0.00</td>\n",
       "      <td>0.00</td>\n",
       "      <td>0.25</td>\n",
       "    </tr>\n",
       "    <tr>\n",
       "      <th>16</th>\n",
       "      <td>6849</td>\n",
       "      <td>6851</td>\n",
       "      <td>All Grown Up!: Game Boy Advance Video Volume 1</td>\n",
       "      <td>GBA</td>\n",
       "      <td>2004.00</td>\n",
       "      <td>Misc</td>\n",
       "      <td>NaN</td>\n",
       "      <td>0.17</td>\n",
       "      <td>0.06</td>\n",
       "      <td>0.00</td>\n",
       "      <td>0.00</td>\n",
       "      <td>0.24</td>\n",
       "    </tr>\n",
       "    <tr>\n",
       "      <th>17</th>\n",
       "      <td>7208</td>\n",
       "      <td>7210</td>\n",
       "      <td>Nicktoons Collection: Game Boy Advance Video V...</td>\n",
       "      <td>GBA</td>\n",
       "      <td>2004.00</td>\n",
       "      <td>Misc</td>\n",
       "      <td>NaN</td>\n",
       "      <td>0.16</td>\n",
       "      <td>0.06</td>\n",
       "      <td>0.00</td>\n",
       "      <td>0.00</td>\n",
       "      <td>0.22</td>\n",
       "    </tr>\n",
       "    <tr>\n",
       "      <th>18</th>\n",
       "      <td>7351</td>\n",
       "      <td>7353</td>\n",
       "      <td>Yu Yu Hakusho: Dark Tournament</td>\n",
       "      <td>PS2</td>\n",
       "      <td>NaN</td>\n",
       "      <td>Fighting</td>\n",
       "      <td>NaN</td>\n",
       "      <td>0.10</td>\n",
       "      <td>0.08</td>\n",
       "      <td>0.00</td>\n",
       "      <td>0.03</td>\n",
       "      <td>0.21</td>\n",
       "    </tr>\n",
       "    <tr>\n",
       "      <th>19</th>\n",
       "      <td>7470</td>\n",
       "      <td>7472</td>\n",
       "      <td>SpongeBob SquarePants: Game Boy Advance Video ...</td>\n",
       "      <td>GBA</td>\n",
       "      <td>2004.00</td>\n",
       "      <td>Misc</td>\n",
       "      <td>NaN</td>\n",
       "      <td>0.15</td>\n",
       "      <td>0.05</td>\n",
       "      <td>0.00</td>\n",
       "      <td>0.00</td>\n",
       "      <td>0.21</td>\n",
       "    </tr>\n",
       "    <tr>\n",
       "      <th>20</th>\n",
       "      <td>7953</td>\n",
       "      <td>7955</td>\n",
       "      <td>Thomas the Tank Engine &amp; Friends</td>\n",
       "      <td>GBA</td>\n",
       "      <td>2004.00</td>\n",
       "      <td>Adventure</td>\n",
       "      <td>NaN</td>\n",
       "      <td>0.13</td>\n",
       "      <td>0.05</td>\n",
       "      <td>0.00</td>\n",
       "      <td>0.00</td>\n",
       "      <td>0.19</td>\n",
       "    </tr>\n",
       "    <tr>\n",
       "      <th>21</th>\n",
       "      <td>8330</td>\n",
       "      <td>8332</td>\n",
       "      <td>Dragon Ball GT: Game Boy Advance Video Volume 1</td>\n",
       "      <td>GBA</td>\n",
       "      <td>2004.00</td>\n",
       "      <td>Misc</td>\n",
       "      <td>NaN</td>\n",
       "      <td>0.12</td>\n",
       "      <td>0.05</td>\n",
       "      <td>0.00</td>\n",
       "      <td>0.00</td>\n",
       "      <td>0.17</td>\n",
       "    </tr>\n",
       "    <tr>\n",
       "      <th>22</th>\n",
       "      <td>8341</td>\n",
       "      <td>8343</td>\n",
       "      <td>Codename: Kids Next Door: Game Boy Advance Vid...</td>\n",
       "      <td>GBA</td>\n",
       "      <td>2004.00</td>\n",
       "      <td>Misc</td>\n",
       "      <td>NaN</td>\n",
       "      <td>0.12</td>\n",
       "      <td>0.05</td>\n",
       "      <td>0.00</td>\n",
       "      <td>0.00</td>\n",
       "      <td>0.17</td>\n",
       "    </tr>\n",
       "    <tr>\n",
       "      <th>23</th>\n",
       "      <td>8368</td>\n",
       "      <td>8370</td>\n",
       "      <td>Teenage Mutant Ninja Turtles: Game Boy Advance...</td>\n",
       "      <td>GBA</td>\n",
       "      <td>2004.00</td>\n",
       "      <td>Misc</td>\n",
       "      <td>NaN</td>\n",
       "      <td>0.12</td>\n",
       "      <td>0.04</td>\n",
       "      <td>0.00</td>\n",
       "      <td>0.00</td>\n",
       "      <td>0.17</td>\n",
       "    </tr>\n",
       "    <tr>\n",
       "      <th>24</th>\n",
       "      <td>8503</td>\n",
       "      <td>8505</td>\n",
       "      <td>Stronghold 3</td>\n",
       "      <td>PC</td>\n",
       "      <td>2011.00</td>\n",
       "      <td>Strategy</td>\n",
       "      <td>NaN</td>\n",
       "      <td>0.06</td>\n",
       "      <td>0.10</td>\n",
       "      <td>0.00</td>\n",
       "      <td>0.00</td>\n",
       "      <td>0.16</td>\n",
       "    </tr>\n",
       "    <tr>\n",
       "      <th>25</th>\n",
       "      <td>8770</td>\n",
       "      <td>8772</td>\n",
       "      <td>Cartoon Network Collection: Game Boy Advance V...</td>\n",
       "      <td>GBA</td>\n",
       "      <td>2005.00</td>\n",
       "      <td>Misc</td>\n",
       "      <td>NaN</td>\n",
       "      <td>0.11</td>\n",
       "      <td>0.04</td>\n",
       "      <td>0.00</td>\n",
       "      <td>0.00</td>\n",
       "      <td>0.15</td>\n",
       "    </tr>\n",
       "    <tr>\n",
       "      <th>26</th>\n",
       "      <td>8848</td>\n",
       "      <td>8850</td>\n",
       "      <td>Pokémon: Johto Photo Finish: Game Boy Advance ...</td>\n",
       "      <td>GBA</td>\n",
       "      <td>2004.00</td>\n",
       "      <td>Misc</td>\n",
       "      <td>NaN</td>\n",
       "      <td>0.11</td>\n",
       "      <td>0.04</td>\n",
       "      <td>0.00</td>\n",
       "      <td>0.00</td>\n",
       "      <td>0.15</td>\n",
       "    </tr>\n",
       "    <tr>\n",
       "      <th>27</th>\n",
       "      <td>8896</td>\n",
       "      <td>8898</td>\n",
       "      <td>Strawberry Shortcake: Game Boy Advance Video V...</td>\n",
       "      <td>GBA</td>\n",
       "      <td>2004.00</td>\n",
       "      <td>Misc</td>\n",
       "      <td>NaN</td>\n",
       "      <td>0.11</td>\n",
       "      <td>0.04</td>\n",
       "      <td>0.00</td>\n",
       "      <td>0.00</td>\n",
       "      <td>0.15</td>\n",
       "    </tr>\n",
       "    <tr>\n",
       "      <th>28</th>\n",
       "      <td>9517</td>\n",
       "      <td>9519</td>\n",
       "      <td>Farming Simulator 2011</td>\n",
       "      <td>PC</td>\n",
       "      <td>2010.00</td>\n",
       "      <td>Simulation</td>\n",
       "      <td>NaN</td>\n",
       "      <td>0.00</td>\n",
       "      <td>0.13</td>\n",
       "      <td>0.00</td>\n",
       "      <td>0.00</td>\n",
       "      <td>0.13</td>\n",
       "    </tr>\n",
       "    <tr>\n",
       "      <th>29</th>\n",
       "      <td>9749</td>\n",
       "      <td>9751</td>\n",
       "      <td>Super Robot Wars OG Saga: Masou Kishin II - Re...</td>\n",
       "      <td>PSP</td>\n",
       "      <td>NaN</td>\n",
       "      <td>Strategy</td>\n",
       "      <td>NaN</td>\n",
       "      <td>0.00</td>\n",
       "      <td>0.00</td>\n",
       "      <td>0.12</td>\n",
       "      <td>0.00</td>\n",
       "      <td>0.12</td>\n",
       "    </tr>\n",
       "    <tr>\n",
       "      <th>30</th>\n",
       "      <td>10382</td>\n",
       "      <td>10384</td>\n",
       "      <td>Disney Channel Collection Vol. 1</td>\n",
       "      <td>GBA</td>\n",
       "      <td>2004.00</td>\n",
       "      <td>Misc</td>\n",
       "      <td>NaN</td>\n",
       "      <td>0.08</td>\n",
       "      <td>0.03</td>\n",
       "      <td>0.00</td>\n",
       "      <td>0.00</td>\n",
       "      <td>0.11</td>\n",
       "    </tr>\n",
       "    <tr>\n",
       "      <th>31</th>\n",
       "      <td>10494</td>\n",
       "      <td>10496</td>\n",
       "      <td>Atsumare! Power Pro Kun no DS Koushien</td>\n",
       "      <td>DS</td>\n",
       "      <td>NaN</td>\n",
       "      <td>Sports</td>\n",
       "      <td>NaN</td>\n",
       "      <td>0.00</td>\n",
       "      <td>0.00</td>\n",
       "      <td>0.10</td>\n",
       "      <td>0.00</td>\n",
       "      <td>0.10</td>\n",
       "    </tr>\n",
       "    <tr>\n",
       "      <th>32</th>\n",
       "      <td>11076</td>\n",
       "      <td>11078</td>\n",
       "      <td>Action Man-Operation Extreme</td>\n",
       "      <td>PS</td>\n",
       "      <td>NaN</td>\n",
       "      <td>Action</td>\n",
       "      <td>NaN</td>\n",
       "      <td>0.05</td>\n",
       "      <td>0.03</td>\n",
       "      <td>0.00</td>\n",
       "      <td>0.01</td>\n",
       "      <td>0.09</td>\n",
       "    </tr>\n",
       "    <tr>\n",
       "      <th>33</th>\n",
       "      <td>11526</td>\n",
       "      <td>11528</td>\n",
       "      <td>Cartoon Network Collection: Game Boy Advance V...</td>\n",
       "      <td>GBA</td>\n",
       "      <td>2004.00</td>\n",
       "      <td>Misc</td>\n",
       "      <td>NaN</td>\n",
       "      <td>0.06</td>\n",
       "      <td>0.02</td>\n",
       "      <td>0.00</td>\n",
       "      <td>0.00</td>\n",
       "      <td>0.08</td>\n",
       "    </tr>\n",
       "    <tr>\n",
       "      <th>34</th>\n",
       "      <td>12487</td>\n",
       "      <td>12489</td>\n",
       "      <td>Chou Soujuu Mecha MG</td>\n",
       "      <td>DS</td>\n",
       "      <td>NaN</td>\n",
       "      <td>Simulation</td>\n",
       "      <td>NaN</td>\n",
       "      <td>0.00</td>\n",
       "      <td>0.00</td>\n",
       "      <td>0.06</td>\n",
       "      <td>0.00</td>\n",
       "      <td>0.06</td>\n",
       "    </tr>\n",
       "    <tr>\n",
       "      <th>35</th>\n",
       "      <td>12517</td>\n",
       "      <td>12519</td>\n",
       "      <td>Prinny: Can I Really Be The Hero? (US sales)</td>\n",
       "      <td>PSP</td>\n",
       "      <td>NaN</td>\n",
       "      <td>Action</td>\n",
       "      <td>NaN</td>\n",
       "      <td>0.06</td>\n",
       "      <td>0.00</td>\n",
       "      <td>0.00</td>\n",
       "      <td>0.00</td>\n",
       "      <td>0.06</td>\n",
       "    </tr>\n",
       "    <tr>\n",
       "      <th>36</th>\n",
       "      <td>13278</td>\n",
       "      <td>13280</td>\n",
       "      <td>Monster Hunter Frontier Online</td>\n",
       "      <td>PS3</td>\n",
       "      <td>NaN</td>\n",
       "      <td>Role-Playing</td>\n",
       "      <td>NaN</td>\n",
       "      <td>0.00</td>\n",
       "      <td>0.00</td>\n",
       "      <td>0.05</td>\n",
       "      <td>0.00</td>\n",
       "      <td>0.05</td>\n",
       "    </tr>\n",
       "    <tr>\n",
       "      <th>37</th>\n",
       "      <td>13672</td>\n",
       "      <td>13674</td>\n",
       "      <td>B.L.U.E.: Legend of Water</td>\n",
       "      <td>PS</td>\n",
       "      <td>NaN</td>\n",
       "      <td>Adventure</td>\n",
       "      <td>NaN</td>\n",
       "      <td>0.00</td>\n",
       "      <td>0.00</td>\n",
       "      <td>0.04</td>\n",
       "      <td>0.00</td>\n",
       "      <td>0.04</td>\n",
       "    </tr>\n",
       "    <tr>\n",
       "      <th>38</th>\n",
       "      <td>13962</td>\n",
       "      <td>13964</td>\n",
       "      <td>World of Tanks</td>\n",
       "      <td>X360</td>\n",
       "      <td>NaN</td>\n",
       "      <td>Shooter</td>\n",
       "      <td>NaN</td>\n",
       "      <td>0.00</td>\n",
       "      <td>0.03</td>\n",
       "      <td>0.00</td>\n",
       "      <td>0.00</td>\n",
       "      <td>0.04</td>\n",
       "    </tr>\n",
       "    <tr>\n",
       "      <th>39</th>\n",
       "      <td>14087</td>\n",
       "      <td>14089</td>\n",
       "      <td>Housekeeping</td>\n",
       "      <td>DS</td>\n",
       "      <td>NaN</td>\n",
       "      <td>Action</td>\n",
       "      <td>NaN</td>\n",
       "      <td>0.00</td>\n",
       "      <td>0.00</td>\n",
       "      <td>0.04</td>\n",
       "      <td>0.00</td>\n",
       "      <td>0.04</td>\n",
       "    </tr>\n",
       "    <tr>\n",
       "      <th>40</th>\n",
       "      <td>14296</td>\n",
       "      <td>14299</td>\n",
       "      <td>Bikkuriman Daijiten</td>\n",
       "      <td>DS</td>\n",
       "      <td>NaN</td>\n",
       "      <td>Misc</td>\n",
       "      <td>NaN</td>\n",
       "      <td>0.00</td>\n",
       "      <td>0.00</td>\n",
       "      <td>0.03</td>\n",
       "      <td>0.00</td>\n",
       "      <td>0.03</td>\n",
       "    </tr>\n",
       "    <tr>\n",
       "      <th>41</th>\n",
       "      <td>14311</td>\n",
       "      <td>14314</td>\n",
       "      <td>Silverlicious</td>\n",
       "      <td>DS</td>\n",
       "      <td>2012.00</td>\n",
       "      <td>Action</td>\n",
       "      <td>NaN</td>\n",
       "      <td>0.03</td>\n",
       "      <td>0.00</td>\n",
       "      <td>0.00</td>\n",
       "      <td>0.00</td>\n",
       "      <td>0.03</td>\n",
       "    </tr>\n",
       "    <tr>\n",
       "      <th>42</th>\n",
       "      <td>14698</td>\n",
       "      <td>14701</td>\n",
       "      <td>UK Truck Simulator</td>\n",
       "      <td>PC</td>\n",
       "      <td>2010.00</td>\n",
       "      <td>Simulation</td>\n",
       "      <td>NaN</td>\n",
       "      <td>0.00</td>\n",
       "      <td>0.03</td>\n",
       "      <td>0.00</td>\n",
       "      <td>0.00</td>\n",
       "      <td>0.03</td>\n",
       "    </tr>\n",
       "    <tr>\n",
       "      <th>43</th>\n",
       "      <td>14942</td>\n",
       "      <td>14945</td>\n",
       "      <td>Umineko no Naku Koro ni San: Shinjitsu to Gens...</td>\n",
       "      <td>PS3</td>\n",
       "      <td>NaN</td>\n",
       "      <td>Adventure</td>\n",
       "      <td>NaN</td>\n",
       "      <td>0.00</td>\n",
       "      <td>0.00</td>\n",
       "      <td>0.02</td>\n",
       "      <td>0.00</td>\n",
       "      <td>0.02</td>\n",
       "    </tr>\n",
       "    <tr>\n",
       "      <th>44</th>\n",
       "      <td>15056</td>\n",
       "      <td>15059</td>\n",
       "      <td>Xia-Xia</td>\n",
       "      <td>DS</td>\n",
       "      <td>2012.00</td>\n",
       "      <td>Platform</td>\n",
       "      <td>NaN</td>\n",
       "      <td>0.00</td>\n",
       "      <td>0.02</td>\n",
       "      <td>0.00</td>\n",
       "      <td>0.00</td>\n",
       "      <td>0.02</td>\n",
       "    </tr>\n",
       "    <tr>\n",
       "      <th>45</th>\n",
       "      <td>15261</td>\n",
       "      <td>15264</td>\n",
       "      <td>Mario Tennis</td>\n",
       "      <td>3DS</td>\n",
       "      <td>NaN</td>\n",
       "      <td>Sports</td>\n",
       "      <td>NaN</td>\n",
       "      <td>0.00</td>\n",
       "      <td>0.00</td>\n",
       "      <td>0.02</td>\n",
       "      <td>0.00</td>\n",
       "      <td>0.02</td>\n",
       "    </tr>\n",
       "    <tr>\n",
       "      <th>46</th>\n",
       "      <td>15325</td>\n",
       "      <td>15328</td>\n",
       "      <td>Nicktoons Collection: Game Boy Advance Video V...</td>\n",
       "      <td>GBA</td>\n",
       "      <td>2005.00</td>\n",
       "      <td>Misc</td>\n",
       "      <td>NaN</td>\n",
       "      <td>0.01</td>\n",
       "      <td>0.01</td>\n",
       "      <td>0.00</td>\n",
       "      <td>0.00</td>\n",
       "      <td>0.02</td>\n",
       "    </tr>\n",
       "    <tr>\n",
       "      <th>47</th>\n",
       "      <td>15353</td>\n",
       "      <td>15356</td>\n",
       "      <td>Demolition Company: Gold Edition</td>\n",
       "      <td>PC</td>\n",
       "      <td>2011.00</td>\n",
       "      <td>Simulation</td>\n",
       "      <td>NaN</td>\n",
       "      <td>0.00</td>\n",
       "      <td>0.02</td>\n",
       "      <td>0.00</td>\n",
       "      <td>0.00</td>\n",
       "      <td>0.02</td>\n",
       "    </tr>\n",
       "    <tr>\n",
       "      <th>48</th>\n",
       "      <td>15788</td>\n",
       "      <td>15791</td>\n",
       "      <td>Moshi, Kono Sekai ni Kami-sama ga Iru to suru ...</td>\n",
       "      <td>PSV</td>\n",
       "      <td>2016.00</td>\n",
       "      <td>Adventure</td>\n",
       "      <td>NaN</td>\n",
       "      <td>0.00</td>\n",
       "      <td>0.00</td>\n",
       "      <td>0.02</td>\n",
       "      <td>0.00</td>\n",
       "      <td>0.02</td>\n",
       "    </tr>\n",
       "    <tr>\n",
       "      <th>49</th>\n",
       "      <td>15915</td>\n",
       "      <td>15918</td>\n",
       "      <td>Dream Dancer</td>\n",
       "      <td>DS</td>\n",
       "      <td>NaN</td>\n",
       "      <td>Misc</td>\n",
       "      <td>NaN</td>\n",
       "      <td>0.01</td>\n",
       "      <td>0.00</td>\n",
       "      <td>0.00</td>\n",
       "      <td>0.00</td>\n",
       "      <td>0.02</td>\n",
       "    </tr>\n",
       "    <tr>\n",
       "      <th>50</th>\n",
       "      <td>16191</td>\n",
       "      <td>16194</td>\n",
       "      <td>Homeworld Remastered Collection</td>\n",
       "      <td>PC</td>\n",
       "      <td>NaN</td>\n",
       "      <td>Strategy</td>\n",
       "      <td>NaN</td>\n",
       "      <td>0.00</td>\n",
       "      <td>0.01</td>\n",
       "      <td>0.00</td>\n",
       "      <td>0.00</td>\n",
       "      <td>0.01</td>\n",
       "    </tr>\n",
       "    <tr>\n",
       "      <th>51</th>\n",
       "      <td>16198</td>\n",
       "      <td>16201</td>\n",
       "      <td>AKB1/48: Idol to Guam de Koishitara...</td>\n",
       "      <td>X360</td>\n",
       "      <td>NaN</td>\n",
       "      <td>Misc</td>\n",
       "      <td>NaN</td>\n",
       "      <td>0.00</td>\n",
       "      <td>0.00</td>\n",
       "      <td>0.01</td>\n",
       "      <td>0.00</td>\n",
       "      <td>0.01</td>\n",
       "    </tr>\n",
       "    <tr>\n",
       "      <th>52</th>\n",
       "      <td>16208</td>\n",
       "      <td>16211</td>\n",
       "      <td>Super Robot Monkey Team: Game Boy Advance Vide...</td>\n",
       "      <td>GBA</td>\n",
       "      <td>2005.00</td>\n",
       "      <td>Misc</td>\n",
       "      <td>NaN</td>\n",
       "      <td>0.01</td>\n",
       "      <td>0.00</td>\n",
       "      <td>0.00</td>\n",
       "      <td>0.00</td>\n",
       "      <td>0.01</td>\n",
       "    </tr>\n",
       "    <tr>\n",
       "      <th>53</th>\n",
       "      <td>16229</td>\n",
       "      <td>16232</td>\n",
       "      <td>Brothers in Arms: Furious 4</td>\n",
       "      <td>X360</td>\n",
       "      <td>NaN</td>\n",
       "      <td>Shooter</td>\n",
       "      <td>NaN</td>\n",
       "      <td>0.01</td>\n",
       "      <td>0.00</td>\n",
       "      <td>0.00</td>\n",
       "      <td>0.00</td>\n",
       "      <td>0.01</td>\n",
       "    </tr>\n",
       "    <tr>\n",
       "      <th>54</th>\n",
       "      <td>16367</td>\n",
       "      <td>16370</td>\n",
       "      <td>Dance with Devils</td>\n",
       "      <td>PSV</td>\n",
       "      <td>2016.00</td>\n",
       "      <td>Action</td>\n",
       "      <td>NaN</td>\n",
       "      <td>0.00</td>\n",
       "      <td>0.00</td>\n",
       "      <td>0.01</td>\n",
       "      <td>0.00</td>\n",
       "      <td>0.01</td>\n",
       "    </tr>\n",
       "    <tr>\n",
       "      <th>55</th>\n",
       "      <td>16494</td>\n",
       "      <td>16497</td>\n",
       "      <td>Legends of Oz: Dorothy's Return</td>\n",
       "      <td>3DS</td>\n",
       "      <td>2014.00</td>\n",
       "      <td>Puzzle</td>\n",
       "      <td>NaN</td>\n",
       "      <td>0.00</td>\n",
       "      <td>0.01</td>\n",
       "      <td>0.00</td>\n",
       "      <td>0.00</td>\n",
       "      <td>0.01</td>\n",
       "    </tr>\n",
       "    <tr>\n",
       "      <th>56</th>\n",
       "      <td>16543</td>\n",
       "      <td>16546</td>\n",
       "      <td>Driving Simulator 2011</td>\n",
       "      <td>PC</td>\n",
       "      <td>2011.00</td>\n",
       "      <td>Racing</td>\n",
       "      <td>NaN</td>\n",
       "      <td>0.00</td>\n",
       "      <td>0.01</td>\n",
       "      <td>0.00</td>\n",
       "      <td>0.00</td>\n",
       "      <td>0.01</td>\n",
       "    </tr>\n",
       "    <tr>\n",
       "      <th>57</th>\n",
       "      <td>16553</td>\n",
       "      <td>16556</td>\n",
       "      <td>Bound By Flame</td>\n",
       "      <td>X360</td>\n",
       "      <td>2014.00</td>\n",
       "      <td>Role-Playing</td>\n",
       "      <td>NaN</td>\n",
       "      <td>0.00</td>\n",
       "      <td>0.01</td>\n",
       "      <td>0.00</td>\n",
       "      <td>0.00</td>\n",
       "      <td>0.01</td>\n",
       "    </tr>\n",
       "  </tbody>\n",
       "</table>\n",
       "</div>"
      ],
      "text/plain": [
       "    index   Rank                                               Name Platform  \\\n",
       "0     470    471                         wwe Smackdown vs. Raw 2006      PS2   \n",
       "1    1303   1305                                     Triple Play 99       PS   \n",
       "2    1662   1664       Shrek / Shrek 2 2-in-1 Gameboy Advance Video      GBA   \n",
       "3    2222   2224                                 Bentley's Hackpack      GBA   \n",
       "4    3159   3161  Nicktoons Collection: Game Boy Advance Video V...      GBA   \n",
       "5    3166   3168  SpongeBob SquarePants: Game Boy Advance Video ...      GBA   \n",
       "6    3766   3768  SpongeBob SquarePants: Game Boy Advance Video ...      GBA   \n",
       "7    4145   4147                                 Sonic the Hedgehog      PS3   \n",
       "8    4526   4528  The Fairly Odd Parents: Game Boy Advance Video...      GBA   \n",
       "9    4635   4637  The Fairly Odd Parents: Game Boy Advance Video...      GBA   \n",
       "10   5302   5304      Dragon Ball Z: Budokai Tenkaichi 2 (JP sales)      Wii   \n",
       "11   5647   5649  Cartoon Network Collection: Game Boy Advance V...      GBA   \n",
       "12   6272   6274  The Legend of Zelda: The Minish Cap(weekly JP ...      GBA   \n",
       "13   6437   6439           Sonic X: Game Boy Advance Video Volume 1      GBA   \n",
       "14   6562   6564  Dora the Explorer: Game Boy Advance Video Volu...      GBA   \n",
       "15   6648   6650  Cartoon Network Collection: Game Boy Advance V...      GBA   \n",
       "16   6849   6851     All Grown Up!: Game Boy Advance Video Volume 1      GBA   \n",
       "17   7208   7210  Nicktoons Collection: Game Boy Advance Video V...      GBA   \n",
       "18   7351   7353                     Yu Yu Hakusho: Dark Tournament      PS2   \n",
       "19   7470   7472  SpongeBob SquarePants: Game Boy Advance Video ...      GBA   \n",
       "20   7953   7955                   Thomas the Tank Engine & Friends      GBA   \n",
       "21   8330   8332    Dragon Ball GT: Game Boy Advance Video Volume 1      GBA   \n",
       "22   8341   8343  Codename: Kids Next Door: Game Boy Advance Vid...      GBA   \n",
       "23   8368   8370  Teenage Mutant Ninja Turtles: Game Boy Advance...      GBA   \n",
       "24   8503   8505                                       Stronghold 3       PC   \n",
       "25   8770   8772  Cartoon Network Collection: Game Boy Advance V...      GBA   \n",
       "26   8848   8850  Pokémon: Johto Photo Finish: Game Boy Advance ...      GBA   \n",
       "27   8896   8898  Strawberry Shortcake: Game Boy Advance Video V...      GBA   \n",
       "28   9517   9519                             Farming Simulator 2011       PC   \n",
       "29   9749   9751  Super Robot Wars OG Saga: Masou Kishin II - Re...      PSP   \n",
       "30  10382  10384                   Disney Channel Collection Vol. 1      GBA   \n",
       "31  10494  10496             Atsumare! Power Pro Kun no DS Koushien       DS   \n",
       "32  11076  11078                       Action Man-Operation Extreme       PS   \n",
       "33  11526  11528  Cartoon Network Collection: Game Boy Advance V...      GBA   \n",
       "34  12487  12489                               Chou Soujuu Mecha MG       DS   \n",
       "35  12517  12519       Prinny: Can I Really Be The Hero? (US sales)      PSP   \n",
       "36  13278  13280                     Monster Hunter Frontier Online      PS3   \n",
       "37  13672  13674                          B.L.U.E.: Legend of Water       PS   \n",
       "38  13962  13964                                     World of Tanks     X360   \n",
       "39  14087  14089                                       Housekeeping       DS   \n",
       "40  14296  14299                                Bikkuriman Daijiten       DS   \n",
       "41  14311  14314                                      Silverlicious       DS   \n",
       "42  14698  14701                                 UK Truck Simulator       PC   \n",
       "43  14942  14945  Umineko no Naku Koro ni San: Shinjitsu to Gens...      PS3   \n",
       "44  15056  15059                                            Xia-Xia       DS   \n",
       "45  15261  15264                                       Mario Tennis      3DS   \n",
       "46  15325  15328  Nicktoons Collection: Game Boy Advance Video V...      GBA   \n",
       "47  15353  15356                   Demolition Company: Gold Edition       PC   \n",
       "48  15788  15791  Moshi, Kono Sekai ni Kami-sama ga Iru to suru ...      PSV   \n",
       "49  15915  15918                                       Dream Dancer       DS   \n",
       "50  16191  16194                    Homeworld Remastered Collection       PC   \n",
       "51  16198  16201             AKB1/48: Idol to Guam de Koishitara...     X360   \n",
       "52  16208  16211  Super Robot Monkey Team: Game Boy Advance Vide...      GBA   \n",
       "53  16229  16232                        Brothers in Arms: Furious 4     X360   \n",
       "54  16367  16370                                  Dance with Devils      PSV   \n",
       "55  16494  16497                    Legends of Oz: Dorothy's Return      3DS   \n",
       "56  16543  16546                             Driving Simulator 2011       PC   \n",
       "57  16553  16556                                     Bound By Flame     X360   \n",
       "\n",
       "      Year         Genre Publisher  NA_Sales  EU_Sales  JP_Sales  Other_Sales  \\\n",
       "0      NaN      Fighting       NaN      1.57      1.02      0.00         0.41   \n",
       "1      NaN        Sports       NaN      0.81      0.55      0.00         0.10   \n",
       "2  2007.00          Misc       NaN      0.87      0.32      0.00         0.02   \n",
       "3  2005.00          Misc       NaN      0.67      0.25      0.00         0.02   \n",
       "4  2004.00          Misc       NaN      0.46      0.17      0.00         0.01   \n",
       "5  2004.00          Misc       NaN      0.46      0.17      0.00         0.01   \n",
       "6  2004.00          Misc       NaN      0.38      0.14      0.00         0.01   \n",
       "7      NaN      Platform       NaN      0.00      0.48      0.00         0.00   \n",
       "8  2004.00          Misc       NaN      0.31      0.11      0.00         0.01   \n",
       "9  2004.00          Misc       NaN      0.30      0.11      0.00         0.01   \n",
       "10     NaN        Action       NaN      0.15      0.05      0.14         0.01   \n",
       "11 2005.00          Misc       NaN      0.23      0.08      0.00         0.01   \n",
       "12     NaN        Action       NaN      0.00      0.00      0.27         0.01   \n",
       "13 2004.00          Misc       NaN      0.19      0.07      0.00         0.00   \n",
       "14 2004.00          Misc       NaN      0.18      0.07      0.00         0.00   \n",
       "15 2004.00          Misc       NaN      0.18      0.07      0.00         0.00   \n",
       "16 2004.00          Misc       NaN      0.17      0.06      0.00         0.00   \n",
       "17 2004.00          Misc       NaN      0.16      0.06      0.00         0.00   \n",
       "18     NaN      Fighting       NaN      0.10      0.08      0.00         0.03   \n",
       "19 2004.00          Misc       NaN      0.15      0.05      0.00         0.00   \n",
       "20 2004.00     Adventure       NaN      0.13      0.05      0.00         0.00   \n",
       "21 2004.00          Misc       NaN      0.12      0.05      0.00         0.00   \n",
       "22 2004.00          Misc       NaN      0.12      0.05      0.00         0.00   \n",
       "23 2004.00          Misc       NaN      0.12      0.04      0.00         0.00   \n",
       "24 2011.00      Strategy       NaN      0.06      0.10      0.00         0.00   \n",
       "25 2005.00          Misc       NaN      0.11      0.04      0.00         0.00   \n",
       "26 2004.00          Misc       NaN      0.11      0.04      0.00         0.00   \n",
       "27 2004.00          Misc       NaN      0.11      0.04      0.00         0.00   \n",
       "28 2010.00    Simulation       NaN      0.00      0.13      0.00         0.00   \n",
       "29     NaN      Strategy       NaN      0.00      0.00      0.12         0.00   \n",
       "30 2004.00          Misc       NaN      0.08      0.03      0.00         0.00   \n",
       "31     NaN        Sports       NaN      0.00      0.00      0.10         0.00   \n",
       "32     NaN        Action       NaN      0.05      0.03      0.00         0.01   \n",
       "33 2004.00          Misc       NaN      0.06      0.02      0.00         0.00   \n",
       "34     NaN    Simulation       NaN      0.00      0.00      0.06         0.00   \n",
       "35     NaN        Action       NaN      0.06      0.00      0.00         0.00   \n",
       "36     NaN  Role-Playing       NaN      0.00      0.00      0.05         0.00   \n",
       "37     NaN     Adventure       NaN      0.00      0.00      0.04         0.00   \n",
       "38     NaN       Shooter       NaN      0.00      0.03      0.00         0.00   \n",
       "39     NaN        Action       NaN      0.00      0.00      0.04         0.00   \n",
       "40     NaN          Misc       NaN      0.00      0.00      0.03         0.00   \n",
       "41 2012.00        Action       NaN      0.03      0.00      0.00         0.00   \n",
       "42 2010.00    Simulation       NaN      0.00      0.03      0.00         0.00   \n",
       "43     NaN     Adventure       NaN      0.00      0.00      0.02         0.00   \n",
       "44 2012.00      Platform       NaN      0.00      0.02      0.00         0.00   \n",
       "45     NaN        Sports       NaN      0.00      0.00      0.02         0.00   \n",
       "46 2005.00          Misc       NaN      0.01      0.01      0.00         0.00   \n",
       "47 2011.00    Simulation       NaN      0.00      0.02      0.00         0.00   \n",
       "48 2016.00     Adventure       NaN      0.00      0.00      0.02         0.00   \n",
       "49     NaN          Misc       NaN      0.01      0.00      0.00         0.00   \n",
       "50     NaN      Strategy       NaN      0.00      0.01      0.00         0.00   \n",
       "51     NaN          Misc       NaN      0.00      0.00      0.01         0.00   \n",
       "52 2005.00          Misc       NaN      0.01      0.00      0.00         0.00   \n",
       "53     NaN       Shooter       NaN      0.01      0.00      0.00         0.00   \n",
       "54 2016.00        Action       NaN      0.00      0.00      0.01         0.00   \n",
       "55 2014.00        Puzzle       NaN      0.00      0.01      0.00         0.00   \n",
       "56 2011.00        Racing       NaN      0.00      0.01      0.00         0.00   \n",
       "57 2014.00  Role-Playing       NaN      0.00      0.01      0.00         0.00   \n",
       "\n",
       "    Global_Sales  \n",
       "0           3.00  \n",
       "1           1.46  \n",
       "2           1.21  \n",
       "3           0.93  \n",
       "4           0.64  \n",
       "5           0.64  \n",
       "6           0.53  \n",
       "7           0.48  \n",
       "8           0.43  \n",
       "9           0.42  \n",
       "10          0.35  \n",
       "11          0.32  \n",
       "12          0.27  \n",
       "13          0.27  \n",
       "14          0.26  \n",
       "15          0.25  \n",
       "16          0.24  \n",
       "17          0.22  \n",
       "18          0.21  \n",
       "19          0.21  \n",
       "20          0.19  \n",
       "21          0.17  \n",
       "22          0.17  \n",
       "23          0.17  \n",
       "24          0.16  \n",
       "25          0.15  \n",
       "26          0.15  \n",
       "27          0.15  \n",
       "28          0.13  \n",
       "29          0.12  \n",
       "30          0.11  \n",
       "31          0.10  \n",
       "32          0.09  \n",
       "33          0.08  \n",
       "34          0.06  \n",
       "35          0.06  \n",
       "36          0.05  \n",
       "37          0.04  \n",
       "38          0.04  \n",
       "39          0.04  \n",
       "40          0.03  \n",
       "41          0.03  \n",
       "42          0.03  \n",
       "43          0.02  \n",
       "44          0.02  \n",
       "45          0.02  \n",
       "46          0.02  \n",
       "47          0.02  \n",
       "48          0.02  \n",
       "49          0.02  \n",
       "50          0.01  \n",
       "51          0.01  \n",
       "52          0.01  \n",
       "53          0.01  \n",
       "54          0.01  \n",
       "55          0.01  \n",
       "56          0.01  \n",
       "57          0.01  "
      ]
     },
     "execution_count": 12,
     "metadata": {},
     "output_type": "execute_result"
    }
   ],
   "source": [
    "pubnan = df[df['Publisher'].isnull()].reset_index()\n",
    "pubnan"
   ]
  },
  {
   "cell_type": "markdown",
   "metadata": {},
   "source": [
    "### Null Values\n",
    "\n",
    "#### There aren't that many observations with Null values so best to just drop them"
   ]
  },
  {
   "cell_type": "code",
   "execution_count": 13,
   "metadata": {},
   "outputs": [],
   "source": [
    "df = df.dropna(how='any', axis=0)"
   ]
  },
  {
   "cell_type": "code",
   "execution_count": 14,
   "metadata": {},
   "outputs": [
    {
     "name": "stdout",
     "output_type": "stream",
     "text": [
      "<class 'pandas.core.frame.DataFrame'>\n",
      "Int64Index: 16291 entries, 0 to 16597\n",
      "Data columns (total 11 columns):\n",
      " #   Column        Non-Null Count  Dtype  \n",
      "---  ------        --------------  -----  \n",
      " 0   Rank          16291 non-null  int64  \n",
      " 1   Name          16291 non-null  object \n",
      " 2   Platform      16291 non-null  object \n",
      " 3   Year          16291 non-null  float64\n",
      " 4   Genre         16291 non-null  object \n",
      " 5   Publisher     16291 non-null  object \n",
      " 6   NA_Sales      16291 non-null  float64\n",
      " 7   EU_Sales      16291 non-null  float64\n",
      " 8   JP_Sales      16291 non-null  float64\n",
      " 9   Other_Sales   16291 non-null  float64\n",
      " 10  Global_Sales  16291 non-null  float64\n",
      "dtypes: float64(6), int64(1), object(4)\n",
      "memory usage: 1.5+ MB\n"
     ]
    }
   ],
   "source": [
    "df.info()"
   ]
  },
  {
   "cell_type": "code",
   "execution_count": 15,
   "metadata": {},
   "outputs": [],
   "source": [
    "df['Year'] = df['Year'].astype(int)"
   ]
  },
  {
   "cell_type": "code",
   "execution_count": 16,
   "metadata": {},
   "outputs": [
    {
     "name": "stdout",
     "output_type": "stream",
     "text": [
      "<class 'pandas.core.frame.DataFrame'>\n",
      "Int64Index: 16291 entries, 0 to 16597\n",
      "Data columns (total 11 columns):\n",
      " #   Column        Non-Null Count  Dtype  \n",
      "---  ------        --------------  -----  \n",
      " 0   Rank          16291 non-null  int64  \n",
      " 1   Name          16291 non-null  object \n",
      " 2   Platform      16291 non-null  object \n",
      " 3   Year          16291 non-null  int64  \n",
      " 4   Genre         16291 non-null  object \n",
      " 5   Publisher     16291 non-null  object \n",
      " 6   NA_Sales      16291 non-null  float64\n",
      " 7   EU_Sales      16291 non-null  float64\n",
      " 8   JP_Sales      16291 non-null  float64\n",
      " 9   Other_Sales   16291 non-null  float64\n",
      " 10  Global_Sales  16291 non-null  float64\n",
      "dtypes: float64(5), int64(2), object(4)\n",
      "memory usage: 1.5+ MB\n"
     ]
    }
   ],
   "source": [
    "df.info()"
   ]
  },
  {
   "cell_type": "markdown",
   "metadata": {},
   "source": [
    "### Data Types\n",
    "\n",
    "#### Now that all the data types are correct, it's time to do some basic EDA"
   ]
  },
  {
   "cell_type": "markdown",
   "metadata": {},
   "source": [
    "# 1) Publisher Performance"
   ]
  },
  {
   "cell_type": "markdown",
   "metadata": {},
   "source": [
    "# 2) Genre Performance"
   ]
  },
  {
   "cell_type": "markdown",
   "metadata": {},
   "source": [
    "# 3) Year Performance"
   ]
  },
  {
   "cell_type": "markdown",
   "metadata": {},
   "source": [
    "# 4) Platform Performance"
   ]
  },
  {
   "cell_type": "code",
   "execution_count": 17,
   "metadata": {},
   "outputs": [
    {
     "data": {
      "text/html": [
       "<div>\n",
       "<style scoped>\n",
       "    .dataframe tbody tr th:only-of-type {\n",
       "        vertical-align: middle;\n",
       "    }\n",
       "\n",
       "    .dataframe tbody tr th {\n",
       "        vertical-align: top;\n",
       "    }\n",
       "\n",
       "    .dataframe thead th {\n",
       "        text-align: right;\n",
       "    }\n",
       "</style>\n",
       "<table border=\"1\" class=\"dataframe\">\n",
       "  <thead>\n",
       "    <tr style=\"text-align: right;\">\n",
       "      <th></th>\n",
       "      <th>Platform</th>\n",
       "      <th>Global_Sales</th>\n",
       "    </tr>\n",
       "  </thead>\n",
       "  <tbody>\n",
       "    <tr>\n",
       "      <th>0</th>\n",
       "      <td>PS2</td>\n",
       "      <td>1233.46</td>\n",
       "    </tr>\n",
       "    <tr>\n",
       "      <th>1</th>\n",
       "      <td>X360</td>\n",
       "      <td>969.60</td>\n",
       "    </tr>\n",
       "    <tr>\n",
       "      <th>2</th>\n",
       "      <td>PS3</td>\n",
       "      <td>949.35</td>\n",
       "    </tr>\n",
       "    <tr>\n",
       "      <th>3</th>\n",
       "      <td>Wii</td>\n",
       "      <td>909.81</td>\n",
       "    </tr>\n",
       "    <tr>\n",
       "      <th>4</th>\n",
       "      <td>DS</td>\n",
       "      <td>818.91</td>\n",
       "    </tr>\n",
       "    <tr>\n",
       "      <th>5</th>\n",
       "      <td>PS</td>\n",
       "      <td>727.39</td>\n",
       "    </tr>\n",
       "    <tr>\n",
       "      <th>6</th>\n",
       "      <td>GBA</td>\n",
       "      <td>305.62</td>\n",
       "    </tr>\n",
       "    <tr>\n",
       "      <th>7</th>\n",
       "      <td>PSP</td>\n",
       "      <td>291.71</td>\n",
       "    </tr>\n",
       "    <tr>\n",
       "      <th>8</th>\n",
       "      <td>PS4</td>\n",
       "      <td>278.10</td>\n",
       "    </tr>\n",
       "    <tr>\n",
       "      <th>9</th>\n",
       "      <td>PC</td>\n",
       "      <td>254.70</td>\n",
       "    </tr>\n",
       "  </tbody>\n",
       "</table>\n",
       "</div>"
      ],
      "text/plain": [
       "  Platform  Global_Sales\n",
       "0      PS2       1233.46\n",
       "1     X360        969.60\n",
       "2      PS3        949.35\n",
       "3      Wii        909.81\n",
       "4       DS        818.91\n",
       "5       PS        727.39\n",
       "6      GBA        305.62\n",
       "7      PSP        291.71\n",
       "8      PS4        278.10\n",
       "9       PC        254.70"
      ]
     },
     "execution_count": 17,
     "metadata": {},
     "output_type": "execute_result"
    }
   ],
   "source": [
    "platform_sales = df.groupby(['Platform'])['Global_Sales'].sum().sort_values(ascending=False).reset_index().head(10)\n",
    "platform_sales"
   ]
  },
  {
   "cell_type": "code",
   "execution_count": 18,
   "metadata": {},
   "outputs": [
    {
     "data": {
      "image/png": "[encoded data removed]",
      "text/plain": [
       "<Figure size 864x432 with 1 Axes>"
      ]
     },
     "metadata": {},
     "output_type": "display_data"
    }
   ],
   "source": [
    "plt.rcParams.update({'axes.facecolor':'gold'})\n",
    "plt.figure(figsize=(12,6), facecolor='gold')\n",
    "plt.bar(platform_sales['Platform'], platform_sales['Global_Sales'], width=0.8, edgecolor='k')\n",
    "plt.xticks(fontsize=11)\n",
    "plt.xlabel('Platform', fontsize=14)\n",
    "plt.ylabel('Sales (in Millions of $)', fontsize=14)\n",
    "plt.title('Total Sales by Platform (1980-2020)', fontsize=22)\n",
    "plt.tight_layout()\n",
    "plt.show()"
   ]
  },
  {
   "cell_type": "code",
   "execution_count": 19,
   "metadata": {},
   "outputs": [
    {
     "data": {
      "text/html": [
       "<div>\n",
       "<style scoped>\n",
       "    .dataframe tbody tr th:only-of-type {\n",
       "        vertical-align: middle;\n",
       "    }\n",
       "\n",
       "    .dataframe tbody tr th {\n",
       "        vertical-align: top;\n",
       "    }\n",
       "\n",
       "    .dataframe thead th {\n",
       "        text-align: right;\n",
       "    }\n",
       "</style>\n",
       "<table border=\"1\" class=\"dataframe\">\n",
       "  <thead>\n",
       "    <tr style=\"text-align: right;\">\n",
       "      <th></th>\n",
       "      <th>Name</th>\n",
       "      <th>Global_Sales</th>\n",
       "    </tr>\n",
       "  </thead>\n",
       "  <tbody>\n",
       "    <tr>\n",
       "      <th>0</th>\n",
       "      <td>Wii Sports</td>\n",
       "      <td>82.74</td>\n",
       "    </tr>\n",
       "    <tr>\n",
       "      <th>1</th>\n",
       "      <td>Super Mario Bros.</td>\n",
       "      <td>40.24</td>\n",
       "    </tr>\n",
       "    <tr>\n",
       "      <th>2</th>\n",
       "      <td>Mario Kart Wii</td>\n",
       "      <td>35.82</td>\n",
       "    </tr>\n",
       "    <tr>\n",
       "      <th>3</th>\n",
       "      <td>Wii Sports Resort</td>\n",
       "      <td>33.00</td>\n",
       "    </tr>\n",
       "    <tr>\n",
       "      <th>4</th>\n",
       "      <td>Pokemon Red/Pokemon Blue</td>\n",
       "      <td>31.37</td>\n",
       "    </tr>\n",
       "    <tr>\n",
       "      <th>5</th>\n",
       "      <td>Tetris</td>\n",
       "      <td>30.26</td>\n",
       "    </tr>\n",
       "    <tr>\n",
       "      <th>6</th>\n",
       "      <td>New Super Mario Bros.</td>\n",
       "      <td>30.01</td>\n",
       "    </tr>\n",
       "    <tr>\n",
       "      <th>7</th>\n",
       "      <td>Wii Play</td>\n",
       "      <td>29.02</td>\n",
       "    </tr>\n",
       "    <tr>\n",
       "      <th>8</th>\n",
       "      <td>New Super Mario Bros. Wii</td>\n",
       "      <td>28.62</td>\n",
       "    </tr>\n",
       "    <tr>\n",
       "      <th>9</th>\n",
       "      <td>Duck Hunt</td>\n",
       "      <td>28.31</td>\n",
       "    </tr>\n",
       "  </tbody>\n",
       "</table>\n",
       "</div>"
      ],
      "text/plain": [
       "                        Name  Global_Sales\n",
       "0                 Wii Sports         82.74\n",
       "1          Super Mario Bros.         40.24\n",
       "2             Mario Kart Wii         35.82\n",
       "3          Wii Sports Resort         33.00\n",
       "4   Pokemon Red/Pokemon Blue         31.37\n",
       "5                     Tetris         30.26\n",
       "6      New Super Mario Bros.         30.01\n",
       "7                   Wii Play         29.02\n",
       "8  New Super Mario Bros. Wii         28.62\n",
       "9                  Duck Hunt         28.31"
      ]
     },
     "execution_count": 19,
     "metadata": {},
     "output_type": "execute_result"
    }
   ],
   "source": [
    "top_games = df.groupby(['Name'])['Global_Sales'].max().sort_values(ascending=False).reset_index().head(10)\n",
    "top_games"
   ]
  },
  {
   "cell_type": "code",
   "execution_count": 20,
   "metadata": {},
   "outputs": [
    {
     "data": {
      "image/png": "[encoded data removed]",
      "text/plain": [
       "<Figure size 864x432 with 1 Axes>"
      ]
     },
     "metadata": {},
     "output_type": "display_data"
    }
   ],
   "source": [
    "plt.rcParams.update({'axes.facecolor':'gold'})\n",
    "plt.figure(figsize=(12,6), facecolor='gold')\n",
    "plt.bar(top_games['Name'], platform_sales['Global_Sales'], width=0.8, edgecolor='k')\n",
    "plt.xticks(fontsize=11, rotation=62)\n",
    "plt.xlabel('Game Title', fontsize=14)\n",
    "plt.ylabel('Sales (in Millions of $)', fontsize=14)\n",
    "plt.title('Top Selling Games (1980-2020)', fontsize=22)\n",
    "plt.show()"
   ]
  },
  {
   "cell_type": "markdown",
   "metadata": {},
   "source": [
    "# 5) Sales Performance"
   ]
  },
  {
   "cell_type": "markdown",
   "metadata": {},
   "source": [
    "- top 5 years game release by genre\n",
    "- which genre game sold the most in a single year\n",
    "- sales comparison by genre/platform/publisher (heatmap)\n",
    "- most prolific publisher by year\n",
    "- log sales\n",
    "- correlation of sales"
   ]
  },
  {
   "cell_type": "code",
   "execution_count": 135,
   "metadata": {},
   "outputs": [
    {
     "data": {
      "text/plain": [
       "Name                            Year\n",
       "Wii Sports                      2006   82.74\n",
       "Super Mario Bros.               1985   40.24\n",
       "Grand Theft Auto V              2013   37.78\n",
       "Mario Kart Wii                  2008   35.82\n",
       "Wii Sports Resort               2009   33.00\n",
       "Pokemon Red/Pokemon Blue        1996   31.37\n",
       "Call of Duty: Modern Warfare 3  2011   30.83\n",
       "Tetris                          1989   30.26\n",
       "New Super Mario Bros.           2006   30.01\n",
       "Call of Duty: Black Ops II      2012   29.72\n",
       "Name: Global_Sales, dtype: float64"
      ]
     },
     "execution_count": 135,
     "metadata": {},
     "output_type": "execute_result"
    }
   ],
   "source": [
    "top_sellers = df.groupby(['Name','Year'])['Global_Sales'].sum().sort_values(ascending=False).head(10)\n",
    "top_sellers"
   ]
  },
  {
   "cell_type": "code",
   "execution_count": 139,
   "metadata": {},
   "outputs": [
    {
     "data": {
      "image/png": "[encoded data removed]",
      "text/plain": [
       "<Figure size 864x432 with 1 Axes>"
      ]
     },
     "metadata": {},
     "output_type": "display_data"
    }
   ],
   "source": [
    "plt.rcParams.update({'axes.facecolor':'gold'})\n",
    "plt.figure(figsize=(12,6), facecolor='gold')\n",
    "top_sellers.plot(kind='barh', width=0.8, edgecolor='k')\n",
    "plt.xticks(fontsize=11, rotation=60)\n",
    "plt.xlabel('Sales (in Millions of $)', fontsize=14)\n",
    "plt.ylabel('Title and Year', fontsize=14)\n",
    "plt.title('Top 10 Sellers and Their Release Year', fontsize=22)\n",
    "plt.show()"
   ]
  },
  {
   "cell_type": "code",
   "execution_count": 126,
   "metadata": {},
   "outputs": [],
   "source": [
    "top_10_year_genre = df.groupby(['Year'])"
   ]
  },
  {
   "cell_type": "code",
   "execution_count": 127,
   "metadata": {},
   "outputs": [],
   "source": [
    "t10yg = top_10_year_genre['Genre'].value_counts().sort_values(ascending=False).head(10)"
   ]
  },
  {
   "cell_type": "code",
   "execution_count": 128,
   "metadata": {},
   "outputs": [
    {
     "data": {
      "image/png": "[encoded data removed]",
      "text/plain": [
       "<Figure size 864x432 with 1 Axes>"
      ]
     },
     "metadata": {},
     "output_type": "display_data"
    }
   ],
   "source": [
    "plt.rcParams.update({'axes.facecolor':'gold'})\n",
    "plt.figure(figsize=(12,6), facecolor='gold')\n",
    "t5yg.plot(kind='bar', width=0.8, edgecolor='k')\n",
    "plt.xticks(fontsize=11, rotation=60)\n",
    "plt.xlabel('Year and Genre', fontsize=14)\n",
    "plt.ylabel('Number of Games', fontsize=14)\n",
    "plt.title('Most Released Genre, Top 10 Years', fontsize=22)\n",
    "plt.show()"
   ]
  },
  {
   "cell_type": "code",
   "execution_count": null,
   "metadata": {},
   "outputs": [],
   "source": []
  },
  {
   "cell_type": "code",
   "execution_count": null,
   "metadata": {},
   "outputs": [],
   "source": []
  },
  {
   "cell_type": "code",
   "execution_count": 21,
   "metadata": {},
   "outputs": [
    {
     "data": {
      "text/html": [
       "<div>\n",
       "<style scoped>\n",
       "    .dataframe tbody tr th:only-of-type {\n",
       "        vertical-align: middle;\n",
       "    }\n",
       "\n",
       "    .dataframe tbody tr th {\n",
       "        vertical-align: top;\n",
       "    }\n",
       "\n",
       "    .dataframe thead th {\n",
       "        text-align: right;\n",
       "    }\n",
       "</style>\n",
       "<table border=\"1\" class=\"dataframe\">\n",
       "  <thead>\n",
       "    <tr style=\"text-align: right;\">\n",
       "      <th></th>\n",
       "      <th>Publisher</th>\n",
       "      <th>Global_Sales</th>\n",
       "    </tr>\n",
       "  </thead>\n",
       "  <tbody>\n",
       "    <tr>\n",
       "      <th>0</th>\n",
       "      <td>Nintendo</td>\n",
       "      <td>1784.43</td>\n",
       "    </tr>\n",
       "    <tr>\n",
       "      <th>1</th>\n",
       "      <td>Electronic Arts</td>\n",
       "      <td>1093.39</td>\n",
       "    </tr>\n",
       "    <tr>\n",
       "      <th>2</th>\n",
       "      <td>Activision</td>\n",
       "      <td>721.41</td>\n",
       "    </tr>\n",
       "    <tr>\n",
       "      <th>3</th>\n",
       "      <td>Sony Computer Entertainment</td>\n",
       "      <td>607.28</td>\n",
       "    </tr>\n",
       "    <tr>\n",
       "      <th>4</th>\n",
       "      <td>Ubisoft</td>\n",
       "      <td>473.54</td>\n",
       "    </tr>\n",
       "    <tr>\n",
       "      <th>5</th>\n",
       "      <td>Take-Two Interactive</td>\n",
       "      <td>399.30</td>\n",
       "    </tr>\n",
       "    <tr>\n",
       "      <th>6</th>\n",
       "      <td>THQ</td>\n",
       "      <td>340.44</td>\n",
       "    </tr>\n",
       "    <tr>\n",
       "      <th>7</th>\n",
       "      <td>Konami Digital Entertainment</td>\n",
       "      <td>278.56</td>\n",
       "    </tr>\n",
       "    <tr>\n",
       "      <th>8</th>\n",
       "      <td>Sega</td>\n",
       "      <td>270.70</td>\n",
       "    </tr>\n",
       "    <tr>\n",
       "      <th>9</th>\n",
       "      <td>Namco Bandai Games</td>\n",
       "      <td>253.65</td>\n",
       "    </tr>\n",
       "  </tbody>\n",
       "</table>\n",
       "</div>"
      ],
      "text/plain": [
       "                      Publisher  Global_Sales\n",
       "0                      Nintendo       1784.43\n",
       "1               Electronic Arts       1093.39\n",
       "2                    Activision        721.41\n",
       "3   Sony Computer Entertainment        607.28\n",
       "4                       Ubisoft        473.54\n",
       "5          Take-Two Interactive        399.30\n",
       "6                           THQ        340.44\n",
       "7  Konami Digital Entertainment        278.56\n",
       "8                          Sega        270.70\n",
       "9            Namco Bandai Games        253.65"
      ]
     },
     "execution_count": 21,
     "metadata": {},
     "output_type": "execute_result"
    }
   ],
   "source": [
    "top_pub_sales = df.groupby(['Publisher'])['Global_Sales'].sum().sort_values(ascending=False).reset_index().head(10)\n",
    "top_pub_sales"
   ]
  },
  {
   "cell_type": "code",
   "execution_count": 22,
   "metadata": {},
   "outputs": [
    {
     "data": {
      "image/png": "[encoded data removed]",
      "text/plain": [
       "<Figure size 864x432 with 1 Axes>"
      ]
     },
     "metadata": {},
     "output_type": "display_data"
    }
   ],
   "source": [
    "plt.rcParams.update({'axes.facecolor':'gold'})\n",
    "plt.figure(figsize=(12,6), facecolor='gold')\n",
    "plt.bar(top_pub_sales['Publisher'], platform_sales['Global_Sales'], width=0.8, edgecolor='k')\n",
    "plt.xticks(fontsize=11, rotation=60)\n",
    "plt.xlabel('Publisher', fontsize=14)\n",
    "plt.ylabel('Sales (in Millions of $)', fontsize=14)\n",
    "plt.title('Top Selling Publishers (1980-2020)', fontsize=22)\n",
    "plt.show()"
   ]
  },
  {
   "cell_type": "code",
   "execution_count": 23,
   "metadata": {},
   "outputs": [
    {
     "data": {
      "text/html": [
       "<div>\n",
       "<style scoped>\n",
       "    .dataframe tbody tr th:only-of-type {\n",
       "        vertical-align: middle;\n",
       "    }\n",
       "\n",
       "    .dataframe tbody tr th {\n",
       "        vertical-align: top;\n",
       "    }\n",
       "\n",
       "    .dataframe thead th {\n",
       "        text-align: right;\n",
       "    }\n",
       "</style>\n",
       "<table border=\"1\" class=\"dataframe\">\n",
       "  <thead>\n",
       "    <tr style=\"text-align: right;\">\n",
       "      <th></th>\n",
       "      <th>Year</th>\n",
       "      <th>Genre</th>\n",
       "      <th>Count</th>\n",
       "    </tr>\n",
       "  </thead>\n",
       "  <tbody>\n",
       "    <tr>\n",
       "      <th>0</th>\n",
       "      <td>2009</td>\n",
       "      <td>Action</td>\n",
       "      <td>272</td>\n",
       "    </tr>\n",
       "    <tr>\n",
       "      <th>1</th>\n",
       "      <td>2012</td>\n",
       "      <td>Action</td>\n",
       "      <td>265</td>\n",
       "    </tr>\n",
       "    <tr>\n",
       "      <th>2</th>\n",
       "      <td>2015</td>\n",
       "      <td>Action</td>\n",
       "      <td>255</td>\n",
       "    </tr>\n",
       "    <tr>\n",
       "      <th>3</th>\n",
       "      <td>2011</td>\n",
       "      <td>Action</td>\n",
       "      <td>239</td>\n",
       "    </tr>\n",
       "    <tr>\n",
       "      <th>4</th>\n",
       "      <td>2010</td>\n",
       "      <td>Action</td>\n",
       "      <td>226</td>\n",
       "    </tr>\n",
       "  </tbody>\n",
       "</table>\n",
       "</div>"
      ],
      "text/plain": [
       "   Year   Genre  Count\n",
       "0  2009  Action    272\n",
       "1  2012  Action    265\n",
       "2  2015  Action    255\n",
       "3  2011  Action    239\n",
       "4  2010  Action    226"
      ]
     },
     "execution_count": 23,
     "metadata": {},
     "output_type": "execute_result"
    }
   ],
   "source": [
    "top_genre_year = df.groupby(['Year','Genre']).size().sort_values(ascending=False).reset_index(name='Count').head(5)\n",
    "top_genre_year = top_genre_year.rename(columns={0:'Number of Games'})\n",
    "top_genre_year"
   ]
  },
  {
   "cell_type": "code",
   "execution_count": 25,
   "metadata": {},
   "outputs": [
    {
     "data": {
      "text/html": [
       "<div>\n",
       "<style scoped>\n",
       "    .dataframe tbody tr th:only-of-type {\n",
       "        vertical-align: middle;\n",
       "    }\n",
       "\n",
       "    .dataframe tbody tr th {\n",
       "        vertical-align: top;\n",
       "    }\n",
       "\n",
       "    .dataframe thead th {\n",
       "        text-align: right;\n",
       "    }\n",
       "</style>\n",
       "<table border=\"1\" class=\"dataframe\">\n",
       "  <thead>\n",
       "    <tr style=\"text-align: right;\">\n",
       "      <th></th>\n",
       "      <th>Genre</th>\n",
       "      <th>Global_Sales</th>\n",
       "    </tr>\n",
       "  </thead>\n",
       "  <tbody>\n",
       "    <tr>\n",
       "      <th>0</th>\n",
       "      <td>Action</td>\n",
       "      <td>1722.84</td>\n",
       "    </tr>\n",
       "    <tr>\n",
       "      <th>1</th>\n",
       "      <td>Sports</td>\n",
       "      <td>1309.24</td>\n",
       "    </tr>\n",
       "    <tr>\n",
       "      <th>2</th>\n",
       "      <td>Shooter</td>\n",
       "      <td>1026.20</td>\n",
       "    </tr>\n",
       "    <tr>\n",
       "      <th>3</th>\n",
       "      <td>Role-Playing</td>\n",
       "      <td>923.83</td>\n",
       "    </tr>\n",
       "    <tr>\n",
       "      <th>4</th>\n",
       "      <td>Platform</td>\n",
       "      <td>829.13</td>\n",
       "    </tr>\n",
       "    <tr>\n",
       "      <th>5</th>\n",
       "      <td>Misc</td>\n",
       "      <td>789.87</td>\n",
       "    </tr>\n",
       "    <tr>\n",
       "      <th>6</th>\n",
       "      <td>Racing</td>\n",
       "      <td>726.76</td>\n",
       "    </tr>\n",
       "    <tr>\n",
       "      <th>7</th>\n",
       "      <td>Fighting</td>\n",
       "      <td>444.05</td>\n",
       "    </tr>\n",
       "    <tr>\n",
       "      <th>8</th>\n",
       "      <td>Simulation</td>\n",
       "      <td>389.98</td>\n",
       "    </tr>\n",
       "    <tr>\n",
       "      <th>9</th>\n",
       "      <td>Puzzle</td>\n",
       "      <td>242.21</td>\n",
       "    </tr>\n",
       "    <tr>\n",
       "      <th>10</th>\n",
       "      <td>Adventure</td>\n",
       "      <td>234.59</td>\n",
       "    </tr>\n",
       "    <tr>\n",
       "      <th>11</th>\n",
       "      <td>Strategy</td>\n",
       "      <td>173.27</td>\n",
       "    </tr>\n",
       "  </tbody>\n",
       "</table>\n",
       "</div>"
      ],
      "text/plain": [
       "           Genre  Global_Sales\n",
       "0         Action       1722.84\n",
       "1         Sports       1309.24\n",
       "2        Shooter       1026.20\n",
       "3   Role-Playing        923.83\n",
       "4       Platform        829.13\n",
       "5           Misc        789.87\n",
       "6         Racing        726.76\n",
       "7       Fighting        444.05\n",
       "8     Simulation        389.98\n",
       "9         Puzzle        242.21\n",
       "10     Adventure        234.59\n",
       "11      Strategy        173.27"
      ]
     },
     "execution_count": 25,
     "metadata": {},
     "output_type": "execute_result"
    }
   ],
   "source": [
    "genre_sales = df.groupby(['Genre'])['Global_Sales'].sum().sort_values(ascending=False).reset_index()\n",
    "genre_sales"
   ]
  },
  {
   "cell_type": "code",
   "execution_count": 26,
   "metadata": {},
   "outputs": [
    {
     "data": {
      "image/png": "[encoded data removed]",
      "text/plain": [
       "<Figure size 864x432 with 1 Axes>"
      ]
     },
     "metadata": {},
     "output_type": "display_data"
    }
   ],
   "source": [
    "plt.rcParams.update({'axes.facecolor':'gold'})\n",
    "plt.figure(figsize=(12,6), facecolor='gold')\n",
    "plt.bar(genre_sales['Genre'], genre_sales['Global_Sales'], width=0.8, edgecolor='k')\n",
    "plt.xticks(fontsize=11)\n",
    "plt.xlabel('Genre', fontsize=14)\n",
    "plt.ylabel('Sales (in Millions of $)', fontsize=14)\n",
    "plt.title('Total Sales by Genre (1980-2020)', fontsize=22)\n",
    "plt.tight_layout()\n",
    "plt.show()"
   ]
  },
  {
   "cell_type": "code",
   "execution_count": null,
   "metadata": {},
   "outputs": [],
   "source": []
  },
  {
   "cell_type": "code",
   "execution_count": null,
   "metadata": {},
   "outputs": [],
   "source": []
  },
  {
   "cell_type": "markdown",
   "metadata": {},
   "source": [
    "### Who were the Top 10 Publishers and how many games did they make?"
   ]
  },
  {
   "cell_type": "code",
   "execution_count": 27,
   "metadata": {
    "scrolled": true
   },
   "outputs": [
    {
     "data": {
      "text/plain": [
       "Electronic Arts                 1339\n",
       "Activision                       966\n",
       "Namco Bandai Games               928\n",
       "Ubisoft                          918\n",
       "Konami Digital Entertainment     823\n",
       "THQ                              712\n",
       "Nintendo                         696\n",
       "Sony Computer Entertainment      682\n",
       "Sega                             632\n",
       "Take-Two Interactive             412\n",
       "Name: Publisher, dtype: int64"
      ]
     },
     "execution_count": 27,
     "metadata": {},
     "output_type": "execute_result"
    }
   ],
   "source": [
    "df['Publisher'].value_counts().head(10)"
   ]
  },
  {
   "cell_type": "code",
   "execution_count": 28,
   "metadata": {
    "scrolled": true
   },
   "outputs": [
    {
     "data": {
      "text/plain": [
       "Publisher\n",
       "Electronic Arts                 1339\n",
       "Activision                       966\n",
       "Namco Bandai Games               928\n",
       "Ubisoft                          918\n",
       "Konami Digital Entertainment     823\n",
       "THQ                              712\n",
       "Nintendo                         696\n",
       "Sony Computer Entertainment      682\n",
       "Sega                             632\n",
       "Take-Two Interactive             412\n",
       "Name: Publisher, dtype: int64"
      ]
     },
     "execution_count": 28,
     "metadata": {},
     "output_type": "execute_result"
    }
   ],
   "source": [
    "top_10_pubs = df.groupby(['Publisher'])['Publisher'].count().sort_values(ascending=False).head(10)\n",
    "top_10_pubs"
   ]
  },
  {
   "cell_type": "code",
   "execution_count": 29,
   "metadata": {
    "scrolled": false
   },
   "outputs": [
    {
     "data": {
      "image/png": "[encoded data removed]",
      "text/plain": [
       "<Figure size 864x432 with 1 Axes>"
      ]
     },
     "metadata": {},
     "output_type": "display_data"
    }
   ],
   "source": [
    "plt.rcParams.update({'axes.facecolor':'gold'})\n",
    "plt.figure(figsize=(12,6), facecolor='gold')\n",
    "top_10_pubs.plot(kind='barh', width=0.6, edgecolor='k')\n",
    "plt.xlabel('Number of Games', fontsize=14)\n",
    "plt.ylabel('Publisher Name', fontsize=14)\n",
    "plt.title('Number of Games from Top 10 Publishers', fontsize=15)\n",
    "plt.show()"
   ]
  },
  {
   "cell_type": "markdown",
   "metadata": {},
   "source": [
    "### What were the top Genres?"
   ]
  },
  {
   "cell_type": "code",
   "execution_count": 30,
   "metadata": {},
   "outputs": [
    {
     "data": {
      "text/plain": [
       "Action          3251\n",
       "Sports          2304\n",
       "Misc            1686\n",
       "Role-Playing    1470\n",
       "Shooter         1282\n",
       "Adventure       1274\n",
       "Racing          1225\n",
       "Platform         875\n",
       "Simulation       848\n",
       "Fighting         836\n",
       "Strategy         670\n",
       "Puzzle           570\n",
       "Name: Genre, dtype: int64"
      ]
     },
     "execution_count": 30,
     "metadata": {},
     "output_type": "execute_result"
    }
   ],
   "source": [
    "df['Genre'].value_counts()"
   ]
  },
  {
   "cell_type": "code",
   "execution_count": 31,
   "metadata": {
    "scrolled": true
   },
   "outputs": [
    {
     "data": {
      "text/plain": [
       "Action         0.20\n",
       "Sports         0.14\n",
       "Misc           0.10\n",
       "Role-Playing   0.09\n",
       "Shooter        0.08\n",
       "Adventure      0.08\n",
       "Racing         0.08\n",
       "Platform       0.05\n",
       "Simulation     0.05\n",
       "Fighting       0.05\n",
       "Strategy       0.04\n",
       "Puzzle         0.03\n",
       "Name: Genre, dtype: float64"
      ]
     },
     "execution_count": 31,
     "metadata": {},
     "output_type": "execute_result"
    }
   ],
   "source": [
    "df['Genre'].value_counts(normalize=True)"
   ]
  },
  {
   "cell_type": "code",
   "execution_count": 32,
   "metadata": {},
   "outputs": [
    {
     "data": {
      "image/png": "[encoded data removed]",
      "text/plain": [
       "<Figure size 576x576 with 1 Axes>"
      ]
     },
     "metadata": {},
     "output_type": "display_data"
    }
   ],
   "source": [
    "plt.figure(figsize=(8,8), facecolor='gold')\n",
    "colors = ['deepskyblue', 'dodgerblue', 'lightskyblue', 'royalblue', 'cornflowerblue']\n",
    "plt.pie(df['Genre'].value_counts(), labels=df['Genre'].unique(), colors=colors, autopct='%1.2f%%', pctdistance=.8)\n",
    "plt.title('Percentage of Games by Genre', fontsize=16)\n",
    "plt.show()"
   ]
  },
  {
   "cell_type": "markdown",
   "metadata": {},
   "source": [
    "- Sports, Platformers, Racing, and RPGs account for more than half of all games"
   ]
  },
  {
   "cell_type": "code",
   "execution_count": 33,
   "metadata": {},
   "outputs": [
    {
     "data": {
      "text/plain": [
       "Genre\n",
       "Action          3251\n",
       "Sports          2304\n",
       "Misc            1686\n",
       "Role-Playing    1470\n",
       "Shooter         1282\n",
       "Adventure       1274\n",
       "Racing          1225\n",
       "Platform         875\n",
       "Simulation       848\n",
       "Fighting         836\n",
       "Name: Genre, dtype: int64"
      ]
     },
     "execution_count": 33,
     "metadata": {},
     "output_type": "execute_result"
    }
   ],
   "source": [
    "top_genres = df.groupby(['Genre'])['Genre'].count().sort_values(ascending=False).head(10)\n",
    "top_genres"
   ]
  },
  {
   "cell_type": "code",
   "execution_count": 34,
   "metadata": {},
   "outputs": [
    {
     "data": {
      "image/png": "[encoded data removed]",
      "text/plain": [
       "<Figure size 864x432 with 1 Axes>"
      ]
     },
     "metadata": {},
     "output_type": "display_data"
    }
   ],
   "source": [
    "plt.rcParams.update({'axes.facecolor':'gold'})\n",
    "plt.figure(figsize=(12,6), facecolor='gold')\n",
    "top_genres.plot(kind='barh', width=0.6, edgecolor='k')\n",
    "plt.xlabel('Number of Games', fontsize=14)\n",
    "plt.ylabel('Genre', fontsize=14)\n",
    "plt.title('Number of Games by Genre', fontsize=15)\n",
    "#plt.tight_layout()\n",
    "plt.show()"
   ]
  },
  {
   "cell_type": "markdown",
   "metadata": {},
   "source": [
    "### What Years Had the Most Releases?"
   ]
  },
  {
   "cell_type": "code",
   "execution_count": 35,
   "metadata": {
    "scrolled": true
   },
   "outputs": [
    {
     "data": {
      "text/plain": [
       "2009    1431\n",
       "2008    1428\n",
       "2010    1257\n",
       "2007    1201\n",
       "2011    1136\n",
       "2006    1008\n",
       "2005     936\n",
       "2002     829\n",
       "2003     775\n",
       "2004     744\n",
       "2012     655\n",
       "2015     614\n",
       "2014     580\n",
       "2013     546\n",
       "2001     482\n",
       "1998     379\n",
       "2000     349\n",
       "2016     342\n",
       "1999     338\n",
       "1997     289\n",
       "1996     263\n",
       "1995     219\n",
       "1994     121\n",
       "1993      60\n",
       "1981      46\n",
       "1992      43\n",
       "1991      41\n",
       "1982      36\n",
       "1986      21\n",
       "1989      17\n",
       "1983      17\n",
       "1990      16\n",
       "1987      16\n",
       "1988      15\n",
       "1985      14\n",
       "1984      14\n",
       "1980       9\n",
       "2017       3\n",
       "2020       1\n",
       "Name: Year, dtype: int64"
      ]
     },
     "execution_count": 35,
     "metadata": {},
     "output_type": "execute_result"
    }
   ],
   "source": [
    "df['Year'].value_counts()"
   ]
  },
  {
   "cell_type": "code",
   "execution_count": 36,
   "metadata": {},
   "outputs": [
    {
     "data": {
      "text/plain": [
       "Year\n",
       "2009    1431\n",
       "2008    1428\n",
       "2010    1257\n",
       "2007    1201\n",
       "2011    1136\n",
       "2006    1008\n",
       "2005     936\n",
       "2002     829\n",
       "2003     775\n",
       "2004     744\n",
       "Name: Year, dtype: int64"
      ]
     },
     "execution_count": 36,
     "metadata": {},
     "output_type": "execute_result"
    }
   ],
   "source": [
    "top_10_years = df.groupby(['Year'])['Year'].count().sort_values(ascending=False).head(10).astype(int)\n",
    "top_10_years"
   ]
  },
  {
   "cell_type": "code",
   "execution_count": 37,
   "metadata": {},
   "outputs": [
    {
     "data": {
      "image/png": "[encoded data removed]",
      "text/plain": [
       "<Figure size 864x432 with 1 Axes>"
      ]
     },
     "metadata": {},
     "output_type": "display_data"
    }
   ],
   "source": [
    "plt.rcParams.update({'axes.facecolor':'gold'})\n",
    "plt.figure(figsize=(12,6), facecolor='gold')\n",
    "top_10_years.plot(kind='barh', width=0.6, edgecolor='k')\n",
    "plt.xlabel('Number of Games', fontsize=14)\n",
    "plt.ylabel('Year', fontsize=14)\n",
    "plt.title('Top Years for Game Releases', fontsize=15)\n",
    "plt.show()"
   ]
  },
  {
   "cell_type": "markdown",
   "metadata": {},
   "source": [
    "- The 2000s (but especially the latter half) saw the highest number of game releases"
   ]
  },
  {
   "cell_type": "markdown",
   "metadata": {},
   "source": [
    "### Which Platforms Had the Most Games?"
   ]
  },
  {
   "cell_type": "code",
   "execution_count": 38,
   "metadata": {},
   "outputs": [
    {
     "data": {
      "text/plain": [
       "DS      2131\n",
       "PS2     2127\n",
       "PS3     1304\n",
       "Wii     1290\n",
       "X360    1234\n",
       "PSP     1197\n",
       "PS      1189\n",
       "PC       938\n",
       "XB       803\n",
       "GBA      786\n",
       "GC       542\n",
       "3DS      499\n",
       "PSV      410\n",
       "PS4      336\n",
       "N64      316\n",
       "SNES     239\n",
       "XOne     213\n",
       "SAT      173\n",
       "WiiU     143\n",
       "2600     116\n",
       "NES       98\n",
       "GB        97\n",
       "DC        52\n",
       "GEN       27\n",
       "NG        12\n",
       "SCD        6\n",
       "WS         6\n",
       "3DO        3\n",
       "TG16       2\n",
       "GG         1\n",
       "PCFX       1\n",
       "Name: Platform, dtype: int64"
      ]
     },
     "execution_count": 38,
     "metadata": {},
     "output_type": "execute_result"
    }
   ],
   "source": [
    "df['Platform'].value_counts()"
   ]
  },
  {
   "cell_type": "code",
   "execution_count": 39,
   "metadata": {},
   "outputs": [
    {
     "data": {
      "text/plain": [
       "Platform\n",
       "DS      2131\n",
       "PS2     2127\n",
       "PS3     1304\n",
       "Wii     1290\n",
       "X360    1234\n",
       "PSP     1197\n",
       "PS      1189\n",
       "PC       938\n",
       "XB       803\n",
       "GBA      786\n",
       "Name: Platform, dtype: int64"
      ]
     },
     "execution_count": 39,
     "metadata": {},
     "output_type": "execute_result"
    }
   ],
   "source": [
    "top_platforms = df.groupby(['Platform'])['Platform'].count().sort_values(ascending=False).head(10)\n",
    "top_platforms"
   ]
  },
  {
   "cell_type": "code",
   "execution_count": 40,
   "metadata": {},
   "outputs": [
    {
     "data": {
      "image/png": "[encoded data removed]",
      "text/plain": [
       "<Figure size 864x432 with 1 Axes>"
      ]
     },
     "metadata": {},
     "output_type": "display_data"
    }
   ],
   "source": [
    "plt.rcParams.update({'axes.facecolor':'gold'})\n",
    "plt.figure(figsize=(12,6), facecolor='gold')\n",
    "top_platforms.plot(kind='barh', width=0.6, edgecolor='k')\n",
    "plt.xlabel('Number of Games', fontsize=14)\n",
    "plt.ylabel('Platform', fontsize=14)\n",
    "plt.title('Number of Games Released by Platform', fontsize=15)\n",
    "plt.show()"
   ]
  },
  {
   "cell_type": "markdown",
   "metadata": {},
   "source": [
    "- Nintendo DS and Playstation 2 had nearly double the amount of games as their closest competitors"
   ]
  },
  {
   "cell_type": "code",
   "execution_count": 41,
   "metadata": {},
   "outputs": [
    {
     "data": {
      "image/png": "[encoded data removed]",
      "text/plain": [
       "<Figure size 864x432 with 1 Axes>"
      ]
     },
     "metadata": {},
     "output_type": "display_data"
    }
   ],
   "source": [
    "plt.rcParams.update({'axes.facecolor':'gold'})\n",
    "plt.figure(figsize=(12,6), facecolor='gold')\n",
    "top_platforms.plot(kind='bar', width=0.6, edgecolor='k')\n",
    "plt.xlabel('Number of Games', fontsize=14)\n",
    "plt.ylabel('Platform', fontsize=14)\n",
    "plt.title('Number of Games Released by Platform', fontsize=15)\n",
    "plt.show()"
   ]
  },
  {
   "cell_type": "code",
   "execution_count": null,
   "metadata": {},
   "outputs": [],
   "source": []
  },
  {
   "cell_type": "code",
   "execution_count": null,
   "metadata": {},
   "outputs": [],
   "source": []
  },
  {
   "cell_type": "code",
   "execution_count": null,
   "metadata": {},
   "outputs": [],
   "source": []
  },
  {
   "cell_type": "code",
   "execution_count": null,
   "metadata": {},
   "outputs": [],
   "source": []
  },
  {
   "cell_type": "code",
   "execution_count": null,
   "metadata": {},
   "outputs": [],
   "source": []
  },
  {
   "cell_type": "code",
   "execution_count": null,
   "metadata": {},
   "outputs": [],
   "source": []
  },
  {
   "cell_type": "code",
   "execution_count": null,
   "metadata": {},
   "outputs": [],
   "source": []
  },
  {
   "cell_type": "markdown",
   "metadata": {},
   "source": [
    "# Sales Section"
   ]
  },
  {
   "cell_type": "code",
   "execution_count": 42,
   "metadata": {},
   "outputs": [
    {
     "data": {
      "text/html": [
       "<div>\n",
       "<style scoped>\n",
       "    .dataframe tbody tr th:only-of-type {\n",
       "        vertical-align: middle;\n",
       "    }\n",
       "\n",
       "    .dataframe tbody tr th {\n",
       "        vertical-align: top;\n",
       "    }\n",
       "\n",
       "    .dataframe thead th {\n",
       "        text-align: right;\n",
       "    }\n",
       "</style>\n",
       "<table border=\"1\" class=\"dataframe\">\n",
       "  <thead>\n",
       "    <tr style=\"text-align: right;\">\n",
       "      <th></th>\n",
       "      <th>Rank</th>\n",
       "      <th>Name</th>\n",
       "      <th>Platform</th>\n",
       "      <th>Year</th>\n",
       "      <th>Genre</th>\n",
       "      <th>Publisher</th>\n",
       "      <th>NA_Sales</th>\n",
       "      <th>EU_Sales</th>\n",
       "      <th>JP_Sales</th>\n",
       "      <th>Other_Sales</th>\n",
       "      <th>Global_Sales</th>\n",
       "    </tr>\n",
       "  </thead>\n",
       "  <tbody>\n",
       "    <tr>\n",
       "      <th>0</th>\n",
       "      <td>1</td>\n",
       "      <td>Wii Sports</td>\n",
       "      <td>Wii</td>\n",
       "      <td>2006</td>\n",
       "      <td>Sports</td>\n",
       "      <td>Nintendo</td>\n",
       "      <td>41.49</td>\n",
       "      <td>29.02</td>\n",
       "      <td>3.77</td>\n",
       "      <td>8.46</td>\n",
       "      <td>82.74</td>\n",
       "    </tr>\n",
       "    <tr>\n",
       "      <th>1</th>\n",
       "      <td>2</td>\n",
       "      <td>Super Mario Bros.</td>\n",
       "      <td>NES</td>\n",
       "      <td>1985</td>\n",
       "      <td>Platform</td>\n",
       "      <td>Nintendo</td>\n",
       "      <td>29.08</td>\n",
       "      <td>3.58</td>\n",
       "      <td>6.81</td>\n",
       "      <td>0.77</td>\n",
       "      <td>40.24</td>\n",
       "    </tr>\n",
       "    <tr>\n",
       "      <th>2</th>\n",
       "      <td>3</td>\n",
       "      <td>Mario Kart Wii</td>\n",
       "      <td>Wii</td>\n",
       "      <td>2008</td>\n",
       "      <td>Racing</td>\n",
       "      <td>Nintendo</td>\n",
       "      <td>15.85</td>\n",
       "      <td>12.88</td>\n",
       "      <td>3.79</td>\n",
       "      <td>3.31</td>\n",
       "      <td>35.82</td>\n",
       "    </tr>\n",
       "    <tr>\n",
       "      <th>3</th>\n",
       "      <td>4</td>\n",
       "      <td>Wii Sports Resort</td>\n",
       "      <td>Wii</td>\n",
       "      <td>2009</td>\n",
       "      <td>Sports</td>\n",
       "      <td>Nintendo</td>\n",
       "      <td>15.75</td>\n",
       "      <td>11.01</td>\n",
       "      <td>3.28</td>\n",
       "      <td>2.96</td>\n",
       "      <td>33.00</td>\n",
       "    </tr>\n",
       "    <tr>\n",
       "      <th>4</th>\n",
       "      <td>5</td>\n",
       "      <td>Pokemon Red/Pokemon Blue</td>\n",
       "      <td>GB</td>\n",
       "      <td>1996</td>\n",
       "      <td>Role-Playing</td>\n",
       "      <td>Nintendo</td>\n",
       "      <td>11.27</td>\n",
       "      <td>8.89</td>\n",
       "      <td>10.22</td>\n",
       "      <td>1.00</td>\n",
       "      <td>31.37</td>\n",
       "    </tr>\n",
       "    <tr>\n",
       "      <th>...</th>\n",
       "      <td>...</td>\n",
       "      <td>...</td>\n",
       "      <td>...</td>\n",
       "      <td>...</td>\n",
       "      <td>...</td>\n",
       "      <td>...</td>\n",
       "      <td>...</td>\n",
       "      <td>...</td>\n",
       "      <td>...</td>\n",
       "      <td>...</td>\n",
       "      <td>...</td>\n",
       "    </tr>\n",
       "    <tr>\n",
       "      <th>95</th>\n",
       "      <td>96</td>\n",
       "      <td>Crash Bandicoot 2: Cortex Strikes Back</td>\n",
       "      <td>PS</td>\n",
       "      <td>1997</td>\n",
       "      <td>Platform</td>\n",
       "      <td>Sony Computer Entertainment</td>\n",
       "      <td>3.78</td>\n",
       "      <td>2.17</td>\n",
       "      <td>1.31</td>\n",
       "      <td>0.31</td>\n",
       "      <td>7.58</td>\n",
       "    </tr>\n",
       "    <tr>\n",
       "      <th>96</th>\n",
       "      <td>97</td>\n",
       "      <td>Super Mario Bros. 2</td>\n",
       "      <td>NES</td>\n",
       "      <td>1988</td>\n",
       "      <td>Platform</td>\n",
       "      <td>Nintendo</td>\n",
       "      <td>5.39</td>\n",
       "      <td>1.18</td>\n",
       "      <td>0.70</td>\n",
       "      <td>0.19</td>\n",
       "      <td>7.46</td>\n",
       "    </tr>\n",
       "    <tr>\n",
       "      <th>97</th>\n",
       "      <td>98</td>\n",
       "      <td>Super Smash Bros. for Wii U and 3DS</td>\n",
       "      <td>3DS</td>\n",
       "      <td>2014</td>\n",
       "      <td>Fighting</td>\n",
       "      <td>Nintendo</td>\n",
       "      <td>3.24</td>\n",
       "      <td>1.35</td>\n",
       "      <td>2.42</td>\n",
       "      <td>0.43</td>\n",
       "      <td>7.45</td>\n",
       "    </tr>\n",
       "    <tr>\n",
       "      <th>98</th>\n",
       "      <td>99</td>\n",
       "      <td>Call of Duty: World at War</td>\n",
       "      <td>X360</td>\n",
       "      <td>2008</td>\n",
       "      <td>Shooter</td>\n",
       "      <td>Activision</td>\n",
       "      <td>4.79</td>\n",
       "      <td>1.90</td>\n",
       "      <td>0.00</td>\n",
       "      <td>0.69</td>\n",
       "      <td>7.37</td>\n",
       "    </tr>\n",
       "    <tr>\n",
       "      <th>99</th>\n",
       "      <td>100</td>\n",
       "      <td>Battlefield 3</td>\n",
       "      <td>X360</td>\n",
       "      <td>2011</td>\n",
       "      <td>Shooter</td>\n",
       "      <td>Electronic Arts</td>\n",
       "      <td>4.46</td>\n",
       "      <td>2.13</td>\n",
       "      <td>0.06</td>\n",
       "      <td>0.69</td>\n",
       "      <td>7.34</td>\n",
       "    </tr>\n",
       "  </tbody>\n",
       "</table>\n",
       "<p>100 rows × 11 columns</p>\n",
       "</div>"
      ],
      "text/plain": [
       "    Rank                                    Name Platform  Year         Genre  \\\n",
       "0      1                              Wii Sports      Wii  2006        Sports   \n",
       "1      2                       Super Mario Bros.      NES  1985      Platform   \n",
       "2      3                          Mario Kart Wii      Wii  2008        Racing   \n",
       "3      4                       Wii Sports Resort      Wii  2009        Sports   \n",
       "4      5                Pokemon Red/Pokemon Blue       GB  1996  Role-Playing   \n",
       "..   ...                                     ...      ...   ...           ...   \n",
       "95    96  Crash Bandicoot 2: Cortex Strikes Back       PS  1997      Platform   \n",
       "96    97                     Super Mario Bros. 2      NES  1988      Platform   \n",
       "97    98     Super Smash Bros. for Wii U and 3DS      3DS  2014      Fighting   \n",
       "98    99              Call of Duty: World at War     X360  2008       Shooter   \n",
       "99   100                           Battlefield 3     X360  2011       Shooter   \n",
       "\n",
       "                      Publisher  NA_Sales  EU_Sales  JP_Sales  Other_Sales  \\\n",
       "0                      Nintendo     41.49     29.02      3.77         8.46   \n",
       "1                      Nintendo     29.08      3.58      6.81         0.77   \n",
       "2                      Nintendo     15.85     12.88      3.79         3.31   \n",
       "3                      Nintendo     15.75     11.01      3.28         2.96   \n",
       "4                      Nintendo     11.27      8.89     10.22         1.00   \n",
       "..                          ...       ...       ...       ...          ...   \n",
       "95  Sony Computer Entertainment      3.78      2.17      1.31         0.31   \n",
       "96                     Nintendo      5.39      1.18      0.70         0.19   \n",
       "97                     Nintendo      3.24      1.35      2.42         0.43   \n",
       "98                   Activision      4.79      1.90      0.00         0.69   \n",
       "99              Electronic Arts      4.46      2.13      0.06         0.69   \n",
       "\n",
       "    Global_Sales  \n",
       "0          82.74  \n",
       "1          40.24  \n",
       "2          35.82  \n",
       "3          33.00  \n",
       "4          31.37  \n",
       "..           ...  \n",
       "95          7.58  \n",
       "96          7.46  \n",
       "97          7.45  \n",
       "98          7.37  \n",
       "99          7.34  \n",
       "\n",
       "[100 rows x 11 columns]"
      ]
     },
     "execution_count": 42,
     "metadata": {},
     "output_type": "execute_result"
    }
   ],
   "source": [
    "df.head(100)"
   ]
  },
  {
   "cell_type": "code",
   "execution_count": 43,
   "metadata": {},
   "outputs": [
    {
     "data": {
      "text/plain": [
       "count   16291.00\n",
       "mean        0.54\n",
       "std         1.57\n",
       "min         0.01\n",
       "25%         0.06\n",
       "50%         0.17\n",
       "75%         0.48\n",
       "max        82.74\n",
       "Name: Global_Sales, dtype: float64"
      ]
     },
     "execution_count": 43,
     "metadata": {},
     "output_type": "execute_result"
    }
   ],
   "source": [
    "df['Global_Sales'].describe()"
   ]
  },
  {
   "cell_type": "markdown",
   "metadata": {},
   "source": [
    "- I want to take a look at some continuous data now. It looks the IQR for Global Sales is betweeen 0.06 and .48 but the max is 82.74. Sounds like we've got a fair amount of outliers. Let's take a look "
   ]
  },
  {
   "cell_type": "code",
   "execution_count": 44,
   "metadata": {
    "scrolled": true
   },
   "outputs": [
    {
     "data": {
      "text/plain": [
       "<matplotlib.axes._subplots.AxesSubplot at 0x7f8b7f05e050>"
      ]
     },
     "execution_count": 44,
     "metadata": {},
     "output_type": "execute_result"
    },
    {
     "data": {
      "image/png": "[encoded data removed]",
      "text/plain": [
       "<Figure size 432x288 with 1 Axes>"
      ]
     },
     "metadata": {
      "needs_background": "light"
     },
     "output_type": "display_data"
    }
   ],
   "source": [
    "df['Global_Sales'].plot(kind='box')"
   ]
  },
  {
   "cell_type": "markdown",
   "metadata": {},
   "source": [
    "- This is difficult to read and seemingly chiefly due to at least one outlier. Let's try to make it more informative by filtering the data"
   ]
  },
  {
   "cell_type": "code",
   "execution_count": 45,
   "metadata": {},
   "outputs": [],
   "source": [
    "df1 = df[df['Global_Sales'] < 10]"
   ]
  },
  {
   "cell_type": "code",
   "execution_count": 46,
   "metadata": {},
   "outputs": [
    {
     "data": {
      "text/plain": [
       "(16229, 11)"
      ]
     },
     "execution_count": 46,
     "metadata": {},
     "output_type": "execute_result"
    }
   ],
   "source": [
    "df1.shape"
   ]
  },
  {
   "cell_type": "code",
   "execution_count": 47,
   "metadata": {},
   "outputs": [
    {
     "data": {
      "text/plain": [
       "count   16229.00\n",
       "mean        0.47\n",
       "std         0.89\n",
       "min         0.01\n",
       "25%         0.06\n",
       "50%         0.17\n",
       "75%         0.47\n",
       "max         9.88\n",
       "Name: Global_Sales, dtype: float64"
      ]
     },
     "execution_count": 47,
     "metadata": {},
     "output_type": "execute_result"
    }
   ],
   "source": [
    "df1['Global_Sales'].describe()"
   ]
  },
  {
   "cell_type": "code",
   "execution_count": 48,
   "metadata": {},
   "outputs": [
    {
     "data": {
      "text/plain": [
       "<matplotlib.axes._subplots.AxesSubplot at 0x7f8b7f9102d0>"
      ]
     },
     "execution_count": 48,
     "metadata": {},
     "output_type": "execute_result"
    },
    {
     "data": {
      "image/png": "[encoded data removed]",
      "text/plain": [
       "<Figure size 432x288 with 1 Axes>"
      ]
     },
     "metadata": {
      "needs_background": "light"
     },
     "output_type": "display_data"
    }
   ],
   "source": [
    "df1['Global_Sales'].plot(kind='box')"
   ]
  },
  {
   "cell_type": "markdown",
   "metadata": {},
   "source": [
    "- Better! But let's filter it further still"
   ]
  },
  {
   "cell_type": "code",
   "execution_count": 49,
   "metadata": {
    "scrolled": true
   },
   "outputs": [],
   "source": [
    "df2 = df[df['Global_Sales'] < 2]"
   ]
  },
  {
   "cell_type": "code",
   "execution_count": 50,
   "metadata": {},
   "outputs": [
    {
     "data": {
      "text/plain": [
       "<matplotlib.axes._subplots.AxesSubplot at 0x7f8b7fb1bd10>"
      ]
     },
     "execution_count": 50,
     "metadata": {},
     "output_type": "execute_result"
    },
    {
     "data": {
      "image/png": "[encoded data removed]",
      "text/plain": [
       "<Figure size 432x288 with 1 Axes>"
      ]
     },
     "metadata": {
      "needs_background": "light"
     },
     "output_type": "display_data"
    }
   ],
   "source": [
    "df2['Global_Sales'].plot(kind='box')"
   ]
  },
  {
   "cell_type": "code",
   "execution_count": 51,
   "metadata": {},
   "outputs": [
    {
     "data": {
      "text/plain": [
       "(15450, 11)"
      ]
     },
     "execution_count": 51,
     "metadata": {},
     "output_type": "execute_result"
    }
   ],
   "source": [
    "df2.shape"
   ]
  },
  {
   "cell_type": "markdown",
   "metadata": {},
   "source": [
    "### Note\n",
    "- We've cut down the data to include only games that have $2,000,000 or less in global sales, which is still 15,450 rows\n",
    "\n",
    "- The overwhelming majority of games don't clear $1,000,000 in global sales\n",
    "- This could be because there are games from as far back as 1980 when video games weren't as popular as they are today"
   ]
  },
  {
   "cell_type": "code",
   "execution_count": 52,
   "metadata": {},
   "outputs": [
    {
     "data": {
      "text/plain": [
       "[1980,\n",
       " 1981,\n",
       " 1982,\n",
       " 1983,\n",
       " 1984,\n",
       " 1985,\n",
       " 1986,\n",
       " 1987,\n",
       " 1988,\n",
       " 1989,\n",
       " 1990,\n",
       " 1991,\n",
       " 1992,\n",
       " 1993,\n",
       " 1994,\n",
       " 1995,\n",
       " 1996,\n",
       " 1997,\n",
       " 1998,\n",
       " 1999,\n",
       " 2000,\n",
       " 2001,\n",
       " 2002,\n",
       " 2003,\n",
       " 2004,\n",
       " 2005,\n",
       " 2006,\n",
       " 2007,\n",
       " 2008,\n",
       " 2009,\n",
       " 2010,\n",
       " 2011,\n",
       " 2012,\n",
       " 2013,\n",
       " 2014,\n",
       " 2015,\n",
       " 2016,\n",
       " 2017,\n",
       " 2020]"
      ]
     },
     "execution_count": 52,
     "metadata": {},
     "output_type": "execute_result"
    }
   ],
   "source": [
    "sorted(df['Year'].unique())"
   ]
  },
  {
   "cell_type": "markdown",
   "metadata": {},
   "source": [
    "- Let's bisect this into pre- and post-2000 to see how games have sold over time"
   ]
  },
  {
   "cell_type": "code",
   "execution_count": 53,
   "metadata": {},
   "outputs": [
    {
     "data": {
      "text/html": [
       "<div>\n",
       "<style scoped>\n",
       "    .dataframe tbody tr th:only-of-type {\n",
       "        vertical-align: middle;\n",
       "    }\n",
       "\n",
       "    .dataframe tbody tr th {\n",
       "        vertical-align: top;\n",
       "    }\n",
       "\n",
       "    .dataframe thead th {\n",
       "        text-align: right;\n",
       "    }\n",
       "</style>\n",
       "<table border=\"1\" class=\"dataframe\">\n",
       "  <thead>\n",
       "    <tr style=\"text-align: right;\">\n",
       "      <th></th>\n",
       "      <th>Rank</th>\n",
       "      <th>Name</th>\n",
       "      <th>Platform</th>\n",
       "      <th>Year</th>\n",
       "      <th>Genre</th>\n",
       "      <th>Publisher</th>\n",
       "      <th>NA_Sales</th>\n",
       "      <th>EU_Sales</th>\n",
       "      <th>JP_Sales</th>\n",
       "      <th>Other_Sales</th>\n",
       "      <th>Global_Sales</th>\n",
       "    </tr>\n",
       "  </thead>\n",
       "  <tbody>\n",
       "    <tr>\n",
       "      <th>1</th>\n",
       "      <td>2</td>\n",
       "      <td>Super Mario Bros.</td>\n",
       "      <td>NES</td>\n",
       "      <td>1985</td>\n",
       "      <td>Platform</td>\n",
       "      <td>Nintendo</td>\n",
       "      <td>29.08</td>\n",
       "      <td>3.58</td>\n",
       "      <td>6.81</td>\n",
       "      <td>0.77</td>\n",
       "      <td>40.24</td>\n",
       "    </tr>\n",
       "    <tr>\n",
       "      <th>4</th>\n",
       "      <td>5</td>\n",
       "      <td>Pokemon Red/Pokemon Blue</td>\n",
       "      <td>GB</td>\n",
       "      <td>1996</td>\n",
       "      <td>Role-Playing</td>\n",
       "      <td>Nintendo</td>\n",
       "      <td>11.27</td>\n",
       "      <td>8.89</td>\n",
       "      <td>10.22</td>\n",
       "      <td>1.00</td>\n",
       "      <td>31.37</td>\n",
       "    </tr>\n",
       "    <tr>\n",
       "      <th>5</th>\n",
       "      <td>6</td>\n",
       "      <td>Tetris</td>\n",
       "      <td>GB</td>\n",
       "      <td>1989</td>\n",
       "      <td>Puzzle</td>\n",
       "      <td>Nintendo</td>\n",
       "      <td>23.20</td>\n",
       "      <td>2.26</td>\n",
       "      <td>4.22</td>\n",
       "      <td>0.58</td>\n",
       "      <td>30.26</td>\n",
       "    </tr>\n",
       "    <tr>\n",
       "      <th>9</th>\n",
       "      <td>10</td>\n",
       "      <td>Duck Hunt</td>\n",
       "      <td>NES</td>\n",
       "      <td>1984</td>\n",
       "      <td>Shooter</td>\n",
       "      <td>Nintendo</td>\n",
       "      <td>26.93</td>\n",
       "      <td>0.63</td>\n",
       "      <td>0.28</td>\n",
       "      <td>0.47</td>\n",
       "      <td>28.31</td>\n",
       "    </tr>\n",
       "    <tr>\n",
       "      <th>12</th>\n",
       "      <td>13</td>\n",
       "      <td>Pokemon Gold/Pokemon Silver</td>\n",
       "      <td>GB</td>\n",
       "      <td>1999</td>\n",
       "      <td>Role-Playing</td>\n",
       "      <td>Nintendo</td>\n",
       "      <td>9.00</td>\n",
       "      <td>6.18</td>\n",
       "      <td>7.20</td>\n",
       "      <td>0.71</td>\n",
       "      <td>23.10</td>\n",
       "    </tr>\n",
       "    <tr>\n",
       "      <th>...</th>\n",
       "      <td>...</td>\n",
       "      <td>...</td>\n",
       "      <td>...</td>\n",
       "      <td>...</td>\n",
       "      <td>...</td>\n",
       "      <td>...</td>\n",
       "      <td>...</td>\n",
       "      <td>...</td>\n",
       "      <td>...</td>\n",
       "      <td>...</td>\n",
       "      <td>...</td>\n",
       "    </tr>\n",
       "    <tr>\n",
       "      <th>16379</th>\n",
       "      <td>16382</td>\n",
       "      <td>Grand Prix Legends</td>\n",
       "      <td>PC</td>\n",
       "      <td>1997</td>\n",
       "      <td>Racing</td>\n",
       "      <td>Vivendi Games</td>\n",
       "      <td>0.00</td>\n",
       "      <td>0.01</td>\n",
       "      <td>0.00</td>\n",
       "      <td>0.00</td>\n",
       "      <td>0.01</td>\n",
       "    </tr>\n",
       "    <tr>\n",
       "      <th>16436</th>\n",
       "      <td>16439</td>\n",
       "      <td>Worms 2</td>\n",
       "      <td>PC</td>\n",
       "      <td>1997</td>\n",
       "      <td>Strategy</td>\n",
       "      <td>Microprose</td>\n",
       "      <td>0.00</td>\n",
       "      <td>0.01</td>\n",
       "      <td>0.00</td>\n",
       "      <td>0.00</td>\n",
       "      <td>0.01</td>\n",
       "    </tr>\n",
       "    <tr>\n",
       "      <th>16506</th>\n",
       "      <td>16509</td>\n",
       "      <td>Samurai Shodown: Warrios Rage</td>\n",
       "      <td>PS</td>\n",
       "      <td>1999</td>\n",
       "      <td>Fighting</td>\n",
       "      <td>SNK</td>\n",
       "      <td>0.01</td>\n",
       "      <td>0.00</td>\n",
       "      <td>0.00</td>\n",
       "      <td>0.00</td>\n",
       "      <td>0.01</td>\n",
       "    </tr>\n",
       "    <tr>\n",
       "      <th>16554</th>\n",
       "      <td>16557</td>\n",
       "      <td>Psychic Detective</td>\n",
       "      <td>PS</td>\n",
       "      <td>1995</td>\n",
       "      <td>Adventure</td>\n",
       "      <td>Electronic Arts</td>\n",
       "      <td>0.01</td>\n",
       "      <td>0.00</td>\n",
       "      <td>0.00</td>\n",
       "      <td>0.00</td>\n",
       "      <td>0.01</td>\n",
       "    </tr>\n",
       "    <tr>\n",
       "      <th>16583</th>\n",
       "      <td>16586</td>\n",
       "      <td>Carmageddon 64</td>\n",
       "      <td>N64</td>\n",
       "      <td>1999</td>\n",
       "      <td>Action</td>\n",
       "      <td>Virgin Interactive</td>\n",
       "      <td>0.01</td>\n",
       "      <td>0.00</td>\n",
       "      <td>0.00</td>\n",
       "      <td>0.00</td>\n",
       "      <td>0.01</td>\n",
       "    </tr>\n",
       "  </tbody>\n",
       "</table>\n",
       "<p>1974 rows × 11 columns</p>\n",
       "</div>"
      ],
      "text/plain": [
       "        Rank                           Name Platform  Year         Genre  \\\n",
       "1          2              Super Mario Bros.      NES  1985      Platform   \n",
       "4          5       Pokemon Red/Pokemon Blue       GB  1996  Role-Playing   \n",
       "5          6                         Tetris       GB  1989        Puzzle   \n",
       "9         10                      Duck Hunt      NES  1984       Shooter   \n",
       "12        13    Pokemon Gold/Pokemon Silver       GB  1999  Role-Playing   \n",
       "...      ...                            ...      ...   ...           ...   \n",
       "16379  16382             Grand Prix Legends       PC  1997        Racing   \n",
       "16436  16439                        Worms 2       PC  1997      Strategy   \n",
       "16506  16509  Samurai Shodown: Warrios Rage       PS  1999      Fighting   \n",
       "16554  16557              Psychic Detective       PS  1995     Adventure   \n",
       "16583  16586                 Carmageddon 64      N64  1999        Action   \n",
       "\n",
       "                Publisher  NA_Sales  EU_Sales  JP_Sales  Other_Sales  \\\n",
       "1                Nintendo     29.08      3.58      6.81         0.77   \n",
       "4                Nintendo     11.27      8.89     10.22         1.00   \n",
       "5                Nintendo     23.20      2.26      4.22         0.58   \n",
       "9                Nintendo     26.93      0.63      0.28         0.47   \n",
       "12               Nintendo      9.00      6.18      7.20         0.71   \n",
       "...                   ...       ...       ...       ...          ...   \n",
       "16379       Vivendi Games      0.00      0.01      0.00         0.00   \n",
       "16436          Microprose      0.00      0.01      0.00         0.00   \n",
       "16506                 SNK      0.01      0.00      0.00         0.00   \n",
       "16554     Electronic Arts      0.01      0.00      0.00         0.00   \n",
       "16583  Virgin Interactive      0.01      0.00      0.00         0.00   \n",
       "\n",
       "       Global_Sales  \n",
       "1             40.24  \n",
       "4             31.37  \n",
       "5             30.26  \n",
       "9             28.31  \n",
       "12            23.10  \n",
       "...             ...  \n",
       "16379          0.01  \n",
       "16436          0.01  \n",
       "16506          0.01  \n",
       "16554          0.01  \n",
       "16583          0.01  \n",
       "\n",
       "[1974 rows x 11 columns]"
      ]
     },
     "execution_count": 53,
     "metadata": {},
     "output_type": "execute_result"
    }
   ],
   "source": [
    "pre2000 = df[df['Year'] < 2000]\n",
    "pre2000"
   ]
  },
  {
   "cell_type": "code",
   "execution_count": 54,
   "metadata": {},
   "outputs": [
    {
     "data": {
      "text/html": [
       "<div>\n",
       "<style scoped>\n",
       "    .dataframe tbody tr th:only-of-type {\n",
       "        vertical-align: middle;\n",
       "    }\n",
       "\n",
       "    .dataframe tbody tr th {\n",
       "        vertical-align: top;\n",
       "    }\n",
       "\n",
       "    .dataframe thead th {\n",
       "        text-align: right;\n",
       "    }\n",
       "</style>\n",
       "<table border=\"1\" class=\"dataframe\">\n",
       "  <thead>\n",
       "    <tr style=\"text-align: right;\">\n",
       "      <th></th>\n",
       "      <th>Rank</th>\n",
       "      <th>Name</th>\n",
       "      <th>Platform</th>\n",
       "      <th>Year</th>\n",
       "      <th>Genre</th>\n",
       "      <th>Publisher</th>\n",
       "      <th>NA_Sales</th>\n",
       "      <th>EU_Sales</th>\n",
       "      <th>JP_Sales</th>\n",
       "      <th>Other_Sales</th>\n",
       "      <th>Global_Sales</th>\n",
       "    </tr>\n",
       "  </thead>\n",
       "  <tbody>\n",
       "    <tr>\n",
       "      <th>0</th>\n",
       "      <td>1</td>\n",
       "      <td>Wii Sports</td>\n",
       "      <td>Wii</td>\n",
       "      <td>2006</td>\n",
       "      <td>Sports</td>\n",
       "      <td>Nintendo</td>\n",
       "      <td>41.49</td>\n",
       "      <td>29.02</td>\n",
       "      <td>3.77</td>\n",
       "      <td>8.46</td>\n",
       "      <td>82.74</td>\n",
       "    </tr>\n",
       "    <tr>\n",
       "      <th>2</th>\n",
       "      <td>3</td>\n",
       "      <td>Mario Kart Wii</td>\n",
       "      <td>Wii</td>\n",
       "      <td>2008</td>\n",
       "      <td>Racing</td>\n",
       "      <td>Nintendo</td>\n",
       "      <td>15.85</td>\n",
       "      <td>12.88</td>\n",
       "      <td>3.79</td>\n",
       "      <td>3.31</td>\n",
       "      <td>35.82</td>\n",
       "    </tr>\n",
       "    <tr>\n",
       "      <th>3</th>\n",
       "      <td>4</td>\n",
       "      <td>Wii Sports Resort</td>\n",
       "      <td>Wii</td>\n",
       "      <td>2009</td>\n",
       "      <td>Sports</td>\n",
       "      <td>Nintendo</td>\n",
       "      <td>15.75</td>\n",
       "      <td>11.01</td>\n",
       "      <td>3.28</td>\n",
       "      <td>2.96</td>\n",
       "      <td>33.00</td>\n",
       "    </tr>\n",
       "    <tr>\n",
       "      <th>6</th>\n",
       "      <td>7</td>\n",
       "      <td>New Super Mario Bros.</td>\n",
       "      <td>DS</td>\n",
       "      <td>2006</td>\n",
       "      <td>Platform</td>\n",
       "      <td>Nintendo</td>\n",
       "      <td>11.38</td>\n",
       "      <td>9.23</td>\n",
       "      <td>6.50</td>\n",
       "      <td>2.90</td>\n",
       "      <td>30.01</td>\n",
       "    </tr>\n",
       "    <tr>\n",
       "      <th>7</th>\n",
       "      <td>8</td>\n",
       "      <td>Wii Play</td>\n",
       "      <td>Wii</td>\n",
       "      <td>2006</td>\n",
       "      <td>Misc</td>\n",
       "      <td>Nintendo</td>\n",
       "      <td>14.03</td>\n",
       "      <td>9.20</td>\n",
       "      <td>2.93</td>\n",
       "      <td>2.85</td>\n",
       "      <td>29.02</td>\n",
       "    </tr>\n",
       "    <tr>\n",
       "      <th>...</th>\n",
       "      <td>...</td>\n",
       "      <td>...</td>\n",
       "      <td>...</td>\n",
       "      <td>...</td>\n",
       "      <td>...</td>\n",
       "      <td>...</td>\n",
       "      <td>...</td>\n",
       "      <td>...</td>\n",
       "      <td>...</td>\n",
       "      <td>...</td>\n",
       "      <td>...</td>\n",
       "    </tr>\n",
       "    <tr>\n",
       "      <th>16593</th>\n",
       "      <td>16596</td>\n",
       "      <td>Woody Woodpecker in Crazy Castle 5</td>\n",
       "      <td>GBA</td>\n",
       "      <td>2002</td>\n",
       "      <td>Platform</td>\n",
       "      <td>Kemco</td>\n",
       "      <td>0.01</td>\n",
       "      <td>0.00</td>\n",
       "      <td>0.00</td>\n",
       "      <td>0.00</td>\n",
       "      <td>0.01</td>\n",
       "    </tr>\n",
       "    <tr>\n",
       "      <th>16594</th>\n",
       "      <td>16597</td>\n",
       "      <td>Men in Black II: Alien Escape</td>\n",
       "      <td>GC</td>\n",
       "      <td>2003</td>\n",
       "      <td>Shooter</td>\n",
       "      <td>Infogrames</td>\n",
       "      <td>0.01</td>\n",
       "      <td>0.00</td>\n",
       "      <td>0.00</td>\n",
       "      <td>0.00</td>\n",
       "      <td>0.01</td>\n",
       "    </tr>\n",
       "    <tr>\n",
       "      <th>16595</th>\n",
       "      <td>16598</td>\n",
       "      <td>SCORE International Baja 1000: The Official Game</td>\n",
       "      <td>PS2</td>\n",
       "      <td>2008</td>\n",
       "      <td>Racing</td>\n",
       "      <td>Activision</td>\n",
       "      <td>0.00</td>\n",
       "      <td>0.00</td>\n",
       "      <td>0.00</td>\n",
       "      <td>0.00</td>\n",
       "      <td>0.01</td>\n",
       "    </tr>\n",
       "    <tr>\n",
       "      <th>16596</th>\n",
       "      <td>16599</td>\n",
       "      <td>Know How 2</td>\n",
       "      <td>DS</td>\n",
       "      <td>2010</td>\n",
       "      <td>Puzzle</td>\n",
       "      <td>7G//AMES</td>\n",
       "      <td>0.00</td>\n",
       "      <td>0.01</td>\n",
       "      <td>0.00</td>\n",
       "      <td>0.00</td>\n",
       "      <td>0.01</td>\n",
       "    </tr>\n",
       "    <tr>\n",
       "      <th>16597</th>\n",
       "      <td>16600</td>\n",
       "      <td>Spirits &amp; Spells</td>\n",
       "      <td>GBA</td>\n",
       "      <td>2003</td>\n",
       "      <td>Platform</td>\n",
       "      <td>Wanadoo</td>\n",
       "      <td>0.01</td>\n",
       "      <td>0.00</td>\n",
       "      <td>0.00</td>\n",
       "      <td>0.00</td>\n",
       "      <td>0.01</td>\n",
       "    </tr>\n",
       "  </tbody>\n",
       "</table>\n",
       "<p>14317 rows × 11 columns</p>\n",
       "</div>"
      ],
      "text/plain": [
       "        Rank                                              Name Platform  Year  \\\n",
       "0          1                                        Wii Sports      Wii  2006   \n",
       "2          3                                    Mario Kart Wii      Wii  2008   \n",
       "3          4                                 Wii Sports Resort      Wii  2009   \n",
       "6          7                             New Super Mario Bros.       DS  2006   \n",
       "7          8                                          Wii Play      Wii  2006   \n",
       "...      ...                                               ...      ...   ...   \n",
       "16593  16596                Woody Woodpecker in Crazy Castle 5      GBA  2002   \n",
       "16594  16597                     Men in Black II: Alien Escape       GC  2003   \n",
       "16595  16598  SCORE International Baja 1000: The Official Game      PS2  2008   \n",
       "16596  16599                                        Know How 2       DS  2010   \n",
       "16597  16600                                  Spirits & Spells      GBA  2003   \n",
       "\n",
       "          Genre   Publisher  NA_Sales  EU_Sales  JP_Sales  Other_Sales  \\\n",
       "0        Sports    Nintendo     41.49     29.02      3.77         8.46   \n",
       "2        Racing    Nintendo     15.85     12.88      3.79         3.31   \n",
       "3        Sports    Nintendo     15.75     11.01      3.28         2.96   \n",
       "6      Platform    Nintendo     11.38      9.23      6.50         2.90   \n",
       "7          Misc    Nintendo     14.03      9.20      2.93         2.85   \n",
       "...         ...         ...       ...       ...       ...          ...   \n",
       "16593  Platform       Kemco      0.01      0.00      0.00         0.00   \n",
       "16594   Shooter  Infogrames      0.01      0.00      0.00         0.00   \n",
       "16595    Racing  Activision      0.00      0.00      0.00         0.00   \n",
       "16596    Puzzle    7G//AMES      0.00      0.01      0.00         0.00   \n",
       "16597  Platform     Wanadoo      0.01      0.00      0.00         0.00   \n",
       "\n",
       "       Global_Sales  \n",
       "0             82.74  \n",
       "2             35.82  \n",
       "3             33.00  \n",
       "6             30.01  \n",
       "7             29.02  \n",
       "...             ...  \n",
       "16593          0.01  \n",
       "16594          0.01  \n",
       "16595          0.01  \n",
       "16596          0.01  \n",
       "16597          0.01  \n",
       "\n",
       "[14317 rows x 11 columns]"
      ]
     },
     "execution_count": 54,
     "metadata": {},
     "output_type": "execute_result"
    }
   ],
   "source": [
    "post2000 = df[df['Year'] >= 2000]\n",
    "post2000"
   ]
  },
  {
   "cell_type": "code",
   "execution_count": 55,
   "metadata": {},
   "outputs": [
    {
     "data": {
      "text/plain": [
       "<matplotlib.axes._subplots.AxesSubplot at 0x7f8b7fd72710>"
      ]
     },
     "execution_count": 55,
     "metadata": {},
     "output_type": "execute_result"
    },
    {
     "data": {
      "image/png": "[encoded data removed]",
      "text/plain": [
       "<Figure size 432x288 with 1 Axes>"
      ]
     },
     "metadata": {
      "needs_background": "light"
     },
     "output_type": "display_data"
    }
   ],
   "source": [
    "post2000['Global_Sales'].plot(kind='box')"
   ]
  },
  {
   "cell_type": "markdown",
   "metadata": {},
   "source": [
    "- Even in the 2000s there still seems to be a fair amount of outliers"
   ]
  },
  {
   "cell_type": "code",
   "execution_count": 56,
   "metadata": {},
   "outputs": [
    {
     "data": {
      "text/html": [
       "<div>\n",
       "<style scoped>\n",
       "    .dataframe tbody tr th:only-of-type {\n",
       "        vertical-align: middle;\n",
       "    }\n",
       "\n",
       "    .dataframe tbody tr th {\n",
       "        vertical-align: top;\n",
       "    }\n",
       "\n",
       "    .dataframe thead th {\n",
       "        text-align: right;\n",
       "    }\n",
       "</style>\n",
       "<table border=\"1\" class=\"dataframe\">\n",
       "  <thead>\n",
       "    <tr style=\"text-align: right;\">\n",
       "      <th></th>\n",
       "      <th>Rank</th>\n",
       "      <th>Name</th>\n",
       "      <th>Platform</th>\n",
       "      <th>Year</th>\n",
       "      <th>Genre</th>\n",
       "      <th>Publisher</th>\n",
       "      <th>NA_Sales</th>\n",
       "      <th>EU_Sales</th>\n",
       "      <th>JP_Sales</th>\n",
       "      <th>Other_Sales</th>\n",
       "      <th>Global_Sales</th>\n",
       "    </tr>\n",
       "  </thead>\n",
       "  <tbody>\n",
       "    <tr>\n",
       "      <th>0</th>\n",
       "      <td>1</td>\n",
       "      <td>Wii Sports</td>\n",
       "      <td>Wii</td>\n",
       "      <td>2006</td>\n",
       "      <td>Sports</td>\n",
       "      <td>Nintendo</td>\n",
       "      <td>41.49</td>\n",
       "      <td>29.02</td>\n",
       "      <td>3.77</td>\n",
       "      <td>8.46</td>\n",
       "      <td>82.74</td>\n",
       "    </tr>\n",
       "    <tr>\n",
       "      <th>2</th>\n",
       "      <td>3</td>\n",
       "      <td>Mario Kart Wii</td>\n",
       "      <td>Wii</td>\n",
       "      <td>2008</td>\n",
       "      <td>Racing</td>\n",
       "      <td>Nintendo</td>\n",
       "      <td>15.85</td>\n",
       "      <td>12.88</td>\n",
       "      <td>3.79</td>\n",
       "      <td>3.31</td>\n",
       "      <td>35.82</td>\n",
       "    </tr>\n",
       "    <tr>\n",
       "      <th>3</th>\n",
       "      <td>4</td>\n",
       "      <td>Wii Sports Resort</td>\n",
       "      <td>Wii</td>\n",
       "      <td>2009</td>\n",
       "      <td>Sports</td>\n",
       "      <td>Nintendo</td>\n",
       "      <td>15.75</td>\n",
       "      <td>11.01</td>\n",
       "      <td>3.28</td>\n",
       "      <td>2.96</td>\n",
       "      <td>33.00</td>\n",
       "    </tr>\n",
       "    <tr>\n",
       "      <th>6</th>\n",
       "      <td>7</td>\n",
       "      <td>New Super Mario Bros.</td>\n",
       "      <td>DS</td>\n",
       "      <td>2006</td>\n",
       "      <td>Platform</td>\n",
       "      <td>Nintendo</td>\n",
       "      <td>11.38</td>\n",
       "      <td>9.23</td>\n",
       "      <td>6.50</td>\n",
       "      <td>2.90</td>\n",
       "      <td>30.01</td>\n",
       "    </tr>\n",
       "    <tr>\n",
       "      <th>7</th>\n",
       "      <td>8</td>\n",
       "      <td>Wii Play</td>\n",
       "      <td>Wii</td>\n",
       "      <td>2006</td>\n",
       "      <td>Misc</td>\n",
       "      <td>Nintendo</td>\n",
       "      <td>14.03</td>\n",
       "      <td>9.20</td>\n",
       "      <td>2.93</td>\n",
       "      <td>2.85</td>\n",
       "      <td>29.02</td>\n",
       "    </tr>\n",
       "    <tr>\n",
       "      <th>...</th>\n",
       "      <td>...</td>\n",
       "      <td>...</td>\n",
       "      <td>...</td>\n",
       "      <td>...</td>\n",
       "      <td>...</td>\n",
       "      <td>...</td>\n",
       "      <td>...</td>\n",
       "      <td>...</td>\n",
       "      <td>...</td>\n",
       "      <td>...</td>\n",
       "      <td>...</td>\n",
       "    </tr>\n",
       "    <tr>\n",
       "      <th>16182</th>\n",
       "      <td>16185</td>\n",
       "      <td>Princess Arthur</td>\n",
       "      <td>PSP</td>\n",
       "      <td>2013</td>\n",
       "      <td>Misc</td>\n",
       "      <td>Idea Factory</td>\n",
       "      <td>0.00</td>\n",
       "      <td>0.00</td>\n",
       "      <td>0.01</td>\n",
       "      <td>0.00</td>\n",
       "      <td>0.01</td>\n",
       "    </tr>\n",
       "    <tr>\n",
       "      <th>16183</th>\n",
       "      <td>16186</td>\n",
       "      <td>Sakura-Sou no Pet na Kanojo</td>\n",
       "      <td>PSP</td>\n",
       "      <td>2013</td>\n",
       "      <td>Adventure</td>\n",
       "      <td>Kadokawa Games</td>\n",
       "      <td>0.00</td>\n",
       "      <td>0.00</td>\n",
       "      <td>0.01</td>\n",
       "      <td>0.00</td>\n",
       "      <td>0.01</td>\n",
       "    </tr>\n",
       "    <tr>\n",
       "      <th>16184</th>\n",
       "      <td>16187</td>\n",
       "      <td>Fatal Fury: Battle Archives Volume 2 (JP sales)</td>\n",
       "      <td>PS2</td>\n",
       "      <td>2007</td>\n",
       "      <td>Fighting</td>\n",
       "      <td>SNK Playmore</td>\n",
       "      <td>0.00</td>\n",
       "      <td>0.00</td>\n",
       "      <td>0.01</td>\n",
       "      <td>0.00</td>\n",
       "      <td>0.01</td>\n",
       "    </tr>\n",
       "    <tr>\n",
       "      <th>16185</th>\n",
       "      <td>16188</td>\n",
       "      <td>Tantei Jinguuji Saburo: Hai to Diamond</td>\n",
       "      <td>PSP</td>\n",
       "      <td>2009</td>\n",
       "      <td>Adventure</td>\n",
       "      <td>Arc System Works</td>\n",
       "      <td>0.00</td>\n",
       "      <td>0.00</td>\n",
       "      <td>0.01</td>\n",
       "      <td>0.00</td>\n",
       "      <td>0.01</td>\n",
       "    </tr>\n",
       "    <tr>\n",
       "      <th>16597</th>\n",
       "      <td>16600</td>\n",
       "      <td>Spirits &amp; Spells</td>\n",
       "      <td>GBA</td>\n",
       "      <td>2003</td>\n",
       "      <td>Platform</td>\n",
       "      <td>Wanadoo</td>\n",
       "      <td>0.01</td>\n",
       "      <td>0.00</td>\n",
       "      <td>0.00</td>\n",
       "      <td>0.00</td>\n",
       "      <td>0.01</td>\n",
       "    </tr>\n",
       "  </tbody>\n",
       "</table>\n",
       "<p>14317 rows × 11 columns</p>\n",
       "</div>"
      ],
      "text/plain": [
       "        Rank                                             Name Platform  Year  \\\n",
       "0          1                                       Wii Sports      Wii  2006   \n",
       "2          3                                   Mario Kart Wii      Wii  2008   \n",
       "3          4                                Wii Sports Resort      Wii  2009   \n",
       "6          7                            New Super Mario Bros.       DS  2006   \n",
       "7          8                                         Wii Play      Wii  2006   \n",
       "...      ...                                              ...      ...   ...   \n",
       "16182  16185                                  Princess Arthur      PSP  2013   \n",
       "16183  16186                      Sakura-Sou no Pet na Kanojo      PSP  2013   \n",
       "16184  16187  Fatal Fury: Battle Archives Volume 2 (JP sales)      PS2  2007   \n",
       "16185  16188           Tantei Jinguuji Saburo: Hai to Diamond      PSP  2009   \n",
       "16597  16600                                 Spirits & Spells      GBA  2003   \n",
       "\n",
       "           Genre         Publisher  NA_Sales  EU_Sales  JP_Sales  Other_Sales  \\\n",
       "0         Sports          Nintendo     41.49     29.02      3.77         8.46   \n",
       "2         Racing          Nintendo     15.85     12.88      3.79         3.31   \n",
       "3         Sports          Nintendo     15.75     11.01      3.28         2.96   \n",
       "6       Platform          Nintendo     11.38      9.23      6.50         2.90   \n",
       "7           Misc          Nintendo     14.03      9.20      2.93         2.85   \n",
       "...          ...               ...       ...       ...       ...          ...   \n",
       "16182       Misc      Idea Factory      0.00      0.00      0.01         0.00   \n",
       "16183  Adventure    Kadokawa Games      0.00      0.00      0.01         0.00   \n",
       "16184   Fighting      SNK Playmore      0.00      0.00      0.01         0.00   \n",
       "16185  Adventure  Arc System Works      0.00      0.00      0.01         0.00   \n",
       "16597   Platform           Wanadoo      0.01      0.00      0.00         0.00   \n",
       "\n",
       "       Global_Sales  \n",
       "0             82.74  \n",
       "2             35.82  \n",
       "3             33.00  \n",
       "6             30.01  \n",
       "7             29.02  \n",
       "...             ...  \n",
       "16182          0.01  \n",
       "16183          0.01  \n",
       "16184          0.01  \n",
       "16185          0.01  \n",
       "16597          0.01  \n",
       "\n",
       "[14317 rows x 11 columns]"
      ]
     },
     "execution_count": 56,
     "metadata": {},
     "output_type": "execute_result"
    }
   ],
   "source": [
    "post2000.sort_values(by='Global_Sales', ascending=False)"
   ]
  },
  {
   "cell_type": "markdown",
   "metadata": {},
   "source": [
    "- Just scrolling through the data we can see that there are only 62 games that sold more than $10,000,000 globally"
   ]
  },
  {
   "cell_type": "code",
   "execution_count": 57,
   "metadata": {},
   "outputs": [
    {
     "data": {
      "text/plain": [
       "count   14317.00\n",
       "mean        0.50\n",
       "std         1.47\n",
       "min         0.01\n",
       "25%         0.06\n",
       "50%         0.16\n",
       "75%         0.45\n",
       "max        82.74\n",
       "Name: Global_Sales, dtype: float64"
      ]
     },
     "execution_count": 57,
     "metadata": {},
     "output_type": "execute_result"
    }
   ],
   "source": [
    "post2000['Global_Sales'].describe()"
   ]
  },
  {
   "cell_type": "code",
   "execution_count": 58,
   "metadata": {},
   "outputs": [
    {
     "data": {
      "text/plain": [
       "(14317, 11)"
      ]
     },
     "execution_count": 58,
     "metadata": {},
     "output_type": "execute_result"
    }
   ],
   "source": [
    "post2000.shape"
   ]
  },
  {
   "cell_type": "markdown",
   "metadata": {},
   "source": [
    "- It also looks like most of the games in this dataset came out during and after the year 2000 (14,317 out of 16,291)"
   ]
  },
  {
   "cell_type": "markdown",
   "metadata": {},
   "source": [
    "- Let's try separating them out by decade and see what that looks like"
   ]
  },
  {
   "cell_type": "code",
   "execution_count": 59,
   "metadata": {},
   "outputs": [
    {
     "data": {
      "text/plain": [
       "dtype('int64')"
      ]
     },
     "execution_count": 59,
     "metadata": {},
     "output_type": "execute_result"
    }
   ],
   "source": [
    "df['Year'].dtype"
   ]
  },
  {
   "cell_type": "code",
   "execution_count": 60,
   "metadata": {},
   "outputs": [],
   "source": [
    "df1980s = df.loc[(df.Year >= 1980) & (df.Year < 1990)]\n",
    "df1990s = df.loc[(df.Year >= 1990) & (df.Year < 2000)]\n",
    "df2000s = df.loc[(df.Year >= 2000) & (df.Year < 2010)]\n",
    "df2010s = df.loc[(df.Year >= 2010) & (df.Year < 2020)]"
   ]
  },
  {
   "cell_type": "code",
   "execution_count": 61,
   "metadata": {},
   "outputs": [
    {
     "data": {
      "image/png": "[encoded data removed]",
      "text/plain": [
       "<Figure size 432x288 with 1 Axes>"
      ]
     },
     "metadata": {
      "needs_background": "light"
     },
     "output_type": "display_data"
    }
   ],
   "source": [
    "df1980s['Global_Sales'].plot(kind='box')\n",
    "plt.show()"
   ]
  },
  {
   "cell_type": "code",
   "execution_count": 62,
   "metadata": {},
   "outputs": [
    {
     "data": {
      "image/png": "[encoded data removed]",
      "text/plain": [
       "<Figure size 432x288 with 1 Axes>"
      ]
     },
     "metadata": {
      "needs_background": "light"
     },
     "output_type": "display_data"
    }
   ],
   "source": [
    "df1990s['Global_Sales'].plot(kind='box')\n",
    "plt.show()"
   ]
  },
  {
   "cell_type": "code",
   "execution_count": 63,
   "metadata": {},
   "outputs": [
    {
     "data": {
      "image/png": "[encoded data removed]",
      "text/plain": [
       "<Figure size 432x288 with 1 Axes>"
      ]
     },
     "metadata": {
      "needs_background": "light"
     },
     "output_type": "display_data"
    }
   ],
   "source": [
    "df2000s['Global_Sales'].plot(kind='box')\n",
    "plt.show()"
   ]
  },
  {
   "cell_type": "code",
   "execution_count": 64,
   "metadata": {},
   "outputs": [
    {
     "data": {
      "image/png": "[encoded data removed]",
      "text/plain": [
       "<Figure size 432x288 with 1 Axes>"
      ]
     },
     "metadata": {
      "needs_background": "light"
     },
     "output_type": "display_data"
    }
   ],
   "source": [
    "df2010s['Global_Sales'].plot(kind='box')\n",
    "plt.show()"
   ]
  },
  {
   "cell_type": "code",
   "execution_count": 65,
   "metadata": {},
   "outputs": [
    {
     "data": {
      "image/png": "[encoded data removed]",
      "text/plain": [
       "<Figure size 432x288 with 1 Axes>"
      ]
     },
     "metadata": {
      "needs_background": "light"
     },
     "output_type": "display_data"
    }
   ],
   "source": [
    "plt.violinplot(df1980s['Global_Sales'])\n",
    "plt.show()"
   ]
  },
  {
   "cell_type": "code",
   "execution_count": 66,
   "metadata": {},
   "outputs": [
    {
     "data": {
      "image/png": "[encoded data removed]",
      "text/plain": [
       "<Figure size 432x288 with 1 Axes>"
      ]
     },
     "metadata": {
      "needs_background": "light"
     },
     "output_type": "display_data"
    }
   ],
   "source": [
    "plt.violinplot(df1990s['Global_Sales'])\n",
    "plt.show()"
   ]
  },
  {
   "cell_type": "code",
   "execution_count": 67,
   "metadata": {},
   "outputs": [
    {
     "data": {
      "image/png": "[encoded data removed]",
      "text/plain": [
       "<Figure size 432x288 with 1 Axes>"
      ]
     },
     "metadata": {
      "needs_background": "light"
     },
     "output_type": "display_data"
    }
   ],
   "source": [
    "plt.violinplot(df2000s['Global_Sales'])\n",
    "plt.show()"
   ]
  },
  {
   "cell_type": "code",
   "execution_count": 68,
   "metadata": {},
   "outputs": [
    {
     "data": {
      "image/png": "[encoded data removed]",
      "text/plain": [
       "<Figure size 432x288 with 1 Axes>"
      ]
     },
     "metadata": {
      "needs_background": "light"
     },
     "output_type": "display_data"
    }
   ],
   "source": [
    "plt.violinplot(df2010s['Global_Sales'])\n",
    "plt.show()"
   ]
  },
  {
   "cell_type": "markdown",
   "metadata": {},
   "source": [
    "- The violinplots do a better job of illustrating this phenomenon. Let's try with North American sales"
   ]
  },
  {
   "cell_type": "code",
   "execution_count": 69,
   "metadata": {},
   "outputs": [
    {
     "data": {
      "image/png": "[encoded data removed]",
      "text/plain": [
       "<Figure size 432x288 with 1 Axes>"
      ]
     },
     "metadata": {
      "needs_background": "light"
     },
     "output_type": "display_data"
    }
   ],
   "source": [
    "plt.violinplot(df1980s['NA_Sales'])\n",
    "plt.show()"
   ]
  },
  {
   "cell_type": "code",
   "execution_count": 70,
   "metadata": {},
   "outputs": [
    {
     "data": {
      "image/png": "[encoded data removed]",
      "text/plain": [
       "<Figure size 432x288 with 1 Axes>"
      ]
     },
     "metadata": {
      "needs_background": "light"
     },
     "output_type": "display_data"
    }
   ],
   "source": [
    "plt.violinplot(df1990s['NA_Sales'])\n",
    "plt.show()"
   ]
  },
  {
   "cell_type": "code",
   "execution_count": 71,
   "metadata": {},
   "outputs": [
    {
     "data": {
      "image/png": "[encoded data removed]",
      "text/plain": [
       "<Figure size 432x288 with 1 Axes>"
      ]
     },
     "metadata": {
      "needs_background": "light"
     },
     "output_type": "display_data"
    }
   ],
   "source": [
    "plt.violinplot(df2000s['NA_Sales'])\n",
    "plt.show()"
   ]
  },
  {
   "cell_type": "code",
   "execution_count": 72,
   "metadata": {},
   "outputs": [
    {
     "data": {
      "image/png": "[encoded data removed]",
      "text/plain": [
       "<Figure size 432x288 with 1 Axes>"
      ]
     },
     "metadata": {
      "needs_background": "light"
     },
     "output_type": "display_data"
    }
   ],
   "source": [
    "plt.violinplot(df2010s['NA_Sales'])\n",
    "plt.show()"
   ]
  },
  {
   "cell_type": "markdown",
   "metadata": {},
   "source": [
    "- Pretty much the same result. It seems that with video games you either have a hit franchise or hope to break even on the cost of development"
   ]
  },
  {
   "cell_type": "code",
   "execution_count": 73,
   "metadata": {},
   "outputs": [
    {
     "data": {
      "text/html": [
       "<div>\n",
       "<style scoped>\n",
       "    .dataframe tbody tr th:only-of-type {\n",
       "        vertical-align: middle;\n",
       "    }\n",
       "\n",
       "    .dataframe tbody tr th {\n",
       "        vertical-align: top;\n",
       "    }\n",
       "\n",
       "    .dataframe thead th {\n",
       "        text-align: right;\n",
       "    }\n",
       "</style>\n",
       "<table border=\"1\" class=\"dataframe\">\n",
       "  <thead>\n",
       "    <tr style=\"text-align: right;\">\n",
       "      <th></th>\n",
       "      <th>Region</th>\n",
       "      <th>Sales</th>\n",
       "    </tr>\n",
       "  </thead>\n",
       "  <tbody>\n",
       "    <tr>\n",
       "      <th>0</th>\n",
       "      <td>NA_Sales</td>\n",
       "      <td>4327.65</td>\n",
       "    </tr>\n",
       "    <tr>\n",
       "      <th>1</th>\n",
       "      <td>EU_Sales</td>\n",
       "      <td>2406.69</td>\n",
       "    </tr>\n",
       "    <tr>\n",
       "      <th>2</th>\n",
       "      <td>JP_Sales</td>\n",
       "      <td>1284.27</td>\n",
       "    </tr>\n",
       "    <tr>\n",
       "      <th>3</th>\n",
       "      <td>Other_Sales</td>\n",
       "      <td>788.91</td>\n",
       "    </tr>\n",
       "  </tbody>\n",
       "</table>\n",
       "</div>"
      ],
      "text/plain": [
       "        Region   Sales\n",
       "0     NA_Sales 4327.65\n",
       "1     EU_Sales 2406.69\n",
       "2     JP_Sales 1284.27\n",
       "3  Other_Sales  788.91"
      ]
     },
     "execution_count": 73,
     "metadata": {},
     "output_type": "execute_result"
    }
   ],
   "source": [
    "top_sales_reg = df[['NA_Sales', 'EU_Sales', 'JP_Sales', 'Other_Sales']]\n",
    "top_sales_reg = top_sales_reg.sum().reset_index()\n",
    "top_sales_reg = top_sales_reg.rename(columns={'index':'Region', 0:'Sales'})\n",
    "top_sales_reg"
   ]
  },
  {
   "cell_type": "code",
   "execution_count": 74,
   "metadata": {},
   "outputs": [],
   "source": [
    "labels = top_sales_reg['Region']\n",
    "size = top_sales_reg['Sales']"
   ]
  },
  {
   "cell_type": "code",
   "execution_count": 75,
   "metadata": {},
   "outputs": [
    {
     "data": {
      "text/plain": [
       "Region\n",
       "NA_Sales      4327.65\n",
       "EU_Sales      2406.69\n",
       "JP_Sales      1284.27\n",
       "Other_Sales    788.91\n",
       "Name: Sales, dtype: float64"
      ]
     },
     "execution_count": 75,
     "metadata": {},
     "output_type": "execute_result"
    }
   ],
   "source": [
    "top_sales_fig = top_sales_reg.groupby(['Region'])['Sales'].sum().sort_values(ascending=False).head(10)\n",
    "top_sales_fig"
   ]
  },
  {
   "cell_type": "code",
   "execution_count": 76,
   "metadata": {},
   "outputs": [
    {
     "data": {
      "image/png": "[encoded data removed]",
      "text/plain": [
       "<Figure size 864x432 with 1 Axes>"
      ]
     },
     "metadata": {},
     "output_type": "display_data"
    }
   ],
   "source": [
    "plt.figure(figsize=(12,6), facecolor='gold')\n",
    "top_sales_fig.plot(kind='bar', width=0.6, edgecolor='k')\n",
    "plt.xlabel('Region', fontsize=14)\n",
    "plt.ylabel('Sales (in Millions of $)', fontsize=14)\n",
    "plt.xticks(fontsize=12, rotation=0)\n",
    "plt.yticks(fontsize=12)\n",
    "plt.title('Total Global Sales (1980-2020)', fontsize=22)\n",
    "plt.tight_layout()\n",
    "plt.show()"
   ]
  },
  {
   "cell_type": "code",
   "execution_count": 77,
   "metadata": {},
   "outputs": [
    {
     "data": {
      "image/png": "[encoded data removed]",
      "text/plain": [
       "<Figure size 576x576 with 1 Axes>"
      ]
     },
     "metadata": {},
     "output_type": "display_data"
    }
   ],
   "source": [
    "plt.figure(figsize=(8,8), facecolor='gold')\n",
    "colors = ['deepskyblue', 'dodgerblue', 'lightskyblue', 'royalblue', 'cornflowerblue']\n",
    "plt.pie(size, labels=labels, colors=colors, autopct='%1.2f%%', pctdistance=.8, startangle=90)\n",
    "plt.title('Sales by Region (1980-2020)', fontsize=22)\n",
    "plt.tight_layout()\n",
    "plt.show()"
   ]
  },
  {
   "cell_type": "code",
   "execution_count": 78,
   "metadata": {},
   "outputs": [
    {
     "data": {
      "text/plain": [
       "Year\n",
       "2008   678.90\n",
       "2009   667.30\n",
       "2007   609.92\n",
       "2010   600.29\n",
       "2006   521.04\n",
       "Name: Global_Sales, dtype: float64"
      ]
     },
     "execution_count": 78,
     "metadata": {},
     "output_type": "execute_result"
    }
   ],
   "source": [
    "top_sales_yearGB = df.groupby(['Year'])['Global_Sales'].sum().sort_values(ascending=False).head(5)\n",
    "top_sales_yearGB"
   ]
  },
  {
   "cell_type": "code",
   "execution_count": 79,
   "metadata": {},
   "outputs": [
    {
     "data": {
      "image/png": "[encoded data removed]",
      "text/plain": [
       "<Figure size 864x432 with 1 Axes>"
      ]
     },
     "metadata": {},
     "output_type": "display_data"
    }
   ],
   "source": [
    "plt.figure(figsize=(12,6), facecolor='gold')\n",
    "top_sales_yearGB.plot(kind='bar', width=0.6, edgecolor='k')\n",
    "plt.xlabel('Year', fontsize=14)\n",
    "plt.ylabel('Sales (in Millions of $)', fontsize=14)\n",
    "plt.xticks(fontsize=12, rotation=0)\n",
    "plt.yticks(fontsize=12)\n",
    "plt.title('Top 5 Grossing Years (Global)', fontsize=22)\n",
    "plt.tight_layout()\n",
    "plt.show()"
   ]
  },
  {
   "cell_type": "code",
   "execution_count": 80,
   "metadata": {},
   "outputs": [
    {
     "data": {
      "text/plain": [
       "Year\n",
       "2008   351.44\n",
       "2009   338.85\n",
       "2007   311.18\n",
       "2010   304.24\n",
       "2006   263.12\n",
       "Name: NA_Sales, dtype: float64"
      ]
     },
     "execution_count": 80,
     "metadata": {},
     "output_type": "execute_result"
    }
   ],
   "source": [
    "top_sales_yearNA = df.groupby(['Year'])['NA_Sales'].sum().sort_values(ascending=False).head(5)\n",
    "top_sales_yearNA"
   ]
  },
  {
   "cell_type": "code",
   "execution_count": 81,
   "metadata": {},
   "outputs": [
    {
     "data": {
      "image/png": "[encoded data removed]",
      "text/plain": [
       "<Figure size 864x432 with 1 Axes>"
      ]
     },
     "metadata": {},
     "output_type": "display_data"
    }
   ],
   "source": [
    "plt.figure(figsize=(12,6), facecolor='gold')\n",
    "top_sales_yearNA.plot(kind='bar', width=0.6, edgecolor='k')\n",
    "plt.xlabel('Year', fontsize=14)\n",
    "plt.ylabel('Sales (in Millions of $)', fontsize=14)\n",
    "plt.xticks(fontsize=12, rotation=0)\n",
    "plt.yticks(fontsize=12)\n",
    "plt.title('Top 5 Grossing Years (North America)', fontsize=22)\n",
    "plt.tight_layout()\n",
    "plt.show()"
   ]
  },
  {
   "cell_type": "code",
   "execution_count": 82,
   "metadata": {},
   "outputs": [
    {
     "data": {
      "text/plain": [
       "Year\n",
       "2009   191.59\n",
       "2008   184.40\n",
       "2010   176.57\n",
       "2011   167.31\n",
       "2007   160.18\n",
       "Name: EU_Sales, dtype: float64"
      ]
     },
     "execution_count": 82,
     "metadata": {},
     "output_type": "execute_result"
    }
   ],
   "source": [
    "top_sales_yearEU = df.groupby(['Year'])['EU_Sales'].sum().sort_values(ascending=False).head(5)\n",
    "top_sales_yearEU"
   ]
  },
  {
   "cell_type": "code",
   "execution_count": 83,
   "metadata": {},
   "outputs": [
    {
     "data": {
      "image/png": "[encoded data removed]",
      "text/plain": [
       "<Figure size 864x432 with 1 Axes>"
      ]
     },
     "metadata": {},
     "output_type": "display_data"
    }
   ],
   "source": [
    "plt.figure(figsize=(12,6), facecolor='gold')\n",
    "top_sales_yearEU.plot(kind='bar', width=0.6, edgecolor='k')\n",
    "plt.xlabel('Year', fontsize=14)\n",
    "plt.ylabel('Sales (in Millions of $)', fontsize=14)\n",
    "plt.xticks(fontsize=12, rotation=0)\n",
    "plt.yticks(fontsize=12)\n",
    "plt.title('Top 5 Grossing Years (Europe)', fontsize=22)\n",
    "plt.tight_layout()\n",
    "plt.show()"
   ]
  },
  {
   "cell_type": "code",
   "execution_count": 84,
   "metadata": {},
   "outputs": [
    {
     "data": {
      "text/plain": [
       "Year\n",
       "2006   73.73\n",
       "2009   61.89\n",
       "2007   60.29\n",
       "2008   60.26\n",
       "2010   59.49\n",
       "Name: JP_Sales, dtype: float64"
      ]
     },
     "execution_count": 84,
     "metadata": {},
     "output_type": "execute_result"
    }
   ],
   "source": [
    "top_sales_yearJP = df.groupby(['Year'])['JP_Sales'].sum().sort_values(ascending=False).head(5)\n",
    "top_sales_yearJP"
   ]
  },
  {
   "cell_type": "code",
   "execution_count": 85,
   "metadata": {},
   "outputs": [
    {
     "data": {
      "image/png": "[encoded data removed]",
      "text/plain": [
       "<Figure size 864x432 with 1 Axes>"
      ]
     },
     "metadata": {},
     "output_type": "display_data"
    }
   ],
   "source": [
    "plt.figure(figsize=(12,6), facecolor='gold')\n",
    "top_sales_yearJP.plot(kind='bar', width=0.6, edgecolor='k')\n",
    "plt.xlabel('Year', fontsize=14)\n",
    "plt.ylabel('Sales (in Millions of $)', fontsize=14)\n",
    "plt.xticks(fontsize=12, rotation=0)\n",
    "plt.yticks(fontsize=12)\n",
    "plt.title('Top 5 Grossing Years (Japan)', fontsize=22)\n",
    "plt.tight_layout()\n",
    "plt.show()"
   ]
  },
  {
   "cell_type": "code",
   "execution_count": 86,
   "metadata": {},
   "outputs": [
    {
     "data": {
      "text/plain": [
       "Year\n",
       "2008   82.39\n",
       "2007   77.58\n",
       "2009   74.77\n",
       "2010   59.90\n",
       "2006   54.43\n",
       "Name: Other_Sales, dtype: float64"
      ]
     },
     "execution_count": 86,
     "metadata": {},
     "output_type": "execute_result"
    }
   ],
   "source": [
    "top_sales_yearOT = df.groupby(['Year'])['Other_Sales'].sum().sort_values(ascending=False).head(5)\n",
    "top_sales_yearOT"
   ]
  },
  {
   "cell_type": "code",
   "execution_count": 87,
   "metadata": {},
   "outputs": [
    {
     "data": {
      "image/png": "[encoded data removed]",
      "text/plain": [
       "<Figure size 864x432 with 1 Axes>"
      ]
     },
     "metadata": {},
     "output_type": "display_data"
    }
   ],
   "source": [
    "plt.figure(figsize=(12,6), facecolor='gold')\n",
    "top_sales_yearOT.plot(kind='bar', width=0.6, edgecolor='k')\n",
    "plt.xlabel('Year', fontsize=14)\n",
    "plt.ylabel('Sales (in Millions of $)', fontsize=14)\n",
    "plt.xticks(fontsize=12, rotation=0)\n",
    "plt.yticks(fontsize=12)\n",
    "plt.title('Top 5 Grossing Years (Rest of World)', fontsize=22)\n",
    "plt.tight_layout()\n",
    "plt.show()"
   ]
  },
  {
   "cell_type": "code",
   "execution_count": null,
   "metadata": {},
   "outputs": [],
   "source": []
  },
  {
   "cell_type": "code",
   "execution_count": null,
   "metadata": {},
   "outputs": [],
   "source": []
  },
  {
   "cell_type": "code",
   "execution_count": null,
   "metadata": {},
   "outputs": [],
   "source": []
  },
  {
   "cell_type": "code",
   "execution_count": null,
   "metadata": {},
   "outputs": [],
   "source": []
  },
  {
   "cell_type": "code",
   "execution_count": null,
   "metadata": {},
   "outputs": [],
   "source": []
  },
  {
   "cell_type": "code",
   "execution_count": null,
   "metadata": {},
   "outputs": [],
   "source": []
  },
  {
   "cell_type": "code",
   "execution_count": null,
   "metadata": {},
   "outputs": [],
   "source": []
  },
  {
   "cell_type": "code",
   "execution_count": null,
   "metadata": {},
   "outputs": [],
   "source": []
  },
  {
   "cell_type": "code",
   "execution_count": null,
   "metadata": {},
   "outputs": [],
   "source": []
  },
  {
   "cell_type": "code",
   "execution_count": null,
   "metadata": {},
   "outputs": [],
   "source": []
  },
  {
   "cell_type": "code",
   "execution_count": null,
   "metadata": {},
   "outputs": [],
   "source": []
  }
 ],
 "metadata": {
  "kernelspec": {
   "display_name": "Python 3",
   "language": "python",
   "name": "python3"
  },
  "language_info": {
   "codemirror_mode": {
    "name": "ipython",
    "version": 3
   },
   "file_extension": ".py",
   "mimetype": "text/x-python",
   "name": "python",
   "nbconvert_exporter": "python",
   "pygments_lexer": "ipython3",
   "version": "3.7.6"
  }
 },
 "nbformat": 4,
 "nbformat_minor": 4
}
