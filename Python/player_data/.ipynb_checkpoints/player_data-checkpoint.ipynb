{
 "cells": [
  {
   "cell_type": "code",
   "execution_count": null,
   "id": "9301c9f5",
   "metadata": {},
   "outputs": [],
   "source": [
    "import pandas as pd\n",
    "import glob\n",
    "import os\n",
    "import datetime as dt\n",
    "import numpy as np\n",
    "import matplotlib as mpl\n",
    "from matplotlib import pyplot as plt\n",
    "from matplotlib.ticker import (MultipleLocator, FormatStrFormatter, AutoMinorLocator)\n",
    "import matplotlib.dates\n",
    "import matplotlib.dates as mdates\n",
    "import seaborn as sns"
   ]
  },
  {
   "cell_type": "code",
   "execution_count": null,
   "id": "d42dfb3b",
   "metadata": {},
   "outputs": [],
   "source": [
    "path = os.getcwd()\n",
    "csv_files = glob.glob(path + \"/*.csv\")\n",
    "\n",
    "csv_files"
   ]
  },
  {
   "cell_type": "code",
   "execution_count": null,
   "id": "631cd748",
   "metadata": {
    "scrolled": true
   },
   "outputs": [],
   "source": [
    "df_list = [pd.read_csv(filename, index_col=None, header=0) for filename in csv_files]\n",
    "df_list"
   ]
  },
  {
   "cell_type": "code",
   "execution_count": null,
   "id": "0c032ea0",
   "metadata": {},
   "outputs": [],
   "source": [
    "logout_df = df_list[0]\n",
    "damage_df = df_list[1]\n",
    "login_df = df_list[2]"
   ]
  },
  {
   "cell_type": "code",
   "execution_count": null,
   "id": "30ef573b",
   "metadata": {},
   "outputs": [],
   "source": [
    "login_df"
   ]
  },
  {
   "cell_type": "code",
   "execution_count": null,
   "id": "e1418d6a",
   "metadata": {},
   "outputs": [],
   "source": [
    "login_df.info()"
   ]
  },
  {
   "cell_type": "code",
   "execution_count": null,
   "id": "6e5275e7",
   "metadata": {},
   "outputs": [],
   "source": [
    "login_df.duplicated().sum()"
   ]
  },
  {
   "cell_type": "code",
   "execution_count": null,
   "id": "628425b2",
   "metadata": {},
   "outputs": [],
   "source": [
    "login_df['event_timestamp'] = pd.to_datetime(login_df['event_timestamp'], format='%Y-%m-%d %H:%M:%S')"
   ]
  },
  {
   "cell_type": "code",
   "execution_count": null,
   "id": "72c6093e",
   "metadata": {},
   "outputs": [],
   "source": [
    "login_df.info()"
   ]
  },
  {
   "cell_type": "code",
   "execution_count": null,
   "id": "badf5c46",
   "metadata": {},
   "outputs": [],
   "source": [
    "logout_df.info()"
   ]
  },
  {
   "cell_type": "code",
   "execution_count": null,
   "id": "a2669696",
   "metadata": {},
   "outputs": [],
   "source": [
    "logout_df.duplicated().sum()"
   ]
  },
  {
   "cell_type": "code",
   "execution_count": null,
   "id": "76c3675d",
   "metadata": {},
   "outputs": [],
   "source": [
    "logout_df['event_timestamp'] = pd.to_datetime(logout_df['event_timestamp'], format='%Y-%m-%d %H:%M:%S')"
   ]
  },
  {
   "cell_type": "code",
   "execution_count": null,
   "id": "1bbc23d3",
   "metadata": {},
   "outputs": [],
   "source": [
    "logout_df.info()"
   ]
  },
  {
   "cell_type": "code",
   "execution_count": null,
   "id": "09b04609",
   "metadata": {},
   "outputs": [],
   "source": [
    "damage_df.info()"
   ]
  },
  {
   "cell_type": "code",
   "execution_count": null,
   "id": "3ed70e02",
   "metadata": {},
   "outputs": [],
   "source": [
    "damage_df['event_timestamp'] = pd.to_datetime(damage_df['event_timestamp'], format='%Y-%m-%d %H:%M:%S')"
   ]
  },
  {
   "cell_type": "code",
   "execution_count": null,
   "id": "71acc9e7",
   "metadata": {},
   "outputs": [],
   "source": [
    "damage_df"
   ]
  },
  {
   "cell_type": "code",
   "execution_count": null,
   "id": "1fd7a810",
   "metadata": {},
   "outputs": [],
   "source": [
    "damage_df.groupby(['user_id']).agg({'event_timestamp':['min', 'max']})"
   ]
  },
  {
   "cell_type": "code",
   "execution_count": null,
   "id": "99fcca82",
   "metadata": {},
   "outputs": [],
   "source": [
    "logout_df['total_time_played'] = (logout_df['event_timestamp'] - login_df['event_timestamp'])"
   ]
  },
  {
   "cell_type": "code",
   "execution_count": null,
   "id": "6a08ca55",
   "metadata": {},
   "outputs": [],
   "source": [
    "logout_df['total_time_played']"
   ]
  },
  {
   "cell_type": "code",
   "execution_count": null,
   "id": "29e6d765",
   "metadata": {},
   "outputs": [],
   "source": []
  },
  {
   "cell_type": "code",
   "execution_count": null,
   "id": "9d95d81d",
   "metadata": {},
   "outputs": [],
   "source": []
  },
  {
   "cell_type": "code",
   "execution_count": null,
   "id": "b4ed3733",
   "metadata": {},
   "outputs": [],
   "source": []
  },
  {
   "cell_type": "code",
   "execution_count": null,
   "id": "3273169a",
   "metadata": {},
   "outputs": [],
   "source": []
  },
  {
   "cell_type": "code",
   "execution_count": null,
   "id": "880f17b9",
   "metadata": {},
   "outputs": [],
   "source": []
  },
  {
   "cell_type": "code",
   "execution_count": null,
   "id": "c83a2102",
   "metadata": {},
   "outputs": [],
   "source": []
  },
  {
   "cell_type": "code",
   "execution_count": null,
   "id": "c025cabb",
   "metadata": {},
   "outputs": [],
   "source": []
  }
 ],
 "metadata": {
  "kernelspec": {
   "display_name": "Python 3",
   "language": "python",
   "name": "python3"
  },
  "language_info": {
   "codemirror_mode": {
    "name": "ipython",
    "version": 3
   },
   "file_extension": ".py",
   "mimetype": "text/x-python",
   "name": "python",
   "nbconvert_exporter": "python",
   "pygments_lexer": "ipython3",
   "version": "3.7.6"
  }
 },
 "nbformat": 4,
 "nbformat_minor": 5
}
