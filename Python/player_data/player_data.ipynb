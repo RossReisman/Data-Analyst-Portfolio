{
 "cells": [
  {
   "cell_type": "code",
   "execution_count": 2,
   "id": "4335f841",
   "metadata": {},
   "outputs": [],
   "source": [
    "#Import libraries\n",
    "import pandas as pd\n",
    "import glob\n",
    "import os\n",
    "import datetime as dt\n",
    "import numpy as np\n",
    "import matplotlib as mpl\n",
    "from matplotlib import pyplot as plt\n",
    "from matplotlib.ticker import (MultipleLocator, FormatStrFormatter, AutoMinorLocator)\n",
    "import matplotlib.dates\n",
    "import matplotlib.dates as mdates\n",
    "import seaborn as sns"
   ]
  },
  {
   "cell_type": "code",
   "execution_count": 3,
   "id": "6bf42d2f",
   "metadata": {},
   "outputs": [
    {
     "data": {
      "text/plain": [
       "['/Users/raws/Documents/GitHub/portfolio/Python/player_data/player_last_logout.csv',\n",
       " '/Users/raws/Documents/GitHub/portfolio/Python/player_data/player_damage.csv',\n",
       " '/Users/raws/Documents/GitHub/portfolio/Python/player_data/player_last_login.csv']"
      ]
     },
     "execution_count": 3,
     "metadata": {},
     "output_type": "execute_result"
    }
   ],
   "source": [
    "#Import csv files\n",
    "path = os.getcwd()\n",
    "csv_files = glob.glob(path + \"/*.csv\")\n",
    "\n",
    "csv_files"
   ]
  },
  {
   "cell_type": "code",
   "execution_count": 4,
   "id": "1cb5bb04",
   "metadata": {
    "scrolled": true
   },
   "outputs": [
    {
     "data": {
      "text/plain": [
       "[      user_id      event_timestamp\n",
       " 0  b5a8c3f9e2  2023-08-26 03:42:18\n",
       " 1  7d1b0e6f4a  2023-08-26 09:15:37\n",
       " 2  2f9c6e8d1b  2023-08-26 01:28:54\n",
       " 3  a3e7b4c0d9  2023-08-26 07:59:06\n",
       " 4   f6b2d8a5c  2023-08-26 11:33:22\n",
       " 5  9e4c1f7b3a  2023-08-26 06:10:45\n",
       " 6   d5a0c8e2f  2023-08-26 10:49:03\n",
       " 7  1b6f3e9d7c  2023-08-26 02:14:28\n",
       " 8   c4d9a2b8e  2023-08-26 08:37:50\n",
       " 9  8e0c7b5f1d  2023-08-26 04:56:12,\n",
       "        user_id      event_timestamp  damage_taken\n",
       " 0   d7f1e9b2a4  2023-08-15 09:23:42             6\n",
       " 1   d7f1e9b2a4  2023-08-17 08:12:19            15\n",
       " 2   d7f1e9b2a4  2023-08-18 11:05:33             1\n",
       " 3   d7f1e9b2a4  2023-08-21 16:34:56            15\n",
       " 4   d7f1e9b2a4  2023-08-22 19:48:01             6\n",
       " 5   d7f1e9b2a4  2023-08-24 07:36:29            11\n",
       " 6   d7f1e9b2a4  2023-08-26 01:15:22             8\n",
       " 7   a2e4f8c6b0  2023-08-26 02:37:55             7\n",
       " 8   c5d8a9f1e2  2023-08-14 17:29:18             8\n",
       " 9   c5d8a9f1e2  2023-08-16 14:52:05            12\n",
       " 10  c5d8a9f1e2  2023-08-18 22:08:19             9\n",
       " 11  c5d8a9f1e2  2023-08-20 09:47:41            10\n",
       " 12  c5d8a9f1e2  2023-08-23 03:25:57             3\n",
       " 13  c5d8a9f1e2  2023-08-24 13:14:12             6\n",
       " 14  c5d8a9f1e2  2023-08-26 02:05:38             6\n",
       " 15  b6f2d5a8c0  2023-08-17 06:59:30            12\n",
       " 16  9e1a3c7f5b  2023-08-26 00:05:45            16\n",
       " 17  9e1a3c7f5b  2023-08-26 04:21:59             9\n",
       " 18  9e1a3c7f5b  2023-08-26 08:45:14             3\n",
       " 19  9e1a3c7f5b  2023-08-26 12:17:36            17\n",
       " 20  9e1a3c7f5b  2023-08-26 16:59:05             4\n",
       " 21  9e1a3c7f5b  2023-08-26 20:30:49             4\n",
       " 22  9e1a3c7f5b  2023-08-26 23:55:02            15\n",
       " 23  4d6a2f8c1e  2023-08-17 14:08:47            16\n",
       " 24  4d6a2f8c1e  2023-08-18 17:29:01             7\n",
       " 25  4d6a2f8c1e  2023-08-20 10:44:24             8\n",
       " 26  4d6a2f8c1e  2023-08-21 19:03:11            12\n",
       " 27  4d6a2f8c1e  2023-08-23 08:45:27             4\n",
       " 28  4d6a2f8c1e  2023-08-24 14:59:58             2\n",
       " 29  4d6a2f8c1e  2023-08-26 01:30:42            13\n",
       " 30  8b0e7f3c9a  2023-08-26 02:55:08             4\n",
       " 31  8b0e7f3c9a  2023-08-26 06:08:22             8\n",
       " 32  8b0e7f3c9a  2023-08-26 09:20:39            10\n",
       " 33  8b0e7f3c9a  2023-08-26 12:45:18            10\n",
       " 34  8b0e7f3c9a  2023-08-26 15:57:29            17\n",
       " 35  8b0e7f3c9a  2023-08-26 19:08:10            12\n",
       " 36  8b0e7f3c9a  2023-08-26 22:33:47             3\n",
       " 37  f1d5a7e0c9  2023-08-16 23:15:29            17\n",
       " 38  e2b9d4a6f8  2023-08-20 08:46:52             6\n",
       " 39  3a5c7e9b1d  2023-08-18 07:57:14             3,\n",
       "       user_id      event_timestamp\n",
       " 0  b5a8c3f9e2  2023-08-25 09:23:42\n",
       " 1  7d1b0e6f4a  2023-08-18 16:55:10\n",
       " 2  2f9c6e8d1b  2023-08-24 03:37:28\n",
       " 3  a3e7b4c0d9  2023-08-16 11:10:55\n",
       " 4   f6b2d8a5c  2023-08-28 20:45:19\n",
       " 5  9e4c1f7b3a  2023-08-29 07:02:33\n",
       " 6   d5a0c8e2f  2023-08-13 14:29:05\n",
       " 7  1b6f3e9d7c  2023-08-20 22:18:47\n",
       " 8   c4d9a2b8e  2023-08-22 05:37:15\n",
       " 9  8e0c7b5f1d  2023-08-27 18:09:50]"
      ]
     },
     "execution_count": 4,
     "metadata": {},
     "output_type": "execute_result"
    }
   ],
   "source": [
    "#Append csvs to list using list comprehension\n",
    "df_list = [pd.read_csv(filename, index_col=None, header=0) for filename in csv_files]\n",
    "df_list"
   ]
  },
  {
   "cell_type": "code",
   "execution_count": 5,
   "id": "fadc03c2",
   "metadata": {},
   "outputs": [],
   "source": [
    "#Separate csvs into dataframes using list indices\n",
    "logout_df = df_list[0]\n",
    "damage_df = df_list[1]\n",
    "login_df = df_list[2]"
   ]
  },
  {
   "cell_type": "code",
   "execution_count": 6,
   "id": "bcadd231",
   "metadata": {},
   "outputs": [
    {
     "data": {
      "text/html": [
       "<div>\n",
       "<style scoped>\n",
       "    .dataframe tbody tr th:only-of-type {\n",
       "        vertical-align: middle;\n",
       "    }\n",
       "\n",
       "    .dataframe tbody tr th {\n",
       "        vertical-align: top;\n",
       "    }\n",
       "\n",
       "    .dataframe thead th {\n",
       "        text-align: right;\n",
       "    }\n",
       "</style>\n",
       "<table border=\"1\" class=\"dataframe\">\n",
       "  <thead>\n",
       "    <tr style=\"text-align: right;\">\n",
       "      <th></th>\n",
       "      <th>user_id</th>\n",
       "      <th>event_timestamp</th>\n",
       "    </tr>\n",
       "  </thead>\n",
       "  <tbody>\n",
       "    <tr>\n",
       "      <th>0</th>\n",
       "      <td>b5a8c3f9e2</td>\n",
       "      <td>2023-08-25 09:23:42</td>\n",
       "    </tr>\n",
       "    <tr>\n",
       "      <th>1</th>\n",
       "      <td>7d1b0e6f4a</td>\n",
       "      <td>2023-08-18 16:55:10</td>\n",
       "    </tr>\n",
       "    <tr>\n",
       "      <th>2</th>\n",
       "      <td>2f9c6e8d1b</td>\n",
       "      <td>2023-08-24 03:37:28</td>\n",
       "    </tr>\n",
       "    <tr>\n",
       "      <th>3</th>\n",
       "      <td>a3e7b4c0d9</td>\n",
       "      <td>2023-08-16 11:10:55</td>\n",
       "    </tr>\n",
       "    <tr>\n",
       "      <th>4</th>\n",
       "      <td>f6b2d8a5c</td>\n",
       "      <td>2023-08-28 20:45:19</td>\n",
       "    </tr>\n",
       "    <tr>\n",
       "      <th>5</th>\n",
       "      <td>9e4c1f7b3a</td>\n",
       "      <td>2023-08-29 07:02:33</td>\n",
       "    </tr>\n",
       "    <tr>\n",
       "      <th>6</th>\n",
       "      <td>d5a0c8e2f</td>\n",
       "      <td>2023-08-13 14:29:05</td>\n",
       "    </tr>\n",
       "    <tr>\n",
       "      <th>7</th>\n",
       "      <td>1b6f3e9d7c</td>\n",
       "      <td>2023-08-20 22:18:47</td>\n",
       "    </tr>\n",
       "    <tr>\n",
       "      <th>8</th>\n",
       "      <td>c4d9a2b8e</td>\n",
       "      <td>2023-08-22 05:37:15</td>\n",
       "    </tr>\n",
       "    <tr>\n",
       "      <th>9</th>\n",
       "      <td>8e0c7b5f1d</td>\n",
       "      <td>2023-08-27 18:09:50</td>\n",
       "    </tr>\n",
       "  </tbody>\n",
       "</table>\n",
       "</div>"
      ],
      "text/plain": [
       "      user_id      event_timestamp\n",
       "0  b5a8c3f9e2  2023-08-25 09:23:42\n",
       "1  7d1b0e6f4a  2023-08-18 16:55:10\n",
       "2  2f9c6e8d1b  2023-08-24 03:37:28\n",
       "3  a3e7b4c0d9  2023-08-16 11:10:55\n",
       "4   f6b2d8a5c  2023-08-28 20:45:19\n",
       "5  9e4c1f7b3a  2023-08-29 07:02:33\n",
       "6   d5a0c8e2f  2023-08-13 14:29:05\n",
       "7  1b6f3e9d7c  2023-08-20 22:18:47\n",
       "8   c4d9a2b8e  2023-08-22 05:37:15\n",
       "9  8e0c7b5f1d  2023-08-27 18:09:50"
      ]
     },
     "execution_count": 6,
     "metadata": {},
     "output_type": "execute_result"
    }
   ],
   "source": [
    "#Examine login_df\n",
    "login_df"
   ]
  },
  {
   "cell_type": "code",
   "execution_count": 7,
   "id": "c03350ef",
   "metadata": {},
   "outputs": [
    {
     "name": "stdout",
     "output_type": "stream",
     "text": [
      "<class 'pandas.core.frame.DataFrame'>\n",
      "RangeIndex: 10 entries, 0 to 9\n",
      "Data columns (total 2 columns):\n",
      " #   Column           Non-Null Count  Dtype \n",
      "---  ------           --------------  ----- \n",
      " 0   user_id          10 non-null     object\n",
      " 1   event_timestamp  10 non-null     object\n",
      "dtypes: object(2)\n",
      "memory usage: 288.0+ bytes\n"
     ]
    }
   ],
   "source": [
    "#Examine nulls and data types for login_df\n",
    "login_df.info()"
   ]
  },
  {
   "cell_type": "code",
   "execution_count": 8,
   "id": "2e5a65b4",
   "metadata": {},
   "outputs": [
    {
     "data": {
      "text/plain": [
       "0"
      ]
     },
     "execution_count": 8,
     "metadata": {},
     "output_type": "execute_result"
    }
   ],
   "source": [
    "#Check for duplicates in login_df\n",
    "login_df.duplicated().sum()"
   ]
  },
  {
   "cell_type": "markdown",
   "id": "cc250830",
   "metadata": {},
   "source": [
    "<div class=\"alert alert-warning\">\n",
    "  <strong>Summary of Findings</strong>\n",
    "    <li>No null values or duplicates.</li>\n",
    "    <li>event_timestamp needs to be converted to datetime data type.</li>\n",
    "</div>"
   ]
  },
  {
   "cell_type": "code",
   "execution_count": 9,
   "id": "3081dd91",
   "metadata": {},
   "outputs": [],
   "source": [
    "#Convert login event_timestamp to datetime format\n",
    "login_df['event_timestamp'] = pd.to_datetime(login_df['event_timestamp'], format='%Y-%m-%d %H:%M:%S')"
   ]
  },
  {
   "cell_type": "code",
   "execution_count": 10,
   "id": "6e73e46b",
   "metadata": {},
   "outputs": [
    {
     "name": "stdout",
     "output_type": "stream",
     "text": [
      "<class 'pandas.core.frame.DataFrame'>\n",
      "RangeIndex: 10 entries, 0 to 9\n",
      "Data columns (total 2 columns):\n",
      " #   Column           Non-Null Count  Dtype         \n",
      "---  ------           --------------  -----         \n",
      " 0   user_id          10 non-null     object        \n",
      " 1   event_timestamp  10 non-null     datetime64[ns]\n",
      "dtypes: datetime64[ns](1), object(1)\n",
      "memory usage: 288.0+ bytes\n"
     ]
    }
   ],
   "source": [
    "#Ensure event_timestamp has been successfully converted to datetime format\n",
    "login_df.info()"
   ]
  },
  {
   "cell_type": "markdown",
   "id": "8680378c",
   "metadata": {},
   "source": [
    "<div class=\"alert alert-success\">\n",
    "  <strong>Summary of Actions</strong>\n",
    "    <li>event_timestamp converted to datetime data type.</li>\n",
    "</div>"
   ]
  },
  {
   "cell_type": "code",
   "execution_count": 11,
   "id": "cdbd41f6",
   "metadata": {},
   "outputs": [
    {
     "data": {
      "text/html": [
       "<div>\n",
       "<style scoped>\n",
       "    .dataframe tbody tr th:only-of-type {\n",
       "        vertical-align: middle;\n",
       "    }\n",
       "\n",
       "    .dataframe tbody tr th {\n",
       "        vertical-align: top;\n",
       "    }\n",
       "\n",
       "    .dataframe thead th {\n",
       "        text-align: right;\n",
       "    }\n",
       "</style>\n",
       "<table border=\"1\" class=\"dataframe\">\n",
       "  <thead>\n",
       "    <tr style=\"text-align: right;\">\n",
       "      <th></th>\n",
       "      <th>user_id</th>\n",
       "      <th>event_timestamp</th>\n",
       "    </tr>\n",
       "  </thead>\n",
       "  <tbody>\n",
       "    <tr>\n",
       "      <th>0</th>\n",
       "      <td>b5a8c3f9e2</td>\n",
       "      <td>2023-08-26 03:42:18</td>\n",
       "    </tr>\n",
       "    <tr>\n",
       "      <th>1</th>\n",
       "      <td>7d1b0e6f4a</td>\n",
       "      <td>2023-08-26 09:15:37</td>\n",
       "    </tr>\n",
       "    <tr>\n",
       "      <th>2</th>\n",
       "      <td>2f9c6e8d1b</td>\n",
       "      <td>2023-08-26 01:28:54</td>\n",
       "    </tr>\n",
       "    <tr>\n",
       "      <th>3</th>\n",
       "      <td>a3e7b4c0d9</td>\n",
       "      <td>2023-08-26 07:59:06</td>\n",
       "    </tr>\n",
       "    <tr>\n",
       "      <th>4</th>\n",
       "      <td>f6b2d8a5c</td>\n",
       "      <td>2023-08-26 11:33:22</td>\n",
       "    </tr>\n",
       "    <tr>\n",
       "      <th>5</th>\n",
       "      <td>9e4c1f7b3a</td>\n",
       "      <td>2023-08-26 06:10:45</td>\n",
       "    </tr>\n",
       "    <tr>\n",
       "      <th>6</th>\n",
       "      <td>d5a0c8e2f</td>\n",
       "      <td>2023-08-26 10:49:03</td>\n",
       "    </tr>\n",
       "    <tr>\n",
       "      <th>7</th>\n",
       "      <td>1b6f3e9d7c</td>\n",
       "      <td>2023-08-26 02:14:28</td>\n",
       "    </tr>\n",
       "    <tr>\n",
       "      <th>8</th>\n",
       "      <td>c4d9a2b8e</td>\n",
       "      <td>2023-08-26 08:37:50</td>\n",
       "    </tr>\n",
       "    <tr>\n",
       "      <th>9</th>\n",
       "      <td>8e0c7b5f1d</td>\n",
       "      <td>2023-08-26 04:56:12</td>\n",
       "    </tr>\n",
       "  </tbody>\n",
       "</table>\n",
       "</div>"
      ],
      "text/plain": [
       "      user_id      event_timestamp\n",
       "0  b5a8c3f9e2  2023-08-26 03:42:18\n",
       "1  7d1b0e6f4a  2023-08-26 09:15:37\n",
       "2  2f9c6e8d1b  2023-08-26 01:28:54\n",
       "3  a3e7b4c0d9  2023-08-26 07:59:06\n",
       "4   f6b2d8a5c  2023-08-26 11:33:22\n",
       "5  9e4c1f7b3a  2023-08-26 06:10:45\n",
       "6   d5a0c8e2f  2023-08-26 10:49:03\n",
       "7  1b6f3e9d7c  2023-08-26 02:14:28\n",
       "8   c4d9a2b8e  2023-08-26 08:37:50\n",
       "9  8e0c7b5f1d  2023-08-26 04:56:12"
      ]
     },
     "execution_count": 11,
     "metadata": {},
     "output_type": "execute_result"
    }
   ],
   "source": [
    "#Examine login_df\n",
    "logout_df"
   ]
  },
  {
   "cell_type": "code",
   "execution_count": 10,
   "id": "1d8732cf",
   "metadata": {},
   "outputs": [
    {
     "name": "stdout",
     "output_type": "stream",
     "text": [
      "<class 'pandas.core.frame.DataFrame'>\n",
      "RangeIndex: 10 entries, 0 to 9\n",
      "Data columns (total 2 columns):\n",
      " #   Column           Non-Null Count  Dtype \n",
      "---  ------           --------------  ----- \n",
      " 0   user_id          10 non-null     object\n",
      " 1   event_timestamp  10 non-null     object\n",
      "dtypes: object(2)\n",
      "memory usage: 288.0+ bytes\n"
     ]
    }
   ],
   "source": [
    "#Examine nulls and data types for logout_df\n",
    "logout_df.info()"
   ]
  },
  {
   "cell_type": "code",
   "execution_count": 11,
   "id": "6d846d7b",
   "metadata": {},
   "outputs": [
    {
     "data": {
      "text/plain": [
       "0"
      ]
     },
     "execution_count": 11,
     "metadata": {},
     "output_type": "execute_result"
    }
   ],
   "source": [
    "#Check for duplicates in logout_df\n",
    "logout_df.duplicated().sum()"
   ]
  },
  {
   "cell_type": "code",
   "execution_count": 12,
   "id": "2e43a9a6",
   "metadata": {},
   "outputs": [],
   "source": [
    "#Convert logout event_timestamp to datetime format\n",
    "logout_df['event_timestamp'] = pd.to_datetime(logout_df['event_timestamp'], format='%Y-%m-%d %H:%M:%S')"
   ]
  },
  {
   "cell_type": "code",
   "execution_count": 13,
   "id": "b17a0beb",
   "metadata": {},
   "outputs": [
    {
     "name": "stdout",
     "output_type": "stream",
     "text": [
      "<class 'pandas.core.frame.DataFrame'>\n",
      "RangeIndex: 10 entries, 0 to 9\n",
      "Data columns (total 2 columns):\n",
      " #   Column           Non-Null Count  Dtype         \n",
      "---  ------           --------------  -----         \n",
      " 0   user_id          10 non-null     object        \n",
      " 1   event_timestamp  10 non-null     datetime64[ns]\n",
      "dtypes: datetime64[ns](1), object(1)\n",
      "memory usage: 288.0+ bytes\n"
     ]
    }
   ],
   "source": [
    "#Ensure event_timestamp has been successfully converted to datetime format\n",
    "logout_df.info()"
   ]
  },
  {
   "cell_type": "markdown",
   "id": "d1d78ec3",
   "metadata": {},
   "source": [
    "<div class=\"alert alert-warning\">\n",
    "  <strong>Summary of Findings</strong>\n",
    "    <li>No null values or duplicates.</li>\n",
    "    <li>event_timestamp needs to be converted to datetime data type.</li>\n",
    "</div>"
   ]
  },
  {
   "cell_type": "markdown",
   "id": "e382216d",
   "metadata": {},
   "source": [
    "<div class=\"alert alert-success\">\n",
    "  <strong>Summary of Actions</strong>\n",
    "    <li>event_timestamp converted to datetime data type.</li>\n",
    "</div>"
   ]
  },
  {
   "cell_type": "code",
   "execution_count": 16,
   "id": "0ce6a507",
   "metadata": {
    "scrolled": true
   },
   "outputs": [
    {
     "data": {
      "text/html": [
       "<div>\n",
       "<style scoped>\n",
       "    .dataframe tbody tr th:only-of-type {\n",
       "        vertical-align: middle;\n",
       "    }\n",
       "\n",
       "    .dataframe tbody tr th {\n",
       "        vertical-align: top;\n",
       "    }\n",
       "\n",
       "    .dataframe thead th {\n",
       "        text-align: right;\n",
       "    }\n",
       "</style>\n",
       "<table border=\"1\" class=\"dataframe\">\n",
       "  <thead>\n",
       "    <tr style=\"text-align: right;\">\n",
       "      <th></th>\n",
       "      <th>user_id</th>\n",
       "      <th>event_timestamp</th>\n",
       "      <th>damage_taken</th>\n",
       "    </tr>\n",
       "  </thead>\n",
       "  <tbody>\n",
       "    <tr>\n",
       "      <th>0</th>\n",
       "      <td>d7f1e9b2a4</td>\n",
       "      <td>2023-08-15 09:23:42</td>\n",
       "      <td>6</td>\n",
       "    </tr>\n",
       "    <tr>\n",
       "      <th>1</th>\n",
       "      <td>d7f1e9b2a4</td>\n",
       "      <td>2023-08-17 08:12:19</td>\n",
       "      <td>15</td>\n",
       "    </tr>\n",
       "    <tr>\n",
       "      <th>2</th>\n",
       "      <td>d7f1e9b2a4</td>\n",
       "      <td>2023-08-18 11:05:33</td>\n",
       "      <td>1</td>\n",
       "    </tr>\n",
       "    <tr>\n",
       "      <th>3</th>\n",
       "      <td>d7f1e9b2a4</td>\n",
       "      <td>2023-08-21 16:34:56</td>\n",
       "      <td>15</td>\n",
       "    </tr>\n",
       "    <tr>\n",
       "      <th>4</th>\n",
       "      <td>d7f1e9b2a4</td>\n",
       "      <td>2023-08-22 19:48:01</td>\n",
       "      <td>6</td>\n",
       "    </tr>\n",
       "    <tr>\n",
       "      <th>5</th>\n",
       "      <td>d7f1e9b2a4</td>\n",
       "      <td>2023-08-24 07:36:29</td>\n",
       "      <td>11</td>\n",
       "    </tr>\n",
       "    <tr>\n",
       "      <th>6</th>\n",
       "      <td>d7f1e9b2a4</td>\n",
       "      <td>2023-08-26 01:15:22</td>\n",
       "      <td>8</td>\n",
       "    </tr>\n",
       "    <tr>\n",
       "      <th>7</th>\n",
       "      <td>a2e4f8c6b0</td>\n",
       "      <td>2023-08-26 02:37:55</td>\n",
       "      <td>7</td>\n",
       "    </tr>\n",
       "    <tr>\n",
       "      <th>8</th>\n",
       "      <td>c5d8a9f1e2</td>\n",
       "      <td>2023-08-14 17:29:18</td>\n",
       "      <td>8</td>\n",
       "    </tr>\n",
       "    <tr>\n",
       "      <th>9</th>\n",
       "      <td>c5d8a9f1e2</td>\n",
       "      <td>2023-08-16 14:52:05</td>\n",
       "      <td>12</td>\n",
       "    </tr>\n",
       "    <tr>\n",
       "      <th>10</th>\n",
       "      <td>c5d8a9f1e2</td>\n",
       "      <td>2023-08-18 22:08:19</td>\n",
       "      <td>9</td>\n",
       "    </tr>\n",
       "    <tr>\n",
       "      <th>11</th>\n",
       "      <td>c5d8a9f1e2</td>\n",
       "      <td>2023-08-20 09:47:41</td>\n",
       "      <td>10</td>\n",
       "    </tr>\n",
       "    <tr>\n",
       "      <th>12</th>\n",
       "      <td>c5d8a9f1e2</td>\n",
       "      <td>2023-08-23 03:25:57</td>\n",
       "      <td>3</td>\n",
       "    </tr>\n",
       "    <tr>\n",
       "      <th>13</th>\n",
       "      <td>c5d8a9f1e2</td>\n",
       "      <td>2023-08-24 13:14:12</td>\n",
       "      <td>6</td>\n",
       "    </tr>\n",
       "    <tr>\n",
       "      <th>14</th>\n",
       "      <td>c5d8a9f1e2</td>\n",
       "      <td>2023-08-26 02:05:38</td>\n",
       "      <td>6</td>\n",
       "    </tr>\n",
       "    <tr>\n",
       "      <th>15</th>\n",
       "      <td>b6f2d5a8c0</td>\n",
       "      <td>2023-08-17 06:59:30</td>\n",
       "      <td>12</td>\n",
       "    </tr>\n",
       "    <tr>\n",
       "      <th>16</th>\n",
       "      <td>9e1a3c7f5b</td>\n",
       "      <td>2023-08-26 00:05:45</td>\n",
       "      <td>16</td>\n",
       "    </tr>\n",
       "    <tr>\n",
       "      <th>17</th>\n",
       "      <td>9e1a3c7f5b</td>\n",
       "      <td>2023-08-26 04:21:59</td>\n",
       "      <td>9</td>\n",
       "    </tr>\n",
       "    <tr>\n",
       "      <th>18</th>\n",
       "      <td>9e1a3c7f5b</td>\n",
       "      <td>2023-08-26 08:45:14</td>\n",
       "      <td>3</td>\n",
       "    </tr>\n",
       "    <tr>\n",
       "      <th>19</th>\n",
       "      <td>9e1a3c7f5b</td>\n",
       "      <td>2023-08-26 12:17:36</td>\n",
       "      <td>17</td>\n",
       "    </tr>\n",
       "    <tr>\n",
       "      <th>20</th>\n",
       "      <td>9e1a3c7f5b</td>\n",
       "      <td>2023-08-26 16:59:05</td>\n",
       "      <td>4</td>\n",
       "    </tr>\n",
       "    <tr>\n",
       "      <th>21</th>\n",
       "      <td>9e1a3c7f5b</td>\n",
       "      <td>2023-08-26 20:30:49</td>\n",
       "      <td>4</td>\n",
       "    </tr>\n",
       "    <tr>\n",
       "      <th>22</th>\n",
       "      <td>9e1a3c7f5b</td>\n",
       "      <td>2023-08-26 23:55:02</td>\n",
       "      <td>15</td>\n",
       "    </tr>\n",
       "    <tr>\n",
       "      <th>23</th>\n",
       "      <td>4d6a2f8c1e</td>\n",
       "      <td>2023-08-17 14:08:47</td>\n",
       "      <td>16</td>\n",
       "    </tr>\n",
       "    <tr>\n",
       "      <th>24</th>\n",
       "      <td>4d6a2f8c1e</td>\n",
       "      <td>2023-08-18 17:29:01</td>\n",
       "      <td>7</td>\n",
       "    </tr>\n",
       "    <tr>\n",
       "      <th>25</th>\n",
       "      <td>4d6a2f8c1e</td>\n",
       "      <td>2023-08-20 10:44:24</td>\n",
       "      <td>8</td>\n",
       "    </tr>\n",
       "    <tr>\n",
       "      <th>26</th>\n",
       "      <td>4d6a2f8c1e</td>\n",
       "      <td>2023-08-21 19:03:11</td>\n",
       "      <td>12</td>\n",
       "    </tr>\n",
       "    <tr>\n",
       "      <th>27</th>\n",
       "      <td>4d6a2f8c1e</td>\n",
       "      <td>2023-08-23 08:45:27</td>\n",
       "      <td>4</td>\n",
       "    </tr>\n",
       "    <tr>\n",
       "      <th>28</th>\n",
       "      <td>4d6a2f8c1e</td>\n",
       "      <td>2023-08-24 14:59:58</td>\n",
       "      <td>2</td>\n",
       "    </tr>\n",
       "    <tr>\n",
       "      <th>29</th>\n",
       "      <td>4d6a2f8c1e</td>\n",
       "      <td>2023-08-26 01:30:42</td>\n",
       "      <td>13</td>\n",
       "    </tr>\n",
       "    <tr>\n",
       "      <th>30</th>\n",
       "      <td>8b0e7f3c9a</td>\n",
       "      <td>2023-08-26 02:55:08</td>\n",
       "      <td>4</td>\n",
       "    </tr>\n",
       "    <tr>\n",
       "      <th>31</th>\n",
       "      <td>8b0e7f3c9a</td>\n",
       "      <td>2023-08-26 06:08:22</td>\n",
       "      <td>8</td>\n",
       "    </tr>\n",
       "    <tr>\n",
       "      <th>32</th>\n",
       "      <td>8b0e7f3c9a</td>\n",
       "      <td>2023-08-26 09:20:39</td>\n",
       "      <td>10</td>\n",
       "    </tr>\n",
       "    <tr>\n",
       "      <th>33</th>\n",
       "      <td>8b0e7f3c9a</td>\n",
       "      <td>2023-08-26 12:45:18</td>\n",
       "      <td>10</td>\n",
       "    </tr>\n",
       "    <tr>\n",
       "      <th>34</th>\n",
       "      <td>8b0e7f3c9a</td>\n",
       "      <td>2023-08-26 15:57:29</td>\n",
       "      <td>17</td>\n",
       "    </tr>\n",
       "    <tr>\n",
       "      <th>35</th>\n",
       "      <td>8b0e7f3c9a</td>\n",
       "      <td>2023-08-26 19:08:10</td>\n",
       "      <td>12</td>\n",
       "    </tr>\n",
       "    <tr>\n",
       "      <th>36</th>\n",
       "      <td>8b0e7f3c9a</td>\n",
       "      <td>2023-08-26 22:33:47</td>\n",
       "      <td>3</td>\n",
       "    </tr>\n",
       "    <tr>\n",
       "      <th>37</th>\n",
       "      <td>f1d5a7e0c9</td>\n",
       "      <td>2023-08-16 23:15:29</td>\n",
       "      <td>17</td>\n",
       "    </tr>\n",
       "    <tr>\n",
       "      <th>38</th>\n",
       "      <td>e2b9d4a6f8</td>\n",
       "      <td>2023-08-20 08:46:52</td>\n",
       "      <td>6</td>\n",
       "    </tr>\n",
       "    <tr>\n",
       "      <th>39</th>\n",
       "      <td>3a5c7e9b1d</td>\n",
       "      <td>2023-08-18 07:57:14</td>\n",
       "      <td>3</td>\n",
       "    </tr>\n",
       "  </tbody>\n",
       "</table>\n",
       "</div>"
      ],
      "text/plain": [
       "       user_id     event_timestamp  damage_taken\n",
       "0   d7f1e9b2a4 2023-08-15 09:23:42             6\n",
       "1   d7f1e9b2a4 2023-08-17 08:12:19            15\n",
       "2   d7f1e9b2a4 2023-08-18 11:05:33             1\n",
       "3   d7f1e9b2a4 2023-08-21 16:34:56            15\n",
       "4   d7f1e9b2a4 2023-08-22 19:48:01             6\n",
       "5   d7f1e9b2a4 2023-08-24 07:36:29            11\n",
       "6   d7f1e9b2a4 2023-08-26 01:15:22             8\n",
       "7   a2e4f8c6b0 2023-08-26 02:37:55             7\n",
       "8   c5d8a9f1e2 2023-08-14 17:29:18             8\n",
       "9   c5d8a9f1e2 2023-08-16 14:52:05            12\n",
       "10  c5d8a9f1e2 2023-08-18 22:08:19             9\n",
       "11  c5d8a9f1e2 2023-08-20 09:47:41            10\n",
       "12  c5d8a9f1e2 2023-08-23 03:25:57             3\n",
       "13  c5d8a9f1e2 2023-08-24 13:14:12             6\n",
       "14  c5d8a9f1e2 2023-08-26 02:05:38             6\n",
       "15  b6f2d5a8c0 2023-08-17 06:59:30            12\n",
       "16  9e1a3c7f5b 2023-08-26 00:05:45            16\n",
       "17  9e1a3c7f5b 2023-08-26 04:21:59             9\n",
       "18  9e1a3c7f5b 2023-08-26 08:45:14             3\n",
       "19  9e1a3c7f5b 2023-08-26 12:17:36            17\n",
       "20  9e1a3c7f5b 2023-08-26 16:59:05             4\n",
       "21  9e1a3c7f5b 2023-08-26 20:30:49             4\n",
       "22  9e1a3c7f5b 2023-08-26 23:55:02            15\n",
       "23  4d6a2f8c1e 2023-08-17 14:08:47            16\n",
       "24  4d6a2f8c1e 2023-08-18 17:29:01             7\n",
       "25  4d6a2f8c1e 2023-08-20 10:44:24             8\n",
       "26  4d6a2f8c1e 2023-08-21 19:03:11            12\n",
       "27  4d6a2f8c1e 2023-08-23 08:45:27             4\n",
       "28  4d6a2f8c1e 2023-08-24 14:59:58             2\n",
       "29  4d6a2f8c1e 2023-08-26 01:30:42            13\n",
       "30  8b0e7f3c9a 2023-08-26 02:55:08             4\n",
       "31  8b0e7f3c9a 2023-08-26 06:08:22             8\n",
       "32  8b0e7f3c9a 2023-08-26 09:20:39            10\n",
       "33  8b0e7f3c9a 2023-08-26 12:45:18            10\n",
       "34  8b0e7f3c9a 2023-08-26 15:57:29            17\n",
       "35  8b0e7f3c9a 2023-08-26 19:08:10            12\n",
       "36  8b0e7f3c9a 2023-08-26 22:33:47             3\n",
       "37  f1d5a7e0c9 2023-08-16 23:15:29            17\n",
       "38  e2b9d4a6f8 2023-08-20 08:46:52             6\n",
       "39  3a5c7e9b1d 2023-08-18 07:57:14             3"
      ]
     },
     "execution_count": 16,
     "metadata": {},
     "output_type": "execute_result"
    }
   ],
   "source": [
    "#Examine damage_df\n",
    "damage_df"
   ]
  },
  {
   "cell_type": "code",
   "execution_count": 14,
   "id": "b8048f53",
   "metadata": {},
   "outputs": [
    {
     "name": "stdout",
     "output_type": "stream",
     "text": [
      "<class 'pandas.core.frame.DataFrame'>\n",
      "RangeIndex: 40 entries, 0 to 39\n",
      "Data columns (total 3 columns):\n",
      " #   Column           Non-Null Count  Dtype \n",
      "---  ------           --------------  ----- \n",
      " 0   user_id          40 non-null     object\n",
      " 1   event_timestamp  40 non-null     object\n",
      " 2   damage_taken     40 non-null     int64 \n",
      "dtypes: int64(1), object(2)\n",
      "memory usage: 1.1+ KB\n"
     ]
    }
   ],
   "source": [
    "#Examine null values and datatypes for damage_df\n",
    "damage_df.info()"
   ]
  },
  {
   "cell_type": "code",
   "execution_count": 15,
   "id": "55127f30",
   "metadata": {},
   "outputs": [],
   "source": [
    "#Convert damage_df event_timestamp to datetime format\n",
    "damage_df['event_timestamp'] = pd.to_datetime(damage_df['event_timestamp'], format='%Y-%m-%d %H:%M:%S')"
   ]
  },
  {
   "cell_type": "code",
   "execution_count": 17,
   "id": "882a8c90",
   "metadata": {},
   "outputs": [
    {
     "data": {
      "text/html": [
       "<div>\n",
       "<style scoped>\n",
       "    .dataframe tbody tr th:only-of-type {\n",
       "        vertical-align: middle;\n",
       "    }\n",
       "\n",
       "    .dataframe tbody tr th {\n",
       "        vertical-align: top;\n",
       "    }\n",
       "\n",
       "    .dataframe thead tr th {\n",
       "        text-align: left;\n",
       "    }\n",
       "\n",
       "    .dataframe thead tr:last-of-type th {\n",
       "        text-align: right;\n",
       "    }\n",
       "</style>\n",
       "<table border=\"1\" class=\"dataframe\">\n",
       "  <thead>\n",
       "    <tr>\n",
       "      <th></th>\n",
       "      <th colspan=\"2\" halign=\"left\">event_timestamp</th>\n",
       "    </tr>\n",
       "    <tr>\n",
       "      <th></th>\n",
       "      <th>min</th>\n",
       "      <th>max</th>\n",
       "    </tr>\n",
       "    <tr>\n",
       "      <th>user_id</th>\n",
       "      <th></th>\n",
       "      <th></th>\n",
       "    </tr>\n",
       "  </thead>\n",
       "  <tbody>\n",
       "    <tr>\n",
       "      <th>3a5c7e9b1d</th>\n",
       "      <td>2023-08-18 07:57:14</td>\n",
       "      <td>2023-08-18 07:57:14</td>\n",
       "    </tr>\n",
       "    <tr>\n",
       "      <th>4d6a2f8c1e</th>\n",
       "      <td>2023-08-17 14:08:47</td>\n",
       "      <td>2023-08-26 01:30:42</td>\n",
       "    </tr>\n",
       "    <tr>\n",
       "      <th>8b0e7f3c9a</th>\n",
       "      <td>2023-08-26 02:55:08</td>\n",
       "      <td>2023-08-26 22:33:47</td>\n",
       "    </tr>\n",
       "    <tr>\n",
       "      <th>9e1a3c7f5b</th>\n",
       "      <td>2023-08-26 00:05:45</td>\n",
       "      <td>2023-08-26 23:55:02</td>\n",
       "    </tr>\n",
       "    <tr>\n",
       "      <th>a2e4f8c6b0</th>\n",
       "      <td>2023-08-26 02:37:55</td>\n",
       "      <td>2023-08-26 02:37:55</td>\n",
       "    </tr>\n",
       "    <tr>\n",
       "      <th>b6f2d5a8c0</th>\n",
       "      <td>2023-08-17 06:59:30</td>\n",
       "      <td>2023-08-17 06:59:30</td>\n",
       "    </tr>\n",
       "    <tr>\n",
       "      <th>c5d8a9f1e2</th>\n",
       "      <td>2023-08-14 17:29:18</td>\n",
       "      <td>2023-08-26 02:05:38</td>\n",
       "    </tr>\n",
       "    <tr>\n",
       "      <th>d7f1e9b2a4</th>\n",
       "      <td>2023-08-15 09:23:42</td>\n",
       "      <td>2023-08-26 01:15:22</td>\n",
       "    </tr>\n",
       "    <tr>\n",
       "      <th>e2b9d4a6f8</th>\n",
       "      <td>2023-08-20 08:46:52</td>\n",
       "      <td>2023-08-20 08:46:52</td>\n",
       "    </tr>\n",
       "    <tr>\n",
       "      <th>f1d5a7e0c9</th>\n",
       "      <td>2023-08-16 23:15:29</td>\n",
       "      <td>2023-08-16 23:15:29</td>\n",
       "    </tr>\n",
       "  </tbody>\n",
       "</table>\n",
       "</div>"
      ],
      "text/plain": [
       "               event_timestamp                    \n",
       "                           min                 max\n",
       "user_id                                           \n",
       "3a5c7e9b1d 2023-08-18 07:57:14 2023-08-18 07:57:14\n",
       "4d6a2f8c1e 2023-08-17 14:08:47 2023-08-26 01:30:42\n",
       "8b0e7f3c9a 2023-08-26 02:55:08 2023-08-26 22:33:47\n",
       "9e1a3c7f5b 2023-08-26 00:05:45 2023-08-26 23:55:02\n",
       "a2e4f8c6b0 2023-08-26 02:37:55 2023-08-26 02:37:55\n",
       "b6f2d5a8c0 2023-08-17 06:59:30 2023-08-17 06:59:30\n",
       "c5d8a9f1e2 2023-08-14 17:29:18 2023-08-26 02:05:38\n",
       "d7f1e9b2a4 2023-08-15 09:23:42 2023-08-26 01:15:22\n",
       "e2b9d4a6f8 2023-08-20 08:46:52 2023-08-20 08:46:52\n",
       "f1d5a7e0c9 2023-08-16 23:15:29 2023-08-16 23:15:29"
      ]
     },
     "execution_count": 17,
     "metadata": {},
     "output_type": "execute_result"
    }
   ],
   "source": [
    "#Examine duration of player damage time\n",
    "damage_df.groupby(['user_id']).agg({'event_timestamp':['min', 'max']})"
   ]
  },
  {
   "cell_type": "markdown",
   "id": "b8b1f205",
   "metadata": {},
   "source": [
    "<div class=\"alert alert-warning\">\n",
    "  <strong>Summary of Findings</strong>\n",
    "    <li>Some players only died once.</li>\n",
    "</div>"
   ]
  },
  {
   "cell_type": "code",
   "execution_count": 23,
   "id": "554601cb",
   "metadata": {},
   "outputs": [],
   "source": [
    "#Create column of total time played based on difference between logout and login time\n",
    "logout_df['total_time_played'] = (logout_df['event_timestamp'] - login_df['event_timestamp'])"
   ]
  },
  {
   "cell_type": "code",
   "execution_count": 24,
   "id": "635f80ff",
   "metadata": {},
   "outputs": [
    {
     "data": {
      "text/plain": [
       "0     0 days 18:18:36\n",
       "1     7 days 16:20:27\n",
       "2     1 days 21:51:26\n",
       "3     9 days 20:48:11\n",
       "4   -3 days +14:48:03\n",
       "5   -4 days +23:08:12\n",
       "6    12 days 20:19:58\n",
       "7     5 days 03:55:41\n",
       "8     4 days 03:00:35\n",
       "9   -2 days +10:46:22\n",
       "Name: total_time_played, dtype: timedelta64[ns]"
      ]
     },
     "execution_count": 24,
     "metadata": {},
     "output_type": "execute_result"
    }
   ],
   "source": [
    "#Examine newly generated feature total_time_played\n",
    "logout_df['total_time_played']"
   ]
  },
  {
   "cell_type": "markdown",
   "id": "0ed2ba8b",
   "metadata": {},
   "source": [
    "<div class=\"alert alert-warning\">\n",
    "  <strong>Summary of Findings</strong>\n",
    "    <li>Some players have negative login time. Will edit the data to fix this.</li>\n",
    "</div>"
   ]
  },
  {
   "cell_type": "code",
   "execution_count": null,
   "id": "6405f591",
   "metadata": {},
   "outputs": [],
   "source": [
    "neg_log_time = logout_df.loc['']"
   ]
  },
  {
   "cell_type": "code",
   "execution_count": null,
   "id": "31089213",
   "metadata": {},
   "outputs": [],
   "source": []
  },
  {
   "cell_type": "code",
   "execution_count": null,
   "id": "277d75f9",
   "metadata": {},
   "outputs": [],
   "source": []
  },
  {
   "cell_type": "code",
   "execution_count": null,
   "id": "105b778a",
   "metadata": {},
   "outputs": [],
   "source": []
  },
  {
   "cell_type": "code",
   "execution_count": null,
   "id": "198cbfd9",
   "metadata": {},
   "outputs": [],
   "source": []
  },
  {
   "cell_type": "code",
   "execution_count": null,
   "id": "073d23d1",
   "metadata": {},
   "outputs": [],
   "source": []
  }
 ],
 "metadata": {
  "kernelspec": {
   "display_name": "Python 3",
   "language": "python",
   "name": "python3"
  },
  "language_info": {
   "codemirror_mode": {
    "name": "ipython",
    "version": 3
   },
   "file_extension": ".py",
   "mimetype": "text/x-python",
   "name": "python",
   "nbconvert_exporter": "python",
   "pygments_lexer": "ipython3",
   "version": "3.7.6"
  }
 },
 "nbformat": 4,
 "nbformat_minor": 5
}
