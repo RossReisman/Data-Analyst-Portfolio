{
 "cells": [
  {
   "cell_type": "code",
   "execution_count": 1,
   "id": "0882c054",
   "metadata": {},
   "outputs": [],
   "source": [
    "import pandas as pd\n",
    "import glob\n",
    "import os\n",
    "import datetime as dt\n",
    "import numpy as np\n",
    "import matplotlib as mpl\n",
    "from matplotlib import pyplot as plt\n",
    "from matplotlib.ticker import (MultipleLocator, FormatStrFormatter, AutoMinorLocator)\n",
    "import matplotlib.dates\n",
    "import matplotlib.dates as mdates\n",
    "import seaborn as sns"
   ]
  },
  {
   "cell_type": "code",
   "execution_count": 2,
   "id": "e7f45964",
   "metadata": {},
   "outputs": [
    {
     "data": {
      "text/plain": [
       "['/Users/raws/Documents/GitHub/portfolio/Python/player_data/player_deaths.csv',\n",
       " '/Users/raws/Documents/GitHub/portfolio/Python/player_data/player_last_logout.csv',\n",
       " '/Users/raws/Documents/GitHub/portfolio/Python/player_data/player_last_login.csv']"
      ]
     },
     "execution_count": 2,
     "metadata": {},
     "output_type": "execute_result"
    }
   ],
   "source": [
    "path = os.getcwd()\n",
    "csv_files = glob.glob(path + \"/*.csv\")\n",
    "\n",
    "csv_files"
   ]
  },
  {
   "cell_type": "code",
   "execution_count": 3,
   "id": "ac43a0a2",
   "metadata": {
    "scrolled": true
   },
   "outputs": [
    {
     "data": {
      "text/plain": [
       "[       user_id      event_timestamp  damage_taken\n",
       " 0   d7f1e9b2a4  2023-08-15 09:23:42             6\n",
       " 1   d7f1e9b2a4  2023-08-17 08:12:19            15\n",
       " 2   d7f1e9b2a4  2023-08-18 11:05:33             1\n",
       " 3   d7f1e9b2a4  2023-08-21 16:34:56            15\n",
       " 4   d7f1e9b2a4  2023-08-22 19:48:01             6\n",
       " 5   d7f1e9b2a4  2023-08-24 07:36:29            11\n",
       " 6   d7f1e9b2a4  2023-08-26 01:15:22             8\n",
       " 7   a2e4f8c6b0  2023-08-26 02:37:55             7\n",
       " 8   c5d8a9f1e2  2023-08-14 17:29:18             8\n",
       " 9   c5d8a9f1e2  2023-08-16 14:52:05            12\n",
       " 10  c5d8a9f1e2  2023-08-18 22:08:19             9\n",
       " 11  c5d8a9f1e2  2023-08-20 09:47:41            10\n",
       " 12  c5d8a9f1e2  2023-08-23 03:25:57             3\n",
       " 13  c5d8a9f1e2  2023-08-24 13:14:12             6\n",
       " 14  c5d8a9f1e2  2023-08-26 02:05:38             6\n",
       " 15  b6f2d5a8c0  2023-08-17 06:59:30            12\n",
       " 16  9e1a3c7f5b  2023-08-26 00:05:45            16\n",
       " 17  9e1a3c7f5b  2023-08-26 04:21:59             9\n",
       " 18  9e1a3c7f5b  2023-08-26 08:45:14             3\n",
       " 19  9e1a3c7f5b  2023-08-26 12:17:36            17\n",
       " 20  9e1a3c7f5b  2023-08-26 16:59:05             4\n",
       " 21  9e1a3c7f5b  2023-08-26 20:30:49             4\n",
       " 22  9e1a3c7f5b  2023-08-26 23:55:02            15\n",
       " 23  4d6a2f8c1e  2023-08-17 14:08:47            16\n",
       " 24  4d6a2f8c1e  2023-08-18 17:29:01             7\n",
       " 25  4d6a2f8c1e  2023-08-20 10:44:24             8\n",
       " 26  4d6a2f8c1e  2023-08-21 19:03:11            12\n",
       " 27  4d6a2f8c1e  2023-08-23 08:45:27             4\n",
       " 28  4d6a2f8c1e  2023-08-24 14:59:58             2\n",
       " 29  4d6a2f8c1e  2023-08-26 01:30:42            13\n",
       " 30  8b0e7f3c9a  2023-08-26 02:55:08             4\n",
       " 31  8b0e7f3c9a  2023-08-26 06:08:22             8\n",
       " 32  8b0e7f3c9a  2023-08-26 09:20:39            10\n",
       " 33  8b0e7f3c9a  2023-08-26 12:45:18            10\n",
       " 34  8b0e7f3c9a  2023-08-26 15:57:29            17\n",
       " 35  8b0e7f3c9a  2023-08-26 19:08:10            12\n",
       " 36  8b0e7f3c9a  2023-08-26 22:33:47             3\n",
       " 37  f1d5a7e0c9  2023-08-16 23:15:29            17\n",
       " 38  e2b9d4a6f8  2023-08-20 08:46:52             6\n",
       " 39  3a5c7e9b1d  2023-08-18 07:57:14             3,\n",
       "       user_id      event_timestamp\n",
       " 0  b5a8c3f9e2  2023-08-26 03:42:18\n",
       " 1  7d1b0e6f4a  2023-08-26 09:15:37\n",
       " 2  2f9c6e8d1b  2023-08-26 01:28:54\n",
       " 3  a3e7b4c0d9  2023-08-26 07:59:06\n",
       " 4   f6b2d8a5c  2023-08-26 11:33:22\n",
       " 5  9e4c1f7b3a  2023-08-26 06:10:45\n",
       " 6   d5a0c8e2f  2023-08-26 10:49:03\n",
       " 7  1b6f3e9d7c  2023-08-26 02:14:28\n",
       " 8   c4d9a2b8e  2023-08-26 08:37:50\n",
       " 9  8e0c7b5f1d  2023-08-26 04:56:12,\n",
       "       user_id      event_timestamp\n",
       " 0  b5a8c3f9e2  2023-08-25 09:23:42\n",
       " 1  7d1b0e6f4a  2023-08-18 16:55:10\n",
       " 2  2f9c6e8d1b  2023-08-24 03:37:28\n",
       " 3  a3e7b4c0d9  2023-08-16 11:10:55\n",
       " 4   f6b2d8a5c  2023-08-28 20:45:19\n",
       " 5  9e4c1f7b3a  2023-08-29 07:02:33\n",
       " 6   d5a0c8e2f  2023-08-13 14:29:05\n",
       " 7  1b6f3e9d7c  2023-08-20 22:18:47\n",
       " 8   c4d9a2b8e  2023-08-22 05:37:15\n",
       " 9  8e0c7b5f1d  2023-08-27 18:09:50]"
      ]
     },
     "execution_count": 3,
     "metadata": {},
     "output_type": "execute_result"
    }
   ],
   "source": [
    "df_list = [pd.read_csv(filename, index_col=None, header=0) for filename in csv_files]\n",
    "df_list"
   ]
  },
  {
   "cell_type": "code",
   "execution_count": 4,
   "id": "3ed7796a",
   "metadata": {},
   "outputs": [],
   "source": [
    "deaths_df = df_list[0]\n",
    "logout_df = df_list[1]\n",
    "login_df = df_list[2]"
   ]
  },
  {
   "cell_type": "code",
   "execution_count": 6,
   "id": "530a7e24",
   "metadata": {},
   "outputs": [
    {
     "data": {
      "text/html": [
       "<div>\n",
       "<style scoped>\n",
       "    .dataframe tbody tr th:only-of-type {\n",
       "        vertical-align: middle;\n",
       "    }\n",
       "\n",
       "    .dataframe tbody tr th {\n",
       "        vertical-align: top;\n",
       "    }\n",
       "\n",
       "    .dataframe thead th {\n",
       "        text-align: right;\n",
       "    }\n",
       "</style>\n",
       "<table border=\"1\" class=\"dataframe\">\n",
       "  <thead>\n",
       "    <tr style=\"text-align: right;\">\n",
       "      <th></th>\n",
       "      <th>user_id</th>\n",
       "      <th>event_timestamp</th>\n",
       "    </tr>\n",
       "  </thead>\n",
       "  <tbody>\n",
       "    <tr>\n",
       "      <th>0</th>\n",
       "      <td>b5a8c3f9e2</td>\n",
       "      <td>2023-08-25 09:23:42</td>\n",
       "    </tr>\n",
       "    <tr>\n",
       "      <th>1</th>\n",
       "      <td>7d1b0e6f4a</td>\n",
       "      <td>2023-08-18 16:55:10</td>\n",
       "    </tr>\n",
       "    <tr>\n",
       "      <th>2</th>\n",
       "      <td>2f9c6e8d1b</td>\n",
       "      <td>2023-08-24 03:37:28</td>\n",
       "    </tr>\n",
       "    <tr>\n",
       "      <th>3</th>\n",
       "      <td>a3e7b4c0d9</td>\n",
       "      <td>2023-08-16 11:10:55</td>\n",
       "    </tr>\n",
       "    <tr>\n",
       "      <th>4</th>\n",
       "      <td>f6b2d8a5c</td>\n",
       "      <td>2023-08-28 20:45:19</td>\n",
       "    </tr>\n",
       "    <tr>\n",
       "      <th>5</th>\n",
       "      <td>9e4c1f7b3a</td>\n",
       "      <td>2023-08-29 07:02:33</td>\n",
       "    </tr>\n",
       "    <tr>\n",
       "      <th>6</th>\n",
       "      <td>d5a0c8e2f</td>\n",
       "      <td>2023-08-13 14:29:05</td>\n",
       "    </tr>\n",
       "    <tr>\n",
       "      <th>7</th>\n",
       "      <td>1b6f3e9d7c</td>\n",
       "      <td>2023-08-20 22:18:47</td>\n",
       "    </tr>\n",
       "    <tr>\n",
       "      <th>8</th>\n",
       "      <td>c4d9a2b8e</td>\n",
       "      <td>2023-08-22 05:37:15</td>\n",
       "    </tr>\n",
       "    <tr>\n",
       "      <th>9</th>\n",
       "      <td>8e0c7b5f1d</td>\n",
       "      <td>2023-08-27 18:09:50</td>\n",
       "    </tr>\n",
       "  </tbody>\n",
       "</table>\n",
       "</div>"
      ],
      "text/plain": [
       "      user_id      event_timestamp\n",
       "0  b5a8c3f9e2  2023-08-25 09:23:42\n",
       "1  7d1b0e6f4a  2023-08-18 16:55:10\n",
       "2  2f9c6e8d1b  2023-08-24 03:37:28\n",
       "3  a3e7b4c0d9  2023-08-16 11:10:55\n",
       "4   f6b2d8a5c  2023-08-28 20:45:19\n",
       "5  9e4c1f7b3a  2023-08-29 07:02:33\n",
       "6   d5a0c8e2f  2023-08-13 14:29:05\n",
       "7  1b6f3e9d7c  2023-08-20 22:18:47\n",
       "8   c4d9a2b8e  2023-08-22 05:37:15\n",
       "9  8e0c7b5f1d  2023-08-27 18:09:50"
      ]
     },
     "execution_count": 6,
     "metadata": {},
     "output_type": "execute_result"
    }
   ],
   "source": [
    "login_df"
   ]
  },
  {
   "cell_type": "code",
   "execution_count": 7,
   "id": "6d8877a9",
   "metadata": {},
   "outputs": [
    {
     "name": "stdout",
     "output_type": "stream",
     "text": [
      "<class 'pandas.core.frame.DataFrame'>\n",
      "RangeIndex: 10 entries, 0 to 9\n",
      "Data columns (total 2 columns):\n",
      " #   Column           Non-Null Count  Dtype \n",
      "---  ------           --------------  ----- \n",
      " 0   user_id          10 non-null     object\n",
      " 1   event_timestamp  10 non-null     object\n",
      "dtypes: object(2)\n",
      "memory usage: 288.0+ bytes\n"
     ]
    }
   ],
   "source": [
    "login_df.info()"
   ]
  },
  {
   "cell_type": "code",
   "execution_count": 10,
   "id": "308f3892",
   "metadata": {},
   "outputs": [
    {
     "data": {
      "text/plain": [
       "0"
      ]
     },
     "execution_count": 10,
     "metadata": {},
     "output_type": "execute_result"
    }
   ],
   "source": [
    "login_df.duplicated().sum()"
   ]
  },
  {
   "cell_type": "code",
   "execution_count": 11,
   "id": "80a3587c",
   "metadata": {},
   "outputs": [],
   "source": [
    "login_df['event_timestamp'] = pd.to_datetime(login_df['event_timestamp'], format='%Y-%m-%d %H:%M:%S')"
   ]
  },
  {
   "cell_type": "code",
   "execution_count": 13,
   "id": "b6bcf9f2",
   "metadata": {},
   "outputs": [
    {
     "name": "stdout",
     "output_type": "stream",
     "text": [
      "<class 'pandas.core.frame.DataFrame'>\n",
      "RangeIndex: 10 entries, 0 to 9\n",
      "Data columns (total 2 columns):\n",
      " #   Column           Non-Null Count  Dtype         \n",
      "---  ------           --------------  -----         \n",
      " 0   user_id          10 non-null     object        \n",
      " 1   event_timestamp  10 non-null     datetime64[ns]\n",
      "dtypes: datetime64[ns](1), object(1)\n",
      "memory usage: 288.0+ bytes\n"
     ]
    }
   ],
   "source": [
    "login_df.info()"
   ]
  },
  {
   "cell_type": "code",
   "execution_count": null,
   "id": "8b233452",
   "metadata": {},
   "outputs": [],
   "source": []
  },
  {
   "cell_type": "code",
   "execution_count": null,
   "id": "fa7546f0",
   "metadata": {},
   "outputs": [],
   "source": []
  },
  {
   "cell_type": "code",
   "execution_count": null,
   "id": "a9da0548",
   "metadata": {},
   "outputs": [],
   "source": []
  },
  {
   "cell_type": "code",
   "execution_count": null,
   "id": "c5a7248c",
   "metadata": {},
   "outputs": [],
   "source": []
  },
  {
   "cell_type": "code",
   "execution_count": null,
   "id": "16cd1924",
   "metadata": {},
   "outputs": [],
   "source": []
  },
  {
   "cell_type": "code",
   "execution_count": null,
   "id": "d9d18bce",
   "metadata": {},
   "outputs": [],
   "source": []
  },
  {
   "cell_type": "code",
   "execution_count": null,
   "id": "f3b6ec59",
   "metadata": {},
   "outputs": [],
   "source": []
  },
  {
   "cell_type": "code",
   "execution_count": null,
   "id": "9282af0d",
   "metadata": {},
   "outputs": [],
   "source": []
  },
  {
   "cell_type": "code",
   "execution_count": null,
   "id": "ed932378",
   "metadata": {},
   "outputs": [],
   "source": []
  }
 ],
 "metadata": {
  "kernelspec": {
   "display_name": "Python 3",
   "language": "python",
   "name": "python3"
  },
  "language_info": {
   "codemirror_mode": {
    "name": "ipython",
    "version": 3
   },
   "file_extension": ".py",
   "mimetype": "text/x-python",
   "name": "python",
   "nbconvert_exporter": "python",
   "pygments_lexer": "ipython3",
   "version": "3.7.6"
  }
 },
 "nbformat": 4,
 "nbformat_minor": 5
}
