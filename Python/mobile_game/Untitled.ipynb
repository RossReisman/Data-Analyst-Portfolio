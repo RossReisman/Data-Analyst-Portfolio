{
 "cells": [
  {
   "cell_type": "code",
   "execution_count": 1,
   "id": "d65f4533",
   "metadata": {},
   "outputs": [],
   "source": [
    "#Import libraries\n",
    "import pandas as pd\n",
    "import glob\n",
    "import os\n",
    "import datetime as dt\n",
    "import numpy as np\n",
    "import matplotlib as mpl\n",
    "from matplotlib import pyplot as plt\n",
    "from matplotlib.ticker import (MultipleLocator, FormatStrFormatter, AutoMinorLocator)\n",
    "import matplotlib.dates\n",
    "import matplotlib.dates as mdates\n",
    "import seaborn as sns"
   ]
  },
  {
   "cell_type": "code",
   "execution_count": 2,
   "id": "776d1d81",
   "metadata": {},
   "outputs": [
    {
     "data": {
      "text/plain": [
       "['/Users/raws/Downloads/mobile_game_data/test.csv',\n",
       " '/Users/raws/Downloads/mobile_game_data/level_seq.csv',\n",
       " '/Users/raws/Downloads/mobile_game_data/dev.csv',\n",
       " '/Users/raws/Downloads/mobile_game_data/train.csv',\n",
       " '/Users/raws/Downloads/mobile_game_data/level_meta.csv']"
      ]
     },
     "execution_count": 2,
     "metadata": {},
     "output_type": "execute_result"
    }
   ],
   "source": [
    "#Import csv files\n",
    "path = \"/Users/raws/Downloads/mobile_game_data\"\n",
    "\n",
    "csv_files = glob.glob(path + \"/*.csv\")\n",
    "\n",
    "csv_files"
   ]
  },
  {
   "cell_type": "code",
   "execution_count": 3,
   "id": "5f9234a4",
   "metadata": {},
   "outputs": [
    {
     "data": {
      "text/plain": [
       "[      user_id\n",
       " 0           1\n",
       " 1           2\n",
       " 2           3\n",
       " 3           4\n",
       " 4           5\n",
       " ...       ...\n",
       " 2768     2769\n",
       " 2769     2770\n",
       " 2770     2771\n",
       " 2771     2772\n",
       " 2772     2773\n",
       " \n",
       " [2773 rows x 1 columns],\n",
       "         user_id\\tlevel_id\\tf_success\\tf_duration\\tf_reststep\\tf_help\\ttime\n",
       " 0          10932\\t1\\t1\\t127.0\\t0.5\\t0\\t2020-02-01 00:05:51                \n",
       " 1        10932\\t2\\t1\\t69.0\\t0.7037037037037037\\t0\\t2020...                \n",
       " 2          10932\\t3\\t1\\t67.0\\t0.56\\t0\\t2020-02-01 00:09:50                \n",
       " 3           10932\\t4\\t1\\t58.0\\t0.7\\t0\\t2020-02-01 00:11:16                \n",
       " 4        10932\\t5\\t1\\t83.0\\t0.6666666666666666\\t0\\t2020...                \n",
       " ...                                                    ...                \n",
       " 2194346  10931\\t40\\t1\\t111.0\\t0.25\\t1\\t2020-02-03 16:26:37                \n",
       " 2194347  10931\\t41\\t1\\t76.0\\t0.2777777777777778\\t0\\t202...                \n",
       " 2194348   10931\\t42\\t0\\t121.0\\t0.0\\t1\\t2020-02-03 16:30:17                \n",
       " 2194349   10931\\t42\\t0\\t115.0\\t0.0\\t0\\t2020-02-03 16:33:40                \n",
       " 2194350  10931\\t42\\t1\\t91.0\\t0.18181818181818185\\t0\\t20...                \n",
       " \n",
       " [2194351 rows x 1 columns],\n",
       "      user_id\\tlabel\n",
       " 0          10932\\t0\n",
       " 1          10933\\t1\n",
       " 2          10934\\t0\n",
       " 3          10935\\t1\n",
       " 4          10936\\t0\n",
       " ...             ...\n",
       " 2653       13585\\t0\n",
       " 2654       13586\\t0\n",
       " 2655       13587\\t0\n",
       " 2656       13588\\t1\n",
       " 2657       13589\\t0\n",
       " \n",
       " [2658 rows x 1 columns],\n",
       "      user_id\\tlabel\n",
       " 0           2774\\t0\n",
       " 1           2775\\t0\n",
       " 2           2776\\t1\n",
       " 3           2777\\t0\n",
       " 4           2778\\t1\n",
       " ...             ...\n",
       " 8153       10927\\t1\n",
       " 8154       10928\\t1\n",
       " 8155       10929\\t0\n",
       " 8156       10930\\t1\n",
       " 8157       10931\\t0\n",
       " \n",
       " [8158 rows x 1 columns],\n",
       "      f_avg_duration\\tf_avg_passrate\\tf_avg_win_duration\\tf_avg_retrytimes\\tlevel_id\n",
       " 0     39.889939774365935\\t0.9444669584746164\\t35.582...                            \n",
       " 1     60.6839750606825\\t0.9918362833378712\\t56.71570...                            \n",
       " 2     76.94735522687391\\t0.9912315776755486\\t71.7899...                            \n",
       " 3     58.17034667767231\\t0.9938433619123879\\t54.8428...                            \n",
       " 4     101.78457727176891\\t0.9541699902830568\\t85.650...                            \n",
       " ...                                                 ...                            \n",
       " 1504  594.8787878787879\\t0.4537299400935764\\t133.625...                            \n",
       " 1505  486.5625\\t0.4541801948051947\\t115.90625\\t3.218...                            \n",
       " 1506  325.96875\\t0.5735254329004327\\t86.25\\t2.6875\\t...                            \n",
       " 1507  793.0967741935484\\t0.32268398923171626\\t164.0\\...                            \n",
       " 1508  423.40625\\t0.4614087301587301\\t106.83333333333...                            \n",
       " \n",
       " [1509 rows x 1 columns]]"
      ]
     },
     "execution_count": 3,
     "metadata": {},
     "output_type": "execute_result"
    }
   ],
   "source": [
    "#Append csvs to list using list comprehension\n",
    "df_list = [pd.read_csv(filename, index_col=None, header=0) for filename in csv_files]\n",
    "df_list"
   ]
  },
  {
   "cell_type": "code",
   "execution_count": null,
   "id": "9e1f1cd6",
   "metadata": {},
   "outputs": [],
   "source": [
    "users = csv_files[1]\n",
    "meta = csv_fules[4]"
   ]
  },
  {
   "cell_type": "code",
   "execution_count": null,
   "id": "81da7c4d",
   "metadata": {},
   "outputs": [],
   "source": []
  },
  {
   "cell_type": "code",
   "execution_count": null,
   "id": "e64c3a8e",
   "metadata": {},
   "outputs": [],
   "source": []
  },
  {
   "cell_type": "code",
   "execution_count": null,
   "id": "bd311cf7",
   "metadata": {},
   "outputs": [],
   "source": []
  },
  {
   "cell_type": "code",
   "execution_count": null,
   "id": "c8ef3b8b",
   "metadata": {},
   "outputs": [],
   "source": []
  },
  {
   "cell_type": "code",
   "execution_count": null,
   "id": "46ff9a12",
   "metadata": {},
   "outputs": [],
   "source": []
  }
 ],
 "metadata": {
  "kernelspec": {
   "display_name": "Python 3",
   "language": "python",
   "name": "python3"
  },
  "language_info": {
   "codemirror_mode": {
    "name": "ipython",
    "version": 3
   },
   "file_extension": ".py",
   "mimetype": "text/x-python",
   "name": "python",
   "nbconvert_exporter": "python",
   "pygments_lexer": "ipython3",
   "version": "3.7.6"
  }
 },
 "nbformat": 4,
 "nbformat_minor": 5
}
