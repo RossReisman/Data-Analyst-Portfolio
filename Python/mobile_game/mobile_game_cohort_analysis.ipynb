{
 "cells": [
  {
   "cell_type": "markdown",
   "id": "73552393",
   "metadata": {},
   "source": [
    "# Mobile Game Analysis + Cohort Analysis\n",
    "\n",
    "### An analysis of user progress data and a cohort analysis to visualize retention\n",
    "\n",
    "Data can be found on Kaggle at [this link](https://www.kaggle.com/datasets/manchvictor/prediction-of-user-loss-in-mobile-games)"
   ]
  },
  {
   "cell_type": "markdown",
   "id": "83e294fa",
   "metadata": {},
   "source": [
    "<b>Note to self for further analysis:</b> successful time distribution against the failed. As subplots stacked vertically\n",
    "\n",
    "Also, be sure to look up whether 'time' is the beginning of session. I suspect it's probably beginning of level\n",
    "\n",
    "And note that you've got 'user_id' here, so you can figure out when a user plays consecutive levels\n",
    "\n",
    "Could be useful for the active users graph. Could also be interesting to see what order players play levels. For example, after playing level 5, do they tend to repeat level 5, go to level 6, etc\n",
    "\n"
   ]
  },
  {
   "cell_type": "markdown",
   "id": "2a049d94",
   "metadata": {},
   "source": [
    "## Data Dictionary"
   ]
  },
  {
   "cell_type": "markdown",
   "id": "2e612371",
   "metadata": {},
   "source": [
    "level_seq.csv <b>\"users\"</b>\n",
    "\n",
    "Each record is an attempt to play a level. The meaning of each column is as follows:\n",
    "- 'user_id' : user id\n",
    "- 'level_id' : level id\n",
    "- f_success ': indicates whether to complete the clearance (1: completes the clearance, 0: fails).\n",
    "- f_duration ': the duration of the attempt (unit: s);\n",
    "- f_reststep ': the ratio of the remaining steps to the limited steps (failure is 0);\n",
    "- f_help ': Whether extra help, such as props and hints, was used (1: used, 0: not used);\n",
    "'time' : indicates the timestamp."
   ]
  },
  {
   "cell_type": "markdown",
   "id": "59d1f891",
   "metadata": {},
   "source": [
    "level_meta.csv <b>\"levels\"</b>\n",
    "\n",
    "Some statistical characteristics of each level. The meaning of each column is as follows:\n",
    "\n",
    "- f_avg_duration ': Average time spent on each attempt (unit s, including successful and failed attempts);\n",
    "- 'f_avg_passrate' : average clearance rate;\n",
    "- f_avg_win_duration ': Average time spent on each clearance (in s, including only the attempts to clear the clearance);\n",
    "- f_avg_retrytimes' : Average number of retries (the second time to play the same level counts as the first retry);\n",
    "- 'level_id' : indicates the id of the level, which can be matched with the level in level_seq.csv."
   ]
  },
  {
   "cell_type": "markdown",
   "id": "41ad8b95",
   "metadata": {},
   "source": [
    "# Table of Contents\n",
    "\n",
    "[Data Dictionary](#Data-Dictionary)\n",
    "\n",
    "[Step 1: Import Libraries and Data](#Step-1:-Import-and-Cleaning)\n",
    "\n",
    "[Step 2: Exploratory Data Analysis](#Step-2:-EDA)\n",
    "\n",
    "> [Step 2a: Users](#Step-2a:-Users)\n",
    "\n",
    "> [Step 2b: Levels](#Step-2b:-Levels)\n",
    "\n",
    "[Step 3: Performance Questions](#Step-3:-Performance-Questions)\n",
    "\n",
    "[Step 4: Retention](#Step-4:-Retention)"
   ]
  },
  {
   "cell_type": "markdown",
   "id": "c5b5072d",
   "metadata": {},
   "source": [
    "## Step 1: Import and Cleaning"
   ]
  },
  {
   "cell_type": "code",
   "execution_count": 1,
   "id": "8602e98b",
   "metadata": {},
   "outputs": [],
   "source": [
    "#Import libraries\n",
    "import pandas as pd\n",
    "import glob\n",
    "import os\n",
    "import datetime as dt\n",
    "import numpy as np\n",
    "import matplotlib as mpl\n",
    "from matplotlib import pyplot as plt\n",
    "from matplotlib.ticker import (MultipleLocator, FormatStrFormatter, AutoMinorLocator)\n",
    "import matplotlib.dates\n",
    "import matplotlib.dates as mdates\n",
    "import seaborn as sns"
   ]
  },
  {
   "cell_type": "code",
   "execution_count": 2,
   "id": "a33af122",
   "metadata": {},
   "outputs": [
    {
     "data": {
      "text/plain": [
       "['/Users/raws/Downloads/mobile_game_data/test.csv',\n",
       " '/Users/raws/Downloads/mobile_game_data/level_seq.csv',\n",
       " '/Users/raws/Downloads/mobile_game_data/dev.csv',\n",
       " '/Users/raws/Downloads/mobile_game_data/train.csv',\n",
       " '/Users/raws/Downloads/mobile_game_data/level_meta.csv']"
      ]
     },
     "execution_count": 2,
     "metadata": {},
     "output_type": "execute_result"
    }
   ],
   "source": [
    "#Import csv files\n",
    "path = \"/Users/raws/Downloads/mobile_game_data\"\n",
    "csv_files = glob.glob(path + \"/*.csv\")\n",
    "\n",
    "csv_files"
   ]
  },
  {
   "cell_type": "code",
   "execution_count": 3,
   "id": "5400419c",
   "metadata": {
    "scrolled": true
   },
   "outputs": [
    {
     "data": {
      "text/plain": [
       "[      user_id\n",
       " 0           1\n",
       " 1           2\n",
       " 2           3\n",
       " 3           4\n",
       " 4           5\n",
       " ...       ...\n",
       " 2768     2769\n",
       " 2769     2770\n",
       " 2770     2771\n",
       " 2771     2772\n",
       " 2772     2773\n",
       " \n",
       " [2773 rows x 1 columns],\n",
       "          user_id  level_id  f_success  f_duration  f_reststep  f_help  \\\n",
       " 0          10932         1          1       127.0    0.500000       0   \n",
       " 1          10932         2          1        69.0    0.703704       0   \n",
       " 2          10932         3          1        67.0    0.560000       0   \n",
       " 3          10932         4          1        58.0    0.700000       0   \n",
       " 4          10932         5          1        83.0    0.666667       0   \n",
       " ...          ...       ...        ...         ...         ...     ...   \n",
       " 2194346    10931        40          1       111.0    0.250000       1   \n",
       " 2194347    10931        41          1        76.0    0.277778       0   \n",
       " 2194348    10931        42          0       121.0    0.000000       1   \n",
       " 2194349    10931        42          0       115.0    0.000000       0   \n",
       " 2194350    10931        42          1        91.0    0.181818       0   \n",
       " \n",
       "                         time  \n",
       " 0        2020-02-01 00:05:51  \n",
       " 1        2020-02-01 00:08:01  \n",
       " 2        2020-02-01 00:09:50  \n",
       " 3        2020-02-01 00:11:16  \n",
       " 4        2020-02-01 00:13:12  \n",
       " ...                      ...  \n",
       " 2194346  2020-02-03 16:26:37  \n",
       " 2194347  2020-02-03 16:28:06  \n",
       " 2194348  2020-02-03 16:30:17  \n",
       " 2194349  2020-02-03 16:33:40  \n",
       " 2194350  2020-02-03 16:35:18  \n",
       " \n",
       " [2194351 rows x 7 columns],\n",
       "       user_id  label\n",
       " 0       10932      0\n",
       " 1       10933      1\n",
       " 2       10934      0\n",
       " 3       10935      1\n",
       " 4       10936      0\n",
       " ...       ...    ...\n",
       " 2653    13585      0\n",
       " 2654    13586      0\n",
       " 2655    13587      0\n",
       " 2656    13588      1\n",
       " 2657    13589      0\n",
       " \n",
       " [2658 rows x 2 columns],\n",
       "       user_id  label\n",
       " 0        2774      0\n",
       " 1        2775      0\n",
       " 2        2776      1\n",
       " 3        2777      0\n",
       " 4        2778      1\n",
       " ...       ...    ...\n",
       " 8153    10927      1\n",
       " 8154    10928      1\n",
       " 8155    10929      0\n",
       " 8156    10930      1\n",
       " 8157    10931      0\n",
       " \n",
       " [8158 rows x 2 columns],\n",
       "       f_avg_duration  f_avg_passrate  f_avg_win_duration  f_avg_retrytimes  \\\n",
       " 0          39.889940        0.944467           35.582757          0.017225   \n",
       " 1          60.683975        0.991836           56.715706          0.004638   \n",
       " 2          76.947355        0.991232           71.789943          0.004480   \n",
       " 3          58.170347        0.993843           54.842882          0.004761   \n",
       " 4         101.784577        0.954170           85.650547          0.027353   \n",
       " ...              ...             ...                 ...               ...   \n",
       " 1504      594.878788        0.453730          133.625000          3.187500   \n",
       " 1505      486.562500        0.454180          115.906250          3.218750   \n",
       " 1506      325.968750        0.573525           86.250000          2.687500   \n",
       " 1507      793.096774        0.322684          164.000000          5.419355   \n",
       " 1508      423.406250        0.461409          106.833333          2.200000   \n",
       " \n",
       "       level_id  \n",
       " 0            1  \n",
       " 1            2  \n",
       " 2            3  \n",
       " 3            4  \n",
       " 4            5  \n",
       " ...        ...  \n",
       " 1504      1505  \n",
       " 1505      1506  \n",
       " 1506      1507  \n",
       " 1507      1508  \n",
       " 1508      1509  \n",
       " \n",
       " [1509 rows x 5 columns]]"
      ]
     },
     "execution_count": 3,
     "metadata": {},
     "output_type": "execute_result"
    }
   ],
   "source": [
    "#Append csvs to list using list comprehension\n",
    "df_list = [pd.read_csv(filename, delimiter='\\t', index_col=None, header=0) for filename in csv_files]\n",
    "df_list"
   ]
  },
  {
   "cell_type": "code",
   "execution_count": 4,
   "id": "f616aad4",
   "metadata": {},
   "outputs": [],
   "source": [
    "#Assign csvs to dataframe using list indices\n",
    "users = df_list[1]\n",
    "levels = df_list[4]"
   ]
  },
  {
   "cell_type": "code",
   "execution_count": 5,
   "id": "416d7b83",
   "metadata": {},
   "outputs": [
    {
     "data": {
      "text/html": [
       "<div>\n",
       "<style scoped>\n",
       "    .dataframe tbody tr th:only-of-type {\n",
       "        vertical-align: middle;\n",
       "    }\n",
       "\n",
       "    .dataframe tbody tr th {\n",
       "        vertical-align: top;\n",
       "    }\n",
       "\n",
       "    .dataframe thead th {\n",
       "        text-align: right;\n",
       "    }\n",
       "</style>\n",
       "<table border=\"1\" class=\"dataframe\">\n",
       "  <thead>\n",
       "    <tr style=\"text-align: right;\">\n",
       "      <th></th>\n",
       "      <th>user_id</th>\n",
       "      <th>level_id</th>\n",
       "      <th>f_success</th>\n",
       "      <th>f_duration</th>\n",
       "      <th>f_reststep</th>\n",
       "      <th>f_help</th>\n",
       "      <th>time</th>\n",
       "    </tr>\n",
       "  </thead>\n",
       "  <tbody>\n",
       "    <tr>\n",
       "      <th>0</th>\n",
       "      <td>10932</td>\n",
       "      <td>1</td>\n",
       "      <td>1</td>\n",
       "      <td>127.0</td>\n",
       "      <td>0.500000</td>\n",
       "      <td>0</td>\n",
       "      <td>2020-02-01 00:05:51</td>\n",
       "    </tr>\n",
       "    <tr>\n",
       "      <th>1</th>\n",
       "      <td>10932</td>\n",
       "      <td>2</td>\n",
       "      <td>1</td>\n",
       "      <td>69.0</td>\n",
       "      <td>0.703704</td>\n",
       "      <td>0</td>\n",
       "      <td>2020-02-01 00:08:01</td>\n",
       "    </tr>\n",
       "    <tr>\n",
       "      <th>2</th>\n",
       "      <td>10932</td>\n",
       "      <td>3</td>\n",
       "      <td>1</td>\n",
       "      <td>67.0</td>\n",
       "      <td>0.560000</td>\n",
       "      <td>0</td>\n",
       "      <td>2020-02-01 00:09:50</td>\n",
       "    </tr>\n",
       "    <tr>\n",
       "      <th>3</th>\n",
       "      <td>10932</td>\n",
       "      <td>4</td>\n",
       "      <td>1</td>\n",
       "      <td>58.0</td>\n",
       "      <td>0.700000</td>\n",
       "      <td>0</td>\n",
       "      <td>2020-02-01 00:11:16</td>\n",
       "    </tr>\n",
       "    <tr>\n",
       "      <th>4</th>\n",
       "      <td>10932</td>\n",
       "      <td>5</td>\n",
       "      <td>1</td>\n",
       "      <td>83.0</td>\n",
       "      <td>0.666667</td>\n",
       "      <td>0</td>\n",
       "      <td>2020-02-01 00:13:12</td>\n",
       "    </tr>\n",
       "  </tbody>\n",
       "</table>\n",
       "</div>"
      ],
      "text/plain": [
       "   user_id  level_id  f_success  f_duration  f_reststep  f_help  \\\n",
       "0    10932         1          1       127.0    0.500000       0   \n",
       "1    10932         2          1        69.0    0.703704       0   \n",
       "2    10932         3          1        67.0    0.560000       0   \n",
       "3    10932         4          1        58.0    0.700000       0   \n",
       "4    10932         5          1        83.0    0.666667       0   \n",
       "\n",
       "                  time  \n",
       "0  2020-02-01 00:05:51  \n",
       "1  2020-02-01 00:08:01  \n",
       "2  2020-02-01 00:09:50  \n",
       "3  2020-02-01 00:11:16  \n",
       "4  2020-02-01 00:13:12  "
      ]
     },
     "execution_count": 5,
     "metadata": {},
     "output_type": "execute_result"
    }
   ],
   "source": [
    "#Examine users dataframe\n",
    "users.head()"
   ]
  },
  {
   "cell_type": "code",
   "execution_count": 6,
   "id": "a65473b0",
   "metadata": {},
   "outputs": [
    {
     "data": {
      "text/html": [
       "<div>\n",
       "<style scoped>\n",
       "    .dataframe tbody tr th:only-of-type {\n",
       "        vertical-align: middle;\n",
       "    }\n",
       "\n",
       "    .dataframe tbody tr th {\n",
       "        vertical-align: top;\n",
       "    }\n",
       "\n",
       "    .dataframe thead th {\n",
       "        text-align: right;\n",
       "    }\n",
       "</style>\n",
       "<table border=\"1\" class=\"dataframe\">\n",
       "  <thead>\n",
       "    <tr style=\"text-align: right;\">\n",
       "      <th></th>\n",
       "      <th>user_id</th>\n",
       "      <th>level_id</th>\n",
       "      <th>f_success</th>\n",
       "      <th>f_duration</th>\n",
       "      <th>f_reststep</th>\n",
       "      <th>f_help</th>\n",
       "    </tr>\n",
       "  </thead>\n",
       "  <tbody>\n",
       "    <tr>\n",
       "      <th>count</th>\n",
       "      <td>2194351.00</td>\n",
       "      <td>2194351.00</td>\n",
       "      <td>2194351.00</td>\n",
       "      <td>2194351.00</td>\n",
       "      <td>2194351.00</td>\n",
       "      <td>2194351.00</td>\n",
       "    </tr>\n",
       "    <tr>\n",
       "      <th>mean</th>\n",
       "      <td>6745.03</td>\n",
       "      <td>96.84</td>\n",
       "      <td>0.53</td>\n",
       "      <td>108.12</td>\n",
       "      <td>0.17</td>\n",
       "      <td>0.04</td>\n",
       "    </tr>\n",
       "    <tr>\n",
       "      <th>std</th>\n",
       "      <td>3942.09</td>\n",
       "      <td>84.11</td>\n",
       "      <td>0.50</td>\n",
       "      <td>53.61</td>\n",
       "      <td>0.23</td>\n",
       "      <td>0.21</td>\n",
       "    </tr>\n",
       "    <tr>\n",
       "      <th>min</th>\n",
       "      <td>1.00</td>\n",
       "      <td>1.00</td>\n",
       "      <td>0.00</td>\n",
       "      <td>1.00</td>\n",
       "      <td>0.00</td>\n",
       "      <td>0.00</td>\n",
       "    </tr>\n",
       "    <tr>\n",
       "      <th>25%</th>\n",
       "      <td>3287.00</td>\n",
       "      <td>41.00</td>\n",
       "      <td>0.00</td>\n",
       "      <td>77.00</td>\n",
       "      <td>0.00</td>\n",
       "      <td>0.00</td>\n",
       "    </tr>\n",
       "    <tr>\n",
       "      <th>50%</th>\n",
       "      <td>6688.00</td>\n",
       "      <td>80.00</td>\n",
       "      <td>1.00</td>\n",
       "      <td>100.00</td>\n",
       "      <td>0.05</td>\n",
       "      <td>0.00</td>\n",
       "    </tr>\n",
       "    <tr>\n",
       "      <th>75%</th>\n",
       "      <td>10163.00</td>\n",
       "      <td>142.00</td>\n",
       "      <td>1.00</td>\n",
       "      <td>127.00</td>\n",
       "      <td>0.29</td>\n",
       "      <td>0.00</td>\n",
       "    </tr>\n",
       "    <tr>\n",
       "      <th>max</th>\n",
       "      <td>13589.00</td>\n",
       "      <td>1509.00</td>\n",
       "      <td>1.00</td>\n",
       "      <td>600.00</td>\n",
       "      <td>1.00</td>\n",
       "      <td>1.00</td>\n",
       "    </tr>\n",
       "  </tbody>\n",
       "</table>\n",
       "</div>"
      ],
      "text/plain": [
       "         user_id   level_id  f_success  f_duration  f_reststep     f_help\n",
       "count 2194351.00 2194351.00 2194351.00  2194351.00  2194351.00 2194351.00\n",
       "mean     6745.03      96.84       0.53      108.12        0.17       0.04\n",
       "std      3942.09      84.11       0.50       53.61        0.23       0.21\n",
       "min         1.00       1.00       0.00        1.00        0.00       0.00\n",
       "25%      3287.00      41.00       0.00       77.00        0.00       0.00\n",
       "50%      6688.00      80.00       1.00      100.00        0.05       0.00\n",
       "75%     10163.00     142.00       1.00      127.00        0.29       0.00\n",
       "max     13589.00    1509.00       1.00      600.00        1.00       1.00"
      ]
     },
     "execution_count": 6,
     "metadata": {},
     "output_type": "execute_result"
    }
   ],
   "source": [
    "#Summary statistics for users and suppress scientific notation\n",
    "pd.set_option('display.float_format', lambda x: '%.2f' % x)\n",
    "users.describe()"
   ]
  },
  {
   "cell_type": "code",
   "execution_count": 7,
   "id": "1e390760",
   "metadata": {},
   "outputs": [
    {
     "name": "stdout",
     "output_type": "stream",
     "text": [
      "<class 'pandas.core.frame.DataFrame'>\n",
      "RangeIndex: 2194351 entries, 0 to 2194350\n",
      "Data columns (total 7 columns):\n",
      " #   Column      Dtype  \n",
      "---  ------      -----  \n",
      " 0   user_id     int64  \n",
      " 1   level_id    int64  \n",
      " 2   f_success   int64  \n",
      " 3   f_duration  float64\n",
      " 4   f_reststep  float64\n",
      " 5   f_help      int64  \n",
      " 6   time        object \n",
      "dtypes: float64(2), int64(4), object(1)\n",
      "memory usage: 117.2+ MB\n"
     ]
    }
   ],
   "source": [
    "#Examine data types for users\n",
    "users.info()"
   ]
  },
  {
   "cell_type": "code",
   "execution_count": 8,
   "id": "352f4dfe",
   "metadata": {
    "scrolled": true
   },
   "outputs": [
    {
     "data": {
      "text/plain": [
       "69322"
      ]
     },
     "execution_count": 8,
     "metadata": {},
     "output_type": "execute_result"
    }
   ],
   "source": [
    "#Check for duplicates\n",
    "users.duplicated().sum()"
   ]
  },
  {
   "cell_type": "code",
   "execution_count": 9,
   "id": "a1a134b6",
   "metadata": {},
   "outputs": [
    {
     "data": {
      "text/plain": [
       "user_id       0\n",
       "level_id      0\n",
       "f_success     0\n",
       "f_duration    0\n",
       "f_reststep    0\n",
       "f_help        0\n",
       "time          0\n",
       "dtype: int64"
      ]
     },
     "execution_count": 9,
     "metadata": {},
     "output_type": "execute_result"
    }
   ],
   "source": [
    "#Check for null values\n",
    "users.isna().sum()"
   ]
  },
  {
   "cell_type": "code",
   "execution_count": 10,
   "id": "4c4fc682",
   "metadata": {},
   "outputs": [
    {
     "data": {
      "text/html": [
       "<div>\n",
       "<style scoped>\n",
       "    .dataframe tbody tr th:only-of-type {\n",
       "        vertical-align: middle;\n",
       "    }\n",
       "\n",
       "    .dataframe tbody tr th {\n",
       "        vertical-align: top;\n",
       "    }\n",
       "\n",
       "    .dataframe thead th {\n",
       "        text-align: right;\n",
       "    }\n",
       "</style>\n",
       "<table border=\"1\" class=\"dataframe\">\n",
       "  <thead>\n",
       "    <tr style=\"text-align: right;\">\n",
       "      <th></th>\n",
       "      <th>user_id</th>\n",
       "      <th>level_id</th>\n",
       "      <th>f_success</th>\n",
       "      <th>f_duration</th>\n",
       "      <th>f_reststep</th>\n",
       "      <th>f_help</th>\n",
       "      <th>time</th>\n",
       "    </tr>\n",
       "  </thead>\n",
       "  <tbody>\n",
       "    <tr>\n",
       "      <th>64</th>\n",
       "      <td>10932</td>\n",
       "      <td>50</td>\n",
       "      <td>0</td>\n",
       "      <td>153.00</td>\n",
       "      <td>0.00</td>\n",
       "      <td>0</td>\n",
       "      <td>2020-02-01 17:05:43</td>\n",
       "    </tr>\n",
       "    <tr>\n",
       "      <th>65</th>\n",
       "      <td>10932</td>\n",
       "      <td>50</td>\n",
       "      <td>0</td>\n",
       "      <td>153.00</td>\n",
       "      <td>0.00</td>\n",
       "      <td>0</td>\n",
       "      <td>2020-02-01 17:05:43</td>\n",
       "    </tr>\n",
       "    <tr>\n",
       "      <th>665</th>\n",
       "      <td>2774</td>\n",
       "      <td>42</td>\n",
       "      <td>1</td>\n",
       "      <td>130.00</td>\n",
       "      <td>0.05</td>\n",
       "      <td>0</td>\n",
       "      <td>2020-02-01 10:56:34</td>\n",
       "    </tr>\n",
       "    <tr>\n",
       "      <th>667</th>\n",
       "      <td>2774</td>\n",
       "      <td>44</td>\n",
       "      <td>1</td>\n",
       "      <td>116.00</td>\n",
       "      <td>0.21</td>\n",
       "      <td>0</td>\n",
       "      <td>2020-02-01 11:02:32</td>\n",
       "    </tr>\n",
       "    <tr>\n",
       "      <th>707</th>\n",
       "      <td>2774</td>\n",
       "      <td>62</td>\n",
       "      <td>1</td>\n",
       "      <td>89.00</td>\n",
       "      <td>0.43</td>\n",
       "      <td>0</td>\n",
       "      <td>2020-02-02 09:10:50</td>\n",
       "    </tr>\n",
       "    <tr>\n",
       "      <th>...</th>\n",
       "      <td>...</td>\n",
       "      <td>...</td>\n",
       "      <td>...</td>\n",
       "      <td>...</td>\n",
       "      <td>...</td>\n",
       "      <td>...</td>\n",
       "      <td>...</td>\n",
       "    </tr>\n",
       "    <tr>\n",
       "      <th>2192592</th>\n",
       "      <td>10924</td>\n",
       "      <td>36</td>\n",
       "      <td>1</td>\n",
       "      <td>110.00</td>\n",
       "      <td>0.50</td>\n",
       "      <td>0</td>\n",
       "      <td>2020-02-02 00:45:41</td>\n",
       "    </tr>\n",
       "    <tr>\n",
       "      <th>2193091</th>\n",
       "      <td>13586</td>\n",
       "      <td>104</td>\n",
       "      <td>0</td>\n",
       "      <td>155.00</td>\n",
       "      <td>0.00</td>\n",
       "      <td>0</td>\n",
       "      <td>2020-02-03 21:13:35</td>\n",
       "    </tr>\n",
       "    <tr>\n",
       "      <th>2193569</th>\n",
       "      <td>10927</td>\n",
       "      <td>137</td>\n",
       "      <td>1</td>\n",
       "      <td>73.00</td>\n",
       "      <td>0.29</td>\n",
       "      <td>0</td>\n",
       "      <td>2020-02-02 22:36:23</td>\n",
       "    </tr>\n",
       "    <tr>\n",
       "      <th>2193666</th>\n",
       "      <td>10927</td>\n",
       "      <td>207</td>\n",
       "      <td>0</td>\n",
       "      <td>166.00</td>\n",
       "      <td>0.00</td>\n",
       "      <td>0</td>\n",
       "      <td>2020-02-04 20:59:36</td>\n",
       "    </tr>\n",
       "    <tr>\n",
       "      <th>2193844</th>\n",
       "      <td>10929</td>\n",
       "      <td>64</td>\n",
       "      <td>0</td>\n",
       "      <td>118.00</td>\n",
       "      <td>0.00</td>\n",
       "      <td>0</td>\n",
       "      <td>2020-02-02 21:21:02</td>\n",
       "    </tr>\n",
       "  </tbody>\n",
       "</table>\n",
       "<p>69322 rows × 7 columns</p>\n",
       "</div>"
      ],
      "text/plain": [
       "         user_id  level_id  f_success  f_duration  f_reststep  f_help  \\\n",
       "64         10932        50          0      153.00        0.00       0   \n",
       "65         10932        50          0      153.00        0.00       0   \n",
       "665         2774        42          1      130.00        0.05       0   \n",
       "667         2774        44          1      116.00        0.21       0   \n",
       "707         2774        62          1       89.00        0.43       0   \n",
       "...          ...       ...        ...         ...         ...     ...   \n",
       "2192592    10924        36          1      110.00        0.50       0   \n",
       "2193091    13586       104          0      155.00        0.00       0   \n",
       "2193569    10927       137          1       73.00        0.29       0   \n",
       "2193666    10927       207          0      166.00        0.00       0   \n",
       "2193844    10929        64          0      118.00        0.00       0   \n",
       "\n",
       "                        time  \n",
       "64       2020-02-01 17:05:43  \n",
       "65       2020-02-01 17:05:43  \n",
       "665      2020-02-01 10:56:34  \n",
       "667      2020-02-01 11:02:32  \n",
       "707      2020-02-02 09:10:50  \n",
       "...                      ...  \n",
       "2192592  2020-02-02 00:45:41  \n",
       "2193091  2020-02-03 21:13:35  \n",
       "2193569  2020-02-02 22:36:23  \n",
       "2193666  2020-02-04 20:59:36  \n",
       "2193844  2020-02-02 21:21:02  \n",
       "\n",
       "[69322 rows x 7 columns]"
      ]
     },
     "execution_count": 10,
     "metadata": {},
     "output_type": "execute_result"
    }
   ],
   "source": [
    "#Assign duplicates to a variable and examine them\n",
    "dupes = users[users.duplicated()]\n",
    "dupes"
   ]
  },
  {
   "cell_type": "markdown",
   "id": "c179ea2d",
   "metadata": {},
   "source": [
    "<div class=\"alert alert-warning\">\n",
    "  <strong>Summary of Findings</strong>\n",
    "    <li>Out of roughly 2.2 million rows there are about 70k duplicates.</li>\n",
    "    <li>There are no null values.</li>\n",
    "    <li>user_id needs to be converted to string.</li>\n",
    "    <li>time needs to be converted to datetime.</li>\n",
    "    <li>columns should be renamed to remove \"f_\".</li>\n",
    "</div>"
   ]
  },
  {
   "cell_type": "code",
   "execution_count": 11,
   "id": "763c3d0f",
   "metadata": {},
   "outputs": [],
   "source": [
    "#Drop duplicates\n",
    "users.drop_duplicates(inplace=True)"
   ]
  },
  {
   "cell_type": "code",
   "execution_count": 12,
   "id": "1412263d",
   "metadata": {},
   "outputs": [],
   "source": [
    "#Change user_id to string datatype using assignment\n",
    "users['user_id'] = users['user_id'].astype('str')"
   ]
  },
  {
   "cell_type": "code",
   "execution_count": 13,
   "id": "4da3bc18",
   "metadata": {},
   "outputs": [],
   "source": [
    "#Convert time to datetime object\n",
    "users['time'] = pd.to_datetime(users['time'], format='%Y-%m-%d %H:%M:%S')"
   ]
  },
  {
   "cell_type": "code",
   "execution_count": 14,
   "id": "9e2d3608",
   "metadata": {},
   "outputs": [
    {
     "name": "stdout",
     "output_type": "stream",
     "text": [
      "<class 'pandas.core.frame.DataFrame'>\n",
      "Int64Index: 2125029 entries, 0 to 2194350\n",
      "Data columns (total 7 columns):\n",
      " #   Column      Dtype         \n",
      "---  ------      -----         \n",
      " 0   user_id     object        \n",
      " 1   level_id    int64         \n",
      " 2   f_success   int64         \n",
      " 3   f_duration  float64       \n",
      " 4   f_reststep  float64       \n",
      " 5   f_help      int64         \n",
      " 6   time        datetime64[ns]\n",
      "dtypes: datetime64[ns](1), float64(2), int64(3), object(1)\n",
      "memory usage: 129.7+ MB\n"
     ]
    }
   ],
   "source": [
    "#Ensure type conversion success\n",
    "users.info()"
   ]
  },
  {
   "cell_type": "code",
   "execution_count": 15,
   "id": "31546953",
   "metadata": {},
   "outputs": [],
   "source": [
    "#Rename columns to remove \"f_\"\n",
    "users.rename(columns=({'f_success':'success','f_duration':'duration',\n",
    "                       'f_reststep':'reststep','f_help':'help'}), inplace=True)"
   ]
  },
  {
   "cell_type": "code",
   "execution_count": 16,
   "id": "17e9f79a",
   "metadata": {},
   "outputs": [
    {
     "data": {
      "text/html": [
       "<div>\n",
       "<style scoped>\n",
       "    .dataframe tbody tr th:only-of-type {\n",
       "        vertical-align: middle;\n",
       "    }\n",
       "\n",
       "    .dataframe tbody tr th {\n",
       "        vertical-align: top;\n",
       "    }\n",
       "\n",
       "    .dataframe thead th {\n",
       "        text-align: right;\n",
       "    }\n",
       "</style>\n",
       "<table border=\"1\" class=\"dataframe\">\n",
       "  <thead>\n",
       "    <tr style=\"text-align: right;\">\n",
       "      <th></th>\n",
       "      <th>user_id</th>\n",
       "      <th>level_id</th>\n",
       "      <th>success</th>\n",
       "      <th>duration</th>\n",
       "      <th>reststep</th>\n",
       "      <th>help</th>\n",
       "      <th>time</th>\n",
       "    </tr>\n",
       "  </thead>\n",
       "  <tbody>\n",
       "    <tr>\n",
       "      <th>0</th>\n",
       "      <td>10932</td>\n",
       "      <td>1</td>\n",
       "      <td>1</td>\n",
       "      <td>127.00</td>\n",
       "      <td>0.50</td>\n",
       "      <td>0</td>\n",
       "      <td>2020-02-01 00:05:51</td>\n",
       "    </tr>\n",
       "    <tr>\n",
       "      <th>1</th>\n",
       "      <td>10932</td>\n",
       "      <td>2</td>\n",
       "      <td>1</td>\n",
       "      <td>69.00</td>\n",
       "      <td>0.70</td>\n",
       "      <td>0</td>\n",
       "      <td>2020-02-01 00:08:01</td>\n",
       "    </tr>\n",
       "    <tr>\n",
       "      <th>2</th>\n",
       "      <td>10932</td>\n",
       "      <td>3</td>\n",
       "      <td>1</td>\n",
       "      <td>67.00</td>\n",
       "      <td>0.56</td>\n",
       "      <td>0</td>\n",
       "      <td>2020-02-01 00:09:50</td>\n",
       "    </tr>\n",
       "    <tr>\n",
       "      <th>3</th>\n",
       "      <td>10932</td>\n",
       "      <td>4</td>\n",
       "      <td>1</td>\n",
       "      <td>58.00</td>\n",
       "      <td>0.70</td>\n",
       "      <td>0</td>\n",
       "      <td>2020-02-01 00:11:16</td>\n",
       "    </tr>\n",
       "    <tr>\n",
       "      <th>4</th>\n",
       "      <td>10932</td>\n",
       "      <td>5</td>\n",
       "      <td>1</td>\n",
       "      <td>83.00</td>\n",
       "      <td>0.67</td>\n",
       "      <td>0</td>\n",
       "      <td>2020-02-01 00:13:12</td>\n",
       "    </tr>\n",
       "    <tr>\n",
       "      <th>...</th>\n",
       "      <td>...</td>\n",
       "      <td>...</td>\n",
       "      <td>...</td>\n",
       "      <td>...</td>\n",
       "      <td>...</td>\n",
       "      <td>...</td>\n",
       "      <td>...</td>\n",
       "    </tr>\n",
       "    <tr>\n",
       "      <th>2194346</th>\n",
       "      <td>10931</td>\n",
       "      <td>40</td>\n",
       "      <td>1</td>\n",
       "      <td>111.00</td>\n",
       "      <td>0.25</td>\n",
       "      <td>1</td>\n",
       "      <td>2020-02-03 16:26:37</td>\n",
       "    </tr>\n",
       "    <tr>\n",
       "      <th>2194347</th>\n",
       "      <td>10931</td>\n",
       "      <td>41</td>\n",
       "      <td>1</td>\n",
       "      <td>76.00</td>\n",
       "      <td>0.28</td>\n",
       "      <td>0</td>\n",
       "      <td>2020-02-03 16:28:06</td>\n",
       "    </tr>\n",
       "    <tr>\n",
       "      <th>2194348</th>\n",
       "      <td>10931</td>\n",
       "      <td>42</td>\n",
       "      <td>0</td>\n",
       "      <td>121.00</td>\n",
       "      <td>0.00</td>\n",
       "      <td>1</td>\n",
       "      <td>2020-02-03 16:30:17</td>\n",
       "    </tr>\n",
       "    <tr>\n",
       "      <th>2194349</th>\n",
       "      <td>10931</td>\n",
       "      <td>42</td>\n",
       "      <td>0</td>\n",
       "      <td>115.00</td>\n",
       "      <td>0.00</td>\n",
       "      <td>0</td>\n",
       "      <td>2020-02-03 16:33:40</td>\n",
       "    </tr>\n",
       "    <tr>\n",
       "      <th>2194350</th>\n",
       "      <td>10931</td>\n",
       "      <td>42</td>\n",
       "      <td>1</td>\n",
       "      <td>91.00</td>\n",
       "      <td>0.18</td>\n",
       "      <td>0</td>\n",
       "      <td>2020-02-03 16:35:18</td>\n",
       "    </tr>\n",
       "  </tbody>\n",
       "</table>\n",
       "<p>2125029 rows × 7 columns</p>\n",
       "</div>"
      ],
      "text/plain": [
       "        user_id  level_id  success  duration  reststep  help  \\\n",
       "0         10932         1        1    127.00      0.50     0   \n",
       "1         10932         2        1     69.00      0.70     0   \n",
       "2         10932         3        1     67.00      0.56     0   \n",
       "3         10932         4        1     58.00      0.70     0   \n",
       "4         10932         5        1     83.00      0.67     0   \n",
       "...         ...       ...      ...       ...       ...   ...   \n",
       "2194346   10931        40        1    111.00      0.25     1   \n",
       "2194347   10931        41        1     76.00      0.28     0   \n",
       "2194348   10931        42        0    121.00      0.00     1   \n",
       "2194349   10931        42        0    115.00      0.00     0   \n",
       "2194350   10931        42        1     91.00      0.18     0   \n",
       "\n",
       "                       time  \n",
       "0       2020-02-01 00:05:51  \n",
       "1       2020-02-01 00:08:01  \n",
       "2       2020-02-01 00:09:50  \n",
       "3       2020-02-01 00:11:16  \n",
       "4       2020-02-01 00:13:12  \n",
       "...                     ...  \n",
       "2194346 2020-02-03 16:26:37  \n",
       "2194347 2020-02-03 16:28:06  \n",
       "2194348 2020-02-03 16:30:17  \n",
       "2194349 2020-02-03 16:33:40  \n",
       "2194350 2020-02-03 16:35:18  \n",
       "\n",
       "[2125029 rows x 7 columns]"
      ]
     },
     "execution_count": 16,
     "metadata": {},
     "output_type": "execute_result"
    }
   ],
   "source": [
    "#Ensure column rename success\n",
    "users"
   ]
  },
  {
   "cell_type": "markdown",
   "id": "90ebc649",
   "metadata": {},
   "source": [
    "<div class=\"alert alert-success\">\n",
    "  <strong>Summary of Actions</strong>\n",
    "    <li>Dropped ~70k duplicates.</li>\n",
    "    <li>Changed user_id to string.</li>\n",
    "    <li>Converted time to datetime object.</li>\n",
    "    <li>Removed \"f_\"'s from column names.</li>\n",
    "</div>"
   ]
  },
  {
   "cell_type": "code",
   "execution_count": 17,
   "id": "5c734c79",
   "metadata": {},
   "outputs": [
    {
     "data": {
      "text/html": [
       "<div>\n",
       "<style scoped>\n",
       "    .dataframe tbody tr th:only-of-type {\n",
       "        vertical-align: middle;\n",
       "    }\n",
       "\n",
       "    .dataframe tbody tr th {\n",
       "        vertical-align: top;\n",
       "    }\n",
       "\n",
       "    .dataframe thead th {\n",
       "        text-align: right;\n",
       "    }\n",
       "</style>\n",
       "<table border=\"1\" class=\"dataframe\">\n",
       "  <thead>\n",
       "    <tr style=\"text-align: right;\">\n",
       "      <th></th>\n",
       "      <th>f_avg_duration</th>\n",
       "      <th>f_avg_passrate</th>\n",
       "      <th>f_avg_win_duration</th>\n",
       "      <th>f_avg_retrytimes</th>\n",
       "      <th>level_id</th>\n",
       "    </tr>\n",
       "  </thead>\n",
       "  <tbody>\n",
       "    <tr>\n",
       "      <th>0</th>\n",
       "      <td>39.89</td>\n",
       "      <td>0.94</td>\n",
       "      <td>35.58</td>\n",
       "      <td>0.02</td>\n",
       "      <td>1</td>\n",
       "    </tr>\n",
       "    <tr>\n",
       "      <th>1</th>\n",
       "      <td>60.68</td>\n",
       "      <td>0.99</td>\n",
       "      <td>56.72</td>\n",
       "      <td>0.00</td>\n",
       "      <td>2</td>\n",
       "    </tr>\n",
       "    <tr>\n",
       "      <th>2</th>\n",
       "      <td>76.95</td>\n",
       "      <td>0.99</td>\n",
       "      <td>71.79</td>\n",
       "      <td>0.00</td>\n",
       "      <td>3</td>\n",
       "    </tr>\n",
       "    <tr>\n",
       "      <th>3</th>\n",
       "      <td>58.17</td>\n",
       "      <td>0.99</td>\n",
       "      <td>54.84</td>\n",
       "      <td>0.00</td>\n",
       "      <td>4</td>\n",
       "    </tr>\n",
       "    <tr>\n",
       "      <th>4</th>\n",
       "      <td>101.78</td>\n",
       "      <td>0.95</td>\n",
       "      <td>85.65</td>\n",
       "      <td>0.03</td>\n",
       "      <td>5</td>\n",
       "    </tr>\n",
       "  </tbody>\n",
       "</table>\n",
       "</div>"
      ],
      "text/plain": [
       "   f_avg_duration  f_avg_passrate  f_avg_win_duration  f_avg_retrytimes  \\\n",
       "0           39.89            0.94               35.58              0.02   \n",
       "1           60.68            0.99               56.72              0.00   \n",
       "2           76.95            0.99               71.79              0.00   \n",
       "3           58.17            0.99               54.84              0.00   \n",
       "4          101.78            0.95               85.65              0.03   \n",
       "\n",
       "   level_id  \n",
       "0         1  \n",
       "1         2  \n",
       "2         3  \n",
       "3         4  \n",
       "4         5  "
      ]
     },
     "execution_count": 17,
     "metadata": {},
     "output_type": "execute_result"
    }
   ],
   "source": [
    "#Examine levels dataset\n",
    "levels.head()"
   ]
  },
  {
   "cell_type": "code",
   "execution_count": 18,
   "id": "399b07eb",
   "metadata": {},
   "outputs": [
    {
     "name": "stdout",
     "output_type": "stream",
     "text": [
      "<class 'pandas.core.frame.DataFrame'>\n",
      "RangeIndex: 1509 entries, 0 to 1508\n",
      "Data columns (total 5 columns):\n",
      " #   Column              Non-Null Count  Dtype  \n",
      "---  ------              --------------  -----  \n",
      " 0   f_avg_duration      1509 non-null   float64\n",
      " 1   f_avg_passrate      1509 non-null   float64\n",
      " 2   f_avg_win_duration  1509 non-null   float64\n",
      " 3   f_avg_retrytimes    1509 non-null   float64\n",
      " 4   level_id            1509 non-null   int64  \n",
      "dtypes: float64(4), int64(1)\n",
      "memory usage: 59.1 KB\n"
     ]
    }
   ],
   "source": [
    "#Examine levels data types\n",
    "levels.info()"
   ]
  },
  {
   "cell_type": "code",
   "execution_count": 19,
   "id": "153c5e86",
   "metadata": {},
   "outputs": [
    {
     "data": {
      "text/html": [
       "<div>\n",
       "<style scoped>\n",
       "    .dataframe tbody tr th:only-of-type {\n",
       "        vertical-align: middle;\n",
       "    }\n",
       "\n",
       "    .dataframe tbody tr th {\n",
       "        vertical-align: top;\n",
       "    }\n",
       "\n",
       "    .dataframe thead th {\n",
       "        text-align: right;\n",
       "    }\n",
       "</style>\n",
       "<table border=\"1\" class=\"dataframe\">\n",
       "  <thead>\n",
       "    <tr style=\"text-align: right;\">\n",
       "      <th></th>\n",
       "      <th>f_avg_duration</th>\n",
       "      <th>f_avg_passrate</th>\n",
       "      <th>f_avg_win_duration</th>\n",
       "      <th>f_avg_retrytimes</th>\n",
       "      <th>level_id</th>\n",
       "    </tr>\n",
       "  </thead>\n",
       "  <tbody>\n",
       "    <tr>\n",
       "      <th>count</th>\n",
       "      <td>1509.00</td>\n",
       "      <td>1509.00</td>\n",
       "      <td>1509.00</td>\n",
       "      <td>1509.00</td>\n",
       "      <td>1509.00</td>\n",
       "    </tr>\n",
       "    <tr>\n",
       "      <th>mean</th>\n",
       "      <td>514.41</td>\n",
       "      <td>0.45</td>\n",
       "      <td>116.01</td>\n",
       "      <td>3.42</td>\n",
       "      <td>755.00</td>\n",
       "    </tr>\n",
       "    <tr>\n",
       "      <th>std</th>\n",
       "      <td>234.73</td>\n",
       "      <td>0.19</td>\n",
       "      <td>27.66</td>\n",
       "      <td>4.07</td>\n",
       "      <td>435.76</td>\n",
       "    </tr>\n",
       "    <tr>\n",
       "      <th>min</th>\n",
       "      <td>39.89</td>\n",
       "      <td>0.00</td>\n",
       "      <td>35.58</td>\n",
       "      <td>0.00</td>\n",
       "      <td>1.00</td>\n",
       "    </tr>\n",
       "    <tr>\n",
       "      <th>25%</th>\n",
       "      <td>372.25</td>\n",
       "      <td>0.33</td>\n",
       "      <td>101.24</td>\n",
       "      <td>2.00</td>\n",
       "      <td>378.00</td>\n",
       "    </tr>\n",
       "    <tr>\n",
       "      <th>50%</th>\n",
       "      <td>497.65</td>\n",
       "      <td>0.40</td>\n",
       "      <td>112.67</td>\n",
       "      <td>3.29</td>\n",
       "      <td>755.00</td>\n",
       "    </tr>\n",
       "    <tr>\n",
       "      <th>75%</th>\n",
       "      <td>623.59</td>\n",
       "      <td>0.51</td>\n",
       "      <td>126.44</td>\n",
       "      <td>4.41</td>\n",
       "      <td>1132.00</td>\n",
       "    </tr>\n",
       "    <tr>\n",
       "      <th>max</th>\n",
       "      <td>2105.00</td>\n",
       "      <td>1.00</td>\n",
       "      <td>540.00</td>\n",
       "      <td>98.00</td>\n",
       "      <td>1509.00</td>\n",
       "    </tr>\n",
       "  </tbody>\n",
       "</table>\n",
       "</div>"
      ],
      "text/plain": [
       "       f_avg_duration  f_avg_passrate  f_avg_win_duration  f_avg_retrytimes  \\\n",
       "count         1509.00         1509.00             1509.00           1509.00   \n",
       "mean           514.41            0.45              116.01              3.42   \n",
       "std            234.73            0.19               27.66              4.07   \n",
       "min             39.89            0.00               35.58              0.00   \n",
       "25%            372.25            0.33              101.24              2.00   \n",
       "50%            497.65            0.40              112.67              3.29   \n",
       "75%            623.59            0.51              126.44              4.41   \n",
       "max           2105.00            1.00              540.00             98.00   \n",
       "\n",
       "       level_id  \n",
       "count   1509.00  \n",
       "mean     755.00  \n",
       "std      435.76  \n",
       "min        1.00  \n",
       "25%      378.00  \n",
       "50%      755.00  \n",
       "75%     1132.00  \n",
       "max     1509.00  "
      ]
     },
     "execution_count": 19,
     "metadata": {},
     "output_type": "execute_result"
    }
   ],
   "source": [
    "#Summary statistics for levels\n",
    "levels.describe()"
   ]
  },
  {
   "cell_type": "code",
   "execution_count": 20,
   "id": "2d965647",
   "metadata": {},
   "outputs": [
    {
     "data": {
      "text/plain": [
       "0"
      ]
     },
     "execution_count": 20,
     "metadata": {},
     "output_type": "execute_result"
    }
   ],
   "source": [
    "#Check for duplicates\n",
    "levels.duplicated().sum()"
   ]
  },
  {
   "cell_type": "code",
   "execution_count": 21,
   "id": "6539e702",
   "metadata": {},
   "outputs": [
    {
     "data": {
      "text/plain": [
       "f_avg_duration        0\n",
       "f_avg_passrate        0\n",
       "f_avg_win_duration    0\n",
       "f_avg_retrytimes      0\n",
       "level_id              0\n",
       "dtype: int64"
      ]
     },
     "execution_count": 21,
     "metadata": {},
     "output_type": "execute_result"
    }
   ],
   "source": [
    "#Check for null values\n",
    "levels.isna().sum()"
   ]
  },
  {
   "cell_type": "markdown",
   "id": "8000f34c",
   "metadata": {},
   "source": [
    "<div class=\"alert alert-warning\">\n",
    "  <strong>Summary of Findings</strong>\n",
    "    <li>No null values or duplicates.</li>\n",
    "    <li>No need for data type conversions. level_id is technically a serial number and I could convert it to string, but not absolutely necessary.</li>\n",
    "    <li>Need to move level_id to the left side.</li>\n",
    "</div>"
   ]
  },
  {
   "cell_type": "code",
   "execution_count": 22,
   "id": "9d5c3c02",
   "metadata": {},
   "outputs": [],
   "source": [
    "#Assign columns to list variable\n",
    "cols = levels.columns.tolist()"
   ]
  },
  {
   "cell_type": "code",
   "execution_count": 23,
   "id": "5b9d026e",
   "metadata": {},
   "outputs": [
    {
     "data": {
      "text/plain": [
       "['f_avg_duration',\n",
       " 'f_avg_passrate',\n",
       " 'f_avg_win_duration',\n",
       " 'f_avg_retrytimes',\n",
       " 'level_id']"
      ]
     },
     "execution_count": 23,
     "metadata": {},
     "output_type": "execute_result"
    }
   ],
   "source": [
    "#Check column list variable\n",
    "cols"
   ]
  },
  {
   "cell_type": "code",
   "execution_count": 24,
   "id": "c8b54d3c",
   "metadata": {},
   "outputs": [],
   "source": [
    "#Move level_id to first position by adding the last element of the column list (level_id)\n",
    "#to a list slice of all elements except the last element and reassign the cols list\n",
    "cols = cols[-1:] + cols[:-1]"
   ]
  },
  {
   "cell_type": "code",
   "execution_count": 25,
   "id": "e8a26bdf",
   "metadata": {},
   "outputs": [
    {
     "data": {
      "text/plain": [
       "['level_id',\n",
       " 'f_avg_duration',\n",
       " 'f_avg_passrate',\n",
       " 'f_avg_win_duration',\n",
       " 'f_avg_retrytimes']"
      ]
     },
     "execution_count": 25,
     "metadata": {},
     "output_type": "execute_result"
    }
   ],
   "source": [
    "#Ensure proper order\n",
    "cols"
   ]
  },
  {
   "cell_type": "code",
   "execution_count": 26,
   "id": "88d44f75",
   "metadata": {},
   "outputs": [],
   "source": [
    "#Assign newly ordered list to levels dataframe\n",
    "levels = levels[cols]"
   ]
  },
  {
   "cell_type": "code",
   "execution_count": 27,
   "id": "ace44416",
   "metadata": {},
   "outputs": [
    {
     "data": {
      "text/html": [
       "<div>\n",
       "<style scoped>\n",
       "    .dataframe tbody tr th:only-of-type {\n",
       "        vertical-align: middle;\n",
       "    }\n",
       "\n",
       "    .dataframe tbody tr th {\n",
       "        vertical-align: top;\n",
       "    }\n",
       "\n",
       "    .dataframe thead th {\n",
       "        text-align: right;\n",
       "    }\n",
       "</style>\n",
       "<table border=\"1\" class=\"dataframe\">\n",
       "  <thead>\n",
       "    <tr style=\"text-align: right;\">\n",
       "      <th></th>\n",
       "      <th>level_id</th>\n",
       "      <th>f_avg_duration</th>\n",
       "      <th>f_avg_passrate</th>\n",
       "      <th>f_avg_win_duration</th>\n",
       "      <th>f_avg_retrytimes</th>\n",
       "    </tr>\n",
       "  </thead>\n",
       "  <tbody>\n",
       "    <tr>\n",
       "      <th>0</th>\n",
       "      <td>1</td>\n",
       "      <td>39.89</td>\n",
       "      <td>0.94</td>\n",
       "      <td>35.58</td>\n",
       "      <td>0.02</td>\n",
       "    </tr>\n",
       "    <tr>\n",
       "      <th>1</th>\n",
       "      <td>2</td>\n",
       "      <td>60.68</td>\n",
       "      <td>0.99</td>\n",
       "      <td>56.72</td>\n",
       "      <td>0.00</td>\n",
       "    </tr>\n",
       "    <tr>\n",
       "      <th>2</th>\n",
       "      <td>3</td>\n",
       "      <td>76.95</td>\n",
       "      <td>0.99</td>\n",
       "      <td>71.79</td>\n",
       "      <td>0.00</td>\n",
       "    </tr>\n",
       "    <tr>\n",
       "      <th>3</th>\n",
       "      <td>4</td>\n",
       "      <td>58.17</td>\n",
       "      <td>0.99</td>\n",
       "      <td>54.84</td>\n",
       "      <td>0.00</td>\n",
       "    </tr>\n",
       "    <tr>\n",
       "      <th>4</th>\n",
       "      <td>5</td>\n",
       "      <td>101.78</td>\n",
       "      <td>0.95</td>\n",
       "      <td>85.65</td>\n",
       "      <td>0.03</td>\n",
       "    </tr>\n",
       "    <tr>\n",
       "      <th>...</th>\n",
       "      <td>...</td>\n",
       "      <td>...</td>\n",
       "      <td>...</td>\n",
       "      <td>...</td>\n",
       "      <td>...</td>\n",
       "    </tr>\n",
       "    <tr>\n",
       "      <th>1504</th>\n",
       "      <td>1505</td>\n",
       "      <td>594.88</td>\n",
       "      <td>0.45</td>\n",
       "      <td>133.62</td>\n",
       "      <td>3.19</td>\n",
       "    </tr>\n",
       "    <tr>\n",
       "      <th>1505</th>\n",
       "      <td>1506</td>\n",
       "      <td>486.56</td>\n",
       "      <td>0.45</td>\n",
       "      <td>115.91</td>\n",
       "      <td>3.22</td>\n",
       "    </tr>\n",
       "    <tr>\n",
       "      <th>1506</th>\n",
       "      <td>1507</td>\n",
       "      <td>325.97</td>\n",
       "      <td>0.57</td>\n",
       "      <td>86.25</td>\n",
       "      <td>2.69</td>\n",
       "    </tr>\n",
       "    <tr>\n",
       "      <th>1507</th>\n",
       "      <td>1508</td>\n",
       "      <td>793.10</td>\n",
       "      <td>0.32</td>\n",
       "      <td>164.00</td>\n",
       "      <td>5.42</td>\n",
       "    </tr>\n",
       "    <tr>\n",
       "      <th>1508</th>\n",
       "      <td>1509</td>\n",
       "      <td>423.41</td>\n",
       "      <td>0.46</td>\n",
       "      <td>106.83</td>\n",
       "      <td>2.20</td>\n",
       "    </tr>\n",
       "  </tbody>\n",
       "</table>\n",
       "<p>1509 rows × 5 columns</p>\n",
       "</div>"
      ],
      "text/plain": [
       "      level_id  f_avg_duration  f_avg_passrate  f_avg_win_duration  \\\n",
       "0            1           39.89            0.94               35.58   \n",
       "1            2           60.68            0.99               56.72   \n",
       "2            3           76.95            0.99               71.79   \n",
       "3            4           58.17            0.99               54.84   \n",
       "4            5          101.78            0.95               85.65   \n",
       "...        ...             ...             ...                 ...   \n",
       "1504      1505          594.88            0.45              133.62   \n",
       "1505      1506          486.56            0.45              115.91   \n",
       "1506      1507          325.97            0.57               86.25   \n",
       "1507      1508          793.10            0.32              164.00   \n",
       "1508      1509          423.41            0.46              106.83   \n",
       "\n",
       "      f_avg_retrytimes  \n",
       "0                 0.02  \n",
       "1                 0.00  \n",
       "2                 0.00  \n",
       "3                 0.00  \n",
       "4                 0.03  \n",
       "...                ...  \n",
       "1504              3.19  \n",
       "1505              3.22  \n",
       "1506              2.69  \n",
       "1507              5.42  \n",
       "1508              2.20  \n",
       "\n",
       "[1509 rows x 5 columns]"
      ]
     },
     "execution_count": 27,
     "metadata": {},
     "output_type": "execute_result"
    }
   ],
   "source": [
    "#Ensure success\n",
    "levels"
   ]
  },
  {
   "cell_type": "markdown",
   "id": "fc454904",
   "metadata": {},
   "source": [
    "<div class=\"alert alert-success\">\n",
    "  <strong>Summary of Actions</strong>\n",
    "    <li>Moved level_id to the left side for better readability.</li>\n",
    "</div>"
   ]
  },
  {
   "cell_type": "markdown",
   "id": "7a2b6fa2",
   "metadata": {},
   "source": [
    "## Step 2: EDA"
   ]
  },
  {
   "cell_type": "markdown",
   "id": "6481dd73",
   "metadata": {},
   "source": [
    "### Step 2a: Users"
   ]
  },
  {
   "cell_type": "code",
   "execution_count": 28,
   "id": "350034b1",
   "metadata": {},
   "outputs": [
    {
     "data": {
      "text/html": [
       "<div>\n",
       "<style scoped>\n",
       "    .dataframe tbody tr th:only-of-type {\n",
       "        vertical-align: middle;\n",
       "    }\n",
       "\n",
       "    .dataframe tbody tr th {\n",
       "        vertical-align: top;\n",
       "    }\n",
       "\n",
       "    .dataframe thead th {\n",
       "        text-align: right;\n",
       "    }\n",
       "</style>\n",
       "<table border=\"1\" class=\"dataframe\">\n",
       "  <thead>\n",
       "    <tr style=\"text-align: right;\">\n",
       "      <th></th>\n",
       "      <th>user_id</th>\n",
       "      <th>level_id</th>\n",
       "      <th>success</th>\n",
       "      <th>duration</th>\n",
       "      <th>reststep</th>\n",
       "      <th>help</th>\n",
       "      <th>time</th>\n",
       "    </tr>\n",
       "  </thead>\n",
       "  <tbody>\n",
       "    <tr>\n",
       "      <th>0</th>\n",
       "      <td>10932</td>\n",
       "      <td>1</td>\n",
       "      <td>1</td>\n",
       "      <td>127.00</td>\n",
       "      <td>0.50</td>\n",
       "      <td>0</td>\n",
       "      <td>2020-02-01 00:05:51</td>\n",
       "    </tr>\n",
       "    <tr>\n",
       "      <th>1</th>\n",
       "      <td>10932</td>\n",
       "      <td>2</td>\n",
       "      <td>1</td>\n",
       "      <td>69.00</td>\n",
       "      <td>0.70</td>\n",
       "      <td>0</td>\n",
       "      <td>2020-02-01 00:08:01</td>\n",
       "    </tr>\n",
       "    <tr>\n",
       "      <th>2</th>\n",
       "      <td>10932</td>\n",
       "      <td>3</td>\n",
       "      <td>1</td>\n",
       "      <td>67.00</td>\n",
       "      <td>0.56</td>\n",
       "      <td>0</td>\n",
       "      <td>2020-02-01 00:09:50</td>\n",
       "    </tr>\n",
       "    <tr>\n",
       "      <th>3</th>\n",
       "      <td>10932</td>\n",
       "      <td>4</td>\n",
       "      <td>1</td>\n",
       "      <td>58.00</td>\n",
       "      <td>0.70</td>\n",
       "      <td>0</td>\n",
       "      <td>2020-02-01 00:11:16</td>\n",
       "    </tr>\n",
       "    <tr>\n",
       "      <th>4</th>\n",
       "      <td>10932</td>\n",
       "      <td>5</td>\n",
       "      <td>1</td>\n",
       "      <td>83.00</td>\n",
       "      <td>0.67</td>\n",
       "      <td>0</td>\n",
       "      <td>2020-02-01 00:13:12</td>\n",
       "    </tr>\n",
       "  </tbody>\n",
       "</table>\n",
       "</div>"
      ],
      "text/plain": [
       "  user_id  level_id  success  duration  reststep  help                time\n",
       "0   10932         1        1    127.00      0.50     0 2020-02-01 00:05:51\n",
       "1   10932         2        1     69.00      0.70     0 2020-02-01 00:08:01\n",
       "2   10932         3        1     67.00      0.56     0 2020-02-01 00:09:50\n",
       "3   10932         4        1     58.00      0.70     0 2020-02-01 00:11:16\n",
       "4   10932         5        1     83.00      0.67     0 2020-02-01 00:13:12"
      ]
     },
     "execution_count": 28,
     "metadata": {},
     "output_type": "execute_result"
    }
   ],
   "source": [
    "#Display users first 5 rows\n",
    "users.head()"
   ]
  },
  {
   "cell_type": "code",
   "execution_count": 29,
   "id": "9e010bbe",
   "metadata": {},
   "outputs": [
    {
     "data": {
      "text/plain": [
       "13589"
      ]
     },
     "execution_count": 29,
     "metadata": {},
     "output_type": "execute_result"
    }
   ],
   "source": [
    "#Examine number of uniqiue users\n",
    "users['user_id'].nunique()"
   ]
  },
  {
   "cell_type": "code",
   "execution_count": 30,
   "id": "c83eb7f0",
   "metadata": {},
   "outputs": [
    {
     "data": {
      "text/plain": [
       "1509"
      ]
     },
     "execution_count": 30,
     "metadata": {},
     "output_type": "execute_result"
    }
   ],
   "source": [
    "#Examine number of levels\n",
    "users['level_id'].max()"
   ]
  },
  {
   "cell_type": "code",
   "execution_count": 31,
   "id": "b278b467",
   "metadata": {},
   "outputs": [
    {
     "data": {
      "text/plain": [
       "1    1121482\n",
       "0    1003547\n",
       "Name: success, dtype: int64"
      ]
     },
     "execution_count": 31,
     "metadata": {},
     "output_type": "execute_result"
    }
   ],
   "source": [
    "#Count of successful and failed level attempts\n",
    "users['success'].value_counts()"
   ]
  },
  {
   "cell_type": "code",
   "execution_count": 136,
   "id": "0d5e7fe0",
   "metadata": {},
   "outputs": [
    {
     "data": {
      "text/plain": [
       "1    52.8%\n",
       "0    47.2%\n",
       "Name: success, dtype: object"
      ]
     },
     "execution_count": 136,
     "metadata": {},
     "output_type": "execute_result"
    }
   ],
   "source": [
    "#Frequency of successful and failed level attempts\n",
    "users['success'].value_counts(normalize=True).mul(100).round(1).astype(str) + '%'"
   ]
  },
  {
   "cell_type": "code",
   "execution_count": 33,
   "id": "c79e4b99",
   "metadata": {},
   "outputs": [
    {
     "data": {
      "text/plain": [
       "count   2125029.00\n",
       "mean        107.97\n",
       "std          53.58\n",
       "min           1.00\n",
       "25%          77.00\n",
       "50%          99.00\n",
       "75%         127.00\n",
       "max         600.00\n",
       "Name: duration, dtype: float64"
      ]
     },
     "execution_count": 33,
     "metadata": {},
     "output_type": "execute_result"
    }
   ],
   "source": [
    "#Summary statistics for level attempt duration\n",
    "users['duration'].describe()"
   ]
  },
  {
   "cell_type": "code",
   "execution_count": 34,
   "id": "0fce18bd",
   "metadata": {},
   "outputs": [
    {
     "data": {
      "text/plain": [
       "(-0.001, 30.0]     39631\n",
       "(30.0, 60.0]      198198\n",
       "(60.0, 90.0]      609736\n",
       "(90.0, 120.0]     641522\n",
       "(120.0, 180.0]    502838\n",
       "(180.0, 240.0]     86564\n",
       "(240.0, 300.0]     22077\n",
       "(300.0, 420.0]     15391\n",
       "(420.0, 540.0]      6742\n",
       "(540.0, 600.0]      2330\n",
       "Name: duration, dtype: int64"
      ]
     },
     "execution_count": 34,
     "metadata": {},
     "output_type": "execute_result"
    }
   ],
   "source": [
    "#Bins of level attempt duration\n",
    "users['duration'].value_counts(bins=[0,30,60,90,120,180,240,300,420,540,600]).sort_index()"
   ]
  },
  {
   "cell_type": "code",
   "execution_count": 35,
   "id": "988e18ce",
   "metadata": {},
   "outputs": [
    {
     "data": {
      "image/png": "[encoded data removed]",
      "text/plain": [
       "<Figure size 864x432 with 1 Axes>"
      ]
     },
     "metadata": {},
     "output_type": "display_data"
    }
   ],
   "source": [
    "#Histogram of level attempt duration\n",
    "plt.rcParams.update({'axes.facecolor':'gold'})\n",
    "plt.figure(figsize=(12,6), facecolor='gold')\n",
    "users['duration'].plot(kind='hist', bins=60)\n",
    "plt.xlabel('Seconds', fontsize=18)\n",
    "plt.ylabel('Count of Players', fontsize=18)\n",
    "plt.xticks(fontsize=14, rotation=60)\n",
    "plt.yticks(fontsize=14)\n",
    "plt.title('Duration of Level Attempts', fontsize=22)\n",
    "#plt.tight_layout()\n",
    "plt.show()"
   ]
  },
  {
   "cell_type": "code",
   "execution_count": 36,
   "id": "0ca1d97d",
   "metadata": {
    "scrolled": true
   },
   "outputs": [
    {
     "data": {
      "text/plain": [
       "count   2125029.00\n",
       "mean          0.17\n",
       "std           0.23\n",
       "min           0.00\n",
       "25%           0.00\n",
       "50%           0.05\n",
       "75%           0.29\n",
       "max           1.00\n",
       "Name: reststep, dtype: float64"
      ]
     },
     "execution_count": 36,
     "metadata": {},
     "output_type": "execute_result"
    }
   ],
   "source": [
    "#Summary statistics for ratio of remaining steps to limited steps (zero is failure)\n",
    "users['reststep'].describe()"
   ]
  },
  {
   "cell_type": "code",
   "execution_count": 37,
   "id": "46107097",
   "metadata": {},
   "outputs": [
    {
     "data": {
      "text/plain": [
       "(-0.001, 0.1]    1214599\n",
       "(0.1, 0.2]        228139\n",
       "(0.2, 0.3]        182524\n",
       "(0.3, 0.4]        150483\n",
       "(0.4, 0.5]        131613\n",
       "(0.5, 0.6]         78533\n",
       "(0.6, 0.7]         61077\n",
       "(0.7, 0.8]         44052\n",
       "(0.9, 1.0]         18590\n",
       "(0.8, 0.9]         15419\n",
       "Name: reststep, dtype: int64"
      ]
     },
     "execution_count": 37,
     "metadata": {},
     "output_type": "execute_result"
    }
   ],
   "source": [
    "#Bins of remaining steps\n",
    "users['reststep'].value_counts(bins=[0,.1,.2,.3,.4,.5,.6,.7,.8,.9,1])"
   ]
  },
  {
   "cell_type": "code",
   "execution_count": 139,
   "id": "ad9029be",
   "metadata": {},
   "outputs": [
    {
     "data": {
      "text/plain": [
       "(-0.001, 0.1]    57.2%\n",
       "(0.1, 0.2]       10.7%\n",
       "(0.2, 0.3]        8.6%\n",
       "(0.3, 0.4]        7.1%\n",
       "(0.4, 0.5]        6.2%\n",
       "(0.5, 0.6]        3.7%\n",
       "(0.6, 0.7]        2.9%\n",
       "(0.7, 0.8]        2.1%\n",
       "(0.9, 1.0]        0.9%\n",
       "(0.8, 0.9]        0.7%\n",
       "Name: reststep, dtype: object"
      ]
     },
     "execution_count": 139,
     "metadata": {},
     "output_type": "execute_result"
    }
   ],
   "source": [
    "#Frequency of remaining steps (failure is zero)\n",
    "users['reststep'].value_counts(bins=[0,.1,.2,.3,.4,.5,.6,.7,.8,.9,1],\n",
    "                               normalize=True).mul(100).round(1).astype(str) + '%'"
   ]
  },
  {
   "cell_type": "code",
   "execution_count": 39,
   "id": "d7413eca",
   "metadata": {},
   "outputs": [
    {
     "data": {
      "image/png": "[encoded data removed]",
      "text/plain": [
       "<Figure size 864x432 with 1 Axes>"
      ]
     },
     "metadata": {},
     "output_type": "display_data"
    }
   ],
   "source": [
    "#Histogram of player performance in terms of their ratio of remaining steps\n",
    "plt.rcParams.update({'axes.facecolor':'gold'})\n",
    "plt.figure(figsize=(12,6), facecolor='gold')\n",
    "users['reststep'].plot(kind='hist', bins=10)\n",
    "plt.xlabel('Ratio of Remaining Steps', fontsize=18)\n",
    "plt.ylabel('Count of Players', fontsize=18)\n",
    "plt.xticks(fontsize=14, rotation=60)\n",
    "plt.yticks(fontsize=14)\n",
    "plt.title('Player Performance in Terms of Remaining Steps (Zero is Failure)', fontsize=22)\n",
    "#plt.tight_layout()\n",
    "plt.show()"
   ]
  },
  {
   "cell_type": "code",
   "execution_count": 40,
   "id": "3a86783c",
   "metadata": {},
   "outputs": [
    {
     "data": {
      "text/plain": [
       "0    2031601\n",
       "1      93428\n",
       "Name: help, dtype: int64"
      ]
     },
     "execution_count": 40,
     "metadata": {},
     "output_type": "execute_result"
    }
   ],
   "source": [
    "#Count of whether or not hints were used\n",
    "users['help'].value_counts()"
   ]
  },
  {
   "cell_type": "code",
   "execution_count": 134,
   "id": "8a84f8dd",
   "metadata": {},
   "outputs": [
    {
     "data": {
      "text/plain": [
       "0    95.6%\n",
       "1     4.4%\n",
       "Name: help, dtype: object"
      ]
     },
     "execution_count": 134,
     "metadata": {},
     "output_type": "execute_result"
    }
   ],
   "source": [
    "#Frequency of whether or not hints were used\n",
    "users['help'].value_counts(normalize=True).mul(100).round(1).astype(str) + '%'"
   ]
  },
  {
   "cell_type": "code",
   "execution_count": 42,
   "id": "ba11fffe",
   "metadata": {
    "scrolled": true
   },
   "outputs": [
    {
     "name": "stdout",
     "output_type": "stream",
     "text": [
      "2020-02-01 00:00:20 2020-02-04 23:59:59\n"
     ]
    }
   ],
   "source": [
    "#Examine time interval of data collection\n",
    "print(users['time'].min(), users['time'].max())"
   ]
  },
  {
   "cell_type": "code",
   "execution_count": 163,
   "id": "bfcb52a6",
   "metadata": {},
   "outputs": [],
   "source": [
    "#Assign variable for count of play sessions over time\n",
    "level_time_1000 = users.groupby(['time'])['user_id'].count().head(1000)"
   ]
  },
  {
   "cell_type": "code",
   "execution_count": 164,
   "id": "4e7cdb9f",
   "metadata": {
    "scrolled": true
   },
   "outputs": [
    {
     "data": {
      "image/png": "[encoded data removed]",
      "text/plain": [
       "<Figure size 864x432 with 1 Axes>"
      ]
     },
     "metadata": {},
     "output_type": "display_data"
    }
   ],
   "source": [
    "#Line graph of count of play sessions over time\n",
    "plt.rcParams.update({'axes.facecolor':'gold'})\n",
    "plt.figure(figsize=(12,6), facecolor='gold')\n",
    "level_time_1000.plot(kind='line')\n",
    "plt.xlabel('Time and Date', fontsize=18)\n",
    "plt.ylabel('Count of Sessions', fontsize=18)\n",
    "plt.xticks(fontsize=14, rotation=60)\n",
    "plt.yticks(fontsize=14)\n",
    "plt.title('Play Sessions over Time', fontsize=22)\n",
    "#plt.tight_layout()\n",
    "plt.show()"
   ]
  },
  {
   "cell_type": "code",
   "execution_count": 165,
   "id": "e43e1b8b",
   "metadata": {},
   "outputs": [],
   "source": [
    "#Assign variable for count of play sessions over time\n",
    "level_time_1000_tail = users.groupby(['time'])['user_id'].count().tail(1000)"
   ]
  },
  {
   "cell_type": "code",
   "execution_count": 166,
   "id": "61eefcc0",
   "metadata": {},
   "outputs": [
    {
     "data": {
      "image/png": "[encoded data removed]",
      "text/plain": [
       "<Figure size 864x432 with 1 Axes>"
      ]
     },
     "metadata": {},
     "output_type": "display_data"
    }
   ],
   "source": [
    "#Line graph of count of play sessions over time\n",
    "plt.rcParams.update({'axes.facecolor':'gold'})\n",
    "plt.figure(figsize=(12,6), facecolor='gold')\n",
    "level_time_1000_tail.plot(kind='line')\n",
    "plt.xlabel('Time and Date', fontsize=18)\n",
    "plt.ylabel('Count of Sessions', fontsize=18)\n",
    "plt.xticks(fontsize=14, rotation=60)\n",
    "plt.yticks(fontsize=14)\n",
    "plt.title('Play Sessions over Time', fontsize=22)\n",
    "#plt.tight_layout()\n",
    "plt.show()"
   ]
  },
  {
   "cell_type": "code",
   "execution_count": 43,
   "id": "0448532f",
   "metadata": {},
   "outputs": [],
   "source": [
    "#Assign variable for count of play sessions over time\n",
    "level_time = users.groupby(['time'])['user_id'].count()"
   ]
  },
  {
   "cell_type": "code",
   "execution_count": 44,
   "id": "34311ec4",
   "metadata": {},
   "outputs": [
    {
     "data": {
      "image/png": "[encoded data removed]",
      "text/plain": [
       "<Figure size 864x432 with 1 Axes>"
      ]
     },
     "metadata": {},
     "output_type": "display_data"
    }
   ],
   "source": [
    "#Line graph of count of play sessions over time\n",
    "plt.rcParams.update({'axes.facecolor':'gold'})\n",
    "plt.figure(figsize=(12,6), facecolor='gold')\n",
    "level_time.plot(kind='line')\n",
    "plt.xlabel('Time and Date', fontsize=18)\n",
    "plt.ylabel('Count of Sessions', fontsize=18)\n",
    "plt.xticks(fontsize=14, rotation=60)\n",
    "plt.yticks(fontsize=14)\n",
    "plt.title('Play Sessions over Time', fontsize=22)\n",
    "#plt.tight_layout()\n",
    "plt.show()"
   ]
  },
  {
   "cell_type": "markdown",
   "id": "a664c417",
   "metadata": {},
   "source": [
    "<div class=\"alert alert-warning\">\n",
    "  <strong>Summary of Findings</strong>\n",
    "    <li>There are 13,589 players.</li>\n",
    "    <li>There are 1509 levels.</li>\n",
    "    <li>There's an almost even number of level completions and failures.</li>\n",
    "    <li>Level attempt duration is unimodal around ~100 seconds and features right skewness.</li>\n",
    "    <li>Player performance in terms of ratio of remaining steps is unimodal around 0.1 and features right skewness</li> \n",
    "    <li>Most users (96%) don't use hints.</li>\n",
    "    <li>This data was collected from the beginning of Feb 1, 2020 to the end of Feb 4, 2020.</li>\n",
    "    <li>Play time was concentrated at the following days and times:</li>\n",
    "         <ol>\n",
    "            <li>Feb 1: 6pm to midnight.</li>\n",
    "            <li>Feb 2: Around noon and then again at night.</li>\n",
    "            <li>Feb 3: Noon to midnight.</li>\n",
    "            <li>Feb 4: Noon to midnight.</li>\n",
    "         </ol>\n",
    "</div>"
   ]
  },
  {
   "cell_type": "code",
   "execution_count": 45,
   "id": "5ca9d263",
   "metadata": {},
   "outputs": [],
   "source": [
    "#Create variable for level attempt successes\n",
    "success_users = users[users['success'] == 1]"
   ]
  },
  {
   "cell_type": "code",
   "execution_count": 46,
   "id": "22a9e188",
   "metadata": {},
   "outputs": [
    {
     "data": {
      "text/html": [
       "<div>\n",
       "<style scoped>\n",
       "    .dataframe tbody tr th:only-of-type {\n",
       "        vertical-align: middle;\n",
       "    }\n",
       "\n",
       "    .dataframe tbody tr th {\n",
       "        vertical-align: top;\n",
       "    }\n",
       "\n",
       "    .dataframe thead th {\n",
       "        text-align: right;\n",
       "    }\n",
       "</style>\n",
       "<table border=\"1\" class=\"dataframe\">\n",
       "  <thead>\n",
       "    <tr style=\"text-align: right;\">\n",
       "      <th></th>\n",
       "      <th>level_id</th>\n",
       "      <th>success</th>\n",
       "      <th>duration</th>\n",
       "      <th>reststep</th>\n",
       "      <th>help</th>\n",
       "    </tr>\n",
       "  </thead>\n",
       "  <tbody>\n",
       "    <tr>\n",
       "      <th>count</th>\n",
       "      <td>1121482.00</td>\n",
       "      <td>1121482.00</td>\n",
       "      <td>1121482.00</td>\n",
       "      <td>1121482.00</td>\n",
       "      <td>1121482.00</td>\n",
       "    </tr>\n",
       "    <tr>\n",
       "      <th>mean</th>\n",
       "      <td>69.92</td>\n",
       "      <td>1.00</td>\n",
       "      <td>104.21</td>\n",
       "      <td>0.28</td>\n",
       "      <td>0.06</td>\n",
       "    </tr>\n",
       "    <tr>\n",
       "      <th>std</th>\n",
       "      <td>67.51</td>\n",
       "      <td>0.00</td>\n",
       "      <td>52.18</td>\n",
       "      <td>0.22</td>\n",
       "      <td>0.24</td>\n",
       "    </tr>\n",
       "    <tr>\n",
       "      <th>min</th>\n",
       "      <td>1.00</td>\n",
       "      <td>1.00</td>\n",
       "      <td>13.00</td>\n",
       "      <td>0.00</td>\n",
       "      <td>0.00</td>\n",
       "    </tr>\n",
       "    <tr>\n",
       "      <th>25%</th>\n",
       "      <td>24.00</td>\n",
       "      <td>1.00</td>\n",
       "      <td>72.00</td>\n",
       "      <td>0.10</td>\n",
       "      <td>0.00</td>\n",
       "    </tr>\n",
       "    <tr>\n",
       "      <th>50%</th>\n",
       "      <td>54.00</td>\n",
       "      <td>1.00</td>\n",
       "      <td>96.00</td>\n",
       "      <td>0.23</td>\n",
       "      <td>0.00</td>\n",
       "    </tr>\n",
       "    <tr>\n",
       "      <th>75%</th>\n",
       "      <td>97.00</td>\n",
       "      <td>1.00</td>\n",
       "      <td>124.00</td>\n",
       "      <td>0.42</td>\n",
       "      <td>0.00</td>\n",
       "    </tr>\n",
       "    <tr>\n",
       "      <th>max</th>\n",
       "      <td>1508.00</td>\n",
       "      <td>1.00</td>\n",
       "      <td>600.00</td>\n",
       "      <td>1.00</td>\n",
       "      <td>1.00</td>\n",
       "    </tr>\n",
       "  </tbody>\n",
       "</table>\n",
       "</div>"
      ],
      "text/plain": [
       "        level_id    success   duration   reststep       help\n",
       "count 1121482.00 1121482.00 1121482.00 1121482.00 1121482.00\n",
       "mean       69.92       1.00     104.21       0.28       0.06\n",
       "std        67.51       0.00      52.18       0.22       0.24\n",
       "min         1.00       1.00      13.00       0.00       0.00\n",
       "25%        24.00       1.00      72.00       0.10       0.00\n",
       "50%        54.00       1.00      96.00       0.23       0.00\n",
       "75%        97.00       1.00     124.00       0.42       0.00\n",
       "max      1508.00       1.00     600.00       1.00       1.00"
      ]
     },
     "execution_count": 46,
     "metadata": {},
     "output_type": "execute_result"
    }
   ],
   "source": [
    "#Summary statistics for level attempt successes\n",
    "success_users.describe()"
   ]
  },
  {
   "cell_type": "code",
   "execution_count": 47,
   "id": "4588ca38",
   "metadata": {},
   "outputs": [
    {
     "data": {
      "text/plain": [
       "13573"
      ]
     },
     "execution_count": 47,
     "metadata": {},
     "output_type": "execute_result"
    }
   ],
   "source": [
    "#Number of unique users who successfully completed levels\n",
    "success_users['user_id'].nunique()"
   ]
  },
  {
   "cell_type": "code",
   "execution_count": 128,
   "id": "4b103746",
   "metadata": {},
   "outputs": [
    {
     "name": "stdout",
     "output_type": "stream",
     "text": [
      "99.88 %\n"
     ]
    }
   ],
   "source": [
    "#Percentage of unique users who successfully completed levels\n",
    "print(round(success_users['user_id'].nunique() / users['user_id'].nunique(),4) * 100, '%')"
   ]
  },
  {
   "cell_type": "code",
   "execution_count": 48,
   "id": "61d4202f",
   "metadata": {},
   "outputs": [
    {
     "data": {
      "text/plain": [
       "1483"
      ]
     },
     "execution_count": 48,
     "metadata": {},
     "output_type": "execute_result"
    }
   ],
   "source": [
    "#Number of unique levels that were successfully completed\n",
    "success_users['level_id'].nunique()"
   ]
  },
  {
   "cell_type": "code",
   "execution_count": 49,
   "id": "0e1a65e1",
   "metadata": {},
   "outputs": [
    {
     "data": {
      "text/plain": [
       "count   1121482.00\n",
       "mean        104.21\n",
       "std          52.18\n",
       "min          13.00\n",
       "25%          72.00\n",
       "50%          96.00\n",
       "75%         124.00\n",
       "max         600.00\n",
       "Name: duration, dtype: float64"
      ]
     },
     "execution_count": 49,
     "metadata": {},
     "output_type": "execute_result"
    }
   ],
   "source": [
    "#Summary statistics for successful level attempt duration\n",
    "success_users['duration'].describe()"
   ]
  },
  {
   "cell_type": "code",
   "execution_count": 50,
   "id": "5b540a5d",
   "metadata": {},
   "outputs": [
    {
     "data": {
      "text/plain": [
       "(-0.001, 10.0]         0\n",
       "(10.0, 20.0]        1223\n",
       "(20.0, 30.0]       12170\n",
       "(30.0, 40.0]       24426\n",
       "(40.0, 50.0]       47594\n",
       "(50.0, 60.0]       73988\n",
       "(60.0, 70.0]       98823\n",
       "(70.0, 80.0]      116694\n",
       "(80.0, 90.0]      124096\n",
       "(90.0, 100.0]     119575\n",
       "(100.0, 110.0]    107001\n",
       "(110.0, 120.0]     90306\n",
       "(120.0, 130.0]     72148\n",
       "(130.0, 140.0]     55597\n",
       "(140.0, 150.0]     42338\n",
       "(150.0, 160.0]     31501\n",
       "(160.0, 170.0]     23118\n",
       "(170.0, 180.0]     16941\n",
       "(180.0, 190.0]     12587\n",
       "(190.0, 200.0]      9392\n",
       "(200.0, 600.0]     41964\n",
       "Name: duration, dtype: int64"
      ]
     },
     "execution_count": 50,
     "metadata": {},
     "output_type": "execute_result"
    }
   ],
   "source": [
    "#Bins of successful level attempt duration\n",
    "success_users['duration'].value_counts(bins=[0,10,20,30,40,50,60,70,80,90,100,\n",
    "                                             110,120,130,140,150,160,170,180,190,200,600]).sort_index()"
   ]
  },
  {
   "cell_type": "code",
   "execution_count": 141,
   "id": "901be70b",
   "metadata": {},
   "outputs": [
    {
     "data": {
      "text/plain": [
       "(-0.001, 10.0]     0.0%\n",
       "(10.0, 20.0]       0.1%\n",
       "(20.0, 30.0]       1.1%\n",
       "(30.0, 40.0]       2.2%\n",
       "(40.0, 50.0]       4.2%\n",
       "(50.0, 60.0]       6.6%\n",
       "(60.0, 70.0]       8.8%\n",
       "(70.0, 80.0]      10.4%\n",
       "(80.0, 90.0]      11.1%\n",
       "(90.0, 100.0]     10.7%\n",
       "(100.0, 110.0]     9.5%\n",
       "(110.0, 120.0]     8.1%\n",
       "(120.0, 130.0]     6.4%\n",
       "(130.0, 140.0]     5.0%\n",
       "(140.0, 150.0]     3.8%\n",
       "(150.0, 160.0]     2.8%\n",
       "(160.0, 170.0]     2.1%\n",
       "(170.0, 180.0]     1.5%\n",
       "(180.0, 190.0]     1.1%\n",
       "(190.0, 200.0]     0.8%\n",
       "(200.0, 600.0]     3.7%\n",
       "Name: duration, dtype: object"
      ]
     },
     "execution_count": 141,
     "metadata": {},
     "output_type": "execute_result"
    }
   ],
   "source": [
    "#Frequency of successful level attempt duration\n",
    "success_users['duration'].value_counts(bins=[0,10,20,30,40,50,60,70,80,90,100,\n",
    "                                             110,120,130,140,150,160,170,180,190,200,600],\n",
    "                                       normalize=True).sort_index().mul(100).round(1).astype(str) + '%'"
   ]
  },
  {
   "cell_type": "code",
   "execution_count": 52,
   "id": "6beab104",
   "metadata": {},
   "outputs": [
    {
     "data": {
      "image/png": "[encoded data removed]",
      "text/plain": [
       "<Figure size 864x432 with 1 Axes>"
      ]
     },
     "metadata": {},
     "output_type": "display_data"
    }
   ],
   "source": [
    "#Histogram of successful level attempt duration\n",
    "plt.rcParams.update({'axes.facecolor':'gold'})\n",
    "plt.figure(figsize=(12,6), facecolor='gold')\n",
    "success_users['duration'].plot(kind='hist', bins=60)\n",
    "plt.xlabel('Seconds', fontsize=18)\n",
    "plt.ylabel('Count of Players', fontsize=18)\n",
    "plt.xticks(fontsize=14, rotation=60)\n",
    "plt.yticks(fontsize=14)\n",
    "plt.title('Successful Level Attempt Duration', fontsize=22)\n",
    "#plt.tight_layout()\n",
    "plt.show()"
   ]
  },
  {
   "cell_type": "code",
   "execution_count": 53,
   "id": "5b23082a",
   "metadata": {},
   "outputs": [
    {
     "data": {
      "text/plain": [
       "count   1121482.00\n",
       "mean          0.28\n",
       "std           0.22\n",
       "min           0.00\n",
       "25%           0.10\n",
       "50%           0.23\n",
       "75%           0.42\n",
       "max           1.00\n",
       "Name: reststep, dtype: float64"
      ]
     },
     "execution_count": 53,
     "metadata": {},
     "output_type": "execute_result"
    }
   ],
   "source": [
    "#\n",
    "success_users['reststep'].describe()"
   ]
  },
  {
   "cell_type": "code",
   "execution_count": 143,
   "id": "002e9fdf",
   "metadata": {},
   "outputs": [
    {
     "data": {
      "text/plain": [
       "(-0.002, 0.1]    301694\n",
       "(0.1, 0.2]       210331\n",
       "(0.2, 0.3]       171295\n",
       "(0.3, 0.4]       140331\n",
       "(0.4, 0.5]       122511\n",
       "(0.5, 0.6]        70955\n",
       "(0.6, 0.7]        53619\n",
       "(0.7, 0.8]        36480\n",
       "(0.8, 0.9]         8259\n",
       "(0.9, 1.0]         6007\n",
       "Name: reststep, dtype: int64"
      ]
     },
     "execution_count": 143,
     "metadata": {},
     "output_type": "execute_result"
    }
   ],
   "source": [
    "success_users['reststep'].value_counts(bins=10).sort_index()"
   ]
  },
  {
   "cell_type": "code",
   "execution_count": 145,
   "id": "2ff2da3e",
   "metadata": {},
   "outputs": [
    {
     "data": {
      "text/plain": [
       "(-0.002, 0.1]    26.9%\n",
       "(0.1, 0.2]       18.8%\n",
       "(0.2, 0.3]       15.3%\n",
       "(0.3, 0.4]       12.5%\n",
       "(0.4, 0.5]       10.9%\n",
       "(0.5, 0.6]        6.3%\n",
       "(0.6, 0.7]        4.8%\n",
       "(0.7, 0.8]        3.3%\n",
       "(0.8, 0.9]        0.7%\n",
       "(0.9, 1.0]        0.5%\n",
       "Name: reststep, dtype: object"
      ]
     },
     "execution_count": 145,
     "metadata": {},
     "output_type": "execute_result"
    }
   ],
   "source": [
    "success_users['reststep'].value_counts(bins=10, normalize=True).sort_index().mul(100).round(1).astype(str) + '%'"
   ]
  },
  {
   "cell_type": "code",
   "execution_count": 56,
   "id": "18bec56b",
   "metadata": {},
   "outputs": [
    {
     "data": {
      "image/png": "[encoded data removed]",
      "text/plain": [
       "<Figure size 864x432 with 1 Axes>"
      ]
     },
     "metadata": {},
     "output_type": "display_data"
    }
   ],
   "source": [
    "#Histogram of successful player performance in terms of their ratio of remaining steps (Zero is failure)\n",
    "plt.rcParams.update({'axes.facecolor':'gold'})\n",
    "plt.figure(figsize=(12,6), facecolor='gold')\n",
    "success_users['reststep'].plot(kind='hist')\n",
    "plt.xlabel('Ratio of Remaining Steps', fontsize=18)\n",
    "plt.ylabel('Count of Players', fontsize=18)\n",
    "plt.xticks(fontsize=14, rotation=60)\n",
    "plt.yticks(fontsize=14)\n",
    "plt.title('Player Performance', fontsize=22)\n",
    "#plt.tight_layout()\n",
    "plt.show()"
   ]
  },
  {
   "cell_type": "code",
   "execution_count": 57,
   "id": "453b164d",
   "metadata": {},
   "outputs": [
    {
     "data": {
      "text/plain": [
       "0    1053366\n",
       "1      68116\n",
       "Name: help, dtype: int64"
      ]
     },
     "execution_count": 57,
     "metadata": {},
     "output_type": "execute_result"
    }
   ],
   "source": [
    "success_users['help'].value_counts()"
   ]
  },
  {
   "cell_type": "code",
   "execution_count": 146,
   "id": "1012024e",
   "metadata": {},
   "outputs": [
    {
     "data": {
      "text/plain": [
       "0    93.9%\n",
       "1     6.1%\n",
       "Name: help, dtype: object"
      ]
     },
     "execution_count": 146,
     "metadata": {},
     "output_type": "execute_result"
    }
   ],
   "source": [
    "success_users['help'].value_counts(normalize=True).mul(100).round(1).astype(str) + '%'"
   ]
  },
  {
   "cell_type": "markdown",
   "id": "ee1667c3",
   "metadata": {},
   "source": [
    "<div class=\"alert alert-warning\">\n",
    "  <strong>Summary of Findings</strong>\n",
    "    <li>Of the 13,589 total players, 13,573 have completed at least one level.</li>\n",
    "    <li>There are 1,483 levels (out of 1,509) that have been completed, even though the penultimate level has been completed. How can you advance without completing a level?</li>\n",
    "    <li>Successful level attempt duration is unimodal around ~100 seconds and features right skewness.</li>\n",
    "    <li>Successful player performance in terms of ratio of remaining steps is unimodal around 0.1 and features right skewness</li> \n",
    "    <li>Most users (94%) don't use hints.</li>\n",
    "</div>"
   ]
  },
  {
   "cell_type": "code",
   "execution_count": 59,
   "id": "42d4c802",
   "metadata": {},
   "outputs": [],
   "source": [
    "fail_users = users[users['success'] == 0]"
   ]
  },
  {
   "cell_type": "code",
   "execution_count": 60,
   "id": "0b985c2a",
   "metadata": {},
   "outputs": [
    {
     "data": {
      "text/html": [
       "<div>\n",
       "<style scoped>\n",
       "    .dataframe tbody tr th:only-of-type {\n",
       "        vertical-align: middle;\n",
       "    }\n",
       "\n",
       "    .dataframe tbody tr th {\n",
       "        vertical-align: top;\n",
       "    }\n",
       "\n",
       "    .dataframe thead th {\n",
       "        text-align: right;\n",
       "    }\n",
       "</style>\n",
       "<table border=\"1\" class=\"dataframe\">\n",
       "  <thead>\n",
       "    <tr style=\"text-align: right;\">\n",
       "      <th></th>\n",
       "      <th>level_id</th>\n",
       "      <th>success</th>\n",
       "      <th>duration</th>\n",
       "      <th>reststep</th>\n",
       "      <th>help</th>\n",
       "    </tr>\n",
       "  </thead>\n",
       "  <tbody>\n",
       "    <tr>\n",
       "      <th>count</th>\n",
       "      <td>1003547.00</td>\n",
       "      <td>1003547.00</td>\n",
       "      <td>1003547.00</td>\n",
       "      <td>1003547.00</td>\n",
       "      <td>1003547.00</td>\n",
       "    </tr>\n",
       "    <tr>\n",
       "      <th>mean</th>\n",
       "      <td>128.26</td>\n",
       "      <td>0.00</td>\n",
       "      <td>112.17</td>\n",
       "      <td>0.05</td>\n",
       "      <td>0.03</td>\n",
       "    </tr>\n",
       "    <tr>\n",
       "      <th>std</th>\n",
       "      <td>90.67</td>\n",
       "      <td>0.00</td>\n",
       "      <td>54.80</td>\n",
       "      <td>0.17</td>\n",
       "      <td>0.16</td>\n",
       "    </tr>\n",
       "    <tr>\n",
       "      <th>min</th>\n",
       "      <td>1.00</td>\n",
       "      <td>0.00</td>\n",
       "      <td>1.00</td>\n",
       "      <td>0.00</td>\n",
       "      <td>0.00</td>\n",
       "    </tr>\n",
       "    <tr>\n",
       "      <th>25%</th>\n",
       "      <td>73.00</td>\n",
       "      <td>0.00</td>\n",
       "      <td>82.00</td>\n",
       "      <td>0.00</td>\n",
       "      <td>0.00</td>\n",
       "    </tr>\n",
       "    <tr>\n",
       "      <th>50%</th>\n",
       "      <td>113.00</td>\n",
       "      <td>0.00</td>\n",
       "      <td>104.00</td>\n",
       "      <td>0.00</td>\n",
       "      <td>0.00</td>\n",
       "    </tr>\n",
       "    <tr>\n",
       "      <th>75%</th>\n",
       "      <td>174.00</td>\n",
       "      <td>0.00</td>\n",
       "      <td>131.00</td>\n",
       "      <td>0.00</td>\n",
       "      <td>0.00</td>\n",
       "    </tr>\n",
       "    <tr>\n",
       "      <th>max</th>\n",
       "      <td>1509.00</td>\n",
       "      <td>0.00</td>\n",
       "      <td>600.00</td>\n",
       "      <td>1.00</td>\n",
       "      <td>1.00</td>\n",
       "    </tr>\n",
       "  </tbody>\n",
       "</table>\n",
       "</div>"
      ],
      "text/plain": [
       "        level_id    success   duration   reststep       help\n",
       "count 1003547.00 1003547.00 1003547.00 1003547.00 1003547.00\n",
       "mean      128.26       0.00     112.17       0.05       0.03\n",
       "std        90.67       0.00      54.80       0.17       0.16\n",
       "min         1.00       0.00       1.00       0.00       0.00\n",
       "25%        73.00       0.00      82.00       0.00       0.00\n",
       "50%       113.00       0.00     104.00       0.00       0.00\n",
       "75%       174.00       0.00     131.00       0.00       0.00\n",
       "max      1509.00       0.00     600.00       1.00       1.00"
      ]
     },
     "execution_count": 60,
     "metadata": {},
     "output_type": "execute_result"
    }
   ],
   "source": [
    "fail_users.describe()"
   ]
  },
  {
   "cell_type": "code",
   "execution_count": 61,
   "id": "ca1fcd49",
   "metadata": {},
   "outputs": [
    {
     "data": {
      "text/plain": [
       "12894"
      ]
     },
     "execution_count": 61,
     "metadata": {},
     "output_type": "execute_result"
    }
   ],
   "source": [
    "fail_users['user_id'].nunique()"
   ]
  },
  {
   "cell_type": "code",
   "execution_count": 62,
   "id": "7a48ca61",
   "metadata": {},
   "outputs": [
    {
     "data": {
      "text/plain": [
       "1222"
      ]
     },
     "execution_count": 62,
     "metadata": {},
     "output_type": "execute_result"
    }
   ],
   "source": [
    "fail_users['level_id'].nunique()"
   ]
  },
  {
   "cell_type": "code",
   "execution_count": 63,
   "id": "715f99d2",
   "metadata": {},
   "outputs": [
    {
     "data": {
      "text/plain": [
       "count   1003547.00\n",
       "mean        112.17\n",
       "std          54.80\n",
       "min           1.00\n",
       "25%          82.00\n",
       "50%         104.00\n",
       "75%         131.00\n",
       "max         600.00\n",
       "Name: duration, dtype: float64"
      ]
     },
     "execution_count": 63,
     "metadata": {},
     "output_type": "execute_result"
    }
   ],
   "source": [
    "fail_users['duration'].describe()"
   ]
  },
  {
   "cell_type": "code",
   "execution_count": 64,
   "id": "3ba179d3",
   "metadata": {},
   "outputs": [
    {
     "data": {
      "text/plain": [
       "(-0.001, 10.0]      8545\n",
       "(10.0, 20.0]        9193\n",
       "(20.0, 30.0]        8500\n",
       "(30.0, 40.0]        9078\n",
       "(40.0, 50.0]       12956\n",
       "(50.0, 60.0]       30156\n",
       "(60.0, 70.0]       62123\n",
       "(70.0, 80.0]       94144\n",
       "(80.0, 90.0]      113856\n",
       "(90.0, 100.0]     118492\n",
       "(100.0, 110.0]    110322\n",
       "(110.0, 120.0]     95826\n",
       "(120.0, 130.0]     77598\n",
       "(130.0, 140.0]     60922\n",
       "(140.0, 150.0]     45640\n",
       "(150.0, 160.0]     33788\n",
       "(160.0, 170.0]     24881\n",
       "(170.0, 180.0]     18366\n",
       "(180.0, 190.0]     13357\n",
       "(190.0, 200.0]      9938\n",
       "(200.0, 600.0]     45866\n",
       "Name: duration, dtype: int64"
      ]
     },
     "execution_count": 64,
     "metadata": {},
     "output_type": "execute_result"
    }
   ],
   "source": [
    "fail_users['duration'].value_counts(bins=[0,10,20,30,40,50,60,70,80,90,100,\n",
    "                                             110,120,130,140,150,160,170,180,190,200,600]).sort_index()"
   ]
  },
  {
   "cell_type": "code",
   "execution_count": 148,
   "id": "335fe91f",
   "metadata": {},
   "outputs": [
    {
     "data": {
      "text/plain": [
       "(-0.001, 10.0]     0.9%\n",
       "(10.0, 20.0]       0.9%\n",
       "(20.0, 30.0]       0.8%\n",
       "(30.0, 40.0]       0.9%\n",
       "(40.0, 50.0]       1.3%\n",
       "(50.0, 60.0]       3.0%\n",
       "(60.0, 70.0]       6.2%\n",
       "(70.0, 80.0]       9.4%\n",
       "(80.0, 90.0]      11.3%\n",
       "(90.0, 100.0]     11.8%\n",
       "(100.0, 110.0]    11.0%\n",
       "(110.0, 120.0]     9.5%\n",
       "(120.0, 130.0]     7.7%\n",
       "(130.0, 140.0]     6.1%\n",
       "(140.0, 150.0]     4.5%\n",
       "(150.0, 160.0]     3.4%\n",
       "(160.0, 170.0]     2.5%\n",
       "(170.0, 180.0]     1.8%\n",
       "(180.0, 190.0]     1.3%\n",
       "(190.0, 200.0]     1.0%\n",
       "(200.0, 600.0]     4.6%\n",
       "Name: duration, dtype: object"
      ]
     },
     "execution_count": 148,
     "metadata": {},
     "output_type": "execute_result"
    }
   ],
   "source": [
    "fail_users['duration'].value_counts(bins=[0,10,20,30,40,50,60,70,80,90,100,110,\n",
    "                                             120,130,140,150,160,170,180,190,200,600],\n",
    "                                    normalize=True).sort_index().mul(100).round(1).astype(str) + '%'"
   ]
  },
  {
   "cell_type": "code",
   "execution_count": 66,
   "id": "185ec815",
   "metadata": {},
   "outputs": [
    {
     "data": {
      "image/png": "[encoded data removed]",
      "text/plain": [
       "<Figure size 864x432 with 1 Axes>"
      ]
     },
     "metadata": {},
     "output_type": "display_data"
    }
   ],
   "source": [
    "#Histogram of failed level attempt duration\n",
    "plt.rcParams.update({'axes.facecolor':'gold'})\n",
    "plt.figure(figsize=(12,6), facecolor='gold')\n",
    "fail_users['duration'].plot(kind='hist', bins=60)\n",
    "plt.xlabel('Seconds', fontsize=18)\n",
    "plt.ylabel('Count of Players', fontsize=18)\n",
    "plt.xticks(fontsize=14, rotation=60)\n",
    "plt.yticks(fontsize=14)\n",
    "plt.title('Failed Level Attempt Duration', fontsize=22)\n",
    "#plt.tight_layout()\n",
    "plt.show()"
   ]
  },
  {
   "cell_type": "code",
   "execution_count": 67,
   "id": "95495c9e",
   "metadata": {},
   "outputs": [
    {
     "data": {
      "text/plain": [
       "count   1003547.00\n",
       "mean          0.05\n",
       "std           0.17\n",
       "min           0.00\n",
       "25%           0.00\n",
       "50%           0.00\n",
       "75%           0.00\n",
       "max           1.00\n",
       "Name: reststep, dtype: float64"
      ]
     },
     "execution_count": 67,
     "metadata": {},
     "output_type": "execute_result"
    }
   ],
   "source": [
    "fail_users['reststep'].describe()"
   ]
  },
  {
   "cell_type": "code",
   "execution_count": 68,
   "id": "95ad586a",
   "metadata": {
    "scrolled": true
   },
   "outputs": [
    {
     "data": {
      "text/plain": [
       "(-0.002, 0.1]    912905\n",
       "(0.1, 0.2]        17808\n",
       "(0.9, 1.0]        12583\n",
       "(0.2, 0.3]        11229\n",
       "(0.3, 0.4]        10152\n",
       "(0.4, 0.5]         9102\n",
       "(0.5, 0.6]         7578\n",
       "(0.7, 0.8]         7572\n",
       "(0.6, 0.7]         7458\n",
       "(0.8, 0.9]         7160\n",
       "Name: reststep, dtype: int64"
      ]
     },
     "execution_count": 68,
     "metadata": {},
     "output_type": "execute_result"
    }
   ],
   "source": [
    "fail_users['reststep'].value_counts(bins=10)"
   ]
  },
  {
   "cell_type": "code",
   "execution_count": 149,
   "id": "8d0ef5ff",
   "metadata": {},
   "outputs": [
    {
     "data": {
      "text/plain": [
       "(-0.002, 0.1]    91.0%\n",
       "(0.1, 0.2]        1.8%\n",
       "(0.9, 1.0]        1.3%\n",
       "(0.2, 0.3]        1.1%\n",
       "(0.3, 0.4]        1.0%\n",
       "(0.4, 0.5]        0.9%\n",
       "(0.5, 0.6]        0.8%\n",
       "(0.7, 0.8]        0.8%\n",
       "(0.6, 0.7]        0.7%\n",
       "(0.8, 0.9]        0.7%\n",
       "Name: reststep, dtype: object"
      ]
     },
     "execution_count": 149,
     "metadata": {},
     "output_type": "execute_result"
    }
   ],
   "source": [
    "fail_users['reststep'].value_counts(bins=10, normalize=True).mul(100).round(1).astype(str) + '%'"
   ]
  },
  {
   "cell_type": "code",
   "execution_count": 70,
   "id": "32907bd9",
   "metadata": {},
   "outputs": [
    {
     "data": {
      "image/png": "[encoded data removed]",
      "text/plain": [
       "<Figure size 864x432 with 1 Axes>"
      ]
     },
     "metadata": {},
     "output_type": "display_data"
    }
   ],
   "source": [
    "#Histogram of successful player performance in terms of their ratio of remaining steps (Zero is failure)\n",
    "plt.rcParams.update({'axes.facecolor':'gold'})\n",
    "plt.figure(figsize=(12,6), facecolor='gold')\n",
    "fail_users['reststep'].plot(kind='hist')\n",
    "plt.xlabel('Ratio of Remaining Steps', fontsize=18)\n",
    "plt.ylabel('Count of Players', fontsize=18)\n",
    "plt.xticks(fontsize=14, rotation=60)\n",
    "plt.yticks(fontsize=14)\n",
    "plt.title('Player Performance', fontsize=22)\n",
    "#plt.tight_layout()\n",
    "plt.show()"
   ]
  },
  {
   "cell_type": "code",
   "execution_count": 71,
   "id": "5b2e21c7",
   "metadata": {},
   "outputs": [
    {
     "data": {
      "text/plain": [
       "count   1003547.00\n",
       "mean          0.03\n",
       "std           0.16\n",
       "min           0.00\n",
       "25%           0.00\n",
       "50%           0.00\n",
       "75%           0.00\n",
       "max           1.00\n",
       "Name: help, dtype: float64"
      ]
     },
     "execution_count": 71,
     "metadata": {},
     "output_type": "execute_result"
    }
   ],
   "source": [
    "fail_users['help'].describe()"
   ]
  },
  {
   "cell_type": "code",
   "execution_count": 72,
   "id": "d5971a51",
   "metadata": {},
   "outputs": [
    {
     "data": {
      "text/plain": [
       "0    978235\n",
       "1     25312\n",
       "Name: help, dtype: int64"
      ]
     },
     "execution_count": 72,
     "metadata": {},
     "output_type": "execute_result"
    }
   ],
   "source": [
    "fail_users['help'].value_counts()"
   ]
  },
  {
   "cell_type": "code",
   "execution_count": 150,
   "id": "a39b86dc",
   "metadata": {},
   "outputs": [
    {
     "data": {
      "text/plain": [
       "0    97.5%\n",
       "1     2.5%\n",
       "Name: help, dtype: object"
      ]
     },
     "execution_count": 150,
     "metadata": {},
     "output_type": "execute_result"
    }
   ],
   "source": [
    "fail_users['help'].value_counts(normalize=True).mul(100).round(1).astype(str) + '%'"
   ]
  },
  {
   "cell_type": "markdown",
   "id": "03ad8336",
   "metadata": {},
   "source": [
    "<div class=\"alert alert-warning\">\n",
    "  <strong>Summary of Findings</strong>\n",
    "    <li>Of the 13,589 total players, 12,894 have failed at least one level.</li>\n",
    "    <li>There are 1,222 levels (out of 1,509) that have been faied.</li>\n",
    "    <li>Failed level attempt duration is unimodal around ~100 seconds and features right skewness.</li>\n",
    "    <li>Failed player performance in terms of ratio of remaining steps is unimodal around 0.1 and features right skewness</li> \n",
    "    <li>Most users (97%) don't use hints.</li>\n",
    "</div>"
   ]
  },
  {
   "cell_type": "markdown",
   "id": "fe3ffd4a",
   "metadata": {},
   "source": [
    "### Step 2b: Levels"
   ]
  },
  {
   "cell_type": "code",
   "execution_count": 74,
   "id": "4b4a6400",
   "metadata": {},
   "outputs": [
    {
     "data": {
      "text/html": [
       "<div>\n",
       "<style scoped>\n",
       "    .dataframe tbody tr th:only-of-type {\n",
       "        vertical-align: middle;\n",
       "    }\n",
       "\n",
       "    .dataframe tbody tr th {\n",
       "        vertical-align: top;\n",
       "    }\n",
       "\n",
       "    .dataframe thead th {\n",
       "        text-align: right;\n",
       "    }\n",
       "</style>\n",
       "<table border=\"1\" class=\"dataframe\">\n",
       "  <thead>\n",
       "    <tr style=\"text-align: right;\">\n",
       "      <th></th>\n",
       "      <th>level_id</th>\n",
       "      <th>f_avg_duration</th>\n",
       "      <th>f_avg_passrate</th>\n",
       "      <th>f_avg_win_duration</th>\n",
       "      <th>f_avg_retrytimes</th>\n",
       "    </tr>\n",
       "  </thead>\n",
       "  <tbody>\n",
       "    <tr>\n",
       "      <th>0</th>\n",
       "      <td>1</td>\n",
       "      <td>39.89</td>\n",
       "      <td>0.94</td>\n",
       "      <td>35.58</td>\n",
       "      <td>0.02</td>\n",
       "    </tr>\n",
       "    <tr>\n",
       "      <th>1</th>\n",
       "      <td>2</td>\n",
       "      <td>60.68</td>\n",
       "      <td>0.99</td>\n",
       "      <td>56.72</td>\n",
       "      <td>0.00</td>\n",
       "    </tr>\n",
       "    <tr>\n",
       "      <th>2</th>\n",
       "      <td>3</td>\n",
       "      <td>76.95</td>\n",
       "      <td>0.99</td>\n",
       "      <td>71.79</td>\n",
       "      <td>0.00</td>\n",
       "    </tr>\n",
       "    <tr>\n",
       "      <th>3</th>\n",
       "      <td>4</td>\n",
       "      <td>58.17</td>\n",
       "      <td>0.99</td>\n",
       "      <td>54.84</td>\n",
       "      <td>0.00</td>\n",
       "    </tr>\n",
       "    <tr>\n",
       "      <th>4</th>\n",
       "      <td>5</td>\n",
       "      <td>101.78</td>\n",
       "      <td>0.95</td>\n",
       "      <td>85.65</td>\n",
       "      <td>0.03</td>\n",
       "    </tr>\n",
       "  </tbody>\n",
       "</table>\n",
       "</div>"
      ],
      "text/plain": [
       "   level_id  f_avg_duration  f_avg_passrate  f_avg_win_duration  \\\n",
       "0         1           39.89            0.94               35.58   \n",
       "1         2           60.68            0.99               56.72   \n",
       "2         3           76.95            0.99               71.79   \n",
       "3         4           58.17            0.99               54.84   \n",
       "4         5          101.78            0.95               85.65   \n",
       "\n",
       "   f_avg_retrytimes  \n",
       "0              0.02  \n",
       "1              0.00  \n",
       "2              0.00  \n",
       "3              0.00  \n",
       "4              0.03  "
      ]
     },
     "execution_count": 74,
     "metadata": {},
     "output_type": "execute_result"
    }
   ],
   "source": [
    "#Examine levels dataset\n",
    "levels.head()"
   ]
  },
  {
   "cell_type": "code",
   "execution_count": 75,
   "id": "d5599425",
   "metadata": {},
   "outputs": [],
   "source": [
    "#Rename columns to remove \"f_\"\n",
    "levels.rename(columns=({'f_avg_duration':'avg_duration','f_avg_passrate':'avg_passrate',\n",
    "                       'f_avg_win_duration':'avg_winduration','f_avg_retrytimes':'avg_retrytimes'}), inplace=True) "
   ]
  },
  {
   "cell_type": "code",
   "execution_count": 76,
   "id": "85cf21cf",
   "metadata": {},
   "outputs": [
    {
     "data": {
      "text/html": [
       "<div>\n",
       "<style scoped>\n",
       "    .dataframe tbody tr th:only-of-type {\n",
       "        vertical-align: middle;\n",
       "    }\n",
       "\n",
       "    .dataframe tbody tr th {\n",
       "        vertical-align: top;\n",
       "    }\n",
       "\n",
       "    .dataframe thead th {\n",
       "        text-align: right;\n",
       "    }\n",
       "</style>\n",
       "<table border=\"1\" class=\"dataframe\">\n",
       "  <thead>\n",
       "    <tr style=\"text-align: right;\">\n",
       "      <th></th>\n",
       "      <th>level_id</th>\n",
       "      <th>avg_duration</th>\n",
       "      <th>avg_passrate</th>\n",
       "      <th>avg_winduration</th>\n",
       "      <th>avg_retrytimes</th>\n",
       "    </tr>\n",
       "  </thead>\n",
       "  <tbody>\n",
       "    <tr>\n",
       "      <th>0</th>\n",
       "      <td>1</td>\n",
       "      <td>39.89</td>\n",
       "      <td>0.94</td>\n",
       "      <td>35.58</td>\n",
       "      <td>0.02</td>\n",
       "    </tr>\n",
       "    <tr>\n",
       "      <th>1</th>\n",
       "      <td>2</td>\n",
       "      <td>60.68</td>\n",
       "      <td>0.99</td>\n",
       "      <td>56.72</td>\n",
       "      <td>0.00</td>\n",
       "    </tr>\n",
       "    <tr>\n",
       "      <th>2</th>\n",
       "      <td>3</td>\n",
       "      <td>76.95</td>\n",
       "      <td>0.99</td>\n",
       "      <td>71.79</td>\n",
       "      <td>0.00</td>\n",
       "    </tr>\n",
       "    <tr>\n",
       "      <th>3</th>\n",
       "      <td>4</td>\n",
       "      <td>58.17</td>\n",
       "      <td>0.99</td>\n",
       "      <td>54.84</td>\n",
       "      <td>0.00</td>\n",
       "    </tr>\n",
       "    <tr>\n",
       "      <th>4</th>\n",
       "      <td>5</td>\n",
       "      <td>101.78</td>\n",
       "      <td>0.95</td>\n",
       "      <td>85.65</td>\n",
       "      <td>0.03</td>\n",
       "    </tr>\n",
       "  </tbody>\n",
       "</table>\n",
       "</div>"
      ],
      "text/plain": [
       "   level_id  avg_duration  avg_passrate  avg_winduration  avg_retrytimes\n",
       "0         1         39.89          0.94            35.58            0.02\n",
       "1         2         60.68          0.99            56.72            0.00\n",
       "2         3         76.95          0.99            71.79            0.00\n",
       "3         4         58.17          0.99            54.84            0.00\n",
       "4         5        101.78          0.95            85.65            0.03"
      ]
     },
     "execution_count": 76,
     "metadata": {},
     "output_type": "execute_result"
    }
   ],
   "source": [
    "#Ensure column rename success\n",
    "levels.head()"
   ]
  },
  {
   "cell_type": "code",
   "execution_count": 77,
   "id": "9ded3471",
   "metadata": {},
   "outputs": [
    {
     "data": {
      "text/plain": [
       "count   1509.00\n",
       "mean     514.41\n",
       "std      234.73\n",
       "min       39.89\n",
       "25%      372.25\n",
       "50%      497.65\n",
       "75%      623.59\n",
       "max     2105.00\n",
       "Name: avg_duration, dtype: float64"
      ]
     },
     "execution_count": 77,
     "metadata": {},
     "output_type": "execute_result"
    }
   ],
   "source": [
    "#Summary statistics for average level duration\n",
    "levels['avg_duration'].describe()"
   ]
  },
  {
   "cell_type": "code",
   "execution_count": 78,
   "id": "6ea1ee3e",
   "metadata": {},
   "outputs": [
    {
     "data": {
      "text/plain": [
       "(-0.001, 100.0]      24\n",
       "(100.0, 200.0]       92\n",
       "(200.0, 300.0]      128\n",
       "(300.0, 400.0]      196\n",
       "(400.0, 500.0]      322\n",
       "(500.0, 600.0]      311\n",
       "(600.0, 700.0]      191\n",
       "(700.0, 800.0]      108\n",
       "(800.0, 900.0]       56\n",
       "(900.0, 1000.0]      33\n",
       "(1000.0, 2000.0]     46\n",
       "(2000.0, 2500.0]      2\n",
       "Name: avg_duration, dtype: int64"
      ]
     },
     "execution_count": 78,
     "metadata": {},
     "output_type": "execute_result"
    }
   ],
   "source": [
    "#Bins of average level duration\n",
    "levels['avg_duration'].value_counts(bins=[0,100,200,300,400,500,600,700,800,900,1000,2000,2500]).sort_index()"
   ]
  },
  {
   "cell_type": "code",
   "execution_count": 151,
   "id": "31657824",
   "metadata": {},
   "outputs": [
    {
     "data": {
      "text/plain": [
       "(-0.001, 100.0]      1.6%\n",
       "(100.0, 200.0]       6.1%\n",
       "(200.0, 300.0]       8.5%\n",
       "(300.0, 400.0]      13.0%\n",
       "(400.0, 500.0]      21.3%\n",
       "(500.0, 600.0]      20.6%\n",
       "(600.0, 700.0]      12.7%\n",
       "(700.0, 800.0]       7.2%\n",
       "(800.0, 900.0]       3.7%\n",
       "(900.0, 1000.0]      2.2%\n",
       "(1000.0, 2000.0]     3.0%\n",
       "(2000.0, 2500.0]     0.1%\n",
       "Name: avg_duration, dtype: object"
      ]
     },
     "execution_count": 151,
     "metadata": {},
     "output_type": "execute_result"
    }
   ],
   "source": [
    "#Frequency Bins of average level duration\n",
    "levels['avg_duration'].value_counts(bins=[0,100,200,300,400,500,600,700,\n",
    "                                          800,900,1000,2000,2500],\n",
    "                                    normalize=True).sort_index().mul(100).round(1).astype(str) + '%'"
   ]
  },
  {
   "cell_type": "code",
   "execution_count": 80,
   "id": "14849ae7",
   "metadata": {},
   "outputs": [
    {
     "data": {
      "image/png": "[encoded data removed]",
      "text/plain": [
       "<Figure size 864x432 with 1 Axes>"
      ]
     },
     "metadata": {},
     "output_type": "display_data"
    }
   ],
   "source": [
    "#Histogram of average level duration\n",
    "plt.rcParams.update({'axes.facecolor':'gold'})\n",
    "plt.figure(figsize=(12,6), facecolor='gold')\n",
    "levels['avg_duration'].plot(kind='hist', bins=[100,200,300,400,500,600,700,800,900,1000])\n",
    "plt.xlabel('Seconds', fontsize=18)\n",
    "plt.ylabel('Count of Levels', fontsize=18)\n",
    "plt.xticks(fontsize=14, rotation=60)\n",
    "plt.yticks(fontsize=14)\n",
    "plt.title('Average Level Duration', fontsize=22)\n",
    "#plt.tight_layout()\n",
    "plt.show()"
   ]
  },
  {
   "cell_type": "code",
   "execution_count": 81,
   "id": "0be56531",
   "metadata": {},
   "outputs": [
    {
     "data": {
      "text/plain": [
       "count   1509.00\n",
       "mean       0.45\n",
       "std        0.19\n",
       "min        0.00\n",
       "25%        0.33\n",
       "50%        0.40\n",
       "75%        0.51\n",
       "max        1.00\n",
       "Name: avg_passrate, dtype: float64"
      ]
     },
     "execution_count": 81,
     "metadata": {},
     "output_type": "execute_result"
    }
   ],
   "source": [
    "#Summary statistics for average passrate\n",
    "levels['avg_passrate'].describe()"
   ]
  },
  {
   "cell_type": "code",
   "execution_count": 82,
   "id": "da214d8b",
   "metadata": {},
   "outputs": [
    {
     "data": {
      "text/plain": [
       "(-0.001, 0.1]     17\n",
       "(0.1, 0.2]        61\n",
       "(0.2, 0.3]       176\n",
       "(0.3, 0.4]       488\n",
       "(0.4, 0.5]       374\n",
       "(0.5, 0.6]       140\n",
       "(0.6, 0.7]        85\n",
       "(0.7, 0.8]        60\n",
       "(0.8, 0.9]        40\n",
       "(0.9, 1.0]        68\n",
       "Name: avg_passrate, dtype: int64"
      ]
     },
     "execution_count": 82,
     "metadata": {},
     "output_type": "execute_result"
    }
   ],
   "source": [
    "levels['avg_passrate'].value_counts(bins=[0,.1,.2,.3,.4,.5,.6,.7,.8,.9,1]).sort_index()"
   ]
  },
  {
   "cell_type": "code",
   "execution_count": 152,
   "id": "a4c88870",
   "metadata": {},
   "outputs": [
    {
     "data": {
      "text/plain": [
       "(-0.001, 0.1]     1.1%\n",
       "(0.1, 0.2]        4.0%\n",
       "(0.2, 0.3]       11.7%\n",
       "(0.3, 0.4]       32.3%\n",
       "(0.4, 0.5]       24.8%\n",
       "(0.5, 0.6]        9.3%\n",
       "(0.6, 0.7]        5.6%\n",
       "(0.7, 0.8]        4.0%\n",
       "(0.8, 0.9]        2.7%\n",
       "(0.9, 1.0]        4.5%\n",
       "Name: avg_passrate, dtype: object"
      ]
     },
     "execution_count": 152,
     "metadata": {},
     "output_type": "execute_result"
    }
   ],
   "source": [
    "levels['avg_passrate'].value_counts(bins=[0,.1,.2,.3,.4,.5,.6,.7,.8,.9,1],\n",
    "                                    normalize=True).sort_index().mul(100).round(1).astype(str) + '%'"
   ]
  },
  {
   "cell_type": "code",
   "execution_count": 84,
   "id": "a531876b",
   "metadata": {},
   "outputs": [
    {
     "data": {
      "image/png": "[encoded data removed]",
      "text/plain": [
       "<Figure size 864x432 with 1 Axes>"
      ]
     },
     "metadata": {},
     "output_type": "display_data"
    }
   ],
   "source": [
    "#Histogram of average level pass rate\n",
    "plt.rcParams.update({'axes.facecolor':'gold'})\n",
    "plt.figure(figsize=(12,6), facecolor='gold')\n",
    "levels['avg_passrate'].plot(kind='hist')\n",
    "plt.xlabel('Pass Rate', fontsize=18)\n",
    "plt.ylabel('Count of Levels', fontsize=18)\n",
    "plt.xticks(fontsize=14, rotation=60)\n",
    "plt.yticks(fontsize=14)\n",
    "plt.title('Average Level Pass Rate', fontsize=22)\n",
    "#plt.tight_layout()\n",
    "plt.show()"
   ]
  },
  {
   "cell_type": "code",
   "execution_count": 85,
   "id": "0efb8054",
   "metadata": {},
   "outputs": [
    {
     "data": {
      "text/plain": [
       "count   1509.00\n",
       "mean     116.01\n",
       "std       27.66\n",
       "min       35.58\n",
       "25%      101.24\n",
       "50%      112.67\n",
       "75%      126.44\n",
       "max      540.00\n",
       "Name: avg_winduration, dtype: float64"
      ]
     },
     "execution_count": 85,
     "metadata": {},
     "output_type": "execute_result"
    }
   ],
   "source": [
    "levels['avg_winduration'].describe()"
   ]
  },
  {
   "cell_type": "code",
   "execution_count": 86,
   "id": "d9c57dc7",
   "metadata": {},
   "outputs": [
    {
     "data": {
      "text/plain": [
       "(-0.001, 25.0]      0\n",
       "(25.0, 50.0]        1\n",
       "(50.0, 75.0]       25\n",
       "(75.0, 100.0]     314\n",
       "(100.0, 125.0]    760\n",
       "(125.0, 150.0]    302\n",
       "(150.0, 200.0]     89\n",
       "(200.0, 300.0]     16\n",
       "(300.0, 400.0]      0\n",
       "(400.0, 500.0]      0\n",
       "(500.0, 600.0]      2\n",
       "Name: avg_winduration, dtype: int64"
      ]
     },
     "execution_count": 86,
     "metadata": {},
     "output_type": "execute_result"
    }
   ],
   "source": [
    "#Bins of average level win duration\n",
    "levels['avg_winduration'].value_counts(bins=[0,25,50,75,100,125,150,200,300,400,500,600]).sort_index()"
   ]
  },
  {
   "cell_type": "code",
   "execution_count": 153,
   "id": "7c3ad2e6",
   "metadata": {},
   "outputs": [
    {
     "data": {
      "text/plain": [
       "(-0.001, 25.0]     0.0%\n",
       "(25.0, 50.0]       0.1%\n",
       "(50.0, 75.0]       1.7%\n",
       "(75.0, 100.0]     20.8%\n",
       "(100.0, 125.0]    50.4%\n",
       "(125.0, 150.0]    20.0%\n",
       "(150.0, 200.0]     5.9%\n",
       "(200.0, 300.0]     1.1%\n",
       "(300.0, 400.0]     0.0%\n",
       "(400.0, 500.0]     0.0%\n",
       "(500.0, 600.0]     0.1%\n",
       "Name: avg_winduration, dtype: object"
      ]
     },
     "execution_count": 153,
     "metadata": {},
     "output_type": "execute_result"
    }
   ],
   "source": [
    "#Bins of average level win duration\n",
    "levels['avg_winduration'].value_counts(bins=[0,25,50,75,100,125,150,200,300,400,500,600],\n",
    "                                       normalize=True).sort_index().mul(100).round(1).astype(str) + '%'"
   ]
  },
  {
   "cell_type": "code",
   "execution_count": 88,
   "id": "6b4c2dea",
   "metadata": {},
   "outputs": [
    {
     "data": {
      "image/png": "[encoded data removed]",
      "text/plain": [
       "<Figure size 864x432 with 1 Axes>"
      ]
     },
     "metadata": {},
     "output_type": "display_data"
    }
   ],
   "source": [
    "#Histogram of average level duration\n",
    "plt.rcParams.update({'axes.facecolor':'gold'})\n",
    "plt.figure(figsize=(12,6), facecolor='gold')\n",
    "levels['avg_winduration'].plot(kind='hist',bins=[0,25,50,75,100,125,150,200])\n",
    "plt.xlabel('Seconds', fontsize=18)\n",
    "plt.ylabel('Count of Levels', fontsize=18)\n",
    "plt.xticks(fontsize=14, rotation=60)\n",
    "plt.yticks(fontsize=14)\n",
    "plt.title('Average Level Win Duration', fontsize=22)\n",
    "#plt.tight_layout()\n",
    "plt.show()"
   ]
  },
  {
   "cell_type": "code",
   "execution_count": 89,
   "id": "f0eaf0ec",
   "metadata": {},
   "outputs": [
    {
     "data": {
      "text/plain": [
       "count   1509.00\n",
       "mean       3.42\n",
       "std        4.07\n",
       "min        0.00\n",
       "25%        2.00\n",
       "50%        3.29\n",
       "75%        4.41\n",
       "max       98.00\n",
       "Name: avg_retrytimes, dtype: float64"
      ]
     },
     "execution_count": 89,
     "metadata": {},
     "output_type": "execute_result"
    }
   ],
   "source": [
    "#Summary statistics for average number of retries\n",
    "levels['avg_retrytimes'].describe()"
   ]
  },
  {
   "cell_type": "code",
   "execution_count": 90,
   "id": "3dc1434e",
   "metadata": {},
   "outputs": [
    {
     "data": {
      "text/plain": [
       "(-0.001, 1.0]    256\n",
       "(1.0, 2.0]       136\n",
       "(2.0, 3.0]       251\n",
       "(3.0, 4.0]       380\n",
       "(4.0, 5.0]       263\n",
       "(5.0, 6.0]       107\n",
       "(6.0, 7.0]        52\n",
       "(7.0, 8.0]        24\n",
       "(8.0, 9.0]        16\n",
       "(9.0, 10.0]        8\n",
       "(10.0, 11.0]       3\n",
       "(11.0, 12.0]       2\n",
       "(12.0, 13.0]       5\n",
       "(13.0, 14.0]       1\n",
       "(14.0, 15.0]       0\n",
       "(15.0, 20.0]       2\n",
       "(20.0, 50.0]       1\n",
       "(50.0, 100.0]      2\n",
       "Name: avg_retrytimes, dtype: int64"
      ]
     },
     "execution_count": 90,
     "metadata": {},
     "output_type": "execute_result"
    }
   ],
   "source": [
    "#Bins of average level retries\n",
    "levels['avg_retrytimes'].value_counts(bins=[0,1,2,3,4,5,6,7,8,9,10,11,\n",
    "                                            12,13,14,15,20,50,100]).sort_index()"
   ]
  },
  {
   "cell_type": "code",
   "execution_count": 154,
   "id": "c5fc21bc",
   "metadata": {},
   "outputs": [
    {
     "data": {
      "text/plain": [
       "(-0.001, 1.0]    17.0%\n",
       "(1.0, 2.0]        9.0%\n",
       "(2.0, 3.0]       16.6%\n",
       "(3.0, 4.0]       25.2%\n",
       "(4.0, 5.0]       17.4%\n",
       "(5.0, 6.0]        7.1%\n",
       "(6.0, 7.0]        3.4%\n",
       "(7.0, 8.0]        1.6%\n",
       "(8.0, 9.0]        1.1%\n",
       "(9.0, 10.0]       0.5%\n",
       "(10.0, 100.0]     1.1%\n",
       "Name: avg_retrytimes, dtype: object"
      ]
     },
     "execution_count": 154,
     "metadata": {},
     "output_type": "execute_result"
    }
   ],
   "source": [
    "#Frequency of bins of average level retries\n",
    "levels['avg_retrytimes'].value_counts(bins=[0,1,2,3,4,5,6,7,8,9,10,100],\n",
    "                                      normalize=True).sort_index().mul(100).round(1).astype(str) + '%'"
   ]
  },
  {
   "cell_type": "code",
   "execution_count": 92,
   "id": "6a98314a",
   "metadata": {},
   "outputs": [
    {
     "data": {
      "image/png": "[encoded data removed]",
      "text/plain": [
       "<Figure size 864x432 with 1 Axes>"
      ]
     },
     "metadata": {},
     "output_type": "display_data"
    }
   ],
   "source": [
    "#Histogram of average number of retries\n",
    "plt.rcParams.update({'axes.facecolor':'gold'})\n",
    "plt.figure(figsize=(12,6), facecolor='gold')\n",
    "levels['avg_retrytimes'].plot(kind='hist',bins=[0,1,2,3,4,5,6,7,8,9,10])\n",
    "plt.xlabel('Average Number of Retries', fontsize=18)\n",
    "plt.ylabel('Count of Levels', fontsize=18)\n",
    "plt.xticks(fontsize=14, rotation=60)\n",
    "plt.yticks(fontsize=14)\n",
    "plt.title('Average Number of Retries', fontsize=22)\n",
    "#plt.tight_layout()\n",
    "plt.show()"
   ]
  },
  {
   "cell_type": "markdown",
   "id": "f9732f80",
   "metadata": {},
   "source": [
    "<div class=\"alert alert-warning\">\n",
    "  <strong>Summary of Findings</strong>\n",
    "    <li>Average level duration was normally distributed around 500/600 seconds.</li>\n",
    "    <li>Average level pass rate was normally distributed around 30/40%.</li>\n",
    "    <li>Average level win duration was normally distributed around 100 - 125 seconds.</li>\n",
    "    <li>Average number of retries was multimodal around 1, 3, 4, and 5.</li>\n",
    "</div>"
   ]
  },
  {
   "cell_type": "markdown",
   "id": "a96bb3e9",
   "metadata": {},
   "source": [
    "# Step 3: Performance Questions"
   ]
  },
  {
   "cell_type": "markdown",
   "id": "284e3468",
   "metadata": {},
   "source": [
    "1) Which levels were beaten and failed the most?\n",
    "\n",
    "2) Which levels took the longest and shortest to complete?\n",
    "\n",
    "3) Which levels had the highest and lowest average pass rate?\n",
    "\n",
    "4) Which levels had the most and least average number of retries?\n",
    "\n",
    "5) What are the toughest levels?"
   ]
  },
  {
   "cell_type": "code",
   "execution_count": 93,
   "id": "8c571dd3",
   "metadata": {
    "scrolled": true
   },
   "outputs": [
    {
     "data": {
      "text/plain": [
       "level_id\n",
       "1     12723\n",
       "2     12481\n",
       "3     12371\n",
       "4     12307\n",
       "5     12245\n",
       "6     12226\n",
       "7     12174\n",
       "8     12146\n",
       "9     11962\n",
       "10    11916\n",
       "11    11799\n",
       "12    11807\n",
       "13    11854\n",
       "14    11633\n",
       "15    11557\n",
       "16    11573\n",
       "17    11346\n",
       "18    11212\n",
       "19    11067\n",
       "20    11015\n",
       "21    11125\n",
       "22    10940\n",
       "23    10856\n",
       "24    10766\n",
       "25    10662\n",
       "26    11244\n",
       "27    10493\n",
       "28    10457\n",
       "29    10342\n",
       "30    10279\n",
       "31    10184\n",
       "32    10091\n",
       "33    10034\n",
       "34     9903\n",
       "35     9857\n",
       "36     9866\n",
       "37     9660\n",
       "38     9577\n",
       "39     9518\n",
       "40     9401\n",
       "41     9381\n",
       "42     9208\n",
       "43     9165\n",
       "44     8988\n",
       "45     8875\n",
       "46     8920\n",
       "47     8654\n",
       "48     8654\n",
       "49     8444\n",
       "50     8517\n",
       "51     9154\n",
       "52     8777\n",
       "53     8525\n",
       "54     8367\n",
       "55     8129\n",
       "56     8092\n",
       "57     7990\n",
       "58     7834\n",
       "59     7825\n",
       "60     7769\n",
       "Name: success, dtype: int64"
      ]
     },
     "execution_count": 93,
     "metadata": {},
     "output_type": "execute_result"
    }
   ],
   "source": [
    "#Most beaten levels\n",
    "users.groupby(['level_id'])['success'].sum().sort_index().head(60)"
   ]
  },
  {
   "cell_type": "code",
   "execution_count": 94,
   "id": "a1e16024",
   "metadata": {},
   "outputs": [
    {
     "data": {
      "text/plain": [
       "73     11494\n",
       "133    10879\n",
       "148     9866\n",
       "142     9438\n",
       "49      9182\n",
       "145     9060\n",
       "75      9027\n",
       "146     8759\n",
       "99      8608\n",
       "78      8449\n",
       "Name: level_id, dtype: int64"
      ]
     },
     "execution_count": 94,
     "metadata": {},
     "output_type": "execute_result"
    }
   ],
   "source": [
    "#Most failed levels\n",
    "fail_users['level_id'].value_counts().head(10)"
   ]
  },
  {
   "cell_type": "code",
   "execution_count": 162,
   "id": "2d11e714",
   "metadata": {},
   "outputs": [
    {
     "data": {
      "text/html": [
       "<style type=\"text/css\">\n",
       "</style>\n",
       "<table id=\"T_30c3a_\">\n",
       "  <thead>\n",
       "    <tr>\n",
       "      <th class=\"col_heading level0 col0\" >level_id</th>\n",
       "      <th class=\"col_heading level0 col1\" >avg_duration</th>\n",
       "      <th class=\"col_heading level0 col2\" >avg_passrate</th>\n",
       "      <th class=\"col_heading level0 col3\" >avg_winduration</th>\n",
       "      <th class=\"col_heading level0 col4\" >avg_retrytimes</th>\n",
       "      <th class=\"col_heading level0 col5\" >duration_difference</th>\n",
       "    </tr>\n",
       "  </thead>\n",
       "  <tbody>\n",
       "    <tr>\n",
       "      <td id=\"T_30c3a_row0_col0\" class=\"data row0 col0\" >1024</td>\n",
       "      <td id=\"T_30c3a_row0_col1\" class=\"data row0 col1\" >2105.000000</td>\n",
       "      <td id=\"T_30c3a_row0_col2\" class=\"data row0 col2\" >0.070000</td>\n",
       "      <td id=\"T_30c3a_row0_col3\" class=\"data row0 col3\" >175.000000</td>\n",
       "      <td id=\"T_30c3a_row0_col4\" class=\"data row0 col4\" >12.000000</td>\n",
       "      <td id=\"T_30c3a_row0_col5\" class=\"data row0 col5\" >1930.000000</td>\n",
       "    </tr>\n",
       "    <tr>\n",
       "      <td id=\"T_30c3a_row1_col0\" class=\"data row1 col0\" >1053</td>\n",
       "      <td id=\"T_30c3a_row1_col1\" class=\"data row1 col1\" >2076.000000</td>\n",
       "      <td id=\"T_30c3a_row1_col2\" class=\"data row1 col2\" >0.070000</td>\n",
       "      <td id=\"T_30c3a_row1_col3\" class=\"data row1 col3\" >129.000000</td>\n",
       "      <td id=\"T_30c3a_row1_col4\" class=\"data row1 col4\" >18.000000</td>\n",
       "      <td id=\"T_30c3a_row1_col5\" class=\"data row1 col5\" >1947.000000</td>\n",
       "    </tr>\n",
       "    <tr>\n",
       "      <td id=\"T_30c3a_row2_col0\" class=\"data row2 col0\" >1334</td>\n",
       "      <td id=\"T_30c3a_row2_col1\" class=\"data row2 col1\" >1893.000000</td>\n",
       "      <td id=\"T_30c3a_row2_col2\" class=\"data row2 col2\" >0.110000</td>\n",
       "      <td id=\"T_30c3a_row2_col3\" class=\"data row2 col3\" >108.600000</td>\n",
       "      <td id=\"T_30c3a_row2_col4\" class=\"data row2 col4\" >15.200000</td>\n",
       "      <td id=\"T_30c3a_row2_col5\" class=\"data row2 col5\" >1784.400000</td>\n",
       "    </tr>\n",
       "    <tr>\n",
       "      <td id=\"T_30c3a_row3_col0\" class=\"data row3 col0\" >1023</td>\n",
       "      <td id=\"T_30c3a_row3_col1\" class=\"data row3 col1\" >1681.000000</td>\n",
       "      <td id=\"T_30c3a_row3_col2\" class=\"data row3 col2\" >0.110000</td>\n",
       "      <td id=\"T_30c3a_row3_col3\" class=\"data row3 col3\" >210.000000</td>\n",
       "      <td id=\"T_30c3a_row3_col4\" class=\"data row3 col4\" >7.000000</td>\n",
       "      <td id=\"T_30c3a_row3_col5\" class=\"data row3 col5\" >1471.000000</td>\n",
       "    </tr>\n",
       "    <tr>\n",
       "      <td id=\"T_30c3a_row4_col0\" class=\"data row4 col0\" >1038</td>\n",
       "      <td id=\"T_30c3a_row4_col1\" class=\"data row4 col1\" >1580.500000</td>\n",
       "      <td id=\"T_30c3a_row4_col2\" class=\"data row4 col2\" >0.030000</td>\n",
       "      <td id=\"T_30c3a_row4_col3\" class=\"data row4 col3\" >98.000000</td>\n",
       "      <td id=\"T_30c3a_row4_col4\" class=\"data row4 col4\" >13.000000</td>\n",
       "      <td id=\"T_30c3a_row4_col5\" class=\"data row4 col5\" >1482.500000</td>\n",
       "    </tr>\n",
       "    <tr>\n",
       "      <td id=\"T_30c3a_row5_col0\" class=\"data row5 col0\" >625</td>\n",
       "      <td id=\"T_30c3a_row5_col1\" class=\"data row5 col1\" >1500.040000</td>\n",
       "      <td id=\"T_30c3a_row5_col2\" class=\"data row5 col2\" >0.190000</td>\n",
       "      <td id=\"T_30c3a_row5_col3\" class=\"data row5 col3\" >175.360000</td>\n",
       "      <td id=\"T_30c3a_row5_col4\" class=\"data row5 col4\" >8.040000</td>\n",
       "      <td id=\"T_30c3a_row5_col5\" class=\"data row5 col5\" >1324.680000</td>\n",
       "    </tr>\n",
       "    <tr>\n",
       "      <td id=\"T_30c3a_row6_col0\" class=\"data row6 col0\" >1002</td>\n",
       "      <td id=\"T_30c3a_row6_col1\" class=\"data row6 col1\" >1392.000000</td>\n",
       "      <td id=\"T_30c3a_row6_col2\" class=\"data row6 col2\" >0.090000</td>\n",
       "      <td id=\"T_30c3a_row6_col3\" class=\"data row6 col3\" >129.000000</td>\n",
       "      <td id=\"T_30c3a_row6_col4\" class=\"data row6 col4\" >9.000000</td>\n",
       "      <td id=\"T_30c3a_row6_col5\" class=\"data row6 col5\" >1263.000000</td>\n",
       "    </tr>\n",
       "    <tr>\n",
       "      <td id=\"T_30c3a_row7_col0\" class=\"data row7 col0\" >1272</td>\n",
       "      <td id=\"T_30c3a_row7_col1\" class=\"data row7 col1\" >1384.670000</td>\n",
       "      <td id=\"T_30c3a_row7_col2\" class=\"data row7 col2\" >0.320000</td>\n",
       "      <td id=\"T_30c3a_row7_col3\" class=\"data row7 col3\" >128.210000</td>\n",
       "      <td id=\"T_30c3a_row7_col4\" class=\"data row7 col4\" >12.140000</td>\n",
       "      <td id=\"T_30c3a_row7_col5\" class=\"data row7 col5\" >1256.450000</td>\n",
       "    </tr>\n",
       "    <tr>\n",
       "      <td id=\"T_30c3a_row8_col0\" class=\"data row8 col0\" >1018</td>\n",
       "      <td id=\"T_30c3a_row8_col1\" class=\"data row8 col1\" >1356.000000</td>\n",
       "      <td id=\"T_30c3a_row8_col2\" class=\"data row8 col2\" >0.120000</td>\n",
       "      <td id=\"T_30c3a_row8_col3\" class=\"data row8 col3\" >173.000000</td>\n",
       "      <td id=\"T_30c3a_row8_col4\" class=\"data row8 col4\" >6.000000</td>\n",
       "      <td id=\"T_30c3a_row8_col5\" class=\"data row8 col5\" >1183.000000</td>\n",
       "    </tr>\n",
       "    <tr>\n",
       "      <td id=\"T_30c3a_row9_col0\" class=\"data row9 col0\" >1353</td>\n",
       "      <td id=\"T_30c3a_row9_col1\" class=\"data row9 col1\" >1350.750000</td>\n",
       "      <td id=\"T_30c3a_row9_col2\" class=\"data row9 col2\" >0.380000</td>\n",
       "      <td id=\"T_30c3a_row9_col3\" class=\"data row9 col3\" >118.000000</td>\n",
       "      <td id=\"T_30c3a_row9_col4\" class=\"data row9 col4\" >10.500000</td>\n",
       "      <td id=\"T_30c3a_row9_col5\" class=\"data row9 col5\" >1232.750000</td>\n",
       "    </tr>\n",
       "  </tbody>\n",
       "</table>\n"
      ],
      "text/plain": [
       "<pandas.io.formats.style.Styler at 0x7fbd8c269850>"
      ]
     },
     "execution_count": 162,
     "metadata": {},
     "output_type": "execute_result"
    }
   ],
   "source": [
    "#Which levels took the longest to complete\n",
    "longest_levels = round(levels[levels['avg_duration'] > 1000].sort_values(by='avg_duration', ascending=False).head(10),2)\n",
    "longest_levels.style.hide_index()"
   ]
  },
  {
   "cell_type": "code",
   "execution_count": 159,
   "id": "8913573a",
   "metadata": {},
   "outputs": [
    {
     "data": {
      "text/html": [
       "<style type=\"text/css\">\n",
       "</style>\n",
       "<table id=\"T_ece89_\">\n",
       "  <thead>\n",
       "    <tr>\n",
       "      <th class=\"col_heading level0 col0\" >level_id</th>\n",
       "      <th class=\"col_heading level0 col1\" >avg_duration</th>\n",
       "      <th class=\"col_heading level0 col2\" >avg_passrate</th>\n",
       "      <th class=\"col_heading level0 col3\" >avg_winduration</th>\n",
       "      <th class=\"col_heading level0 col4\" >avg_retrytimes</th>\n",
       "      <th class=\"col_heading level0 col5\" >duration_difference</th>\n",
       "    </tr>\n",
       "  </thead>\n",
       "  <tbody>\n",
       "    <tr>\n",
       "      <td id=\"T_ece89_row0_col0\" class=\"data row0 col0\" >1</td>\n",
       "      <td id=\"T_ece89_row0_col1\" class=\"data row0 col1\" >39.890000</td>\n",
       "      <td id=\"T_ece89_row0_col2\" class=\"data row0 col2\" >0.940000</td>\n",
       "      <td id=\"T_ece89_row0_col3\" class=\"data row0 col3\" >35.580000</td>\n",
       "      <td id=\"T_ece89_row0_col4\" class=\"data row0 col4\" >0.020000</td>\n",
       "      <td id=\"T_ece89_row0_col5\" class=\"data row0 col5\" >4.310000</td>\n",
       "    </tr>\n",
       "    <tr>\n",
       "      <td id=\"T_ece89_row1_col0\" class=\"data row1 col0\" >180</td>\n",
       "      <td id=\"T_ece89_row1_col1\" class=\"data row1 col1\" >55.690000</td>\n",
       "      <td id=\"T_ece89_row1_col2\" class=\"data row1 col2\" >0.990000</td>\n",
       "      <td id=\"T_ece89_row1_col3\" class=\"data row1 col3\" >54.010000</td>\n",
       "      <td id=\"T_ece89_row1_col4\" class=\"data row1 col4\" >0.000000</td>\n",
       "      <td id=\"T_ece89_row1_col5\" class=\"data row1 col5\" >1.680000</td>\n",
       "    </tr>\n",
       "    <tr>\n",
       "      <td id=\"T_ece89_row2_col0\" class=\"data row2 col0\" >166</td>\n",
       "      <td id=\"T_ece89_row2_col1\" class=\"data row2 col1\" >56.060000</td>\n",
       "      <td id=\"T_ece89_row2_col2\" class=\"data row2 col2\" >1.000000</td>\n",
       "      <td id=\"T_ece89_row2_col3\" class=\"data row2 col3\" >53.960000</td>\n",
       "      <td id=\"T_ece89_row2_col4\" class=\"data row2 col4\" >0.000000</td>\n",
       "      <td id=\"T_ece89_row2_col5\" class=\"data row2 col5\" >2.090000</td>\n",
       "    </tr>\n",
       "    <tr>\n",
       "      <td id=\"T_ece89_row3_col0\" class=\"data row3 col0\" >4</td>\n",
       "      <td id=\"T_ece89_row3_col1\" class=\"data row3 col1\" >58.170000</td>\n",
       "      <td id=\"T_ece89_row3_col2\" class=\"data row3 col2\" >0.990000</td>\n",
       "      <td id=\"T_ece89_row3_col3\" class=\"data row3 col3\" >54.840000</td>\n",
       "      <td id=\"T_ece89_row3_col4\" class=\"data row3 col4\" >0.000000</td>\n",
       "      <td id=\"T_ece89_row3_col5\" class=\"data row3 col5\" >3.330000</td>\n",
       "    </tr>\n",
       "    <tr>\n",
       "      <td id=\"T_ece89_row4_col0\" class=\"data row4 col0\" >1067</td>\n",
       "      <td id=\"T_ece89_row4_col1\" class=\"data row4 col1\" >60.500000</td>\n",
       "      <td id=\"T_ece89_row4_col2\" class=\"data row4 col2\" >1.000000</td>\n",
       "      <td id=\"T_ece89_row4_col3\" class=\"data row4 col3\" >60.500000</td>\n",
       "      <td id=\"T_ece89_row4_col4\" class=\"data row4 col4\" >0.000000</td>\n",
       "      <td id=\"T_ece89_row4_col5\" class=\"data row4 col5\" >0.000000</td>\n",
       "    </tr>\n",
       "    <tr>\n",
       "      <td id=\"T_ece89_row5_col0\" class=\"data row5 col0\" >2</td>\n",
       "      <td id=\"T_ece89_row5_col1\" class=\"data row5 col1\" >60.680000</td>\n",
       "      <td id=\"T_ece89_row5_col2\" class=\"data row5 col2\" >0.990000</td>\n",
       "      <td id=\"T_ece89_row5_col3\" class=\"data row5 col3\" >56.720000</td>\n",
       "      <td id=\"T_ece89_row5_col4\" class=\"data row5 col4\" >0.000000</td>\n",
       "      <td id=\"T_ece89_row5_col5\" class=\"data row5 col5\" >3.970000</td>\n",
       "    </tr>\n",
       "    <tr>\n",
       "      <td id=\"T_ece89_row6_col0\" class=\"data row6 col0\" >16</td>\n",
       "      <td id=\"T_ece89_row6_col1\" class=\"data row6 col1\" >68.620000</td>\n",
       "      <td id=\"T_ece89_row6_col2\" class=\"data row6 col2\" >1.000000</td>\n",
       "      <td id=\"T_ece89_row6_col3\" class=\"data row6 col3\" >65.040000</td>\n",
       "      <td id=\"T_ece89_row6_col4\" class=\"data row6 col4\" >0.000000</td>\n",
       "      <td id=\"T_ece89_row6_col5\" class=\"data row6 col5\" >3.580000</td>\n",
       "    </tr>\n",
       "    <tr>\n",
       "      <td id=\"T_ece89_row7_col0\" class=\"data row7 col0\" >13</td>\n",
       "      <td id=\"T_ece89_row7_col1\" class=\"data row7 col1\" >69.790000</td>\n",
       "      <td id=\"T_ece89_row7_col2\" class=\"data row7 col2\" >1.000000</td>\n",
       "      <td id=\"T_ece89_row7_col3\" class=\"data row7 col3\" >65.930000</td>\n",
       "      <td id=\"T_ece89_row7_col4\" class=\"data row7 col4\" >0.000000</td>\n",
       "      <td id=\"T_ece89_row7_col5\" class=\"data row7 col5\" >3.850000</td>\n",
       "    </tr>\n",
       "    <tr>\n",
       "      <td id=\"T_ece89_row8_col0\" class=\"data row8 col0\" >6</td>\n",
       "      <td id=\"T_ece89_row8_col1\" class=\"data row8 col1\" >74.670000</td>\n",
       "      <td id=\"T_ece89_row8_col2\" class=\"data row8 col2\" >0.990000</td>\n",
       "      <td id=\"T_ece89_row8_col3\" class=\"data row8 col3\" >69.900000</td>\n",
       "      <td id=\"T_ece89_row8_col4\" class=\"data row8 col4\" >0.000000</td>\n",
       "      <td id=\"T_ece89_row8_col5\" class=\"data row8 col5\" >4.760000</td>\n",
       "    </tr>\n",
       "    <tr>\n",
       "      <td id=\"T_ece89_row9_col0\" class=\"data row9 col0\" >3</td>\n",
       "      <td id=\"T_ece89_row9_col1\" class=\"data row9 col1\" >76.950000</td>\n",
       "      <td id=\"T_ece89_row9_col2\" class=\"data row9 col2\" >0.990000</td>\n",
       "      <td id=\"T_ece89_row9_col3\" class=\"data row9 col3\" >71.790000</td>\n",
       "      <td id=\"T_ece89_row9_col4\" class=\"data row9 col4\" >0.000000</td>\n",
       "      <td id=\"T_ece89_row9_col5\" class=\"data row9 col5\" >5.160000</td>\n",
       "    </tr>\n",
       "  </tbody>\n",
       "</table>\n"
      ],
      "text/plain": [
       "<pandas.io.formats.style.Styler at 0x7fbd8c250690>"
      ]
     },
     "execution_count": 159,
     "metadata": {},
     "output_type": "execute_result"
    }
   ],
   "source": [
    "#Which levels took the shortest to complete\n",
    "shortest_levels = round(levels[levels['avg_duration'] < 100].sort_values(by='avg_duration').head(10),2)\n",
    "shortest_levels.style.hide_index()"
   ]
  },
  {
   "cell_type": "code",
   "execution_count": 97,
   "id": "eacdcedc",
   "metadata": {
    "scrolled": true
   },
   "outputs": [
    {
     "data": {
      "text/html": [
       "<style type=\"text/css\">\n",
       "</style>\n",
       "<table id=\"T_15258_\">\n",
       "  <thead>\n",
       "    <tr>\n",
       "      <th class=\"col_heading level0 col0\" >level_id</th>\n",
       "      <th class=\"col_heading level0 col1\" >avg_duration</th>\n",
       "      <th class=\"col_heading level0 col2\" >avg_passrate</th>\n",
       "      <th class=\"col_heading level0 col3\" >avg_winduration</th>\n",
       "      <th class=\"col_heading level0 col4\" >avg_retrytimes</th>\n",
       "    </tr>\n",
       "  </thead>\n",
       "  <tbody>\n",
       "    <tr>\n",
       "      <td id=\"T_15258_row0_col0\" class=\"data row0 col0\" >1224</td>\n",
       "      <td id=\"T_15258_row0_col1\" class=\"data row0 col1\" >98.000000</td>\n",
       "      <td id=\"T_15258_row0_col2\" class=\"data row0 col2\" >1.000000</td>\n",
       "      <td id=\"T_15258_row0_col3\" class=\"data row0 col3\" >98.000000</td>\n",
       "      <td id=\"T_15258_row0_col4\" class=\"data row0 col4\" >0.000000</td>\n",
       "    </tr>\n",
       "    <tr>\n",
       "      <td id=\"T_15258_row1_col0\" class=\"data row1 col0\" >960</td>\n",
       "      <td id=\"T_15258_row1_col1\" class=\"data row1 col1\" >137.000000</td>\n",
       "      <td id=\"T_15258_row1_col2\" class=\"data row1 col2\" >1.000000</td>\n",
       "      <td id=\"T_15258_row1_col3\" class=\"data row1 col3\" >137.000000</td>\n",
       "      <td id=\"T_15258_row1_col4\" class=\"data row1 col4\" >0.000000</td>\n",
       "    </tr>\n",
       "    <tr>\n",
       "      <td id=\"T_15258_row2_col0\" class=\"data row2 col0\" >963</td>\n",
       "      <td id=\"T_15258_row2_col1\" class=\"data row2 col1\" >146.500000</td>\n",
       "      <td id=\"T_15258_row2_col2\" class=\"data row2 col2\" >1.000000</td>\n",
       "      <td id=\"T_15258_row2_col3\" class=\"data row2 col3\" >146.500000</td>\n",
       "      <td id=\"T_15258_row2_col4\" class=\"data row2 col4\" >0.000000</td>\n",
       "    </tr>\n",
       "    <tr>\n",
       "      <td id=\"T_15258_row3_col0\" class=\"data row3 col0\" >972</td>\n",
       "      <td id=\"T_15258_row3_col1\" class=\"data row3 col1\" >114.000000</td>\n",
       "      <td id=\"T_15258_row3_col2\" class=\"data row3 col2\" >1.000000</td>\n",
       "      <td id=\"T_15258_row3_col3\" class=\"data row3 col3\" >114.000000</td>\n",
       "      <td id=\"T_15258_row3_col4\" class=\"data row3 col4\" >0.000000</td>\n",
       "    </tr>\n",
       "    <tr>\n",
       "      <td id=\"T_15258_row4_col0\" class=\"data row4 col0\" >978</td>\n",
       "      <td id=\"T_15258_row4_col1\" class=\"data row4 col1\" >120.000000</td>\n",
       "      <td id=\"T_15258_row4_col2\" class=\"data row4 col2\" >1.000000</td>\n",
       "      <td id=\"T_15258_row4_col3\" class=\"data row4 col3\" >120.000000</td>\n",
       "      <td id=\"T_15258_row4_col4\" class=\"data row4 col4\" >0.000000</td>\n",
       "    </tr>\n",
       "    <tr>\n",
       "      <td id=\"T_15258_row5_col0\" class=\"data row5 col0\" >980</td>\n",
       "      <td id=\"T_15258_row5_col1\" class=\"data row5 col1\" >105.000000</td>\n",
       "      <td id=\"T_15258_row5_col2\" class=\"data row5 col2\" >1.000000</td>\n",
       "      <td id=\"T_15258_row5_col3\" class=\"data row5 col3\" >105.000000</td>\n",
       "      <td id=\"T_15258_row5_col4\" class=\"data row5 col4\" >0.000000</td>\n",
       "    </tr>\n",
       "    <tr>\n",
       "      <td id=\"T_15258_row6_col0\" class=\"data row6 col0\" >981</td>\n",
       "      <td id=\"T_15258_row6_col1\" class=\"data row6 col1\" >89.000000</td>\n",
       "      <td id=\"T_15258_row6_col2\" class=\"data row6 col2\" >1.000000</td>\n",
       "      <td id=\"T_15258_row6_col3\" class=\"data row6 col3\" >89.000000</td>\n",
       "      <td id=\"T_15258_row6_col4\" class=\"data row6 col4\" >0.000000</td>\n",
       "    </tr>\n",
       "    <tr>\n",
       "      <td id=\"T_15258_row7_col0\" class=\"data row7 col0\" >982</td>\n",
       "      <td id=\"T_15258_row7_col1\" class=\"data row7 col1\" >161.000000</td>\n",
       "      <td id=\"T_15258_row7_col2\" class=\"data row7 col2\" >1.000000</td>\n",
       "      <td id=\"T_15258_row7_col3\" class=\"data row7 col3\" >161.000000</td>\n",
       "      <td id=\"T_15258_row7_col4\" class=\"data row7 col4\" >0.000000</td>\n",
       "    </tr>\n",
       "    <tr>\n",
       "      <td id=\"T_15258_row8_col0\" class=\"data row8 col0\" >987</td>\n",
       "      <td id=\"T_15258_row8_col1\" class=\"data row8 col1\" >214.000000</td>\n",
       "      <td id=\"T_15258_row8_col2\" class=\"data row8 col2\" >1.000000</td>\n",
       "      <td id=\"T_15258_row8_col3\" class=\"data row8 col3\" >214.000000</td>\n",
       "      <td id=\"T_15258_row8_col4\" class=\"data row8 col4\" >0.000000</td>\n",
       "    </tr>\n",
       "    <tr>\n",
       "      <td id=\"T_15258_row9_col0\" class=\"data row9 col0\" >988</td>\n",
       "      <td id=\"T_15258_row9_col1\" class=\"data row9 col1\" >186.000000</td>\n",
       "      <td id=\"T_15258_row9_col2\" class=\"data row9 col2\" >1.000000</td>\n",
       "      <td id=\"T_15258_row9_col3\" class=\"data row9 col3\" >186.000000</td>\n",
       "      <td id=\"T_15258_row9_col4\" class=\"data row9 col4\" >0.000000</td>\n",
       "    </tr>\n",
       "    <tr>\n",
       "      <td id=\"T_15258_row10_col0\" class=\"data row10 col0\" >989</td>\n",
       "      <td id=\"T_15258_row10_col1\" class=\"data row10 col1\" >185.000000</td>\n",
       "      <td id=\"T_15258_row10_col2\" class=\"data row10 col2\" >1.000000</td>\n",
       "      <td id=\"T_15258_row10_col3\" class=\"data row10 col3\" >185.000000</td>\n",
       "      <td id=\"T_15258_row10_col4\" class=\"data row10 col4\" >0.000000</td>\n",
       "    </tr>\n",
       "    <tr>\n",
       "      <td id=\"T_15258_row11_col0\" class=\"data row11 col0\" >990</td>\n",
       "      <td id=\"T_15258_row11_col1\" class=\"data row11 col1\" >148.000000</td>\n",
       "      <td id=\"T_15258_row11_col2\" class=\"data row11 col2\" >1.000000</td>\n",
       "      <td id=\"T_15258_row11_col3\" class=\"data row11 col3\" >148.000000</td>\n",
       "      <td id=\"T_15258_row11_col4\" class=\"data row11 col4\" >0.000000</td>\n",
       "    </tr>\n",
       "    <tr>\n",
       "      <td id=\"T_15258_row12_col0\" class=\"data row12 col0\" >991</td>\n",
       "      <td id=\"T_15258_row12_col1\" class=\"data row12 col1\" >113.000000</td>\n",
       "      <td id=\"T_15258_row12_col2\" class=\"data row12 col2\" >1.000000</td>\n",
       "      <td id=\"T_15258_row12_col3\" class=\"data row12 col3\" >113.000000</td>\n",
       "      <td id=\"T_15258_row12_col4\" class=\"data row12 col4\" >0.000000</td>\n",
       "    </tr>\n",
       "    <tr>\n",
       "      <td id=\"T_15258_row13_col0\" class=\"data row13 col0\" >993</td>\n",
       "      <td id=\"T_15258_row13_col1\" class=\"data row13 col1\" >124.000000</td>\n",
       "      <td id=\"T_15258_row13_col2\" class=\"data row13 col2\" >1.000000</td>\n",
       "      <td id=\"T_15258_row13_col3\" class=\"data row13 col3\" >124.000000</td>\n",
       "      <td id=\"T_15258_row13_col4\" class=\"data row13 col4\" >0.000000</td>\n",
       "    </tr>\n",
       "    <tr>\n",
       "      <td id=\"T_15258_row14_col0\" class=\"data row14 col0\" >995</td>\n",
       "      <td id=\"T_15258_row14_col1\" class=\"data row14 col1\" >150.000000</td>\n",
       "      <td id=\"T_15258_row14_col2\" class=\"data row14 col2\" >1.000000</td>\n",
       "      <td id=\"T_15258_row14_col3\" class=\"data row14 col3\" >150.000000</td>\n",
       "      <td id=\"T_15258_row14_col4\" class=\"data row14 col4\" >0.000000</td>\n",
       "    </tr>\n",
       "    <tr>\n",
       "      <td id=\"T_15258_row15_col0\" class=\"data row15 col0\" >997</td>\n",
       "      <td id=\"T_15258_row15_col1\" class=\"data row15 col1\" >129.000000</td>\n",
       "      <td id=\"T_15258_row15_col2\" class=\"data row15 col2\" >1.000000</td>\n",
       "      <td id=\"T_15258_row15_col3\" class=\"data row15 col3\" >129.000000</td>\n",
       "      <td id=\"T_15258_row15_col4\" class=\"data row15 col4\" >0.000000</td>\n",
       "    </tr>\n",
       "    <tr>\n",
       "      <td id=\"T_15258_row16_col0\" class=\"data row16 col0\" >998</td>\n",
       "      <td id=\"T_15258_row16_col1\" class=\"data row16 col1\" >186.000000</td>\n",
       "      <td id=\"T_15258_row16_col2\" class=\"data row16 col2\" >1.000000</td>\n",
       "      <td id=\"T_15258_row16_col3\" class=\"data row16 col3\" >186.000000</td>\n",
       "      <td id=\"T_15258_row16_col4\" class=\"data row16 col4\" >0.000000</td>\n",
       "    </tr>\n",
       "    <tr>\n",
       "      <td id=\"T_15258_row17_col0\" class=\"data row17 col0\" >999</td>\n",
       "      <td id=\"T_15258_row17_col1\" class=\"data row17 col1\" >219.000000</td>\n",
       "      <td id=\"T_15258_row17_col2\" class=\"data row17 col2\" >1.000000</td>\n",
       "      <td id=\"T_15258_row17_col3\" class=\"data row17 col3\" >219.000000</td>\n",
       "      <td id=\"T_15258_row17_col4\" class=\"data row17 col4\" >0.000000</td>\n",
       "    </tr>\n",
       "    <tr>\n",
       "      <td id=\"T_15258_row18_col0\" class=\"data row18 col0\" >1000</td>\n",
       "      <td id=\"T_15258_row18_col1\" class=\"data row18 col1\" >185.000000</td>\n",
       "      <td id=\"T_15258_row18_col2\" class=\"data row18 col2\" >1.000000</td>\n",
       "      <td id=\"T_15258_row18_col3\" class=\"data row18 col3\" >185.000000</td>\n",
       "      <td id=\"T_15258_row18_col4\" class=\"data row18 col4\" >0.000000</td>\n",
       "    </tr>\n",
       "    <tr>\n",
       "      <td id=\"T_15258_row19_col0\" class=\"data row19 col0\" >1001</td>\n",
       "      <td id=\"T_15258_row19_col1\" class=\"data row19 col1\" >100.000000</td>\n",
       "      <td id=\"T_15258_row19_col2\" class=\"data row19 col2\" >1.000000</td>\n",
       "      <td id=\"T_15258_row19_col3\" class=\"data row19 col3\" >100.000000</td>\n",
       "      <td id=\"T_15258_row19_col4\" class=\"data row19 col4\" >0.000000</td>\n",
       "    </tr>\n",
       "    <tr>\n",
       "      <td id=\"T_15258_row20_col0\" class=\"data row20 col0\" >1005</td>\n",
       "      <td id=\"T_15258_row20_col1\" class=\"data row20 col1\" >157.000000</td>\n",
       "      <td id=\"T_15258_row20_col2\" class=\"data row20 col2\" >1.000000</td>\n",
       "      <td id=\"T_15258_row20_col3\" class=\"data row20 col3\" >157.000000</td>\n",
       "      <td id=\"T_15258_row20_col4\" class=\"data row20 col4\" >0.000000</td>\n",
       "    </tr>\n",
       "    <tr>\n",
       "      <td id=\"T_15258_row21_col0\" class=\"data row21 col0\" >1006</td>\n",
       "      <td id=\"T_15258_row21_col1\" class=\"data row21 col1\" >159.000000</td>\n",
       "      <td id=\"T_15258_row21_col2\" class=\"data row21 col2\" >1.000000</td>\n",
       "      <td id=\"T_15258_row21_col3\" class=\"data row21 col3\" >159.000000</td>\n",
       "      <td id=\"T_15258_row21_col4\" class=\"data row21 col4\" >0.000000</td>\n",
       "    </tr>\n",
       "    <tr>\n",
       "      <td id=\"T_15258_row22_col0\" class=\"data row22 col0\" >1008</td>\n",
       "      <td id=\"T_15258_row22_col1\" class=\"data row22 col1\" >124.000000</td>\n",
       "      <td id=\"T_15258_row22_col2\" class=\"data row22 col2\" >1.000000</td>\n",
       "      <td id=\"T_15258_row22_col3\" class=\"data row22 col3\" >124.000000</td>\n",
       "      <td id=\"T_15258_row22_col4\" class=\"data row22 col4\" >0.000000</td>\n",
       "    </tr>\n",
       "    <tr>\n",
       "      <td id=\"T_15258_row23_col0\" class=\"data row23 col0\" >1026</td>\n",
       "      <td id=\"T_15258_row23_col1\" class=\"data row23 col1\" >216.000000</td>\n",
       "      <td id=\"T_15258_row23_col2\" class=\"data row23 col2\" >1.000000</td>\n",
       "      <td id=\"T_15258_row23_col3\" class=\"data row23 col3\" >216.000000</td>\n",
       "      <td id=\"T_15258_row23_col4\" class=\"data row23 col4\" >0.000000</td>\n",
       "    </tr>\n",
       "    <tr>\n",
       "      <td id=\"T_15258_row24_col0\" class=\"data row24 col0\" >1029</td>\n",
       "      <td id=\"T_15258_row24_col1\" class=\"data row24 col1\" >165.000000</td>\n",
       "      <td id=\"T_15258_row24_col2\" class=\"data row24 col2\" >1.000000</td>\n",
       "      <td id=\"T_15258_row24_col3\" class=\"data row24 col3\" >165.000000</td>\n",
       "      <td id=\"T_15258_row24_col4\" class=\"data row24 col4\" >0.000000</td>\n",
       "    </tr>\n",
       "    <tr>\n",
       "      <td id=\"T_15258_row25_col0\" class=\"data row25 col0\" >1033</td>\n",
       "      <td id=\"T_15258_row25_col1\" class=\"data row25 col1\" >156.000000</td>\n",
       "      <td id=\"T_15258_row25_col2\" class=\"data row25 col2\" >1.000000</td>\n",
       "      <td id=\"T_15258_row25_col3\" class=\"data row25 col3\" >156.000000</td>\n",
       "      <td id=\"T_15258_row25_col4\" class=\"data row25 col4\" >0.000000</td>\n",
       "    </tr>\n",
       "    <tr>\n",
       "      <td id=\"T_15258_row26_col0\" class=\"data row26 col0\" >1034</td>\n",
       "      <td id=\"T_15258_row26_col1\" class=\"data row26 col1\" >151.000000</td>\n",
       "      <td id=\"T_15258_row26_col2\" class=\"data row26 col2\" >1.000000</td>\n",
       "      <td id=\"T_15258_row26_col3\" class=\"data row26 col3\" >151.000000</td>\n",
       "      <td id=\"T_15258_row26_col4\" class=\"data row26 col4\" >0.000000</td>\n",
       "    </tr>\n",
       "    <tr>\n",
       "      <td id=\"T_15258_row27_col0\" class=\"data row27 col0\" >1042</td>\n",
       "      <td id=\"T_15258_row27_col1\" class=\"data row27 col1\" >121.000000</td>\n",
       "      <td id=\"T_15258_row27_col2\" class=\"data row27 col2\" >1.000000</td>\n",
       "      <td id=\"T_15258_row27_col3\" class=\"data row27 col3\" >121.000000</td>\n",
       "      <td id=\"T_15258_row27_col4\" class=\"data row27 col4\" >0.000000</td>\n",
       "    </tr>\n",
       "    <tr>\n",
       "      <td id=\"T_15258_row28_col0\" class=\"data row28 col0\" >1067</td>\n",
       "      <td id=\"T_15258_row28_col1\" class=\"data row28 col1\" >60.500000</td>\n",
       "      <td id=\"T_15258_row28_col2\" class=\"data row28 col2\" >1.000000</td>\n",
       "      <td id=\"T_15258_row28_col3\" class=\"data row28 col3\" >60.500000</td>\n",
       "      <td id=\"T_15258_row28_col4\" class=\"data row28 col4\" >0.000000</td>\n",
       "    </tr>\n",
       "    <tr>\n",
       "      <td id=\"T_15258_row29_col0\" class=\"data row29 col0\" >1218</td>\n",
       "      <td id=\"T_15258_row29_col1\" class=\"data row29 col1\" >85.500000</td>\n",
       "      <td id=\"T_15258_row29_col2\" class=\"data row29 col2\" >1.000000</td>\n",
       "      <td id=\"T_15258_row29_col3\" class=\"data row29 col3\" >85.500000</td>\n",
       "      <td id=\"T_15258_row29_col4\" class=\"data row29 col4\" >0.000000</td>\n",
       "    </tr>\n",
       "    <tr>\n",
       "      <td id=\"T_15258_row30_col0\" class=\"data row30 col0\" >962</td>\n",
       "      <td id=\"T_15258_row30_col1\" class=\"data row30 col1\" >116.000000</td>\n",
       "      <td id=\"T_15258_row30_col2\" class=\"data row30 col2\" >1.000000</td>\n",
       "      <td id=\"T_15258_row30_col3\" class=\"data row30 col3\" >116.000000</td>\n",
       "      <td id=\"T_15258_row30_col4\" class=\"data row30 col4\" >0.000000</td>\n",
       "    </tr>\n",
       "    <tr>\n",
       "      <td id=\"T_15258_row31_col0\" class=\"data row31 col0\" >13</td>\n",
       "      <td id=\"T_15258_row31_col1\" class=\"data row31 col1\" >69.786085</td>\n",
       "      <td id=\"T_15258_row31_col2\" class=\"data row31 col2\" >0.997961</td>\n",
       "      <td id=\"T_15258_row31_col3\" class=\"data row31 col3\" >65.933082</td>\n",
       "      <td id=\"T_15258_row31_col4\" class=\"data row31 col4\" >0.001135</td>\n",
       "    </tr>\n",
       "    <tr>\n",
       "      <td id=\"T_15258_row32_col0\" class=\"data row32 col0\" >166</td>\n",
       "      <td id=\"T_15258_row32_col1\" class=\"data row32 col1\" >56.059940</td>\n",
       "      <td id=\"T_15258_row32_col2\" class=\"data row32 col2\" >0.997253</td>\n",
       "      <td id=\"T_15258_row32_col3\" class=\"data row32 col3\" >53.964947</td>\n",
       "      <td id=\"T_15258_row32_col4\" class=\"data row32 col4\" >0.000000</td>\n",
       "    </tr>\n",
       "    <tr>\n",
       "      <td id=\"T_15258_row33_col0\" class=\"data row33 col0\" >291</td>\n",
       "      <td id=\"T_15258_row33_col1\" class=\"data row33 col1\" >195.132901</td>\n",
       "      <td id=\"T_15258_row33_col2\" class=\"data row33 col2\" >0.995776</td>\n",
       "      <td id=\"T_15258_row33_col3\" class=\"data row33 col3\" >53.884136</td>\n",
       "      <td id=\"T_15258_row33_col4\" class=\"data row33 col4\" >0.000000</td>\n",
       "    </tr>\n",
       "    <tr>\n",
       "      <td id=\"T_15258_row34_col0\" class=\"data row34 col0\" >16</td>\n",
       "      <td id=\"T_15258_row34_col1\" class=\"data row34 col1\" >68.624945</td>\n",
       "      <td id=\"T_15258_row34_col2\" class=\"data row34 col2\" >0.995177</td>\n",
       "      <td id=\"T_15258_row34_col3\" class=\"data row34 col3\" >65.042026</td>\n",
       "      <td id=\"T_15258_row34_col4\" class=\"data row34 col4\" >0.002583</td>\n",
       "    </tr>\n",
       "    <tr>\n",
       "      <td id=\"T_15258_row35_col0\" class=\"data row35 col0\" >180</td>\n",
       "      <td id=\"T_15258_row35_col1\" class=\"data row35 col1\" >55.687127</td>\n",
       "      <td id=\"T_15258_row35_col2\" class=\"data row35 col2\" >0.994297</td>\n",
       "      <td id=\"T_15258_row35_col3\" class=\"data row35 col3\" >54.010377</td>\n",
       "      <td id=\"T_15258_row35_col4\" class=\"data row35 col4\" >0.000000</td>\n",
       "    </tr>\n",
       "    <tr>\n",
       "      <td id=\"T_15258_row36_col0\" class=\"data row36 col0\" >4</td>\n",
       "      <td id=\"T_15258_row36_col1\" class=\"data row36 col1\" >58.170347</td>\n",
       "      <td id=\"T_15258_row36_col2\" class=\"data row36 col2\" >0.993843</td>\n",
       "      <td id=\"T_15258_row36_col3\" class=\"data row36 col3\" >54.842882</td>\n",
       "      <td id=\"T_15258_row36_col4\" class=\"data row36 col4\" >0.004761</td>\n",
       "    </tr>\n",
       "    <tr>\n",
       "      <td id=\"T_15258_row37_col0\" class=\"data row37 col0\" >184</td>\n",
       "      <td id=\"T_15258_row37_col1\" class=\"data row37 col1\" >182.712400</td>\n",
       "      <td id=\"T_15258_row37_col2\" class=\"data row37 col2\" >0.993612</td>\n",
       "      <td id=\"T_15258_row37_col3\" class=\"data row37 col3\" >53.874856</td>\n",
       "      <td id=\"T_15258_row37_col4\" class=\"data row37 col4\" >0.000000</td>\n",
       "    </tr>\n",
       "    <tr>\n",
       "      <td id=\"T_15258_row38_col0\" class=\"data row38 col0\" >2</td>\n",
       "      <td id=\"T_15258_row38_col1\" class=\"data row38 col1\" >60.683975</td>\n",
       "      <td id=\"T_15258_row38_col2\" class=\"data row38 col2\" >0.991836</td>\n",
       "      <td id=\"T_15258_row38_col3\" class=\"data row38 col3\" >56.715706</td>\n",
       "      <td id=\"T_15258_row38_col4\" class=\"data row38 col4\" >0.004638</td>\n",
       "    </tr>\n",
       "    <tr>\n",
       "      <td id=\"T_15258_row39_col0\" class=\"data row39 col0\" >3</td>\n",
       "      <td id=\"T_15258_row39_col1\" class=\"data row39 col1\" >76.947355</td>\n",
       "      <td id=\"T_15258_row39_col2\" class=\"data row39 col2\" >0.991232</td>\n",
       "      <td id=\"T_15258_row39_col3\" class=\"data row39 col3\" >71.789943</td>\n",
       "      <td id=\"T_15258_row39_col4\" class=\"data row39 col4\" >0.004480</td>\n",
       "    </tr>\n",
       "  </tbody>\n",
       "</table>\n"
      ],
      "text/plain": [
       "<pandas.io.formats.style.Styler at 0x7fbd938afdd0>"
      ]
     },
     "execution_count": 97,
     "metadata": {},
     "output_type": "execute_result"
    }
   ],
   "source": [
    "#Levels with the highest average pass rate\n",
    "highest_pass = levels[levels['avg_passrate'] > .9].sort_values(by='avg_passrate', ascending=False).head(40)\n",
    "highest_pass.style.hide_index()"
   ]
  },
  {
   "cell_type": "code",
   "execution_count": 98,
   "id": "fed3a30b",
   "metadata": {},
   "outputs": [
    {
     "data": {
      "text/html": [
       "<style type=\"text/css\">\n",
       "</style>\n",
       "<table id=\"T_20194_\">\n",
       "  <thead>\n",
       "    <tr>\n",
       "      <th class=\"col_heading level0 col0\" >level_id</th>\n",
       "      <th class=\"col_heading level0 col1\" >avg_duration</th>\n",
       "      <th class=\"col_heading level0 col2\" >avg_passrate</th>\n",
       "      <th class=\"col_heading level0 col3\" >avg_winduration</th>\n",
       "      <th class=\"col_heading level0 col4\" >avg_retrytimes</th>\n",
       "    </tr>\n",
       "  </thead>\n",
       "  <tbody>\n",
       "    <tr>\n",
       "      <td id=\"T_20194_row0_col0\" class=\"data row0 col0\" >983</td>\n",
       "      <td id=\"T_20194_row0_col1\" class=\"data row0 col1\" >1128.000000</td>\n",
       "      <td id=\"T_20194_row0_col2\" class=\"data row0 col2\" >0.000000</td>\n",
       "      <td id=\"T_20194_row0_col3\" class=\"data row0 col3\" >540.000000</td>\n",
       "      <td id=\"T_20194_row0_col4\" class=\"data row0 col4\" >98.000000</td>\n",
       "    </tr>\n",
       "    <tr>\n",
       "      <td id=\"T_20194_row1_col0\" class=\"data row1 col0\" >1015</td>\n",
       "      <td id=\"T_20194_row1_col1\" class=\"data row1 col1\" >1091.000000</td>\n",
       "      <td id=\"T_20194_row1_col2\" class=\"data row1 col2\" >0.000000</td>\n",
       "      <td id=\"T_20194_row1_col3\" class=\"data row1 col3\" >540.000000</td>\n",
       "      <td id=\"T_20194_row1_col4\" class=\"data row1 col4\" >98.000000</td>\n",
       "    </tr>\n",
       "    <tr>\n",
       "      <td id=\"T_20194_row2_col0\" class=\"data row2 col0\" >967</td>\n",
       "      <td id=\"T_20194_row2_col1\" class=\"data row2 col1\" >1003.000000</td>\n",
       "      <td id=\"T_20194_row2_col2\" class=\"data row2 col2\" >0.021739</td>\n",
       "      <td id=\"T_20194_row2_col3\" class=\"data row2 col3\" >123.000000</td>\n",
       "      <td id=\"T_20194_row2_col4\" class=\"data row2 col4\" >21.000000</td>\n",
       "    </tr>\n",
       "    <tr>\n",
       "      <td id=\"T_20194_row3_col0\" class=\"data row3 col0\" >1038</td>\n",
       "      <td id=\"T_20194_row3_col1\" class=\"data row3 col1\" >1580.500000</td>\n",
       "      <td id=\"T_20194_row3_col2\" class=\"data row3 col2\" >0.033333</td>\n",
       "      <td id=\"T_20194_row3_col3\" class=\"data row3 col3\" >98.000000</td>\n",
       "      <td id=\"T_20194_row3_col4\" class=\"data row3 col4\" >13.000000</td>\n",
       "    </tr>\n",
       "    <tr>\n",
       "      <td id=\"T_20194_row4_col0\" class=\"data row4 col0\" >1260</td>\n",
       "      <td id=\"T_20194_row4_col1\" class=\"data row4 col1\" >837.666667</td>\n",
       "      <td id=\"T_20194_row4_col2\" class=\"data row4 col2\" >0.063889</td>\n",
       "      <td id=\"T_20194_row4_col3\" class=\"data row4 col3\" >83.000000</td>\n",
       "      <td id=\"T_20194_row4_col4\" class=\"data row4 col4\" >9.500000</td>\n",
       "    </tr>\n",
       "    <tr>\n",
       "      <td id=\"T_20194_row5_col0\" class=\"data row5 col0\" >1053</td>\n",
       "      <td id=\"T_20194_row5_col1\" class=\"data row5 col1\" >2076.000000</td>\n",
       "      <td id=\"T_20194_row5_col2\" class=\"data row5 col2\" >0.066667</td>\n",
       "      <td id=\"T_20194_row5_col3\" class=\"data row5 col3\" >129.000000</td>\n",
       "      <td id=\"T_20194_row5_col4\" class=\"data row5 col4\" >18.000000</td>\n",
       "    </tr>\n",
       "    <tr>\n",
       "      <td id=\"T_20194_row6_col0\" class=\"data row6 col0\" >1235</td>\n",
       "      <td id=\"T_20194_row6_col1\" class=\"data row6 col1\" >1077.000000</td>\n",
       "      <td id=\"T_20194_row6_col2\" class=\"data row6 col2\" >0.067340</td>\n",
       "      <td id=\"T_20194_row6_col3\" class=\"data row6 col3\" >96.500000</td>\n",
       "      <td id=\"T_20194_row6_col4\" class=\"data row6 col4\" >8.000000</td>\n",
       "    </tr>\n",
       "    <tr>\n",
       "      <td id=\"T_20194_row7_col0\" class=\"data row7 col0\" >1024</td>\n",
       "      <td id=\"T_20194_row7_col1\" class=\"data row7 col1\" >2105.000000</td>\n",
       "      <td id=\"T_20194_row7_col2\" class=\"data row7 col2\" >0.071429</td>\n",
       "      <td id=\"T_20194_row7_col3\" class=\"data row7 col3\" >175.000000</td>\n",
       "      <td id=\"T_20194_row7_col4\" class=\"data row7 col4\" >12.000000</td>\n",
       "    </tr>\n",
       "    <tr>\n",
       "      <td id=\"T_20194_row8_col0\" class=\"data row8 col0\" >1427</td>\n",
       "      <td id=\"T_20194_row8_col1\" class=\"data row8 col1\" >593.750000</td>\n",
       "      <td id=\"T_20194_row8_col2\" class=\"data row8 col2\" >0.086219</td>\n",
       "      <td id=\"T_20194_row8_col3\" class=\"data row8 col3\" >133.000000</td>\n",
       "      <td id=\"T_20194_row8_col4\" class=\"data row8 col4\" >7.000000</td>\n",
       "    </tr>\n",
       "    <tr>\n",
       "      <td id=\"T_20194_row9_col0\" class=\"data row9 col0\" >1357</td>\n",
       "      <td id=\"T_20194_row9_col1\" class=\"data row9 col1\" >1174.250000</td>\n",
       "      <td id=\"T_20194_row9_col2\" class=\"data row9 col2\" >0.090362</td>\n",
       "      <td id=\"T_20194_row9_col3\" class=\"data row9 col3\" >105.000000</td>\n",
       "      <td id=\"T_20194_row9_col4\" class=\"data row9 col4\" >11.500000</td>\n",
       "    </tr>\n",
       "  </tbody>\n",
       "</table>\n"
      ],
      "text/plain": [
       "<pandas.io.formats.style.Styler at 0x7fbd933a1290>"
      ]
     },
     "execution_count": 98,
     "metadata": {},
     "output_type": "execute_result"
    }
   ],
   "source": [
    "#Levels with the lowest average pass rate\n",
    "lowest_pass = levels[levels['avg_passrate'] < .1].sort_values(by='avg_passrate').head(10)\n",
    "lowest_pass.style.hide_index()"
   ]
  },
  {
   "cell_type": "code",
   "execution_count": 99,
   "id": "a5e5c3e7",
   "metadata": {},
   "outputs": [
    {
     "data": {
      "text/html": [
       "<style type=\"text/css\">\n",
       "</style>\n",
       "<table id=\"T_637ce_\">\n",
       "  <thead>\n",
       "    <tr>\n",
       "      <th class=\"col_heading level0 col0\" >level_id</th>\n",
       "      <th class=\"col_heading level0 col1\" >avg_duration</th>\n",
       "      <th class=\"col_heading level0 col2\" >avg_passrate</th>\n",
       "      <th class=\"col_heading level0 col3\" >avg_winduration</th>\n",
       "      <th class=\"col_heading level0 col4\" >avg_retrytimes</th>\n",
       "    </tr>\n",
       "  </thead>\n",
       "  <tbody>\n",
       "    <tr>\n",
       "      <td id=\"T_637ce_row0_col0\" class=\"data row0 col0\" >983</td>\n",
       "      <td id=\"T_637ce_row0_col1\" class=\"data row0 col1\" >1128.000000</td>\n",
       "      <td id=\"T_637ce_row0_col2\" class=\"data row0 col2\" >0.000000</td>\n",
       "      <td id=\"T_637ce_row0_col3\" class=\"data row0 col3\" >540.000000</td>\n",
       "      <td id=\"T_637ce_row0_col4\" class=\"data row0 col4\" >98.000000</td>\n",
       "    </tr>\n",
       "    <tr>\n",
       "      <td id=\"T_637ce_row1_col0\" class=\"data row1 col0\" >1015</td>\n",
       "      <td id=\"T_637ce_row1_col1\" class=\"data row1 col1\" >1091.000000</td>\n",
       "      <td id=\"T_637ce_row1_col2\" class=\"data row1 col2\" >0.000000</td>\n",
       "      <td id=\"T_637ce_row1_col3\" class=\"data row1 col3\" >540.000000</td>\n",
       "      <td id=\"T_637ce_row1_col4\" class=\"data row1 col4\" >98.000000</td>\n",
       "    </tr>\n",
       "    <tr>\n",
       "      <td id=\"T_637ce_row2_col0\" class=\"data row2 col0\" >967</td>\n",
       "      <td id=\"T_637ce_row2_col1\" class=\"data row2 col1\" >1003.000000</td>\n",
       "      <td id=\"T_637ce_row2_col2\" class=\"data row2 col2\" >0.021739</td>\n",
       "      <td id=\"T_637ce_row2_col3\" class=\"data row2 col3\" >123.000000</td>\n",
       "      <td id=\"T_637ce_row2_col4\" class=\"data row2 col4\" >21.000000</td>\n",
       "    </tr>\n",
       "    <tr>\n",
       "      <td id=\"T_637ce_row3_col0\" class=\"data row3 col0\" >1053</td>\n",
       "      <td id=\"T_637ce_row3_col1\" class=\"data row3 col1\" >2076.000000</td>\n",
       "      <td id=\"T_637ce_row3_col2\" class=\"data row3 col2\" >0.066667</td>\n",
       "      <td id=\"T_637ce_row3_col3\" class=\"data row3 col3\" >129.000000</td>\n",
       "      <td id=\"T_637ce_row3_col4\" class=\"data row3 col4\" >18.000000</td>\n",
       "    </tr>\n",
       "    <tr>\n",
       "      <td id=\"T_637ce_row4_col0\" class=\"data row4 col0\" >1334</td>\n",
       "      <td id=\"T_637ce_row4_col1\" class=\"data row4 col1\" >1893.000000</td>\n",
       "      <td id=\"T_637ce_row4_col2\" class=\"data row4 col2\" >0.105029</td>\n",
       "      <td id=\"T_637ce_row4_col3\" class=\"data row4 col3\" >108.600000</td>\n",
       "      <td id=\"T_637ce_row4_col4\" class=\"data row4 col4\" >15.200000</td>\n",
       "    </tr>\n",
       "    <tr>\n",
       "      <td id=\"T_637ce_row5_col0\" class=\"data row5 col0\" >748</td>\n",
       "      <td id=\"T_637ce_row5_col1\" class=\"data row5 col1\" >1106.458333</td>\n",
       "      <td id=\"T_637ce_row5_col2\" class=\"data row5 col2\" >0.173490</td>\n",
       "      <td id=\"T_637ce_row5_col3\" class=\"data row5 col3\" >103.727960</td>\n",
       "      <td id=\"T_637ce_row5_col4\" class=\"data row5 col4\" >13.017632</td>\n",
       "    </tr>\n",
       "    <tr>\n",
       "      <td id=\"T_637ce_row6_col0\" class=\"data row6 col0\" >1038</td>\n",
       "      <td id=\"T_637ce_row6_col1\" class=\"data row6 col1\" >1580.500000</td>\n",
       "      <td id=\"T_637ce_row6_col2\" class=\"data row6 col2\" >0.033333</td>\n",
       "      <td id=\"T_637ce_row6_col3\" class=\"data row6 col3\" >98.000000</td>\n",
       "      <td id=\"T_637ce_row6_col4\" class=\"data row6 col4\" >13.000000</td>\n",
       "    </tr>\n",
       "    <tr>\n",
       "      <td id=\"T_637ce_row7_col0\" class=\"data row7 col0\" >1044</td>\n",
       "      <td id=\"T_637ce_row7_col1\" class=\"data row7 col1\" >1158.000000</td>\n",
       "      <td id=\"T_637ce_row7_col2\" class=\"data row7 col2\" >0.517857</td>\n",
       "      <td id=\"T_637ce_row7_col3\" class=\"data row7 col3\" >109.500000</td>\n",
       "      <td id=\"T_637ce_row7_col4\" class=\"data row7 col4\" >13.000000</td>\n",
       "    </tr>\n",
       "    <tr>\n",
       "      <td id=\"T_637ce_row8_col0\" class=\"data row8 col0\" >1337</td>\n",
       "      <td id=\"T_637ce_row8_col1\" class=\"data row8 col1\" >1348.200000</td>\n",
       "      <td id=\"T_637ce_row8_col2\" class=\"data row8 col2\" >0.221164</td>\n",
       "      <td id=\"T_637ce_row8_col3\" class=\"data row8 col3\" >110.200000</td>\n",
       "      <td id=\"T_637ce_row8_col4\" class=\"data row8 col4\" >13.000000</td>\n",
       "    </tr>\n",
       "    <tr>\n",
       "      <td id=\"T_637ce_row9_col0\" class=\"data row9 col0\" >1442</td>\n",
       "      <td id=\"T_637ce_row9_col1\" class=\"data row9 col1\" >1140.250000</td>\n",
       "      <td id=\"T_637ce_row9_col2\" class=\"data row9 col2\" >0.576637</td>\n",
       "      <td id=\"T_637ce_row9_col3\" class=\"data row9 col3\" >94.750000</td>\n",
       "      <td id=\"T_637ce_row9_col4\" class=\"data row9 col4\" >12.500000</td>\n",
       "    </tr>\n",
       "  </tbody>\n",
       "</table>\n"
      ],
      "text/plain": [
       "<pandas.io.formats.style.Styler at 0x7fbd938cdd90>"
      ]
     },
     "execution_count": 99,
     "metadata": {},
     "output_type": "execute_result"
    }
   ],
   "source": [
    "#Levels with the most average retries\n",
    "most_retries = levels[levels['avg_retrytimes'] > 10].sort_values(by='avg_retrytimes', ascending=False).head(10)\n",
    "most_retries.style.hide_index()"
   ]
  },
  {
   "cell_type": "code",
   "execution_count": 100,
   "id": "c35a96f0",
   "metadata": {
    "scrolled": true
   },
   "outputs": [
    {
     "data": {
      "text/html": [
       "<div>\n",
       "<style scoped>\n",
       "    .dataframe tbody tr th:only-of-type {\n",
       "        vertical-align: middle;\n",
       "    }\n",
       "\n",
       "    .dataframe tbody tr th {\n",
       "        vertical-align: top;\n",
       "    }\n",
       "\n",
       "    .dataframe thead th {\n",
       "        text-align: right;\n",
       "    }\n",
       "</style>\n",
       "<table border=\"1\" class=\"dataframe\">\n",
       "  <thead>\n",
       "    <tr style=\"text-align: right;\">\n",
       "      <th></th>\n",
       "      <th>index</th>\n",
       "      <th>level_id</th>\n",
       "      <th>avg_duration</th>\n",
       "      <th>avg_passrate</th>\n",
       "      <th>avg_winduration</th>\n",
       "      <th>avg_retrytimes</th>\n",
       "    </tr>\n",
       "  </thead>\n",
       "  <tbody>\n",
       "    <tr>\n",
       "      <th>0</th>\n",
       "      <td>117</td>\n",
       "      <td>118</td>\n",
       "      <td>80.15</td>\n",
       "      <td>0.88</td>\n",
       "      <td>73.50</td>\n",
       "      <td>0.00</td>\n",
       "    </tr>\n",
       "    <tr>\n",
       "      <th>1</th>\n",
       "      <td>118</td>\n",
       "      <td>119</td>\n",
       "      <td>97.51</td>\n",
       "      <td>0.85</td>\n",
       "      <td>90.13</td>\n",
       "      <td>0.00</td>\n",
       "    </tr>\n",
       "    <tr>\n",
       "      <th>2</th>\n",
       "      <td>165</td>\n",
       "      <td>166</td>\n",
       "      <td>56.06</td>\n",
       "      <td>1.00</td>\n",
       "      <td>53.96</td>\n",
       "      <td>0.00</td>\n",
       "    </tr>\n",
       "    <tr>\n",
       "      <th>3</th>\n",
       "      <td>166</td>\n",
       "      <td>167</td>\n",
       "      <td>115.82</td>\n",
       "      <td>0.75</td>\n",
       "      <td>104.64</td>\n",
       "      <td>0.00</td>\n",
       "    </tr>\n",
       "    <tr>\n",
       "      <th>4</th>\n",
       "      <td>167</td>\n",
       "      <td>168</td>\n",
       "      <td>159.71</td>\n",
       "      <td>0.30</td>\n",
       "      <td>153.02</td>\n",
       "      <td>0.00</td>\n",
       "    </tr>\n",
       "    <tr>\n",
       "      <th>5</th>\n",
       "      <td>168</td>\n",
       "      <td>169</td>\n",
       "      <td>81.64</td>\n",
       "      <td>0.87</td>\n",
       "      <td>74.94</td>\n",
       "      <td>0.00</td>\n",
       "    </tr>\n",
       "    <tr>\n",
       "      <th>6</th>\n",
       "      <td>169</td>\n",
       "      <td>170</td>\n",
       "      <td>97.59</td>\n",
       "      <td>0.85</td>\n",
       "      <td>91.61</td>\n",
       "      <td>0.00</td>\n",
       "    </tr>\n",
       "    <tr>\n",
       "      <th>7</th>\n",
       "      <td>179</td>\n",
       "      <td>180</td>\n",
       "      <td>55.69</td>\n",
       "      <td>0.99</td>\n",
       "      <td>54.01</td>\n",
       "      <td>0.00</td>\n",
       "    </tr>\n",
       "    <tr>\n",
       "      <th>8</th>\n",
       "      <td>180</td>\n",
       "      <td>181</td>\n",
       "      <td>113.95</td>\n",
       "      <td>0.75</td>\n",
       "      <td>104.34</td>\n",
       "      <td>0.00</td>\n",
       "    </tr>\n",
       "    <tr>\n",
       "      <th>9</th>\n",
       "      <td>183</td>\n",
       "      <td>184</td>\n",
       "      <td>182.71</td>\n",
       "      <td>0.99</td>\n",
       "      <td>53.87</td>\n",
       "      <td>0.00</td>\n",
       "    </tr>\n",
       "    <tr>\n",
       "      <th>10</th>\n",
       "      <td>229</td>\n",
       "      <td>230</td>\n",
       "      <td>147.74</td>\n",
       "      <td>0.23</td>\n",
       "      <td>137.31</td>\n",
       "      <td>0.00</td>\n",
       "    </tr>\n",
       "    <tr>\n",
       "      <th>11</th>\n",
       "      <td>290</td>\n",
       "      <td>291</td>\n",
       "      <td>195.13</td>\n",
       "      <td>1.00</td>\n",
       "      <td>53.88</td>\n",
       "      <td>0.00</td>\n",
       "    </tr>\n",
       "    <tr>\n",
       "      <th>12</th>\n",
       "      <td>306</td>\n",
       "      <td>307</td>\n",
       "      <td>137.47</td>\n",
       "      <td>0.29</td>\n",
       "      <td>128.57</td>\n",
       "      <td>0.00</td>\n",
       "    </tr>\n",
       "    <tr>\n",
       "      <th>13</th>\n",
       "      <td>350</td>\n",
       "      <td>351</td>\n",
       "      <td>178.47</td>\n",
       "      <td>0.78</td>\n",
       "      <td>166.89</td>\n",
       "      <td>0.00</td>\n",
       "    </tr>\n",
       "    <tr>\n",
       "      <th>14</th>\n",
       "      <td>944</td>\n",
       "      <td>945</td>\n",
       "      <td>186.00</td>\n",
       "      <td>0.75</td>\n",
       "      <td>113.50</td>\n",
       "      <td>0.00</td>\n",
       "    </tr>\n",
       "    <tr>\n",
       "      <th>15</th>\n",
       "      <td>948</td>\n",
       "      <td>949</td>\n",
       "      <td>229.00</td>\n",
       "      <td>0.75</td>\n",
       "      <td>113.50</td>\n",
       "      <td>0.00</td>\n",
       "    </tr>\n",
       "    <tr>\n",
       "      <th>16</th>\n",
       "      <td>951</td>\n",
       "      <td>952</td>\n",
       "      <td>257.00</td>\n",
       "      <td>0.58</td>\n",
       "      <td>108.50</td>\n",
       "      <td>0.00</td>\n",
       "    </tr>\n",
       "    <tr>\n",
       "      <th>17</th>\n",
       "      <td>952</td>\n",
       "      <td>953</td>\n",
       "      <td>159.00</td>\n",
       "      <td>0.75</td>\n",
       "      <td>115.50</td>\n",
       "      <td>0.00</td>\n",
       "    </tr>\n",
       "    <tr>\n",
       "      <th>18</th>\n",
       "      <td>959</td>\n",
       "      <td>960</td>\n",
       "      <td>137.00</td>\n",
       "      <td>1.00</td>\n",
       "      <td>137.00</td>\n",
       "      <td>0.00</td>\n",
       "    </tr>\n",
       "    <tr>\n",
       "      <th>19</th>\n",
       "      <td>961</td>\n",
       "      <td>962</td>\n",
       "      <td>116.00</td>\n",
       "      <td>1.00</td>\n",
       "      <td>116.00</td>\n",
       "      <td>0.00</td>\n",
       "    </tr>\n",
       "    <tr>\n",
       "      <th>20</th>\n",
       "      <td>962</td>\n",
       "      <td>963</td>\n",
       "      <td>146.50</td>\n",
       "      <td>1.00</td>\n",
       "      <td>146.50</td>\n",
       "      <td>0.00</td>\n",
       "    </tr>\n",
       "    <tr>\n",
       "      <th>21</th>\n",
       "      <td>964</td>\n",
       "      <td>965</td>\n",
       "      <td>215.50</td>\n",
       "      <td>0.75</td>\n",
       "      <td>125.00</td>\n",
       "      <td>0.00</td>\n",
       "    </tr>\n",
       "    <tr>\n",
       "      <th>22</th>\n",
       "      <td>971</td>\n",
       "      <td>972</td>\n",
       "      <td>114.00</td>\n",
       "      <td>1.00</td>\n",
       "      <td>114.00</td>\n",
       "      <td>0.00</td>\n",
       "    </tr>\n",
       "    <tr>\n",
       "      <th>23</th>\n",
       "      <td>977</td>\n",
       "      <td>978</td>\n",
       "      <td>120.00</td>\n",
       "      <td>1.00</td>\n",
       "      <td>120.00</td>\n",
       "      <td>0.00</td>\n",
       "    </tr>\n",
       "    <tr>\n",
       "      <th>24</th>\n",
       "      <td>979</td>\n",
       "      <td>980</td>\n",
       "      <td>105.00</td>\n",
       "      <td>1.00</td>\n",
       "      <td>105.00</td>\n",
       "      <td>0.00</td>\n",
       "    </tr>\n",
       "    <tr>\n",
       "      <th>25</th>\n",
       "      <td>980</td>\n",
       "      <td>981</td>\n",
       "      <td>89.00</td>\n",
       "      <td>1.00</td>\n",
       "      <td>89.00</td>\n",
       "      <td>0.00</td>\n",
       "    </tr>\n",
       "    <tr>\n",
       "      <th>26</th>\n",
       "      <td>981</td>\n",
       "      <td>982</td>\n",
       "      <td>161.00</td>\n",
       "      <td>1.00</td>\n",
       "      <td>161.00</td>\n",
       "      <td>0.00</td>\n",
       "    </tr>\n",
       "    <tr>\n",
       "      <th>27</th>\n",
       "      <td>984</td>\n",
       "      <td>985</td>\n",
       "      <td>435.00</td>\n",
       "      <td>0.50</td>\n",
       "      <td>114.00</td>\n",
       "      <td>0.00</td>\n",
       "    </tr>\n",
       "    <tr>\n",
       "      <th>28</th>\n",
       "      <td>986</td>\n",
       "      <td>987</td>\n",
       "      <td>214.00</td>\n",
       "      <td>1.00</td>\n",
       "      <td>214.00</td>\n",
       "      <td>0.00</td>\n",
       "    </tr>\n",
       "    <tr>\n",
       "      <th>29</th>\n",
       "      <td>987</td>\n",
       "      <td>988</td>\n",
       "      <td>186.00</td>\n",
       "      <td>1.00</td>\n",
       "      <td>186.00</td>\n",
       "      <td>0.00</td>\n",
       "    </tr>\n",
       "    <tr>\n",
       "      <th>30</th>\n",
       "      <td>988</td>\n",
       "      <td>989</td>\n",
       "      <td>185.00</td>\n",
       "      <td>1.00</td>\n",
       "      <td>185.00</td>\n",
       "      <td>0.00</td>\n",
       "    </tr>\n",
       "    <tr>\n",
       "      <th>31</th>\n",
       "      <td>989</td>\n",
       "      <td>990</td>\n",
       "      <td>148.00</td>\n",
       "      <td>1.00</td>\n",
       "      <td>148.00</td>\n",
       "      <td>0.00</td>\n",
       "    </tr>\n",
       "    <tr>\n",
       "      <th>32</th>\n",
       "      <td>990</td>\n",
       "      <td>991</td>\n",
       "      <td>113.00</td>\n",
       "      <td>1.00</td>\n",
       "      <td>113.00</td>\n",
       "      <td>0.00</td>\n",
       "    </tr>\n",
       "    <tr>\n",
       "      <th>33</th>\n",
       "      <td>992</td>\n",
       "      <td>993</td>\n",
       "      <td>124.00</td>\n",
       "      <td>1.00</td>\n",
       "      <td>124.00</td>\n",
       "      <td>0.00</td>\n",
       "    </tr>\n",
       "    <tr>\n",
       "      <th>34</th>\n",
       "      <td>994</td>\n",
       "      <td>995</td>\n",
       "      <td>150.00</td>\n",
       "      <td>1.00</td>\n",
       "      <td>150.00</td>\n",
       "      <td>0.00</td>\n",
       "    </tr>\n",
       "    <tr>\n",
       "      <th>35</th>\n",
       "      <td>996</td>\n",
       "      <td>997</td>\n",
       "      <td>129.00</td>\n",
       "      <td>1.00</td>\n",
       "      <td>129.00</td>\n",
       "      <td>0.00</td>\n",
       "    </tr>\n",
       "    <tr>\n",
       "      <th>36</th>\n",
       "      <td>997</td>\n",
       "      <td>998</td>\n",
       "      <td>186.00</td>\n",
       "      <td>1.00</td>\n",
       "      <td>186.00</td>\n",
       "      <td>0.00</td>\n",
       "    </tr>\n",
       "    <tr>\n",
       "      <th>37</th>\n",
       "      <td>998</td>\n",
       "      <td>999</td>\n",
       "      <td>219.00</td>\n",
       "      <td>1.00</td>\n",
       "      <td>219.00</td>\n",
       "      <td>0.00</td>\n",
       "    </tr>\n",
       "    <tr>\n",
       "      <th>38</th>\n",
       "      <td>999</td>\n",
       "      <td>1000</td>\n",
       "      <td>185.00</td>\n",
       "      <td>1.00</td>\n",
       "      <td>185.00</td>\n",
       "      <td>0.00</td>\n",
       "    </tr>\n",
       "    <tr>\n",
       "      <th>39</th>\n",
       "      <td>1000</td>\n",
       "      <td>1001</td>\n",
       "      <td>100.00</td>\n",
       "      <td>1.00</td>\n",
       "      <td>100.00</td>\n",
       "      <td>0.00</td>\n",
       "    </tr>\n",
       "    <tr>\n",
       "      <th>40</th>\n",
       "      <td>1002</td>\n",
       "      <td>1003</td>\n",
       "      <td>208.00</td>\n",
       "      <td>0.50</td>\n",
       "      <td>100.00</td>\n",
       "      <td>0.00</td>\n",
       "    </tr>\n",
       "    <tr>\n",
       "      <th>41</th>\n",
       "      <td>1004</td>\n",
       "      <td>1005</td>\n",
       "      <td>157.00</td>\n",
       "      <td>1.00</td>\n",
       "      <td>157.00</td>\n",
       "      <td>0.00</td>\n",
       "    </tr>\n",
       "    <tr>\n",
       "      <th>42</th>\n",
       "      <td>1005</td>\n",
       "      <td>1006</td>\n",
       "      <td>159.00</td>\n",
       "      <td>1.00</td>\n",
       "      <td>159.00</td>\n",
       "      <td>0.00</td>\n",
       "    </tr>\n",
       "    <tr>\n",
       "      <th>43</th>\n",
       "      <td>1007</td>\n",
       "      <td>1008</td>\n",
       "      <td>124.00</td>\n",
       "      <td>1.00</td>\n",
       "      <td>124.00</td>\n",
       "      <td>0.00</td>\n",
       "    </tr>\n",
       "    <tr>\n",
       "      <th>44</th>\n",
       "      <td>1012</td>\n",
       "      <td>1013</td>\n",
       "      <td>461.00</td>\n",
       "      <td>0.50</td>\n",
       "      <td>223.00</td>\n",
       "      <td>0.00</td>\n",
       "    </tr>\n",
       "    <tr>\n",
       "      <th>45</th>\n",
       "      <td>1013</td>\n",
       "      <td>1014</td>\n",
       "      <td>287.00</td>\n",
       "      <td>0.50</td>\n",
       "      <td>157.00</td>\n",
       "      <td>0.00</td>\n",
       "    </tr>\n",
       "    <tr>\n",
       "      <th>46</th>\n",
       "      <td>1024</td>\n",
       "      <td>1025</td>\n",
       "      <td>275.00</td>\n",
       "      <td>0.50</td>\n",
       "      <td>134.00</td>\n",
       "      <td>0.00</td>\n",
       "    </tr>\n",
       "    <tr>\n",
       "      <th>47</th>\n",
       "      <td>1025</td>\n",
       "      <td>1026</td>\n",
       "      <td>216.00</td>\n",
       "      <td>1.00</td>\n",
       "      <td>216.00</td>\n",
       "      <td>0.00</td>\n",
       "    </tr>\n",
       "    <tr>\n",
       "      <th>48</th>\n",
       "      <td>1028</td>\n",
       "      <td>1029</td>\n",
       "      <td>165.00</td>\n",
       "      <td>1.00</td>\n",
       "      <td>165.00</td>\n",
       "      <td>0.00</td>\n",
       "    </tr>\n",
       "    <tr>\n",
       "      <th>49</th>\n",
       "      <td>1030</td>\n",
       "      <td>1031</td>\n",
       "      <td>236.00</td>\n",
       "      <td>0.50</td>\n",
       "      <td>113.00</td>\n",
       "      <td>0.00</td>\n",
       "    </tr>\n",
       "    <tr>\n",
       "      <th>50</th>\n",
       "      <td>1032</td>\n",
       "      <td>1033</td>\n",
       "      <td>156.00</td>\n",
       "      <td>1.00</td>\n",
       "      <td>156.00</td>\n",
       "      <td>0.00</td>\n",
       "    </tr>\n",
       "    <tr>\n",
       "      <th>51</th>\n",
       "      <td>1033</td>\n",
       "      <td>1034</td>\n",
       "      <td>151.00</td>\n",
       "      <td>1.00</td>\n",
       "      <td>151.00</td>\n",
       "      <td>0.00</td>\n",
       "    </tr>\n",
       "    <tr>\n",
       "      <th>52</th>\n",
       "      <td>1041</td>\n",
       "      <td>1042</td>\n",
       "      <td>121.00</td>\n",
       "      <td>1.00</td>\n",
       "      <td>121.00</td>\n",
       "      <td>0.00</td>\n",
       "    </tr>\n",
       "    <tr>\n",
       "      <th>53</th>\n",
       "      <td>1066</td>\n",
       "      <td>1067</td>\n",
       "      <td>60.50</td>\n",
       "      <td>1.00</td>\n",
       "      <td>60.50</td>\n",
       "      <td>0.00</td>\n",
       "    </tr>\n",
       "    <tr>\n",
       "      <th>54</th>\n",
       "      <td>1217</td>\n",
       "      <td>1218</td>\n",
       "      <td>85.50</td>\n",
       "      <td>1.00</td>\n",
       "      <td>85.50</td>\n",
       "      <td>0.00</td>\n",
       "    </tr>\n",
       "    <tr>\n",
       "      <th>55</th>\n",
       "      <td>1223</td>\n",
       "      <td>1224</td>\n",
       "      <td>98.00</td>\n",
       "      <td>1.00</td>\n",
       "      <td>98.00</td>\n",
       "      <td>0.00</td>\n",
       "    </tr>\n",
       "    <tr>\n",
       "      <th>56</th>\n",
       "      <td>1226</td>\n",
       "      <td>1227</td>\n",
       "      <td>224.50</td>\n",
       "      <td>0.75</td>\n",
       "      <td>173.00</td>\n",
       "      <td>0.00</td>\n",
       "    </tr>\n",
       "    <tr>\n",
       "      <th>57</th>\n",
       "      <td>1346</td>\n",
       "      <td>1347</td>\n",
       "      <td>187.25</td>\n",
       "      <td>0.62</td>\n",
       "      <td>100.25</td>\n",
       "      <td>0.00</td>\n",
       "    </tr>\n",
       "  </tbody>\n",
       "</table>\n",
       "</div>"
      ],
      "text/plain": [
       "    index  level_id  avg_duration  avg_passrate  avg_winduration  \\\n",
       "0     117       118         80.15          0.88            73.50   \n",
       "1     118       119         97.51          0.85            90.13   \n",
       "2     165       166         56.06          1.00            53.96   \n",
       "3     166       167        115.82          0.75           104.64   \n",
       "4     167       168        159.71          0.30           153.02   \n",
       "5     168       169         81.64          0.87            74.94   \n",
       "6     169       170         97.59          0.85            91.61   \n",
       "7     179       180         55.69          0.99            54.01   \n",
       "8     180       181        113.95          0.75           104.34   \n",
       "9     183       184        182.71          0.99            53.87   \n",
       "10    229       230        147.74          0.23           137.31   \n",
       "11    290       291        195.13          1.00            53.88   \n",
       "12    306       307        137.47          0.29           128.57   \n",
       "13    350       351        178.47          0.78           166.89   \n",
       "14    944       945        186.00          0.75           113.50   \n",
       "15    948       949        229.00          0.75           113.50   \n",
       "16    951       952        257.00          0.58           108.50   \n",
       "17    952       953        159.00          0.75           115.50   \n",
       "18    959       960        137.00          1.00           137.00   \n",
       "19    961       962        116.00          1.00           116.00   \n",
       "20    962       963        146.50          1.00           146.50   \n",
       "21    964       965        215.50          0.75           125.00   \n",
       "22    971       972        114.00          1.00           114.00   \n",
       "23    977       978        120.00          1.00           120.00   \n",
       "24    979       980        105.00          1.00           105.00   \n",
       "25    980       981         89.00          1.00            89.00   \n",
       "26    981       982        161.00          1.00           161.00   \n",
       "27    984       985        435.00          0.50           114.00   \n",
       "28    986       987        214.00          1.00           214.00   \n",
       "29    987       988        186.00          1.00           186.00   \n",
       "30    988       989        185.00          1.00           185.00   \n",
       "31    989       990        148.00          1.00           148.00   \n",
       "32    990       991        113.00          1.00           113.00   \n",
       "33    992       993        124.00          1.00           124.00   \n",
       "34    994       995        150.00          1.00           150.00   \n",
       "35    996       997        129.00          1.00           129.00   \n",
       "36    997       998        186.00          1.00           186.00   \n",
       "37    998       999        219.00          1.00           219.00   \n",
       "38    999      1000        185.00          1.00           185.00   \n",
       "39   1000      1001        100.00          1.00           100.00   \n",
       "40   1002      1003        208.00          0.50           100.00   \n",
       "41   1004      1005        157.00          1.00           157.00   \n",
       "42   1005      1006        159.00          1.00           159.00   \n",
       "43   1007      1008        124.00          1.00           124.00   \n",
       "44   1012      1013        461.00          0.50           223.00   \n",
       "45   1013      1014        287.00          0.50           157.00   \n",
       "46   1024      1025        275.00          0.50           134.00   \n",
       "47   1025      1026        216.00          1.00           216.00   \n",
       "48   1028      1029        165.00          1.00           165.00   \n",
       "49   1030      1031        236.00          0.50           113.00   \n",
       "50   1032      1033        156.00          1.00           156.00   \n",
       "51   1033      1034        151.00          1.00           151.00   \n",
       "52   1041      1042        121.00          1.00           121.00   \n",
       "53   1066      1067         60.50          1.00            60.50   \n",
       "54   1217      1218         85.50          1.00            85.50   \n",
       "55   1223      1224         98.00          1.00            98.00   \n",
       "56   1226      1227        224.50          0.75           173.00   \n",
       "57   1346      1347        187.25          0.62           100.25   \n",
       "\n",
       "    avg_retrytimes  \n",
       "0             0.00  \n",
       "1             0.00  \n",
       "2             0.00  \n",
       "3             0.00  \n",
       "4             0.00  \n",
       "5             0.00  \n",
       "6             0.00  \n",
       "7             0.00  \n",
       "8             0.00  \n",
       "9             0.00  \n",
       "10            0.00  \n",
       "11            0.00  \n",
       "12            0.00  \n",
       "13            0.00  \n",
       "14            0.00  \n",
       "15            0.00  \n",
       "16            0.00  \n",
       "17            0.00  \n",
       "18            0.00  \n",
       "19            0.00  \n",
       "20            0.00  \n",
       "21            0.00  \n",
       "22            0.00  \n",
       "23            0.00  \n",
       "24            0.00  \n",
       "25            0.00  \n",
       "26            0.00  \n",
       "27            0.00  \n",
       "28            0.00  \n",
       "29            0.00  \n",
       "30            0.00  \n",
       "31            0.00  \n",
       "32            0.00  \n",
       "33            0.00  \n",
       "34            0.00  \n",
       "35            0.00  \n",
       "36            0.00  \n",
       "37            0.00  \n",
       "38            0.00  \n",
       "39            0.00  \n",
       "40            0.00  \n",
       "41            0.00  \n",
       "42            0.00  \n",
       "43            0.00  \n",
       "44            0.00  \n",
       "45            0.00  \n",
       "46            0.00  \n",
       "47            0.00  \n",
       "48            0.00  \n",
       "49            0.00  \n",
       "50            0.00  \n",
       "51            0.00  \n",
       "52            0.00  \n",
       "53            0.00  \n",
       "54            0.00  \n",
       "55            0.00  \n",
       "56            0.00  \n",
       "57            0.00  "
      ]
     },
     "execution_count": 100,
     "metadata": {},
     "output_type": "execute_result"
    }
   ],
   "source": [
    "#Levels with the least average retries\n",
    "no_retries = levels[levels['avg_retrytimes']  == 0]\n",
    "no_retries.reset_index()"
   ]
  },
  {
   "cell_type": "code",
   "execution_count": 101,
   "id": "5d761a3f",
   "metadata": {},
   "outputs": [
    {
     "data": {
      "text/html": [
       "<div>\n",
       "<style scoped>\n",
       "    .dataframe tbody tr th:only-of-type {\n",
       "        vertical-align: middle;\n",
       "    }\n",
       "\n",
       "    .dataframe tbody tr th {\n",
       "        vertical-align: top;\n",
       "    }\n",
       "\n",
       "    .dataframe thead th {\n",
       "        text-align: right;\n",
       "    }\n",
       "</style>\n",
       "<table border=\"1\" class=\"dataframe\">\n",
       "  <thead>\n",
       "    <tr style=\"text-align: right;\">\n",
       "      <th></th>\n",
       "      <th>level_id</th>\n",
       "      <th>avg_duration</th>\n",
       "      <th>avg_passrate</th>\n",
       "      <th>avg_winduration</th>\n",
       "      <th>avg_retrytimes</th>\n",
       "    </tr>\n",
       "  </thead>\n",
       "  <tbody>\n",
       "    <tr>\n",
       "      <th>966</th>\n",
       "      <td>967</td>\n",
       "      <td>1003.00</td>\n",
       "      <td>0.02</td>\n",
       "      <td>123.00</td>\n",
       "      <td>21.00</td>\n",
       "    </tr>\n",
       "    <tr>\n",
       "      <th>982</th>\n",
       "      <td>983</td>\n",
       "      <td>1128.00</td>\n",
       "      <td>0.00</td>\n",
       "      <td>540.00</td>\n",
       "      <td>98.00</td>\n",
       "    </tr>\n",
       "    <tr>\n",
       "      <th>1014</th>\n",
       "      <td>1015</td>\n",
       "      <td>1091.00</td>\n",
       "      <td>0.00</td>\n",
       "      <td>540.00</td>\n",
       "      <td>98.00</td>\n",
       "    </tr>\n",
       "    <tr>\n",
       "      <th>1052</th>\n",
       "      <td>1053</td>\n",
       "      <td>2076.00</td>\n",
       "      <td>0.07</td>\n",
       "      <td>129.00</td>\n",
       "      <td>18.00</td>\n",
       "    </tr>\n",
       "    <tr>\n",
       "      <th>1333</th>\n",
       "      <td>1334</td>\n",
       "      <td>1893.00</td>\n",
       "      <td>0.11</td>\n",
       "      <td>108.60</td>\n",
       "      <td>15.20</td>\n",
       "    </tr>\n",
       "  </tbody>\n",
       "</table>\n",
       "</div>"
      ],
      "text/plain": [
       "      level_id  avg_duration  avg_passrate  avg_winduration  avg_retrytimes\n",
       "966        967       1003.00          0.02           123.00           21.00\n",
       "982        983       1128.00          0.00           540.00           98.00\n",
       "1014      1015       1091.00          0.00           540.00           98.00\n",
       "1052      1053       2076.00          0.07           129.00           18.00\n",
       "1333      1334       1893.00          0.11           108.60           15.20"
      ]
     },
     "execution_count": 101,
     "metadata": {},
     "output_type": "execute_result"
    }
   ],
   "source": [
    "tough_levels = levels.loc[(levels['avg_retrytimes'] > 15) & (levels['avg_passrate'] < .2)]\n",
    "tough_levels"
   ]
  },
  {
   "cell_type": "code",
   "execution_count": 102,
   "id": "fda7d8a9",
   "metadata": {},
   "outputs": [],
   "source": [
    "levels['duration_difference'] = levels['avg_duration'] - levels['avg_winduration']"
   ]
  },
  {
   "cell_type": "code",
   "execution_count": 103,
   "id": "eff6c469",
   "metadata": {},
   "outputs": [
    {
     "data": {
      "text/html": [
       "<style type=\"text/css\">\n",
       "</style>\n",
       "<table id=\"T_b212d_\">\n",
       "  <thead>\n",
       "    <tr>\n",
       "      <th class=\"col_heading level0 col0\" >level_id</th>\n",
       "      <th class=\"col_heading level0 col1\" >avg_duration</th>\n",
       "      <th class=\"col_heading level0 col2\" >avg_passrate</th>\n",
       "      <th class=\"col_heading level0 col3\" >avg_winduration</th>\n",
       "      <th class=\"col_heading level0 col4\" >avg_retrytimes</th>\n",
       "      <th class=\"col_heading level0 col5\" >duration_difference</th>\n",
       "    </tr>\n",
       "  </thead>\n",
       "  <tbody>\n",
       "    <tr>\n",
       "      <td id=\"T_b212d_row0_col0\" class=\"data row0 col0\" >1053</td>\n",
       "      <td id=\"T_b212d_row0_col1\" class=\"data row0 col1\" >2076.000000</td>\n",
       "      <td id=\"T_b212d_row0_col2\" class=\"data row0 col2\" >0.066667</td>\n",
       "      <td id=\"T_b212d_row0_col3\" class=\"data row0 col3\" >129.000000</td>\n",
       "      <td id=\"T_b212d_row0_col4\" class=\"data row0 col4\" >18.000000</td>\n",
       "      <td id=\"T_b212d_row0_col5\" class=\"data row0 col5\" >1947.000000</td>\n",
       "    </tr>\n",
       "    <tr>\n",
       "      <td id=\"T_b212d_row1_col0\" class=\"data row1 col0\" >1024</td>\n",
       "      <td id=\"T_b212d_row1_col1\" class=\"data row1 col1\" >2105.000000</td>\n",
       "      <td id=\"T_b212d_row1_col2\" class=\"data row1 col2\" >0.071429</td>\n",
       "      <td id=\"T_b212d_row1_col3\" class=\"data row1 col3\" >175.000000</td>\n",
       "      <td id=\"T_b212d_row1_col4\" class=\"data row1 col4\" >12.000000</td>\n",
       "      <td id=\"T_b212d_row1_col5\" class=\"data row1 col5\" >1930.000000</td>\n",
       "    </tr>\n",
       "    <tr>\n",
       "      <td id=\"T_b212d_row2_col0\" class=\"data row2 col0\" >1334</td>\n",
       "      <td id=\"T_b212d_row2_col1\" class=\"data row2 col1\" >1893.000000</td>\n",
       "      <td id=\"T_b212d_row2_col2\" class=\"data row2 col2\" >0.105029</td>\n",
       "      <td id=\"T_b212d_row2_col3\" class=\"data row2 col3\" >108.600000</td>\n",
       "      <td id=\"T_b212d_row2_col4\" class=\"data row2 col4\" >15.200000</td>\n",
       "      <td id=\"T_b212d_row2_col5\" class=\"data row2 col5\" >1784.400000</td>\n",
       "    </tr>\n",
       "    <tr>\n",
       "      <td id=\"T_b212d_row3_col0\" class=\"data row3 col0\" >1038</td>\n",
       "      <td id=\"T_b212d_row3_col1\" class=\"data row3 col1\" >1580.500000</td>\n",
       "      <td id=\"T_b212d_row3_col2\" class=\"data row3 col2\" >0.033333</td>\n",
       "      <td id=\"T_b212d_row3_col3\" class=\"data row3 col3\" >98.000000</td>\n",
       "      <td id=\"T_b212d_row3_col4\" class=\"data row3 col4\" >13.000000</td>\n",
       "      <td id=\"T_b212d_row3_col5\" class=\"data row3 col5\" >1482.500000</td>\n",
       "    </tr>\n",
       "    <tr>\n",
       "      <td id=\"T_b212d_row4_col0\" class=\"data row4 col0\" >1023</td>\n",
       "      <td id=\"T_b212d_row4_col1\" class=\"data row4 col1\" >1681.000000</td>\n",
       "      <td id=\"T_b212d_row4_col2\" class=\"data row4 col2\" >0.111111</td>\n",
       "      <td id=\"T_b212d_row4_col3\" class=\"data row4 col3\" >210.000000</td>\n",
       "      <td id=\"T_b212d_row4_col4\" class=\"data row4 col4\" >7.000000</td>\n",
       "      <td id=\"T_b212d_row4_col5\" class=\"data row4 col5\" >1471.000000</td>\n",
       "    </tr>\n",
       "    <tr>\n",
       "      <td id=\"T_b212d_row5_col0\" class=\"data row5 col0\" >625</td>\n",
       "      <td id=\"T_b212d_row5_col1\" class=\"data row5 col1\" >1500.038728</td>\n",
       "      <td id=\"T_b212d_row5_col2\" class=\"data row5 col2\" >0.190159</td>\n",
       "      <td id=\"T_b212d_row5_col3\" class=\"data row5 col3\" >175.361151</td>\n",
       "      <td id=\"T_b212d_row5_col4\" class=\"data row5 col4\" >8.041727</td>\n",
       "      <td id=\"T_b212d_row5_col5\" class=\"data row5 col5\" >1324.677576</td>\n",
       "    </tr>\n",
       "    <tr>\n",
       "      <td id=\"T_b212d_row6_col0\" class=\"data row6 col0\" >1002</td>\n",
       "      <td id=\"T_b212d_row6_col1\" class=\"data row6 col1\" >1392.000000</td>\n",
       "      <td id=\"T_b212d_row6_col2\" class=\"data row6 col2\" >0.090909</td>\n",
       "      <td id=\"T_b212d_row6_col3\" class=\"data row6 col3\" >129.000000</td>\n",
       "      <td id=\"T_b212d_row6_col4\" class=\"data row6 col4\" >9.000000</td>\n",
       "      <td id=\"T_b212d_row6_col5\" class=\"data row6 col5\" >1263.000000</td>\n",
       "    </tr>\n",
       "    <tr>\n",
       "      <td id=\"T_b212d_row7_col0\" class=\"data row7 col0\" >1272</td>\n",
       "      <td id=\"T_b212d_row7_col1\" class=\"data row7 col1\" >1384.666667</td>\n",
       "      <td id=\"T_b212d_row7_col2\" class=\"data row7 col2\" >0.320156</td>\n",
       "      <td id=\"T_b212d_row7_col3\" class=\"data row7 col3\" >128.214286</td>\n",
       "      <td id=\"T_b212d_row7_col4\" class=\"data row7 col4\" >12.142857</td>\n",
       "      <td id=\"T_b212d_row7_col5\" class=\"data row7 col5\" >1256.452381</td>\n",
       "    </tr>\n",
       "    <tr>\n",
       "      <td id=\"T_b212d_row8_col0\" class=\"data row8 col0\" >1358</td>\n",
       "      <td id=\"T_b212d_row8_col1\" class=\"data row8 col1\" >1337.250000</td>\n",
       "      <td id=\"T_b212d_row8_col2\" class=\"data row8 col2\" >0.348214</td>\n",
       "      <td id=\"T_b212d_row8_col3\" class=\"data row8 col3\" >98.333333</td>\n",
       "      <td id=\"T_b212d_row8_col4\" class=\"data row8 col4\" >2.333333</td>\n",
       "      <td id=\"T_b212d_row8_col5\" class=\"data row8 col5\" >1238.916667</td>\n",
       "    </tr>\n",
       "    <tr>\n",
       "      <td id=\"T_b212d_row9_col0\" class=\"data row9 col0\" >1337</td>\n",
       "      <td id=\"T_b212d_row9_col1\" class=\"data row9 col1\" >1348.200000</td>\n",
       "      <td id=\"T_b212d_row9_col2\" class=\"data row9 col2\" >0.221164</td>\n",
       "      <td id=\"T_b212d_row9_col3\" class=\"data row9 col3\" >110.200000</td>\n",
       "      <td id=\"T_b212d_row9_col4\" class=\"data row9 col4\" >13.000000</td>\n",
       "      <td id=\"T_b212d_row9_col5\" class=\"data row9 col5\" >1238.000000</td>\n",
       "    </tr>\n",
       "  </tbody>\n",
       "</table>\n"
      ],
      "text/plain": [
       "<pandas.io.formats.style.Styler at 0x7fbd938b3750>"
      ]
     },
     "execution_count": 103,
     "metadata": {},
     "output_type": "execute_result"
    }
   ],
   "source": [
    "figured_out = levels[levels['duration_difference'] > 1200].sort_values(by=\n",
    "                                                                       'duration_difference',ascending=False).head(10)\n",
    "figured_out.style.hide_index()"
   ]
  },
  {
   "cell_type": "markdown",
   "id": "38b6ddd0",
   "metadata": {},
   "source": [
    "<div class=\"alert alert-warning\">\n",
    "  <strong>Summary of Findings</strong>\n",
    "    <ul><b><i>Which levels were beaten and failed the most?</i></b>\n",
    "        <li>The earliest levels had the highest number of completions with the first 60 levels being completed by at least 50% of players.</li>\n",
    "        <li>Levels 73 and 133 were failed over 10,000 times. Top 10 failed levels include 148, 142, 49, 145, 75, 146, 99, and 78 </li>\n",
    "    </ul>\n",
    "    <ul><b><i>Which levels took the longest and shortest to complete?</i></b> \n",
    "        <li>Levels 1024 and 1053 both took over 2000 seconds to complete. Top 10 levels with the longest average completion time include 1334, 1023, 1038, 625, 1002, 1272, 1018, 1353</li>\n",
    "        <li>Levels 1, 180, 166, and 4 took on average less than a minute to complete. Top 10 shortest levels include 1067, 2, 16, 13, 6, and 3, each taking no longer than 76.95 seconds.</li>\n",
    "    </ul>\n",
    "    <ul><b><i>Which levels had the highest and lowest average pass rate?</i></b>\n",
    "        <li>Many levels in the high 900s and low 1000s had a pass rate of 100%.</li>\n",
    "        <li>Levels 983, 1015, 967, 1038, 1260, 1053, 1235, 1024, 1427, and 1357 all have average pass rates of less than 10%.</li>\n",
    "    </ul>\n",
    "    <ul><b><i>Which levels had the most and least average number of retries?</i></b>\n",
    "        <li>Levels 983 and 1015 had 98 average retries a piece. Levels 967, 1053, 1334, 748, 1038, 1044, 1337, and 1442 all had between 13 and 21 average retries.</li>\n",
    "        <li>There are 58 levels with no retries sprinkled fairly evenly throughout the game.</li>\n",
    "    </ul>\n",
    "    <br>\n",
    "    <br>\n",
    "    <b><i>Takeaways:</b></i>\n",
    "    <br>\n",
    "    <br>\n",
    "    <li>Levels 967, 983, 1015, 1053, and 1334 are the toughest levels with the most retries and lowest average pass rates. </li>\n",
    "    <li>Levels 1053, 1024, 1334, 1038, 1023, 625, 1002, 1272, 1358, 1337 have the fastest solve time once you figure them out.</li>\n",
    "</div>"
   ]
  },
  {
   "cell_type": "markdown",
   "id": "4cbd253a",
   "metadata": {},
   "source": [
    "# Step 4: Retention"
   ]
  },
  {
   "cell_type": "code",
   "execution_count": 104,
   "id": "044a85bf",
   "metadata": {},
   "outputs": [],
   "source": [
    "users['day_count'] = users['time'].dt.to_period('D')"
   ]
  },
  {
   "cell_type": "code",
   "execution_count": 105,
   "id": "f032f999",
   "metadata": {},
   "outputs": [
    {
     "data": {
      "text/html": [
       "<div>\n",
       "<style scoped>\n",
       "    .dataframe tbody tr th:only-of-type {\n",
       "        vertical-align: middle;\n",
       "    }\n",
       "\n",
       "    .dataframe tbody tr th {\n",
       "        vertical-align: top;\n",
       "    }\n",
       "\n",
       "    .dataframe thead th {\n",
       "        text-align: right;\n",
       "    }\n",
       "</style>\n",
       "<table border=\"1\" class=\"dataframe\">\n",
       "  <thead>\n",
       "    <tr style=\"text-align: right;\">\n",
       "      <th></th>\n",
       "      <th>user_id</th>\n",
       "      <th>level_id</th>\n",
       "      <th>success</th>\n",
       "      <th>duration</th>\n",
       "      <th>reststep</th>\n",
       "      <th>help</th>\n",
       "      <th>time</th>\n",
       "      <th>day_count</th>\n",
       "    </tr>\n",
       "  </thead>\n",
       "  <tbody>\n",
       "    <tr>\n",
       "      <th>0</th>\n",
       "      <td>10932</td>\n",
       "      <td>1</td>\n",
       "      <td>1</td>\n",
       "      <td>127.00</td>\n",
       "      <td>0.50</td>\n",
       "      <td>0</td>\n",
       "      <td>2020-02-01 00:05:51</td>\n",
       "      <td>2020-02-01</td>\n",
       "    </tr>\n",
       "    <tr>\n",
       "      <th>1</th>\n",
       "      <td>10932</td>\n",
       "      <td>2</td>\n",
       "      <td>1</td>\n",
       "      <td>69.00</td>\n",
       "      <td>0.70</td>\n",
       "      <td>0</td>\n",
       "      <td>2020-02-01 00:08:01</td>\n",
       "      <td>2020-02-01</td>\n",
       "    </tr>\n",
       "    <tr>\n",
       "      <th>2</th>\n",
       "      <td>10932</td>\n",
       "      <td>3</td>\n",
       "      <td>1</td>\n",
       "      <td>67.00</td>\n",
       "      <td>0.56</td>\n",
       "      <td>0</td>\n",
       "      <td>2020-02-01 00:09:50</td>\n",
       "      <td>2020-02-01</td>\n",
       "    </tr>\n",
       "    <tr>\n",
       "      <th>3</th>\n",
       "      <td>10932</td>\n",
       "      <td>4</td>\n",
       "      <td>1</td>\n",
       "      <td>58.00</td>\n",
       "      <td>0.70</td>\n",
       "      <td>0</td>\n",
       "      <td>2020-02-01 00:11:16</td>\n",
       "      <td>2020-02-01</td>\n",
       "    </tr>\n",
       "    <tr>\n",
       "      <th>4</th>\n",
       "      <td>10932</td>\n",
       "      <td>5</td>\n",
       "      <td>1</td>\n",
       "      <td>83.00</td>\n",
       "      <td>0.67</td>\n",
       "      <td>0</td>\n",
       "      <td>2020-02-01 00:13:12</td>\n",
       "      <td>2020-02-01</td>\n",
       "    </tr>\n",
       "    <tr>\n",
       "      <th>...</th>\n",
       "      <td>...</td>\n",
       "      <td>...</td>\n",
       "      <td>...</td>\n",
       "      <td>...</td>\n",
       "      <td>...</td>\n",
       "      <td>...</td>\n",
       "      <td>...</td>\n",
       "      <td>...</td>\n",
       "    </tr>\n",
       "    <tr>\n",
       "      <th>2194346</th>\n",
       "      <td>10931</td>\n",
       "      <td>40</td>\n",
       "      <td>1</td>\n",
       "      <td>111.00</td>\n",
       "      <td>0.25</td>\n",
       "      <td>1</td>\n",
       "      <td>2020-02-03 16:26:37</td>\n",
       "      <td>2020-02-03</td>\n",
       "    </tr>\n",
       "    <tr>\n",
       "      <th>2194347</th>\n",
       "      <td>10931</td>\n",
       "      <td>41</td>\n",
       "      <td>1</td>\n",
       "      <td>76.00</td>\n",
       "      <td>0.28</td>\n",
       "      <td>0</td>\n",
       "      <td>2020-02-03 16:28:06</td>\n",
       "      <td>2020-02-03</td>\n",
       "    </tr>\n",
       "    <tr>\n",
       "      <th>2194348</th>\n",
       "      <td>10931</td>\n",
       "      <td>42</td>\n",
       "      <td>0</td>\n",
       "      <td>121.00</td>\n",
       "      <td>0.00</td>\n",
       "      <td>1</td>\n",
       "      <td>2020-02-03 16:30:17</td>\n",
       "      <td>2020-02-03</td>\n",
       "    </tr>\n",
       "    <tr>\n",
       "      <th>2194349</th>\n",
       "      <td>10931</td>\n",
       "      <td>42</td>\n",
       "      <td>0</td>\n",
       "      <td>115.00</td>\n",
       "      <td>0.00</td>\n",
       "      <td>0</td>\n",
       "      <td>2020-02-03 16:33:40</td>\n",
       "      <td>2020-02-03</td>\n",
       "    </tr>\n",
       "    <tr>\n",
       "      <th>2194350</th>\n",
       "      <td>10931</td>\n",
       "      <td>42</td>\n",
       "      <td>1</td>\n",
       "      <td>91.00</td>\n",
       "      <td>0.18</td>\n",
       "      <td>0</td>\n",
       "      <td>2020-02-03 16:35:18</td>\n",
       "      <td>2020-02-03</td>\n",
       "    </tr>\n",
       "  </tbody>\n",
       "</table>\n",
       "<p>2125029 rows × 8 columns</p>\n",
       "</div>"
      ],
      "text/plain": [
       "        user_id  level_id  success  duration  reststep  help  \\\n",
       "0         10932         1        1    127.00      0.50     0   \n",
       "1         10932         2        1     69.00      0.70     0   \n",
       "2         10932         3        1     67.00      0.56     0   \n",
       "3         10932         4        1     58.00      0.70     0   \n",
       "4         10932         5        1     83.00      0.67     0   \n",
       "...         ...       ...      ...       ...       ...   ...   \n",
       "2194346   10931        40        1    111.00      0.25     1   \n",
       "2194347   10931        41        1     76.00      0.28     0   \n",
       "2194348   10931        42        0    121.00      0.00     1   \n",
       "2194349   10931        42        0    115.00      0.00     0   \n",
       "2194350   10931        42        1     91.00      0.18     0   \n",
       "\n",
       "                       time   day_count  \n",
       "0       2020-02-01 00:05:51  2020-02-01  \n",
       "1       2020-02-01 00:08:01  2020-02-01  \n",
       "2       2020-02-01 00:09:50  2020-02-01  \n",
       "3       2020-02-01 00:11:16  2020-02-01  \n",
       "4       2020-02-01 00:13:12  2020-02-01  \n",
       "...                     ...         ...  \n",
       "2194346 2020-02-03 16:26:37  2020-02-03  \n",
       "2194347 2020-02-03 16:28:06  2020-02-03  \n",
       "2194348 2020-02-03 16:30:17  2020-02-03  \n",
       "2194349 2020-02-03 16:33:40  2020-02-03  \n",
       "2194350 2020-02-03 16:35:18  2020-02-03  \n",
       "\n",
       "[2125029 rows x 8 columns]"
      ]
     },
     "execution_count": 105,
     "metadata": {},
     "output_type": "execute_result"
    }
   ],
   "source": [
    "users"
   ]
  },
  {
   "cell_type": "code",
   "execution_count": 106,
   "id": "4ef01080",
   "metadata": {},
   "outputs": [
    {
     "data": {
      "text/html": [
       "<div>\n",
       "<style scoped>\n",
       "    .dataframe tbody tr th:only-of-type {\n",
       "        vertical-align: middle;\n",
       "    }\n",
       "\n",
       "    .dataframe tbody tr th {\n",
       "        vertical-align: top;\n",
       "    }\n",
       "\n",
       "    .dataframe thead th {\n",
       "        text-align: right;\n",
       "    }\n",
       "</style>\n",
       "<table border=\"1\" class=\"dataframe\">\n",
       "  <thead>\n",
       "    <tr style=\"text-align: right;\">\n",
       "      <th></th>\n",
       "      <th>user_id</th>\n",
       "      <th>level_id</th>\n",
       "      <th>success</th>\n",
       "      <th>duration</th>\n",
       "      <th>reststep</th>\n",
       "      <th>help</th>\n",
       "      <th>time</th>\n",
       "      <th>day_count</th>\n",
       "      <th>cohort_day</th>\n",
       "    </tr>\n",
       "  </thead>\n",
       "  <tbody>\n",
       "    <tr>\n",
       "      <th>0</th>\n",
       "      <td>10932</td>\n",
       "      <td>1</td>\n",
       "      <td>1</td>\n",
       "      <td>127.00</td>\n",
       "      <td>0.50</td>\n",
       "      <td>0</td>\n",
       "      <td>2020-02-01 00:05:51</td>\n",
       "      <td>2020-02-01</td>\n",
       "      <td>2020-02-01</td>\n",
       "    </tr>\n",
       "    <tr>\n",
       "      <th>1</th>\n",
       "      <td>10932</td>\n",
       "      <td>2</td>\n",
       "      <td>1</td>\n",
       "      <td>69.00</td>\n",
       "      <td>0.70</td>\n",
       "      <td>0</td>\n",
       "      <td>2020-02-01 00:08:01</td>\n",
       "      <td>2020-02-01</td>\n",
       "      <td>2020-02-01</td>\n",
       "    </tr>\n",
       "    <tr>\n",
       "      <th>2</th>\n",
       "      <td>10932</td>\n",
       "      <td>3</td>\n",
       "      <td>1</td>\n",
       "      <td>67.00</td>\n",
       "      <td>0.56</td>\n",
       "      <td>0</td>\n",
       "      <td>2020-02-01 00:09:50</td>\n",
       "      <td>2020-02-01</td>\n",
       "      <td>2020-02-01</td>\n",
       "    </tr>\n",
       "    <tr>\n",
       "      <th>3</th>\n",
       "      <td>10932</td>\n",
       "      <td>4</td>\n",
       "      <td>1</td>\n",
       "      <td>58.00</td>\n",
       "      <td>0.70</td>\n",
       "      <td>0</td>\n",
       "      <td>2020-02-01 00:11:16</td>\n",
       "      <td>2020-02-01</td>\n",
       "      <td>2020-02-01</td>\n",
       "    </tr>\n",
       "    <tr>\n",
       "      <th>4</th>\n",
       "      <td>10932</td>\n",
       "      <td>5</td>\n",
       "      <td>1</td>\n",
       "      <td>83.00</td>\n",
       "      <td>0.67</td>\n",
       "      <td>0</td>\n",
       "      <td>2020-02-01 00:13:12</td>\n",
       "      <td>2020-02-01</td>\n",
       "      <td>2020-02-01</td>\n",
       "    </tr>\n",
       "    <tr>\n",
       "      <th>...</th>\n",
       "      <td>...</td>\n",
       "      <td>...</td>\n",
       "      <td>...</td>\n",
       "      <td>...</td>\n",
       "      <td>...</td>\n",
       "      <td>...</td>\n",
       "      <td>...</td>\n",
       "      <td>...</td>\n",
       "      <td>...</td>\n",
       "    </tr>\n",
       "    <tr>\n",
       "      <th>2194346</th>\n",
       "      <td>10931</td>\n",
       "      <td>40</td>\n",
       "      <td>1</td>\n",
       "      <td>111.00</td>\n",
       "      <td>0.25</td>\n",
       "      <td>1</td>\n",
       "      <td>2020-02-03 16:26:37</td>\n",
       "      <td>2020-02-03</td>\n",
       "      <td>2020-02-02</td>\n",
       "    </tr>\n",
       "    <tr>\n",
       "      <th>2194347</th>\n",
       "      <td>10931</td>\n",
       "      <td>41</td>\n",
       "      <td>1</td>\n",
       "      <td>76.00</td>\n",
       "      <td>0.28</td>\n",
       "      <td>0</td>\n",
       "      <td>2020-02-03 16:28:06</td>\n",
       "      <td>2020-02-03</td>\n",
       "      <td>2020-02-02</td>\n",
       "    </tr>\n",
       "    <tr>\n",
       "      <th>2194348</th>\n",
       "      <td>10931</td>\n",
       "      <td>42</td>\n",
       "      <td>0</td>\n",
       "      <td>121.00</td>\n",
       "      <td>0.00</td>\n",
       "      <td>1</td>\n",
       "      <td>2020-02-03 16:30:17</td>\n",
       "      <td>2020-02-03</td>\n",
       "      <td>2020-02-02</td>\n",
       "    </tr>\n",
       "    <tr>\n",
       "      <th>2194349</th>\n",
       "      <td>10931</td>\n",
       "      <td>42</td>\n",
       "      <td>0</td>\n",
       "      <td>115.00</td>\n",
       "      <td>0.00</td>\n",
       "      <td>0</td>\n",
       "      <td>2020-02-03 16:33:40</td>\n",
       "      <td>2020-02-03</td>\n",
       "      <td>2020-02-02</td>\n",
       "    </tr>\n",
       "    <tr>\n",
       "      <th>2194350</th>\n",
       "      <td>10931</td>\n",
       "      <td>42</td>\n",
       "      <td>1</td>\n",
       "      <td>91.00</td>\n",
       "      <td>0.18</td>\n",
       "      <td>0</td>\n",
       "      <td>2020-02-03 16:35:18</td>\n",
       "      <td>2020-02-03</td>\n",
       "      <td>2020-02-02</td>\n",
       "    </tr>\n",
       "  </tbody>\n",
       "</table>\n",
       "<p>2125029 rows × 9 columns</p>\n",
       "</div>"
      ],
      "text/plain": [
       "        user_id  level_id  success  duration  reststep  help  \\\n",
       "0         10932         1        1    127.00      0.50     0   \n",
       "1         10932         2        1     69.00      0.70     0   \n",
       "2         10932         3        1     67.00      0.56     0   \n",
       "3         10932         4        1     58.00      0.70     0   \n",
       "4         10932         5        1     83.00      0.67     0   \n",
       "...         ...       ...      ...       ...       ...   ...   \n",
       "2194346   10931        40        1    111.00      0.25     1   \n",
       "2194347   10931        41        1     76.00      0.28     0   \n",
       "2194348   10931        42        0    121.00      0.00     1   \n",
       "2194349   10931        42        0    115.00      0.00     0   \n",
       "2194350   10931        42        1     91.00      0.18     0   \n",
       "\n",
       "                       time   day_count  cohort_day  \n",
       "0       2020-02-01 00:05:51  2020-02-01  2020-02-01  \n",
       "1       2020-02-01 00:08:01  2020-02-01  2020-02-01  \n",
       "2       2020-02-01 00:09:50  2020-02-01  2020-02-01  \n",
       "3       2020-02-01 00:11:16  2020-02-01  2020-02-01  \n",
       "4       2020-02-01 00:13:12  2020-02-01  2020-02-01  \n",
       "...                     ...         ...         ...  \n",
       "2194346 2020-02-03 16:26:37  2020-02-03  2020-02-02  \n",
       "2194347 2020-02-03 16:28:06  2020-02-03  2020-02-02  \n",
       "2194348 2020-02-03 16:30:17  2020-02-03  2020-02-02  \n",
       "2194349 2020-02-03 16:33:40  2020-02-03  2020-02-02  \n",
       "2194350 2020-02-03 16:35:18  2020-02-03  2020-02-02  \n",
       "\n",
       "[2125029 rows x 9 columns]"
      ]
     },
     "execution_count": 106,
     "metadata": {},
     "output_type": "execute_result"
    }
   ],
   "source": [
    "users['cohort_day'] = users.groupby(['user_id'])['day_count'].transform('min')\n",
    "users"
   ]
  },
  {
   "cell_type": "code",
   "execution_count": 107,
   "id": "caabc9a4",
   "metadata": {},
   "outputs": [],
   "source": [
    "#Create a function to get date elements\n",
    "def get_date_elements(df, column):\n",
    "    day = df[column].dt.day\n",
    "    month = df[column].dt.month\n",
    "    year = df[column].dt.year\n",
    "    return day, month, year"
   ]
  },
  {
   "cell_type": "code",
   "execution_count": 108,
   "id": "04d66ae6",
   "metadata": {},
   "outputs": [],
   "source": [
    "day_count_day,day_count_month,day_count_year = get_date_elements(users, 'day_count')\n",
    "cohort_day_day,cohort_day_month,cohort_day_year = get_date_elements(users, 'cohort_day')"
   ]
  },
  {
   "cell_type": "code",
   "execution_count": 109,
   "id": "b65d0d72",
   "metadata": {},
   "outputs": [
    {
     "data": {
      "text/plain": [
       "0      1\n",
       "1      1\n",
       "2      1\n",
       "3      1\n",
       "4      1\n",
       "      ..\n",
       "97     2\n",
       "98     2\n",
       "99     2\n",
       "100    2\n",
       "101    2\n",
       "Name: day_count, Length: 100, dtype: int64"
      ]
     },
     "execution_count": 109,
     "metadata": {},
     "output_type": "execute_result"
    }
   ],
   "source": [
    "day_count_day[:100]"
   ]
  },
  {
   "cell_type": "code",
   "execution_count": 110,
   "id": "5ad5364d",
   "metadata": {},
   "outputs": [],
   "source": [
    "#Create Cohort Index\n",
    "day_diff = day_count_day - cohort_day_day\n",
    "users['cohort_index'] = day_diff"
   ]
  },
  {
   "cell_type": "code",
   "execution_count": 111,
   "id": "c97311d6",
   "metadata": {},
   "outputs": [
    {
     "data": {
      "text/plain": [
       "array([0, 1, 2, 3])"
      ]
     },
     "execution_count": 111,
     "metadata": {},
     "output_type": "execute_result"
    }
   ],
   "source": [
    "users['cohort_index'].unique()"
   ]
  },
  {
   "cell_type": "code",
   "execution_count": 112,
   "id": "540bb2fe",
   "metadata": {},
   "outputs": [],
   "source": [
    "#Count the customer_id by grouping by the customer, the cohort_day, and the cohort_index\n",
    "cohort_data = users.groupby(['cohort_day', 'cohort_index'])['user_id'].apply(pd.Series.nunique).reset_index()"
   ]
  },
  {
   "cell_type": "code",
   "execution_count": 113,
   "id": "910a69c8",
   "metadata": {},
   "outputs": [
    {
     "data": {
      "text/html": [
       "<div>\n",
       "<style scoped>\n",
       "    .dataframe tbody tr th:only-of-type {\n",
       "        vertical-align: middle;\n",
       "    }\n",
       "\n",
       "    .dataframe tbody tr th {\n",
       "        vertical-align: top;\n",
       "    }\n",
       "\n",
       "    .dataframe thead th {\n",
       "        text-align: right;\n",
       "    }\n",
       "</style>\n",
       "<table border=\"1\" class=\"dataframe\">\n",
       "  <thead>\n",
       "    <tr style=\"text-align: right;\">\n",
       "      <th></th>\n",
       "      <th>cohort_day</th>\n",
       "      <th>cohort_index</th>\n",
       "      <th>user_id</th>\n",
       "    </tr>\n",
       "  </thead>\n",
       "  <tbody>\n",
       "    <tr>\n",
       "      <th>0</th>\n",
       "      <td>2020-02-01</td>\n",
       "      <td>0</td>\n",
       "      <td>13409</td>\n",
       "    </tr>\n",
       "    <tr>\n",
       "      <th>1</th>\n",
       "      <td>2020-02-01</td>\n",
       "      <td>1</td>\n",
       "      <td>11804</td>\n",
       "    </tr>\n",
       "    <tr>\n",
       "      <th>2</th>\n",
       "      <td>2020-02-01</td>\n",
       "      <td>2</td>\n",
       "      <td>9380</td>\n",
       "    </tr>\n",
       "    <tr>\n",
       "      <th>3</th>\n",
       "      <td>2020-02-01</td>\n",
       "      <td>3</td>\n",
       "      <td>8271</td>\n",
       "    </tr>\n",
       "    <tr>\n",
       "      <th>4</th>\n",
       "      <td>2020-02-02</td>\n",
       "      <td>0</td>\n",
       "      <td>152</td>\n",
       "    </tr>\n",
       "    <tr>\n",
       "      <th>5</th>\n",
       "      <td>2020-02-02</td>\n",
       "      <td>1</td>\n",
       "      <td>122</td>\n",
       "    </tr>\n",
       "    <tr>\n",
       "      <th>6</th>\n",
       "      <td>2020-02-02</td>\n",
       "      <td>2</td>\n",
       "      <td>97</td>\n",
       "    </tr>\n",
       "    <tr>\n",
       "      <th>7</th>\n",
       "      <td>2020-02-03</td>\n",
       "      <td>0</td>\n",
       "      <td>28</td>\n",
       "    </tr>\n",
       "    <tr>\n",
       "      <th>8</th>\n",
       "      <td>2020-02-03</td>\n",
       "      <td>1</td>\n",
       "      <td>28</td>\n",
       "    </tr>\n",
       "  </tbody>\n",
       "</table>\n",
       "</div>"
      ],
      "text/plain": [
       "   cohort_day  cohort_index  user_id\n",
       "0  2020-02-01             0    13409\n",
       "1  2020-02-01             1    11804\n",
       "2  2020-02-01             2     9380\n",
       "3  2020-02-01             3     8271\n",
       "4  2020-02-02             0      152\n",
       "5  2020-02-02             1      122\n",
       "6  2020-02-02             2       97\n",
       "7  2020-02-03             0       28\n",
       "8  2020-02-03             1       28"
      ]
     },
     "execution_count": 113,
     "metadata": {},
     "output_type": "execute_result"
    }
   ],
   "source": [
    "cohort_data"
   ]
  },
  {
   "cell_type": "code",
   "execution_count": 114,
   "id": "a96d94fc",
   "metadata": {},
   "outputs": [
    {
     "data": {
      "text/html": [
       "<div>\n",
       "<style scoped>\n",
       "    .dataframe tbody tr th:only-of-type {\n",
       "        vertical-align: middle;\n",
       "    }\n",
       "\n",
       "    .dataframe tbody tr th {\n",
       "        vertical-align: top;\n",
       "    }\n",
       "\n",
       "    .dataframe thead th {\n",
       "        text-align: right;\n",
       "    }\n",
       "</style>\n",
       "<table border=\"1\" class=\"dataframe\">\n",
       "  <thead>\n",
       "    <tr style=\"text-align: right;\">\n",
       "      <th>cohort_index</th>\n",
       "      <th>0</th>\n",
       "      <th>1</th>\n",
       "      <th>2</th>\n",
       "      <th>3</th>\n",
       "    </tr>\n",
       "    <tr>\n",
       "      <th>cohort_day</th>\n",
       "      <th></th>\n",
       "      <th></th>\n",
       "      <th></th>\n",
       "      <th></th>\n",
       "    </tr>\n",
       "  </thead>\n",
       "  <tbody>\n",
       "    <tr>\n",
       "      <th>2020-02-01</th>\n",
       "      <td>13409.00</td>\n",
       "      <td>11804.00</td>\n",
       "      <td>9380.00</td>\n",
       "      <td>8271.00</td>\n",
       "    </tr>\n",
       "    <tr>\n",
       "      <th>2020-02-02</th>\n",
       "      <td>152.00</td>\n",
       "      <td>122.00</td>\n",
       "      <td>97.00</td>\n",
       "      <td>NaN</td>\n",
       "    </tr>\n",
       "    <tr>\n",
       "      <th>2020-02-03</th>\n",
       "      <td>28.00</td>\n",
       "      <td>28.00</td>\n",
       "      <td>NaN</td>\n",
       "      <td>NaN</td>\n",
       "    </tr>\n",
       "  </tbody>\n",
       "</table>\n",
       "</div>"
      ],
      "text/plain": [
       "cohort_index        0        1       2       3\n",
       "cohort_day                                    \n",
       "2020-02-01   13409.00 11804.00 9380.00 8271.00\n",
       "2020-02-02     152.00   122.00   97.00     NaN\n",
       "2020-02-03      28.00    28.00     NaN     NaN"
      ]
     },
     "execution_count": 114,
     "metadata": {},
     "output_type": "execute_result"
    }
   ],
   "source": [
    "#Create a Pivot Table\n",
    "cohort_table = cohort_data.pivot(index='cohort_day', columns='cohort_index', values='user_id')\n",
    "cohort_table"
   ]
  },
  {
   "cell_type": "code",
   "execution_count": 115,
   "id": "fc9beee4",
   "metadata": {},
   "outputs": [],
   "source": [
    "#Change index\n",
    "cohort_table.index = cohort_table.index.strftime('%d')"
   ]
  },
  {
   "cell_type": "code",
   "execution_count": 116,
   "id": "7bd71aa0",
   "metadata": {},
   "outputs": [
    {
     "data": {
      "text/plain": [
       "<matplotlib.axes._subplots.AxesSubplot at 0x7fbd92be0bd0>"
      ]
     },
     "execution_count": 116,
     "metadata": {},
     "output_type": "execute_result"
    },
    {
     "data": {
      "image/png": "[encoded data removed]",
      "text/plain": [
       "<Figure size 432x288 with 2 Axes>"
      ]
     },
     "metadata": {
      "needs_background": "light"
     },
     "output_type": "display_data"
    }
   ],
   "source": [
    "#Visualize results in a heatmap\n",
    "#plt.figure(figsize=(21,10))\n",
    "sns.heatmap(cohort_table, annot=True, cmap='Blues')"
   ]
  },
  {
   "cell_type": "code",
   "execution_count": 117,
   "id": "ef2106e7",
   "metadata": {},
   "outputs": [
    {
     "data": {
      "text/html": [
       "<div>\n",
       "<style scoped>\n",
       "    .dataframe tbody tr th:only-of-type {\n",
       "        vertical-align: middle;\n",
       "    }\n",
       "\n",
       "    .dataframe tbody tr th {\n",
       "        vertical-align: top;\n",
       "    }\n",
       "\n",
       "    .dataframe thead th {\n",
       "        text-align: right;\n",
       "    }\n",
       "</style>\n",
       "<table border=\"1\" class=\"dataframe\">\n",
       "  <thead>\n",
       "    <tr style=\"text-align: right;\">\n",
       "      <th>cohort_index</th>\n",
       "      <th>0</th>\n",
       "      <th>1</th>\n",
       "      <th>2</th>\n",
       "      <th>3</th>\n",
       "    </tr>\n",
       "    <tr>\n",
       "      <th>cohort_day</th>\n",
       "      <th></th>\n",
       "      <th></th>\n",
       "      <th></th>\n",
       "      <th></th>\n",
       "    </tr>\n",
       "  </thead>\n",
       "  <tbody>\n",
       "    <tr>\n",
       "      <th>01</th>\n",
       "      <td>1.00</td>\n",
       "      <td>0.88</td>\n",
       "      <td>0.70</td>\n",
       "      <td>0.62</td>\n",
       "    </tr>\n",
       "    <tr>\n",
       "      <th>02</th>\n",
       "      <td>1.00</td>\n",
       "      <td>0.80</td>\n",
       "      <td>0.64</td>\n",
       "      <td>NaN</td>\n",
       "    </tr>\n",
       "    <tr>\n",
       "      <th>03</th>\n",
       "      <td>1.00</td>\n",
       "      <td>1.00</td>\n",
       "      <td>NaN</td>\n",
       "      <td>NaN</td>\n",
       "    </tr>\n",
       "  </tbody>\n",
       "</table>\n",
       "</div>"
      ],
      "text/plain": [
       "cohort_index    0    1    2    3\n",
       "cohort_day                      \n",
       "01           1.00 0.88 0.70 0.62\n",
       "02           1.00 0.80 0.64  NaN\n",
       "03           1.00 1.00  NaN  NaN"
      ]
     },
     "execution_count": 117,
     "metadata": {},
     "output_type": "execute_result"
    }
   ],
   "source": [
    "#Cohort table for percentage\n",
    "new_cohort_table = cohort_table.divide(cohort_table.iloc[:,0],axis=0)\n",
    "new_cohort_table"
   ]
  },
  {
   "cell_type": "code",
   "execution_count": 118,
   "id": "426fdaaf",
   "metadata": {},
   "outputs": [
    {
     "data": {
      "text/plain": [
       "<matplotlib.axes._subplots.AxesSubplot at 0x7fbd92a18390>"
      ]
     },
     "execution_count": 118,
     "metadata": {},
     "output_type": "execute_result"
    },
    {
     "data": {
      "image/png": "[encoded data removed]",
      "text/plain": [
       "<Figure size 432x288 with 2 Axes>"
      ]
     },
     "metadata": {
      "needs_background": "light"
     },
     "output_type": "display_data"
    }
   ],
   "source": [
    "#Visualize results in a heatmap\n",
    "#plt.figure(figsize=(21,10))\n",
    "sns.heatmap(new_cohort_table, annot=True, cmap='Blues', fmt='.0%')"
   ]
  },
  {
   "cell_type": "markdown",
   "id": "0d6e1c1d",
   "metadata": {},
   "source": [
    "# Table of Contents\n",
    "\n",
    "[Data Dictionary](#Data-Dictionary)\n",
    "\n",
    "[Step 1: Import Libraries and Data](#Step-1:-Import-and-Cleaning)\n",
    "\n",
    "[Step 2: Exploratory Data Analysis](#Step-2:-EDA)\n",
    "\n",
    "> [Step 2a: Users](#Step-2a:-Users)\n",
    "\n",
    "> [Step 2b: Levels](#Step-2b:-Levels)\n",
    "\n",
    "[Step 3: Performance Questions](#Step-3:-Performance-Questions)\n",
    "\n",
    "[Step 4: Retention](#Step-4:-Retention)"
   ]
  }
 ],
 "metadata": {
  "kernelspec": {
   "display_name": "Python 3",
   "language": "python",
   "name": "python3"
  },
  "language_info": {
   "codemirror_mode": {
    "name": "ipython",
    "version": 3
   },
   "file_extension": ".py",
   "mimetype": "text/x-python",
   "name": "python",
   "nbconvert_exporter": "python",
   "pygments_lexer": "ipython3",
   "version": "3.7.6"
  }
 },
 "nbformat": 4,
 "nbformat_minor": 5
}
