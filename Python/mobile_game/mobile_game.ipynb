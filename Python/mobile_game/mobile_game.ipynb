{
 "cells": [
  {
   "cell_type": "markdown",
   "id": "7f9a352f",
   "metadata": {},
   "source": [
    "# Mobile Game Analysis\n",
    "\n",
    "### An analysis of user progress data\n",
    "\n",
    "Data can be found on Kaggle at [this link](https://www.kaggle.com/datasets/manchvictor/prediction-of-user-loss-in-mobile-games)"
   ]
  },
  {
   "cell_type": "markdown",
   "id": "1545933e",
   "metadata": {},
   "source": [
    "level_seq.csv\n",
    "\n",
    "Each record is an attempt to play a level. The meaning of each column is as follows:\n",
    "- 'user_id' : user id, which can be matched with those in training, verification, and test sets;\n",
    "- 'level_id' : level id;\n",
    "- f_success ': indicates whether to complete the clearance (1: completes the clearance, 0: fails).\n",
    "- f_duration ': the duration of the attempt (unit: s);\n",
    "- f_reststep ': the ratio of the remaining steps to the limited steps (failure is 0);\n",
    "- f_help ': Whether extra help, such as props and hints, was used (1: used, 0: not used);\n",
    "'time' : indicates the timestamp."
   ]
  },
  {
   "cell_type": "markdown",
   "id": "b2acdd60",
   "metadata": {},
   "source": [
    "level_meta.csv\n",
    "\n",
    "Some statistical characteristics of each level can be used to represent the level. The meaning of each column is as follows:\n",
    "\n",
    "- f_avg_duration ': Average time spent on each attempt (unit s, including successful and failed attempts);\n",
    "- 'f_avg_passrate' : average clearance rate;\n",
    "- f_avg_win_duration ': Average time spent on each clearance (in s, including only the attempts to clear the clearance);\n",
    "- f_avg_retrytimes' : Average number of retries (the second time to play the same level counts as the first retry);\n",
    "- 'level_id' : indicates the id of the level, which can be matched with the level in level_seq.csv."
   ]
  },
  {
   "cell_type": "markdown",
   "id": "8d322a70",
   "metadata": {},
   "source": [
    "# Table of Contents\n",
    "\n",
    "[Step 1: Import Libraries and Data](#Step-1:-Import-and-Cleaning)\n",
    "\n",
    "[Step 2: Exploratory Data Analysis](#Step-2:-EDA)\n",
    "\n",
    "> [Step 2a: Users](#Step-2a:-Users)\n",
    "\n",
    "> [Step 2b: Levels](#Step-2b:-Levels)"
   ]
  },
  {
   "cell_type": "markdown",
   "id": "a90bea16",
   "metadata": {},
   "source": [
    "## Step 1: Import and Cleaning"
   ]
  },
  {
   "cell_type": "code",
   "execution_count": 1,
   "id": "1f81bfff",
   "metadata": {},
   "outputs": [],
   "source": [
    "#Import libraries\n",
    "import pandas as pd\n",
    "import glob\n",
    "import os\n",
    "import datetime as dt\n",
    "import numpy as np\n",
    "import matplotlib as mpl\n",
    "from matplotlib import pyplot as plt\n",
    "from matplotlib.ticker import (MultipleLocator, FormatStrFormatter, AutoMinorLocator)\n",
    "import matplotlib.dates\n",
    "import matplotlib.dates as mdates\n",
    "import seaborn as sns"
   ]
  },
  {
   "cell_type": "code",
   "execution_count": 2,
   "id": "1a16559b",
   "metadata": {},
   "outputs": [
    {
     "data": {
      "text/plain": [
       "['/Users/raws/Downloads/mobile_game_data/test.csv',\n",
       " '/Users/raws/Downloads/mobile_game_data/level_seq.csv',\n",
       " '/Users/raws/Downloads/mobile_game_data/dev.csv',\n",
       " '/Users/raws/Downloads/mobile_game_data/train.csv',\n",
       " '/Users/raws/Downloads/mobile_game_data/level_meta.csv']"
      ]
     },
     "execution_count": 2,
     "metadata": {},
     "output_type": "execute_result"
    }
   ],
   "source": [
    "#Import csv files\n",
    "path = \"/Users/raws/Downloads/mobile_game_data\"\n",
    "csv_files = glob.glob(path + \"/*.csv\")\n",
    "\n",
    "csv_files"
   ]
  },
  {
   "cell_type": "code",
   "execution_count": 3,
   "id": "065f940d",
   "metadata": {
    "scrolled": true
   },
   "outputs": [
    {
     "data": {
      "text/plain": [
       "[      user_id\n",
       " 0           1\n",
       " 1           2\n",
       " 2           3\n",
       " 3           4\n",
       " 4           5\n",
       " ...       ...\n",
       " 2768     2769\n",
       " 2769     2770\n",
       " 2770     2771\n",
       " 2771     2772\n",
       " 2772     2773\n",
       " \n",
       " [2773 rows x 1 columns],\n",
       "          user_id  level_id  f_success  f_duration  f_reststep  f_help  \\\n",
       " 0          10932         1          1       127.0    0.500000       0   \n",
       " 1          10932         2          1        69.0    0.703704       0   \n",
       " 2          10932         3          1        67.0    0.560000       0   \n",
       " 3          10932         4          1        58.0    0.700000       0   \n",
       " 4          10932         5          1        83.0    0.666667       0   \n",
       " ...          ...       ...        ...         ...         ...     ...   \n",
       " 2194346    10931        40          1       111.0    0.250000       1   \n",
       " 2194347    10931        41          1        76.0    0.277778       0   \n",
       " 2194348    10931        42          0       121.0    0.000000       1   \n",
       " 2194349    10931        42          0       115.0    0.000000       0   \n",
       " 2194350    10931        42          1        91.0    0.181818       0   \n",
       " \n",
       "                         time  \n",
       " 0        2020-02-01 00:05:51  \n",
       " 1        2020-02-01 00:08:01  \n",
       " 2        2020-02-01 00:09:50  \n",
       " 3        2020-02-01 00:11:16  \n",
       " 4        2020-02-01 00:13:12  \n",
       " ...                      ...  \n",
       " 2194346  2020-02-03 16:26:37  \n",
       " 2194347  2020-02-03 16:28:06  \n",
       " 2194348  2020-02-03 16:30:17  \n",
       " 2194349  2020-02-03 16:33:40  \n",
       " 2194350  2020-02-03 16:35:18  \n",
       " \n",
       " [2194351 rows x 7 columns],\n",
       "       user_id  label\n",
       " 0       10932      0\n",
       " 1       10933      1\n",
       " 2       10934      0\n",
       " 3       10935      1\n",
       " 4       10936      0\n",
       " ...       ...    ...\n",
       " 2653    13585      0\n",
       " 2654    13586      0\n",
       " 2655    13587      0\n",
       " 2656    13588      1\n",
       " 2657    13589      0\n",
       " \n",
       " [2658 rows x 2 columns],\n",
       "       user_id  label\n",
       " 0        2774      0\n",
       " 1        2775      0\n",
       " 2        2776      1\n",
       " 3        2777      0\n",
       " 4        2778      1\n",
       " ...       ...    ...\n",
       " 8153    10927      1\n",
       " 8154    10928      1\n",
       " 8155    10929      0\n",
       " 8156    10930      1\n",
       " 8157    10931      0\n",
       " \n",
       " [8158 rows x 2 columns],\n",
       "       f_avg_duration  f_avg_passrate  f_avg_win_duration  f_avg_retrytimes  \\\n",
       " 0          39.889940        0.944467           35.582757          0.017225   \n",
       " 1          60.683975        0.991836           56.715706          0.004638   \n",
       " 2          76.947355        0.991232           71.789943          0.004480   \n",
       " 3          58.170347        0.993843           54.842882          0.004761   \n",
       " 4         101.784577        0.954170           85.650547          0.027353   \n",
       " ...              ...             ...                 ...               ...   \n",
       " 1504      594.878788        0.453730          133.625000          3.187500   \n",
       " 1505      486.562500        0.454180          115.906250          3.218750   \n",
       " 1506      325.968750        0.573525           86.250000          2.687500   \n",
       " 1507      793.096774        0.322684          164.000000          5.419355   \n",
       " 1508      423.406250        0.461409          106.833333          2.200000   \n",
       " \n",
       "       level_id  \n",
       " 0            1  \n",
       " 1            2  \n",
       " 2            3  \n",
       " 3            4  \n",
       " 4            5  \n",
       " ...        ...  \n",
       " 1504      1505  \n",
       " 1505      1506  \n",
       " 1506      1507  \n",
       " 1507      1508  \n",
       " 1508      1509  \n",
       " \n",
       " [1509 rows x 5 columns]]"
      ]
     },
     "execution_count": 3,
     "metadata": {},
     "output_type": "execute_result"
    }
   ],
   "source": [
    "#Append csvs to list using list comprehension\n",
    "df_list = [pd.read_csv(filename, delimiter='\\t', index_col=None, header=0) for filename in csv_files]\n",
    "df_list"
   ]
  },
  {
   "cell_type": "code",
   "execution_count": 4,
   "id": "7403a024",
   "metadata": {},
   "outputs": [],
   "source": [
    "#Assign csvs to dataframe using list indices\n",
    "users = df_list[1]\n",
    "levels = df_list[4]"
   ]
  },
  {
   "cell_type": "code",
   "execution_count": 5,
   "id": "e8bf8789",
   "metadata": {},
   "outputs": [
    {
     "data": {
      "text/html": [
       "<div>\n",
       "<style scoped>\n",
       "    .dataframe tbody tr th:only-of-type {\n",
       "        vertical-align: middle;\n",
       "    }\n",
       "\n",
       "    .dataframe tbody tr th {\n",
       "        vertical-align: top;\n",
       "    }\n",
       "\n",
       "    .dataframe thead th {\n",
       "        text-align: right;\n",
       "    }\n",
       "</style>\n",
       "<table border=\"1\" class=\"dataframe\">\n",
       "  <thead>\n",
       "    <tr style=\"text-align: right;\">\n",
       "      <th></th>\n",
       "      <th>user_id</th>\n",
       "      <th>level_id</th>\n",
       "      <th>f_success</th>\n",
       "      <th>f_duration</th>\n",
       "      <th>f_reststep</th>\n",
       "      <th>f_help</th>\n",
       "      <th>time</th>\n",
       "    </tr>\n",
       "  </thead>\n",
       "  <tbody>\n",
       "    <tr>\n",
       "      <th>0</th>\n",
       "      <td>10932</td>\n",
       "      <td>1</td>\n",
       "      <td>1</td>\n",
       "      <td>127.0</td>\n",
       "      <td>0.500000</td>\n",
       "      <td>0</td>\n",
       "      <td>2020-02-01 00:05:51</td>\n",
       "    </tr>\n",
       "    <tr>\n",
       "      <th>1</th>\n",
       "      <td>10932</td>\n",
       "      <td>2</td>\n",
       "      <td>1</td>\n",
       "      <td>69.0</td>\n",
       "      <td>0.703704</td>\n",
       "      <td>0</td>\n",
       "      <td>2020-02-01 00:08:01</td>\n",
       "    </tr>\n",
       "    <tr>\n",
       "      <th>2</th>\n",
       "      <td>10932</td>\n",
       "      <td>3</td>\n",
       "      <td>1</td>\n",
       "      <td>67.0</td>\n",
       "      <td>0.560000</td>\n",
       "      <td>0</td>\n",
       "      <td>2020-02-01 00:09:50</td>\n",
       "    </tr>\n",
       "    <tr>\n",
       "      <th>3</th>\n",
       "      <td>10932</td>\n",
       "      <td>4</td>\n",
       "      <td>1</td>\n",
       "      <td>58.0</td>\n",
       "      <td>0.700000</td>\n",
       "      <td>0</td>\n",
       "      <td>2020-02-01 00:11:16</td>\n",
       "    </tr>\n",
       "    <tr>\n",
       "      <th>4</th>\n",
       "      <td>10932</td>\n",
       "      <td>5</td>\n",
       "      <td>1</td>\n",
       "      <td>83.0</td>\n",
       "      <td>0.666667</td>\n",
       "      <td>0</td>\n",
       "      <td>2020-02-01 00:13:12</td>\n",
       "    </tr>\n",
       "  </tbody>\n",
       "</table>\n",
       "</div>"
      ],
      "text/plain": [
       "   user_id  level_id  f_success  f_duration  f_reststep  f_help  \\\n",
       "0    10932         1          1       127.0    0.500000       0   \n",
       "1    10932         2          1        69.0    0.703704       0   \n",
       "2    10932         3          1        67.0    0.560000       0   \n",
       "3    10932         4          1        58.0    0.700000       0   \n",
       "4    10932         5          1        83.0    0.666667       0   \n",
       "\n",
       "                  time  \n",
       "0  2020-02-01 00:05:51  \n",
       "1  2020-02-01 00:08:01  \n",
       "2  2020-02-01 00:09:50  \n",
       "3  2020-02-01 00:11:16  \n",
       "4  2020-02-01 00:13:12  "
      ]
     },
     "execution_count": 5,
     "metadata": {},
     "output_type": "execute_result"
    }
   ],
   "source": [
    "#Examine users\n",
    "users.head()"
   ]
  },
  {
   "cell_type": "code",
   "execution_count": 6,
   "id": "a02e05c7",
   "metadata": {},
   "outputs": [
    {
     "data": {
      "text/html": [
       "<div>\n",
       "<style scoped>\n",
       "    .dataframe tbody tr th:only-of-type {\n",
       "        vertical-align: middle;\n",
       "    }\n",
       "\n",
       "    .dataframe tbody tr th {\n",
       "        vertical-align: top;\n",
       "    }\n",
       "\n",
       "    .dataframe thead th {\n",
       "        text-align: right;\n",
       "    }\n",
       "</style>\n",
       "<table border=\"1\" class=\"dataframe\">\n",
       "  <thead>\n",
       "    <tr style=\"text-align: right;\">\n",
       "      <th></th>\n",
       "      <th>user_id</th>\n",
       "      <th>level_id</th>\n",
       "      <th>f_success</th>\n",
       "      <th>f_duration</th>\n",
       "      <th>f_reststep</th>\n",
       "      <th>f_help</th>\n",
       "    </tr>\n",
       "  </thead>\n",
       "  <tbody>\n",
       "    <tr>\n",
       "      <th>count</th>\n",
       "      <td>2194351.00</td>\n",
       "      <td>2194351.00</td>\n",
       "      <td>2194351.00</td>\n",
       "      <td>2194351.00</td>\n",
       "      <td>2194351.00</td>\n",
       "      <td>2194351.00</td>\n",
       "    </tr>\n",
       "    <tr>\n",
       "      <th>mean</th>\n",
       "      <td>6745.03</td>\n",
       "      <td>96.84</td>\n",
       "      <td>0.53</td>\n",
       "      <td>108.12</td>\n",
       "      <td>0.17</td>\n",
       "      <td>0.04</td>\n",
       "    </tr>\n",
       "    <tr>\n",
       "      <th>std</th>\n",
       "      <td>3942.09</td>\n",
       "      <td>84.11</td>\n",
       "      <td>0.50</td>\n",
       "      <td>53.61</td>\n",
       "      <td>0.23</td>\n",
       "      <td>0.21</td>\n",
       "    </tr>\n",
       "    <tr>\n",
       "      <th>min</th>\n",
       "      <td>1.00</td>\n",
       "      <td>1.00</td>\n",
       "      <td>0.00</td>\n",
       "      <td>1.00</td>\n",
       "      <td>0.00</td>\n",
       "      <td>0.00</td>\n",
       "    </tr>\n",
       "    <tr>\n",
       "      <th>25%</th>\n",
       "      <td>3287.00</td>\n",
       "      <td>41.00</td>\n",
       "      <td>0.00</td>\n",
       "      <td>77.00</td>\n",
       "      <td>0.00</td>\n",
       "      <td>0.00</td>\n",
       "    </tr>\n",
       "    <tr>\n",
       "      <th>50%</th>\n",
       "      <td>6688.00</td>\n",
       "      <td>80.00</td>\n",
       "      <td>1.00</td>\n",
       "      <td>100.00</td>\n",
       "      <td>0.05</td>\n",
       "      <td>0.00</td>\n",
       "    </tr>\n",
       "    <tr>\n",
       "      <th>75%</th>\n",
       "      <td>10163.00</td>\n",
       "      <td>142.00</td>\n",
       "      <td>1.00</td>\n",
       "      <td>127.00</td>\n",
       "      <td>0.29</td>\n",
       "      <td>0.00</td>\n",
       "    </tr>\n",
       "    <tr>\n",
       "      <th>max</th>\n",
       "      <td>13589.00</td>\n",
       "      <td>1509.00</td>\n",
       "      <td>1.00</td>\n",
       "      <td>600.00</td>\n",
       "      <td>1.00</td>\n",
       "      <td>1.00</td>\n",
       "    </tr>\n",
       "  </tbody>\n",
       "</table>\n",
       "</div>"
      ],
      "text/plain": [
       "         user_id   level_id  f_success  f_duration  f_reststep     f_help\n",
       "count 2194351.00 2194351.00 2194351.00  2194351.00  2194351.00 2194351.00\n",
       "mean     6745.03      96.84       0.53      108.12        0.17       0.04\n",
       "std      3942.09      84.11       0.50       53.61        0.23       0.21\n",
       "min         1.00       1.00       0.00        1.00        0.00       0.00\n",
       "25%      3287.00      41.00       0.00       77.00        0.00       0.00\n",
       "50%      6688.00      80.00       1.00      100.00        0.05       0.00\n",
       "75%     10163.00     142.00       1.00      127.00        0.29       0.00\n",
       "max     13589.00    1509.00       1.00      600.00        1.00       1.00"
      ]
     },
     "execution_count": 6,
     "metadata": {},
     "output_type": "execute_result"
    }
   ],
   "source": [
    "#Summary statistics for users and suppress scientific notation\n",
    "pd.set_option('display.float_format', lambda x: '%.2f' % x)\n",
    "users.describe()"
   ]
  },
  {
   "cell_type": "code",
   "execution_count": 7,
   "id": "ae509cdf",
   "metadata": {},
   "outputs": [
    {
     "name": "stdout",
     "output_type": "stream",
     "text": [
      "<class 'pandas.core.frame.DataFrame'>\n",
      "RangeIndex: 2194351 entries, 0 to 2194350\n",
      "Data columns (total 7 columns):\n",
      " #   Column      Dtype  \n",
      "---  ------      -----  \n",
      " 0   user_id     int64  \n",
      " 1   level_id    int64  \n",
      " 2   f_success   int64  \n",
      " 3   f_duration  float64\n",
      " 4   f_reststep  float64\n",
      " 5   f_help      int64  \n",
      " 6   time        object \n",
      "dtypes: float64(2), int64(4), object(1)\n",
      "memory usage: 117.2+ MB\n"
     ]
    }
   ],
   "source": [
    "#Examine data types for users\n",
    "users.info()"
   ]
  },
  {
   "cell_type": "code",
   "execution_count": 8,
   "id": "ff6ec000",
   "metadata": {
    "scrolled": true
   },
   "outputs": [
    {
     "data": {
      "text/plain": [
       "69322"
      ]
     },
     "execution_count": 8,
     "metadata": {},
     "output_type": "execute_result"
    }
   ],
   "source": [
    "#Check for duplicates\n",
    "users.duplicated().sum()"
   ]
  },
  {
   "cell_type": "code",
   "execution_count": 9,
   "id": "7dc41e20",
   "metadata": {},
   "outputs": [
    {
     "data": {
      "text/plain": [
       "user_id       0\n",
       "level_id      0\n",
       "f_success     0\n",
       "f_duration    0\n",
       "f_reststep    0\n",
       "f_help        0\n",
       "time          0\n",
       "dtype: int64"
      ]
     },
     "execution_count": 9,
     "metadata": {},
     "output_type": "execute_result"
    }
   ],
   "source": [
    "#Check for null values\n",
    "users.isna().sum()"
   ]
  },
  {
   "cell_type": "code",
   "execution_count": 10,
   "id": "e7497814",
   "metadata": {},
   "outputs": [
    {
     "data": {
      "text/html": [
       "<div>\n",
       "<style scoped>\n",
       "    .dataframe tbody tr th:only-of-type {\n",
       "        vertical-align: middle;\n",
       "    }\n",
       "\n",
       "    .dataframe tbody tr th {\n",
       "        vertical-align: top;\n",
       "    }\n",
       "\n",
       "    .dataframe thead th {\n",
       "        text-align: right;\n",
       "    }\n",
       "</style>\n",
       "<table border=\"1\" class=\"dataframe\">\n",
       "  <thead>\n",
       "    <tr style=\"text-align: right;\">\n",
       "      <th></th>\n",
       "      <th>user_id</th>\n",
       "      <th>level_id</th>\n",
       "      <th>f_success</th>\n",
       "      <th>f_duration</th>\n",
       "      <th>f_reststep</th>\n",
       "      <th>f_help</th>\n",
       "      <th>time</th>\n",
       "    </tr>\n",
       "  </thead>\n",
       "  <tbody>\n",
       "    <tr>\n",
       "      <th>64</th>\n",
       "      <td>10932</td>\n",
       "      <td>50</td>\n",
       "      <td>0</td>\n",
       "      <td>153.00</td>\n",
       "      <td>0.00</td>\n",
       "      <td>0</td>\n",
       "      <td>2020-02-01 17:05:43</td>\n",
       "    </tr>\n",
       "    <tr>\n",
       "      <th>65</th>\n",
       "      <td>10932</td>\n",
       "      <td>50</td>\n",
       "      <td>0</td>\n",
       "      <td>153.00</td>\n",
       "      <td>0.00</td>\n",
       "      <td>0</td>\n",
       "      <td>2020-02-01 17:05:43</td>\n",
       "    </tr>\n",
       "    <tr>\n",
       "      <th>665</th>\n",
       "      <td>2774</td>\n",
       "      <td>42</td>\n",
       "      <td>1</td>\n",
       "      <td>130.00</td>\n",
       "      <td>0.05</td>\n",
       "      <td>0</td>\n",
       "      <td>2020-02-01 10:56:34</td>\n",
       "    </tr>\n",
       "    <tr>\n",
       "      <th>667</th>\n",
       "      <td>2774</td>\n",
       "      <td>44</td>\n",
       "      <td>1</td>\n",
       "      <td>116.00</td>\n",
       "      <td>0.21</td>\n",
       "      <td>0</td>\n",
       "      <td>2020-02-01 11:02:32</td>\n",
       "    </tr>\n",
       "    <tr>\n",
       "      <th>707</th>\n",
       "      <td>2774</td>\n",
       "      <td>62</td>\n",
       "      <td>1</td>\n",
       "      <td>89.00</td>\n",
       "      <td>0.43</td>\n",
       "      <td>0</td>\n",
       "      <td>2020-02-02 09:10:50</td>\n",
       "    </tr>\n",
       "    <tr>\n",
       "      <th>...</th>\n",
       "      <td>...</td>\n",
       "      <td>...</td>\n",
       "      <td>...</td>\n",
       "      <td>...</td>\n",
       "      <td>...</td>\n",
       "      <td>...</td>\n",
       "      <td>...</td>\n",
       "    </tr>\n",
       "    <tr>\n",
       "      <th>2192592</th>\n",
       "      <td>10924</td>\n",
       "      <td>36</td>\n",
       "      <td>1</td>\n",
       "      <td>110.00</td>\n",
       "      <td>0.50</td>\n",
       "      <td>0</td>\n",
       "      <td>2020-02-02 00:45:41</td>\n",
       "    </tr>\n",
       "    <tr>\n",
       "      <th>2193091</th>\n",
       "      <td>13586</td>\n",
       "      <td>104</td>\n",
       "      <td>0</td>\n",
       "      <td>155.00</td>\n",
       "      <td>0.00</td>\n",
       "      <td>0</td>\n",
       "      <td>2020-02-03 21:13:35</td>\n",
       "    </tr>\n",
       "    <tr>\n",
       "      <th>2193569</th>\n",
       "      <td>10927</td>\n",
       "      <td>137</td>\n",
       "      <td>1</td>\n",
       "      <td>73.00</td>\n",
       "      <td>0.29</td>\n",
       "      <td>0</td>\n",
       "      <td>2020-02-02 22:36:23</td>\n",
       "    </tr>\n",
       "    <tr>\n",
       "      <th>2193666</th>\n",
       "      <td>10927</td>\n",
       "      <td>207</td>\n",
       "      <td>0</td>\n",
       "      <td>166.00</td>\n",
       "      <td>0.00</td>\n",
       "      <td>0</td>\n",
       "      <td>2020-02-04 20:59:36</td>\n",
       "    </tr>\n",
       "    <tr>\n",
       "      <th>2193844</th>\n",
       "      <td>10929</td>\n",
       "      <td>64</td>\n",
       "      <td>0</td>\n",
       "      <td>118.00</td>\n",
       "      <td>0.00</td>\n",
       "      <td>0</td>\n",
       "      <td>2020-02-02 21:21:02</td>\n",
       "    </tr>\n",
       "  </tbody>\n",
       "</table>\n",
       "<p>69322 rows × 7 columns</p>\n",
       "</div>"
      ],
      "text/plain": [
       "         user_id  level_id  f_success  f_duration  f_reststep  f_help  \\\n",
       "64         10932        50          0      153.00        0.00       0   \n",
       "65         10932        50          0      153.00        0.00       0   \n",
       "665         2774        42          1      130.00        0.05       0   \n",
       "667         2774        44          1      116.00        0.21       0   \n",
       "707         2774        62          1       89.00        0.43       0   \n",
       "...          ...       ...        ...         ...         ...     ...   \n",
       "2192592    10924        36          1      110.00        0.50       0   \n",
       "2193091    13586       104          0      155.00        0.00       0   \n",
       "2193569    10927       137          1       73.00        0.29       0   \n",
       "2193666    10927       207          0      166.00        0.00       0   \n",
       "2193844    10929        64          0      118.00        0.00       0   \n",
       "\n",
       "                        time  \n",
       "64       2020-02-01 17:05:43  \n",
       "65       2020-02-01 17:05:43  \n",
       "665      2020-02-01 10:56:34  \n",
       "667      2020-02-01 11:02:32  \n",
       "707      2020-02-02 09:10:50  \n",
       "...                      ...  \n",
       "2192592  2020-02-02 00:45:41  \n",
       "2193091  2020-02-03 21:13:35  \n",
       "2193569  2020-02-02 22:36:23  \n",
       "2193666  2020-02-04 20:59:36  \n",
       "2193844  2020-02-02 21:21:02  \n",
       "\n",
       "[69322 rows x 7 columns]"
      ]
     },
     "execution_count": 10,
     "metadata": {},
     "output_type": "execute_result"
    }
   ],
   "source": [
    "#Examine duplicates\n",
    "dupes = users[users.duplicated()]\n",
    "dupes"
   ]
  },
  {
   "cell_type": "markdown",
   "id": "8dd4bcad",
   "metadata": {},
   "source": [
    "<div class=\"alert alert-warning\">\n",
    "  <strong>Summary of Findings</strong>\n",
    "    <li>Out of roughly 2.2 million rows there are about 70k duplicates.</li>\n",
    "    <li>There are no null values.</li>\n",
    "    <li>user_id needs to be converted to string.</li>\n",
    "    <li>time needs to be converted to datetime.</li>\n",
    "    <li>columns should be renamed to remove \"f_\".</li>\n",
    "</div>"
   ]
  },
  {
   "cell_type": "code",
   "execution_count": 11,
   "id": "bbcdb915",
   "metadata": {},
   "outputs": [],
   "source": [
    "#Drop duplicates\n",
    "users.drop_duplicates(inplace=True)"
   ]
  },
  {
   "cell_type": "code",
   "execution_count": 12,
   "id": "a9277196",
   "metadata": {},
   "outputs": [],
   "source": [
    "#Assign user_id to string type\n",
    "users['user_id'] = users['user_id'].astype('str')"
   ]
  },
  {
   "cell_type": "code",
   "execution_count": 13,
   "id": "a4da0548",
   "metadata": {},
   "outputs": [],
   "source": [
    "#Convert time to datetime object\n",
    "users['time'] = pd.to_datetime(users['time'], format='%Y-%m-%d %H:%M:%S')"
   ]
  },
  {
   "cell_type": "code",
   "execution_count": 14,
   "id": "5c3228ab",
   "metadata": {},
   "outputs": [
    {
     "name": "stdout",
     "output_type": "stream",
     "text": [
      "<class 'pandas.core.frame.DataFrame'>\n",
      "Int64Index: 2125029 entries, 0 to 2194350\n",
      "Data columns (total 7 columns):\n",
      " #   Column      Dtype         \n",
      "---  ------      -----         \n",
      " 0   user_id     object        \n",
      " 1   level_id    int64         \n",
      " 2   f_success   int64         \n",
      " 3   f_duration  float64       \n",
      " 4   f_reststep  float64       \n",
      " 5   f_help      int64         \n",
      " 6   time        datetime64[ns]\n",
      "dtypes: datetime64[ns](1), float64(2), int64(3), object(1)\n",
      "memory usage: 129.7+ MB\n"
     ]
    }
   ],
   "source": [
    "#Ensure type conversion success\n",
    "users.info()"
   ]
  },
  {
   "cell_type": "code",
   "execution_count": 15,
   "id": "d909fa4b",
   "metadata": {},
   "outputs": [],
   "source": [
    "#Rename columns to remove \"f_\"\n",
    "users.rename(columns=({'f_success':'success','f_duration':'duration',\n",
    "                       'f_reststep':'reststep','f_help':'help'}), inplace=True)"
   ]
  },
  {
   "cell_type": "code",
   "execution_count": 16,
   "id": "9c46775c",
   "metadata": {},
   "outputs": [
    {
     "data": {
      "text/html": [
       "<div>\n",
       "<style scoped>\n",
       "    .dataframe tbody tr th:only-of-type {\n",
       "        vertical-align: middle;\n",
       "    }\n",
       "\n",
       "    .dataframe tbody tr th {\n",
       "        vertical-align: top;\n",
       "    }\n",
       "\n",
       "    .dataframe thead th {\n",
       "        text-align: right;\n",
       "    }\n",
       "</style>\n",
       "<table border=\"1\" class=\"dataframe\">\n",
       "  <thead>\n",
       "    <tr style=\"text-align: right;\">\n",
       "      <th></th>\n",
       "      <th>user_id</th>\n",
       "      <th>level_id</th>\n",
       "      <th>success</th>\n",
       "      <th>duration</th>\n",
       "      <th>reststep</th>\n",
       "      <th>help</th>\n",
       "      <th>time</th>\n",
       "    </tr>\n",
       "  </thead>\n",
       "  <tbody>\n",
       "    <tr>\n",
       "      <th>0</th>\n",
       "      <td>10932</td>\n",
       "      <td>1</td>\n",
       "      <td>1</td>\n",
       "      <td>127.00</td>\n",
       "      <td>0.50</td>\n",
       "      <td>0</td>\n",
       "      <td>2020-02-01 00:05:51</td>\n",
       "    </tr>\n",
       "    <tr>\n",
       "      <th>1</th>\n",
       "      <td>10932</td>\n",
       "      <td>2</td>\n",
       "      <td>1</td>\n",
       "      <td>69.00</td>\n",
       "      <td>0.70</td>\n",
       "      <td>0</td>\n",
       "      <td>2020-02-01 00:08:01</td>\n",
       "    </tr>\n",
       "    <tr>\n",
       "      <th>2</th>\n",
       "      <td>10932</td>\n",
       "      <td>3</td>\n",
       "      <td>1</td>\n",
       "      <td>67.00</td>\n",
       "      <td>0.56</td>\n",
       "      <td>0</td>\n",
       "      <td>2020-02-01 00:09:50</td>\n",
       "    </tr>\n",
       "    <tr>\n",
       "      <th>3</th>\n",
       "      <td>10932</td>\n",
       "      <td>4</td>\n",
       "      <td>1</td>\n",
       "      <td>58.00</td>\n",
       "      <td>0.70</td>\n",
       "      <td>0</td>\n",
       "      <td>2020-02-01 00:11:16</td>\n",
       "    </tr>\n",
       "    <tr>\n",
       "      <th>4</th>\n",
       "      <td>10932</td>\n",
       "      <td>5</td>\n",
       "      <td>1</td>\n",
       "      <td>83.00</td>\n",
       "      <td>0.67</td>\n",
       "      <td>0</td>\n",
       "      <td>2020-02-01 00:13:12</td>\n",
       "    </tr>\n",
       "    <tr>\n",
       "      <th>...</th>\n",
       "      <td>...</td>\n",
       "      <td>...</td>\n",
       "      <td>...</td>\n",
       "      <td>...</td>\n",
       "      <td>...</td>\n",
       "      <td>...</td>\n",
       "      <td>...</td>\n",
       "    </tr>\n",
       "    <tr>\n",
       "      <th>2194346</th>\n",
       "      <td>10931</td>\n",
       "      <td>40</td>\n",
       "      <td>1</td>\n",
       "      <td>111.00</td>\n",
       "      <td>0.25</td>\n",
       "      <td>1</td>\n",
       "      <td>2020-02-03 16:26:37</td>\n",
       "    </tr>\n",
       "    <tr>\n",
       "      <th>2194347</th>\n",
       "      <td>10931</td>\n",
       "      <td>41</td>\n",
       "      <td>1</td>\n",
       "      <td>76.00</td>\n",
       "      <td>0.28</td>\n",
       "      <td>0</td>\n",
       "      <td>2020-02-03 16:28:06</td>\n",
       "    </tr>\n",
       "    <tr>\n",
       "      <th>2194348</th>\n",
       "      <td>10931</td>\n",
       "      <td>42</td>\n",
       "      <td>0</td>\n",
       "      <td>121.00</td>\n",
       "      <td>0.00</td>\n",
       "      <td>1</td>\n",
       "      <td>2020-02-03 16:30:17</td>\n",
       "    </tr>\n",
       "    <tr>\n",
       "      <th>2194349</th>\n",
       "      <td>10931</td>\n",
       "      <td>42</td>\n",
       "      <td>0</td>\n",
       "      <td>115.00</td>\n",
       "      <td>0.00</td>\n",
       "      <td>0</td>\n",
       "      <td>2020-02-03 16:33:40</td>\n",
       "    </tr>\n",
       "    <tr>\n",
       "      <th>2194350</th>\n",
       "      <td>10931</td>\n",
       "      <td>42</td>\n",
       "      <td>1</td>\n",
       "      <td>91.00</td>\n",
       "      <td>0.18</td>\n",
       "      <td>0</td>\n",
       "      <td>2020-02-03 16:35:18</td>\n",
       "    </tr>\n",
       "  </tbody>\n",
       "</table>\n",
       "<p>2125029 rows × 7 columns</p>\n",
       "</div>"
      ],
      "text/plain": [
       "        user_id  level_id  success  duration  reststep  help  \\\n",
       "0         10932         1        1    127.00      0.50     0   \n",
       "1         10932         2        1     69.00      0.70     0   \n",
       "2         10932         3        1     67.00      0.56     0   \n",
       "3         10932         4        1     58.00      0.70     0   \n",
       "4         10932         5        1     83.00      0.67     0   \n",
       "...         ...       ...      ...       ...       ...   ...   \n",
       "2194346   10931        40        1    111.00      0.25     1   \n",
       "2194347   10931        41        1     76.00      0.28     0   \n",
       "2194348   10931        42        0    121.00      0.00     1   \n",
       "2194349   10931        42        0    115.00      0.00     0   \n",
       "2194350   10931        42        1     91.00      0.18     0   \n",
       "\n",
       "                       time  \n",
       "0       2020-02-01 00:05:51  \n",
       "1       2020-02-01 00:08:01  \n",
       "2       2020-02-01 00:09:50  \n",
       "3       2020-02-01 00:11:16  \n",
       "4       2020-02-01 00:13:12  \n",
       "...                     ...  \n",
       "2194346 2020-02-03 16:26:37  \n",
       "2194347 2020-02-03 16:28:06  \n",
       "2194348 2020-02-03 16:30:17  \n",
       "2194349 2020-02-03 16:33:40  \n",
       "2194350 2020-02-03 16:35:18  \n",
       "\n",
       "[2125029 rows x 7 columns]"
      ]
     },
     "execution_count": 16,
     "metadata": {},
     "output_type": "execute_result"
    }
   ],
   "source": [
    "#Ensure column rename success\n",
    "users"
   ]
  },
  {
   "cell_type": "markdown",
   "id": "32044933",
   "metadata": {},
   "source": [
    "<div class=\"alert alert-success\">\n",
    "  <strong>Summary of Actions</strong>\n",
    "    <li>Dropped ~70k duplicates.</li>\n",
    "    <li>Changed user_id to string.</li>\n",
    "    <li>Converted time to datetime object.</li>\n",
    "    <li>Removed \"f_\"'s from column names.</li>\n",
    "</div>"
   ]
  },
  {
   "cell_type": "code",
   "execution_count": 17,
   "id": "ede4a957",
   "metadata": {},
   "outputs": [
    {
     "data": {
      "text/html": [
       "<div>\n",
       "<style scoped>\n",
       "    .dataframe tbody tr th:only-of-type {\n",
       "        vertical-align: middle;\n",
       "    }\n",
       "\n",
       "    .dataframe tbody tr th {\n",
       "        vertical-align: top;\n",
       "    }\n",
       "\n",
       "    .dataframe thead th {\n",
       "        text-align: right;\n",
       "    }\n",
       "</style>\n",
       "<table border=\"1\" class=\"dataframe\">\n",
       "  <thead>\n",
       "    <tr style=\"text-align: right;\">\n",
       "      <th></th>\n",
       "      <th>f_avg_duration</th>\n",
       "      <th>f_avg_passrate</th>\n",
       "      <th>f_avg_win_duration</th>\n",
       "      <th>f_avg_retrytimes</th>\n",
       "      <th>level_id</th>\n",
       "    </tr>\n",
       "  </thead>\n",
       "  <tbody>\n",
       "    <tr>\n",
       "      <th>0</th>\n",
       "      <td>39.89</td>\n",
       "      <td>0.94</td>\n",
       "      <td>35.58</td>\n",
       "      <td>0.02</td>\n",
       "      <td>1</td>\n",
       "    </tr>\n",
       "    <tr>\n",
       "      <th>1</th>\n",
       "      <td>60.68</td>\n",
       "      <td>0.99</td>\n",
       "      <td>56.72</td>\n",
       "      <td>0.00</td>\n",
       "      <td>2</td>\n",
       "    </tr>\n",
       "    <tr>\n",
       "      <th>2</th>\n",
       "      <td>76.95</td>\n",
       "      <td>0.99</td>\n",
       "      <td>71.79</td>\n",
       "      <td>0.00</td>\n",
       "      <td>3</td>\n",
       "    </tr>\n",
       "    <tr>\n",
       "      <th>3</th>\n",
       "      <td>58.17</td>\n",
       "      <td>0.99</td>\n",
       "      <td>54.84</td>\n",
       "      <td>0.00</td>\n",
       "      <td>4</td>\n",
       "    </tr>\n",
       "    <tr>\n",
       "      <th>4</th>\n",
       "      <td>101.78</td>\n",
       "      <td>0.95</td>\n",
       "      <td>85.65</td>\n",
       "      <td>0.03</td>\n",
       "      <td>5</td>\n",
       "    </tr>\n",
       "  </tbody>\n",
       "</table>\n",
       "</div>"
      ],
      "text/plain": [
       "   f_avg_duration  f_avg_passrate  f_avg_win_duration  f_avg_retrytimes  \\\n",
       "0           39.89            0.94               35.58              0.02   \n",
       "1           60.68            0.99               56.72              0.00   \n",
       "2           76.95            0.99               71.79              0.00   \n",
       "3           58.17            0.99               54.84              0.00   \n",
       "4          101.78            0.95               85.65              0.03   \n",
       "\n",
       "   level_id  \n",
       "0         1  \n",
       "1         2  \n",
       "2         3  \n",
       "3         4  \n",
       "4         5  "
      ]
     },
     "execution_count": 17,
     "metadata": {},
     "output_type": "execute_result"
    }
   ],
   "source": [
    "#Examine levels\n",
    "levels.head()"
   ]
  },
  {
   "cell_type": "code",
   "execution_count": 18,
   "id": "0866ec81",
   "metadata": {},
   "outputs": [
    {
     "name": "stdout",
     "output_type": "stream",
     "text": [
      "<class 'pandas.core.frame.DataFrame'>\n",
      "RangeIndex: 1509 entries, 0 to 1508\n",
      "Data columns (total 5 columns):\n",
      " #   Column              Non-Null Count  Dtype  \n",
      "---  ------              --------------  -----  \n",
      " 0   f_avg_duration      1509 non-null   float64\n",
      " 1   f_avg_passrate      1509 non-null   float64\n",
      " 2   f_avg_win_duration  1509 non-null   float64\n",
      " 3   f_avg_retrytimes    1509 non-null   float64\n",
      " 4   level_id            1509 non-null   int64  \n",
      "dtypes: float64(4), int64(1)\n",
      "memory usage: 59.1 KB\n"
     ]
    }
   ],
   "source": [
    "#Examine levels data types\n",
    "levels.info()"
   ]
  },
  {
   "cell_type": "code",
   "execution_count": 19,
   "id": "bb15578b",
   "metadata": {},
   "outputs": [
    {
     "data": {
      "text/html": [
       "<div>\n",
       "<style scoped>\n",
       "    .dataframe tbody tr th:only-of-type {\n",
       "        vertical-align: middle;\n",
       "    }\n",
       "\n",
       "    .dataframe tbody tr th {\n",
       "        vertical-align: top;\n",
       "    }\n",
       "\n",
       "    .dataframe thead th {\n",
       "        text-align: right;\n",
       "    }\n",
       "</style>\n",
       "<table border=\"1\" class=\"dataframe\">\n",
       "  <thead>\n",
       "    <tr style=\"text-align: right;\">\n",
       "      <th></th>\n",
       "      <th>f_avg_duration</th>\n",
       "      <th>f_avg_passrate</th>\n",
       "      <th>f_avg_win_duration</th>\n",
       "      <th>f_avg_retrytimes</th>\n",
       "      <th>level_id</th>\n",
       "    </tr>\n",
       "  </thead>\n",
       "  <tbody>\n",
       "    <tr>\n",
       "      <th>count</th>\n",
       "      <td>1509.00</td>\n",
       "      <td>1509.00</td>\n",
       "      <td>1509.00</td>\n",
       "      <td>1509.00</td>\n",
       "      <td>1509.00</td>\n",
       "    </tr>\n",
       "    <tr>\n",
       "      <th>mean</th>\n",
       "      <td>514.41</td>\n",
       "      <td>0.45</td>\n",
       "      <td>116.01</td>\n",
       "      <td>3.42</td>\n",
       "      <td>755.00</td>\n",
       "    </tr>\n",
       "    <tr>\n",
       "      <th>std</th>\n",
       "      <td>234.73</td>\n",
       "      <td>0.19</td>\n",
       "      <td>27.66</td>\n",
       "      <td>4.07</td>\n",
       "      <td>435.76</td>\n",
       "    </tr>\n",
       "    <tr>\n",
       "      <th>min</th>\n",
       "      <td>39.89</td>\n",
       "      <td>0.00</td>\n",
       "      <td>35.58</td>\n",
       "      <td>0.00</td>\n",
       "      <td>1.00</td>\n",
       "    </tr>\n",
       "    <tr>\n",
       "      <th>25%</th>\n",
       "      <td>372.25</td>\n",
       "      <td>0.33</td>\n",
       "      <td>101.24</td>\n",
       "      <td>2.00</td>\n",
       "      <td>378.00</td>\n",
       "    </tr>\n",
       "    <tr>\n",
       "      <th>50%</th>\n",
       "      <td>497.65</td>\n",
       "      <td>0.40</td>\n",
       "      <td>112.67</td>\n",
       "      <td>3.29</td>\n",
       "      <td>755.00</td>\n",
       "    </tr>\n",
       "    <tr>\n",
       "      <th>75%</th>\n",
       "      <td>623.59</td>\n",
       "      <td>0.51</td>\n",
       "      <td>126.44</td>\n",
       "      <td>4.41</td>\n",
       "      <td>1132.00</td>\n",
       "    </tr>\n",
       "    <tr>\n",
       "      <th>max</th>\n",
       "      <td>2105.00</td>\n",
       "      <td>1.00</td>\n",
       "      <td>540.00</td>\n",
       "      <td>98.00</td>\n",
       "      <td>1509.00</td>\n",
       "    </tr>\n",
       "  </tbody>\n",
       "</table>\n",
       "</div>"
      ],
      "text/plain": [
       "       f_avg_duration  f_avg_passrate  f_avg_win_duration  f_avg_retrytimes  \\\n",
       "count         1509.00         1509.00             1509.00           1509.00   \n",
       "mean           514.41            0.45              116.01              3.42   \n",
       "std            234.73            0.19               27.66              4.07   \n",
       "min             39.89            0.00               35.58              0.00   \n",
       "25%            372.25            0.33              101.24              2.00   \n",
       "50%            497.65            0.40              112.67              3.29   \n",
       "75%            623.59            0.51              126.44              4.41   \n",
       "max           2105.00            1.00              540.00             98.00   \n",
       "\n",
       "       level_id  \n",
       "count   1509.00  \n",
       "mean     755.00  \n",
       "std      435.76  \n",
       "min        1.00  \n",
       "25%      378.00  \n",
       "50%      755.00  \n",
       "75%     1132.00  \n",
       "max     1509.00  "
      ]
     },
     "execution_count": 19,
     "metadata": {},
     "output_type": "execute_result"
    }
   ],
   "source": [
    "#Summary statistics for levels\n",
    "levels.describe()"
   ]
  },
  {
   "cell_type": "code",
   "execution_count": 20,
   "id": "740930a6",
   "metadata": {},
   "outputs": [
    {
     "data": {
      "text/plain": [
       "0"
      ]
     },
     "execution_count": 20,
     "metadata": {},
     "output_type": "execute_result"
    }
   ],
   "source": [
    "#Check for duplicates\n",
    "levels.duplicated().sum()"
   ]
  },
  {
   "cell_type": "code",
   "execution_count": 21,
   "id": "9aa4b178",
   "metadata": {},
   "outputs": [
    {
     "data": {
      "text/plain": [
       "f_avg_duration        0\n",
       "f_avg_passrate        0\n",
       "f_avg_win_duration    0\n",
       "f_avg_retrytimes      0\n",
       "level_id              0\n",
       "dtype: int64"
      ]
     },
     "execution_count": 21,
     "metadata": {},
     "output_type": "execute_result"
    }
   ],
   "source": [
    "#Check for null values\n",
    "levels.isna().sum()"
   ]
  },
  {
   "cell_type": "markdown",
   "id": "e0661e63",
   "metadata": {},
   "source": [
    "<div class=\"alert alert-warning\">\n",
    "  <strong>Summary of Findings</strong>\n",
    "    <li>No null values or duplicates.</li>\n",
    "    <li>No need for data type conversions. level_id is technically a serial number and I could convert it to string, but not absolutely necessary.</li>\n",
    "    <li>Need to move level_id to the left side.</li>\n",
    "</div>"
   ]
  },
  {
   "cell_type": "code",
   "execution_count": 22,
   "id": "afbdb8dc",
   "metadata": {},
   "outputs": [],
   "source": [
    "#Assign columns to list\n",
    "cols = levels.columns.tolist()"
   ]
  },
  {
   "cell_type": "code",
   "execution_count": 23,
   "id": "efc7e11f",
   "metadata": {},
   "outputs": [
    {
     "data": {
      "text/plain": [
       "['f_avg_duration',\n",
       " 'f_avg_passrate',\n",
       " 'f_avg_win_duration',\n",
       " 'f_avg_retrytimes',\n",
       " 'level_id']"
      ]
     },
     "execution_count": 23,
     "metadata": {},
     "output_type": "execute_result"
    }
   ],
   "source": [
    "#Check column list\n",
    "cols"
   ]
  },
  {
   "cell_type": "code",
   "execution_count": 24,
   "id": "fe42b5b8",
   "metadata": {},
   "outputs": [],
   "source": [
    "#Add last element of list (level_id) to a list slice of all elements except the last element and assign to cols list\n",
    "cols = cols[-1:] + cols[:-1]"
   ]
  },
  {
   "cell_type": "code",
   "execution_count": 25,
   "id": "d0758903",
   "metadata": {},
   "outputs": [
    {
     "data": {
      "text/plain": [
       "['level_id',\n",
       " 'f_avg_duration',\n",
       " 'f_avg_passrate',\n",
       " 'f_avg_win_duration',\n",
       " 'f_avg_retrytimes']"
      ]
     },
     "execution_count": 25,
     "metadata": {},
     "output_type": "execute_result"
    }
   ],
   "source": [
    "#Ensure proper order\n",
    "cols"
   ]
  },
  {
   "cell_type": "code",
   "execution_count": 26,
   "id": "3b90ee1a",
   "metadata": {},
   "outputs": [],
   "source": [
    "#Assign newly ordered list to levels dataframe\n",
    "levels = levels[cols]"
   ]
  },
  {
   "cell_type": "code",
   "execution_count": 27,
   "id": "34b24aa5",
   "metadata": {},
   "outputs": [
    {
     "data": {
      "text/html": [
       "<div>\n",
       "<style scoped>\n",
       "    .dataframe tbody tr th:only-of-type {\n",
       "        vertical-align: middle;\n",
       "    }\n",
       "\n",
       "    .dataframe tbody tr th {\n",
       "        vertical-align: top;\n",
       "    }\n",
       "\n",
       "    .dataframe thead th {\n",
       "        text-align: right;\n",
       "    }\n",
       "</style>\n",
       "<table border=\"1\" class=\"dataframe\">\n",
       "  <thead>\n",
       "    <tr style=\"text-align: right;\">\n",
       "      <th></th>\n",
       "      <th>level_id</th>\n",
       "      <th>f_avg_duration</th>\n",
       "      <th>f_avg_passrate</th>\n",
       "      <th>f_avg_win_duration</th>\n",
       "      <th>f_avg_retrytimes</th>\n",
       "    </tr>\n",
       "  </thead>\n",
       "  <tbody>\n",
       "    <tr>\n",
       "      <th>0</th>\n",
       "      <td>1</td>\n",
       "      <td>39.89</td>\n",
       "      <td>0.94</td>\n",
       "      <td>35.58</td>\n",
       "      <td>0.02</td>\n",
       "    </tr>\n",
       "    <tr>\n",
       "      <th>1</th>\n",
       "      <td>2</td>\n",
       "      <td>60.68</td>\n",
       "      <td>0.99</td>\n",
       "      <td>56.72</td>\n",
       "      <td>0.00</td>\n",
       "    </tr>\n",
       "    <tr>\n",
       "      <th>2</th>\n",
       "      <td>3</td>\n",
       "      <td>76.95</td>\n",
       "      <td>0.99</td>\n",
       "      <td>71.79</td>\n",
       "      <td>0.00</td>\n",
       "    </tr>\n",
       "    <tr>\n",
       "      <th>3</th>\n",
       "      <td>4</td>\n",
       "      <td>58.17</td>\n",
       "      <td>0.99</td>\n",
       "      <td>54.84</td>\n",
       "      <td>0.00</td>\n",
       "    </tr>\n",
       "    <tr>\n",
       "      <th>4</th>\n",
       "      <td>5</td>\n",
       "      <td>101.78</td>\n",
       "      <td>0.95</td>\n",
       "      <td>85.65</td>\n",
       "      <td>0.03</td>\n",
       "    </tr>\n",
       "    <tr>\n",
       "      <th>...</th>\n",
       "      <td>...</td>\n",
       "      <td>...</td>\n",
       "      <td>...</td>\n",
       "      <td>...</td>\n",
       "      <td>...</td>\n",
       "    </tr>\n",
       "    <tr>\n",
       "      <th>1504</th>\n",
       "      <td>1505</td>\n",
       "      <td>594.88</td>\n",
       "      <td>0.45</td>\n",
       "      <td>133.62</td>\n",
       "      <td>3.19</td>\n",
       "    </tr>\n",
       "    <tr>\n",
       "      <th>1505</th>\n",
       "      <td>1506</td>\n",
       "      <td>486.56</td>\n",
       "      <td>0.45</td>\n",
       "      <td>115.91</td>\n",
       "      <td>3.22</td>\n",
       "    </tr>\n",
       "    <tr>\n",
       "      <th>1506</th>\n",
       "      <td>1507</td>\n",
       "      <td>325.97</td>\n",
       "      <td>0.57</td>\n",
       "      <td>86.25</td>\n",
       "      <td>2.69</td>\n",
       "    </tr>\n",
       "    <tr>\n",
       "      <th>1507</th>\n",
       "      <td>1508</td>\n",
       "      <td>793.10</td>\n",
       "      <td>0.32</td>\n",
       "      <td>164.00</td>\n",
       "      <td>5.42</td>\n",
       "    </tr>\n",
       "    <tr>\n",
       "      <th>1508</th>\n",
       "      <td>1509</td>\n",
       "      <td>423.41</td>\n",
       "      <td>0.46</td>\n",
       "      <td>106.83</td>\n",
       "      <td>2.20</td>\n",
       "    </tr>\n",
       "  </tbody>\n",
       "</table>\n",
       "<p>1509 rows × 5 columns</p>\n",
       "</div>"
      ],
      "text/plain": [
       "      level_id  f_avg_duration  f_avg_passrate  f_avg_win_duration  \\\n",
       "0            1           39.89            0.94               35.58   \n",
       "1            2           60.68            0.99               56.72   \n",
       "2            3           76.95            0.99               71.79   \n",
       "3            4           58.17            0.99               54.84   \n",
       "4            5          101.78            0.95               85.65   \n",
       "...        ...             ...             ...                 ...   \n",
       "1504      1505          594.88            0.45              133.62   \n",
       "1505      1506          486.56            0.45              115.91   \n",
       "1506      1507          325.97            0.57               86.25   \n",
       "1507      1508          793.10            0.32              164.00   \n",
       "1508      1509          423.41            0.46              106.83   \n",
       "\n",
       "      f_avg_retrytimes  \n",
       "0                 0.02  \n",
       "1                 0.00  \n",
       "2                 0.00  \n",
       "3                 0.00  \n",
       "4                 0.03  \n",
       "...                ...  \n",
       "1504              3.19  \n",
       "1505              3.22  \n",
       "1506              2.69  \n",
       "1507              5.42  \n",
       "1508              2.20  \n",
       "\n",
       "[1509 rows x 5 columns]"
      ]
     },
     "execution_count": 27,
     "metadata": {},
     "output_type": "execute_result"
    }
   ],
   "source": [
    "#Ensure success\n",
    "levels"
   ]
  },
  {
   "cell_type": "markdown",
   "id": "2a210ea6",
   "metadata": {},
   "source": [
    "<div class=\"alert alert-success\">\n",
    "  <strong>Summary of Actions</strong>\n",
    "    <li>Moved level_id to the left side for better readability.</li>\n",
    "</div>"
   ]
  },
  {
   "cell_type": "markdown",
   "id": "d03419bb",
   "metadata": {},
   "source": [
    "## Step 2: EDA"
   ]
  },
  {
   "cell_type": "markdown",
   "id": "50eaa11a",
   "metadata": {},
   "source": [
    "### Step 2a: Users"
   ]
  },
  {
   "cell_type": "code",
   "execution_count": 28,
   "id": "7d916224",
   "metadata": {},
   "outputs": [
    {
     "data": {
      "text/html": [
       "<div>\n",
       "<style scoped>\n",
       "    .dataframe tbody tr th:only-of-type {\n",
       "        vertical-align: middle;\n",
       "    }\n",
       "\n",
       "    .dataframe tbody tr th {\n",
       "        vertical-align: top;\n",
       "    }\n",
       "\n",
       "    .dataframe thead th {\n",
       "        text-align: right;\n",
       "    }\n",
       "</style>\n",
       "<table border=\"1\" class=\"dataframe\">\n",
       "  <thead>\n",
       "    <tr style=\"text-align: right;\">\n",
       "      <th></th>\n",
       "      <th>user_id</th>\n",
       "      <th>level_id</th>\n",
       "      <th>success</th>\n",
       "      <th>duration</th>\n",
       "      <th>reststep</th>\n",
       "      <th>help</th>\n",
       "      <th>time</th>\n",
       "    </tr>\n",
       "  </thead>\n",
       "  <tbody>\n",
       "    <tr>\n",
       "      <th>0</th>\n",
       "      <td>10932</td>\n",
       "      <td>1</td>\n",
       "      <td>1</td>\n",
       "      <td>127.00</td>\n",
       "      <td>0.50</td>\n",
       "      <td>0</td>\n",
       "      <td>2020-02-01 00:05:51</td>\n",
       "    </tr>\n",
       "    <tr>\n",
       "      <th>1</th>\n",
       "      <td>10932</td>\n",
       "      <td>2</td>\n",
       "      <td>1</td>\n",
       "      <td>69.00</td>\n",
       "      <td>0.70</td>\n",
       "      <td>0</td>\n",
       "      <td>2020-02-01 00:08:01</td>\n",
       "    </tr>\n",
       "    <tr>\n",
       "      <th>2</th>\n",
       "      <td>10932</td>\n",
       "      <td>3</td>\n",
       "      <td>1</td>\n",
       "      <td>67.00</td>\n",
       "      <td>0.56</td>\n",
       "      <td>0</td>\n",
       "      <td>2020-02-01 00:09:50</td>\n",
       "    </tr>\n",
       "    <tr>\n",
       "      <th>3</th>\n",
       "      <td>10932</td>\n",
       "      <td>4</td>\n",
       "      <td>1</td>\n",
       "      <td>58.00</td>\n",
       "      <td>0.70</td>\n",
       "      <td>0</td>\n",
       "      <td>2020-02-01 00:11:16</td>\n",
       "    </tr>\n",
       "    <tr>\n",
       "      <th>4</th>\n",
       "      <td>10932</td>\n",
       "      <td>5</td>\n",
       "      <td>1</td>\n",
       "      <td>83.00</td>\n",
       "      <td>0.67</td>\n",
       "      <td>0</td>\n",
       "      <td>2020-02-01 00:13:12</td>\n",
       "    </tr>\n",
       "  </tbody>\n",
       "</table>\n",
       "</div>"
      ],
      "text/plain": [
       "  user_id  level_id  success  duration  reststep  help                time\n",
       "0   10932         1        1    127.00      0.50     0 2020-02-01 00:05:51\n",
       "1   10932         2        1     69.00      0.70     0 2020-02-01 00:08:01\n",
       "2   10932         3        1     67.00      0.56     0 2020-02-01 00:09:50\n",
       "3   10932         4        1     58.00      0.70     0 2020-02-01 00:11:16\n",
       "4   10932         5        1     83.00      0.67     0 2020-02-01 00:13:12"
      ]
     },
     "execution_count": 28,
     "metadata": {},
     "output_type": "execute_result"
    }
   ],
   "source": [
    "users.head()"
   ]
  },
  {
   "cell_type": "code",
   "execution_count": 29,
   "id": "3a6b1162",
   "metadata": {},
   "outputs": [
    {
     "data": {
      "text/plain": [
       "13589"
      ]
     },
     "execution_count": 29,
     "metadata": {},
     "output_type": "execute_result"
    }
   ],
   "source": [
    "users['user_id'].nunique()"
   ]
  },
  {
   "cell_type": "code",
   "execution_count": 30,
   "id": "a2fc3042",
   "metadata": {},
   "outputs": [
    {
     "data": {
      "text/plain": [
       "1509"
      ]
     },
     "execution_count": 30,
     "metadata": {},
     "output_type": "execute_result"
    }
   ],
   "source": [
    "#Examine number of levels\n",
    "users['level_id'].max()"
   ]
  },
  {
   "cell_type": "code",
   "execution_count": 31,
   "id": "b700c6f3",
   "metadata": {},
   "outputs": [
    {
     "data": {
      "text/plain": [
       "1    1121482\n",
       "0    1003547\n",
       "Name: success, dtype: int64"
      ]
     },
     "execution_count": 31,
     "metadata": {},
     "output_type": "execute_result"
    }
   ],
   "source": [
    "#Count of successes and failures\n",
    "users['success'].value_counts()"
   ]
  },
  {
   "cell_type": "code",
   "execution_count": 32,
   "id": "32329d24",
   "metadata": {},
   "outputs": [
    {
     "data": {
      "text/plain": [
       "1   0.53\n",
       "0   0.47\n",
       "Name: success, dtype: float64"
      ]
     },
     "execution_count": 32,
     "metadata": {},
     "output_type": "execute_result"
    }
   ],
   "source": [
    "#Frequency of successes and failures\n",
    "users['success'].value_counts(normalize=True)"
   ]
  },
  {
   "cell_type": "code",
   "execution_count": 33,
   "id": "bf904bdc",
   "metadata": {},
   "outputs": [
    {
     "data": {
      "text/plain": [
       "count   2125029.00\n",
       "mean        107.97\n",
       "std          53.58\n",
       "min           1.00\n",
       "25%          77.00\n",
       "50%          99.00\n",
       "75%         127.00\n",
       "max         600.00\n",
       "Name: duration, dtype: float64"
      ]
     },
     "execution_count": 33,
     "metadata": {},
     "output_type": "execute_result"
    }
   ],
   "source": [
    "#Summary statistics for level attempt duration\n",
    "users['duration'].describe()"
   ]
  },
  {
   "cell_type": "code",
   "execution_count": 34,
   "id": "401f5c87",
   "metadata": {},
   "outputs": [
    {
     "data": {
      "text/plain": [
       "(-0.001, 30.0]     39631\n",
       "(30.0, 60.0]      198198\n",
       "(60.0, 90.0]      609736\n",
       "(90.0, 120.0]     641522\n",
       "(120.0, 180.0]    502838\n",
       "(180.0, 240.0]     86564\n",
       "(240.0, 300.0]     22077\n",
       "(300.0, 420.0]     15391\n",
       "(420.0, 540.0]      6742\n",
       "(540.0, 600.0]      2330\n",
       "Name: duration, dtype: int64"
      ]
     },
     "execution_count": 34,
     "metadata": {},
     "output_type": "execute_result"
    }
   ],
   "source": [
    "#Bins of level attempt duration\n",
    "users['duration'].value_counts(bins=[0,30,60,90,120,180,240,300,420,540,600]).sort_index()"
   ]
  },
  {
   "cell_type": "code",
   "execution_count": 35,
   "id": "644878e8",
   "metadata": {},
   "outputs": [
    {
     "data": {
      "image/png": "[encoded data removed]",
      "text/plain": [
       "<Figure size 864x432 with 1 Axes>"
      ]
     },
     "metadata": {},
     "output_type": "display_data"
    }
   ],
   "source": [
    "#Histogram of level attempt duration\n",
    "plt.rcParams.update({'axes.facecolor':'gold'})\n",
    "plt.figure(figsize=(12,6), facecolor='gold')\n",
    "users['duration'].plot(kind='hist', bins=60)\n",
    "plt.xlabel('Seconds', fontsize=18)\n",
    "plt.ylabel('Count of Players', fontsize=18)\n",
    "plt.xticks(fontsize=14, rotation=60)\n",
    "plt.yticks(fontsize=14)\n",
    "plt.title('Duration of Level Attempts', fontsize=22)\n",
    "#plt.tight_layout()\n",
    "plt.show()"
   ]
  },
  {
   "cell_type": "code",
   "execution_count": 36,
   "id": "ab103a88",
   "metadata": {
    "scrolled": true
   },
   "outputs": [
    {
     "data": {
      "text/plain": [
       "count   2125029.00\n",
       "mean          0.17\n",
       "std           0.23\n",
       "min           0.00\n",
       "25%           0.00\n",
       "50%           0.05\n",
       "75%           0.29\n",
       "max           1.00\n",
       "Name: reststep, dtype: float64"
      ]
     },
     "execution_count": 36,
     "metadata": {},
     "output_type": "execute_result"
    }
   ],
   "source": [
    "#Summary statistics for ratio of remaining steps to limited steps (zero is failure)\n",
    "users['reststep'].describe()"
   ]
  },
  {
   "cell_type": "code",
   "execution_count": 37,
   "id": "da780300",
   "metadata": {},
   "outputs": [
    {
     "data": {
      "text/plain": [
       "(-0.001, 0.1]    1214599\n",
       "(0.1, 0.2]        228139\n",
       "(0.2, 0.3]        182524\n",
       "(0.3, 0.4]        150483\n",
       "(0.4, 0.5]        131613\n",
       "(0.5, 0.6]         78533\n",
       "(0.6, 0.7]         61077\n",
       "(0.7, 0.8]         44052\n",
       "(0.9, 1.0]         18590\n",
       "(0.8, 0.9]         15419\n",
       "Name: reststep, dtype: int64"
      ]
     },
     "execution_count": 37,
     "metadata": {},
     "output_type": "execute_result"
    }
   ],
   "source": [
    "#Bins of remaining steps\n",
    "users['reststep'].value_counts(bins=[0,.1,.2,.3,.4,.5,.6,.7,.8,.9,1])"
   ]
  },
  {
   "cell_type": "code",
   "execution_count": 38,
   "id": "ad56c1f8",
   "metadata": {},
   "outputs": [
    {
     "data": {
      "text/plain": [
       "(-0.001, 0.1]   0.57\n",
       "(0.1, 0.2]      0.11\n",
       "(0.2, 0.3]      0.09\n",
       "(0.3, 0.4]      0.07\n",
       "(0.4, 0.5]      0.06\n",
       "(0.5, 0.6]      0.04\n",
       "(0.6, 0.7]      0.03\n",
       "(0.7, 0.8]      0.02\n",
       "(0.9, 1.0]      0.01\n",
       "(0.8, 0.9]      0.01\n",
       "Name: reststep, dtype: float64"
      ]
     },
     "execution_count": 38,
     "metadata": {},
     "output_type": "execute_result"
    }
   ],
   "source": [
    "#Frequency of remaining steps (zero is failure)\n",
    "users['reststep'].value_counts(bins=[0,.1,.2,.3,.4,.5,.6,.7,.8,.9,1], normalize=True)"
   ]
  },
  {
   "cell_type": "code",
   "execution_count": 39,
   "id": "01162a79",
   "metadata": {},
   "outputs": [
    {
     "data": {
      "image/png": "[encoded data removed]",
      "text/plain": [
       "<Figure size 864x432 with 1 Axes>"
      ]
     },
     "metadata": {},
     "output_type": "display_data"
    }
   ],
   "source": [
    "#Histogram of player performance in terms of their ratio of remaining steps\n",
    "plt.rcParams.update({'axes.facecolor':'gold'})\n",
    "plt.figure(figsize=(12,6), facecolor='gold')\n",
    "users['reststep'].plot(kind='hist', bins=10)\n",
    "plt.xlabel('Ratio of Remaining Steps', fontsize=18)\n",
    "plt.ylabel('Count of Players', fontsize=18)\n",
    "plt.xticks(fontsize=14, rotation=60)\n",
    "plt.yticks(fontsize=14)\n",
    "plt.title('Player Performance', fontsize=22)\n",
    "#plt.tight_layout()\n",
    "plt.show()"
   ]
  },
  {
   "cell_type": "code",
   "execution_count": 40,
   "id": "6b54ccd5",
   "metadata": {},
   "outputs": [
    {
     "data": {
      "text/plain": [
       "0    2031601\n",
       "1      93428\n",
       "Name: help, dtype: int64"
      ]
     },
     "execution_count": 40,
     "metadata": {},
     "output_type": "execute_result"
    }
   ],
   "source": [
    "#Count of hints used \n",
    "users['help'].value_counts()"
   ]
  },
  {
   "cell_type": "code",
   "execution_count": 41,
   "id": "23a0cb3a",
   "metadata": {},
   "outputs": [
    {
     "data": {
      "text/plain": [
       "0   0.96\n",
       "1   0.04\n",
       "Name: help, dtype: float64"
      ]
     },
     "execution_count": 41,
     "metadata": {},
     "output_type": "execute_result"
    }
   ],
   "source": [
    "#Frequency of hints used \n",
    "users['help'].value_counts(normalize=True)"
   ]
  },
  {
   "cell_type": "code",
   "execution_count": 42,
   "id": "0724d3e4",
   "metadata": {
    "scrolled": true
   },
   "outputs": [
    {
     "name": "stdout",
     "output_type": "stream",
     "text": [
      "2020-02-01 00:00:20 2020-02-04 23:59:59\n"
     ]
    }
   ],
   "source": [
    "#Examine time interval of data collection\n",
    "print(users['time'].min(), users['time'].max())"
   ]
  },
  {
   "cell_type": "code",
   "execution_count": 43,
   "id": "39f8fdbd",
   "metadata": {},
   "outputs": [],
   "source": [
    "#Assign variable for count of play sessions over time\n",
    "level_time = users.groupby(['time'])['user_id'].count()"
   ]
  },
  {
   "cell_type": "code",
   "execution_count": 44,
   "id": "38addc3f",
   "metadata": {},
   "outputs": [
    {
     "data": {
      "image/png": "[encoded data removed]",
      "text/plain": [
       "<Figure size 864x432 with 1 Axes>"
      ]
     },
     "metadata": {},
     "output_type": "display_data"
    }
   ],
   "source": [
    "#Line graph of count of play sessions over time\n",
    "plt.rcParams.update({'axes.facecolor':'gold'})\n",
    "plt.figure(figsize=(12,6), facecolor='gold')\n",
    "level_time.plot(kind='line')\n",
    "plt.xlabel('Time and Date', fontsize=18)\n",
    "plt.ylabel('Count of Sessions', fontsize=18)\n",
    "plt.xticks(fontsize=14, rotation=60)\n",
    "plt.yticks(fontsize=14)\n",
    "plt.title('Play Sessions over Time', fontsize=22)\n",
    "#plt.tight_layout()\n",
    "plt.show()"
   ]
  },
  {
   "cell_type": "markdown",
   "id": "65362fc4",
   "metadata": {},
   "source": [
    "<div class=\"alert alert-warning\">\n",
    "  <strong>Summary of Findings</strong>\n",
    "    <li>There are 13,589 players.</li>\n",
    "    <li>There are 1509 levels.</li>\n",
    "    <li>There's an almost even number of level completions and failures.</li>\n",
    "    <li>Level attempt duration is unimodal around ~100 seconds and features right skewness.</li>\n",
    "    <li>Player performance in terms of ratio of remaining steps is unimodal around 0.1 and features right skewness</li> \n",
    "    <li>Most users (96%) don't use hints.</li>\n",
    "    <li>This data was collected from the beginning of Feb 1, 2020 to the end of Feb 4, 2020.</li>\n",
    "    <li>Play time was concentrated at the following days and times:</li>\n",
    "         <ol>\n",
    "            <li>Feb 1: 6pm to midnight.</li>\n",
    "            <li>Feb 2: Around noon and then again at night.</li>\n",
    "            <li>Feb 3: Noon to midnight.</li>\n",
    "            <li>Feb 4: Noon to midnight.</li>\n",
    "         </ol>\n",
    "</div>"
   ]
  },
  {
   "cell_type": "code",
   "execution_count": 45,
   "id": "83b01f70",
   "metadata": {},
   "outputs": [],
   "source": [
    "success_users = users[users['success'] == 1]"
   ]
  },
  {
   "cell_type": "code",
   "execution_count": 46,
   "id": "2d4c7779",
   "metadata": {},
   "outputs": [
    {
     "data": {
      "text/html": [
       "<div>\n",
       "<style scoped>\n",
       "    .dataframe tbody tr th:only-of-type {\n",
       "        vertical-align: middle;\n",
       "    }\n",
       "\n",
       "    .dataframe tbody tr th {\n",
       "        vertical-align: top;\n",
       "    }\n",
       "\n",
       "    .dataframe thead th {\n",
       "        text-align: right;\n",
       "    }\n",
       "</style>\n",
       "<table border=\"1\" class=\"dataframe\">\n",
       "  <thead>\n",
       "    <tr style=\"text-align: right;\">\n",
       "      <th></th>\n",
       "      <th>level_id</th>\n",
       "      <th>success</th>\n",
       "      <th>duration</th>\n",
       "      <th>reststep</th>\n",
       "      <th>help</th>\n",
       "    </tr>\n",
       "  </thead>\n",
       "  <tbody>\n",
       "    <tr>\n",
       "      <th>count</th>\n",
       "      <td>1121482.00</td>\n",
       "      <td>1121482.00</td>\n",
       "      <td>1121482.00</td>\n",
       "      <td>1121482.00</td>\n",
       "      <td>1121482.00</td>\n",
       "    </tr>\n",
       "    <tr>\n",
       "      <th>mean</th>\n",
       "      <td>69.92</td>\n",
       "      <td>1.00</td>\n",
       "      <td>104.21</td>\n",
       "      <td>0.28</td>\n",
       "      <td>0.06</td>\n",
       "    </tr>\n",
       "    <tr>\n",
       "      <th>std</th>\n",
       "      <td>67.51</td>\n",
       "      <td>0.00</td>\n",
       "      <td>52.18</td>\n",
       "      <td>0.22</td>\n",
       "      <td>0.24</td>\n",
       "    </tr>\n",
       "    <tr>\n",
       "      <th>min</th>\n",
       "      <td>1.00</td>\n",
       "      <td>1.00</td>\n",
       "      <td>13.00</td>\n",
       "      <td>0.00</td>\n",
       "      <td>0.00</td>\n",
       "    </tr>\n",
       "    <tr>\n",
       "      <th>25%</th>\n",
       "      <td>24.00</td>\n",
       "      <td>1.00</td>\n",
       "      <td>72.00</td>\n",
       "      <td>0.10</td>\n",
       "      <td>0.00</td>\n",
       "    </tr>\n",
       "    <tr>\n",
       "      <th>50%</th>\n",
       "      <td>54.00</td>\n",
       "      <td>1.00</td>\n",
       "      <td>96.00</td>\n",
       "      <td>0.23</td>\n",
       "      <td>0.00</td>\n",
       "    </tr>\n",
       "    <tr>\n",
       "      <th>75%</th>\n",
       "      <td>97.00</td>\n",
       "      <td>1.00</td>\n",
       "      <td>124.00</td>\n",
       "      <td>0.42</td>\n",
       "      <td>0.00</td>\n",
       "    </tr>\n",
       "    <tr>\n",
       "      <th>max</th>\n",
       "      <td>1508.00</td>\n",
       "      <td>1.00</td>\n",
       "      <td>600.00</td>\n",
       "      <td>1.00</td>\n",
       "      <td>1.00</td>\n",
       "    </tr>\n",
       "  </tbody>\n",
       "</table>\n",
       "</div>"
      ],
      "text/plain": [
       "        level_id    success   duration   reststep       help\n",
       "count 1121482.00 1121482.00 1121482.00 1121482.00 1121482.00\n",
       "mean       69.92       1.00     104.21       0.28       0.06\n",
       "std        67.51       0.00      52.18       0.22       0.24\n",
       "min         1.00       1.00      13.00       0.00       0.00\n",
       "25%        24.00       1.00      72.00       0.10       0.00\n",
       "50%        54.00       1.00      96.00       0.23       0.00\n",
       "75%        97.00       1.00     124.00       0.42       0.00\n",
       "max      1508.00       1.00     600.00       1.00       1.00"
      ]
     },
     "execution_count": 46,
     "metadata": {},
     "output_type": "execute_result"
    }
   ],
   "source": [
    "success_users.describe()"
   ]
  },
  {
   "cell_type": "code",
   "execution_count": 47,
   "id": "58c6382d",
   "metadata": {},
   "outputs": [
    {
     "data": {
      "text/plain": [
       "13573"
      ]
     },
     "execution_count": 47,
     "metadata": {},
     "output_type": "execute_result"
    }
   ],
   "source": [
    "success_users['user_id'].nunique()"
   ]
  },
  {
   "cell_type": "code",
   "execution_count": 48,
   "id": "013d99b0",
   "metadata": {},
   "outputs": [
    {
     "data": {
      "text/plain": [
       "1483"
      ]
     },
     "execution_count": 48,
     "metadata": {},
     "output_type": "execute_result"
    }
   ],
   "source": [
    "success_users['level_id'].nunique()"
   ]
  },
  {
   "cell_type": "code",
   "execution_count": 49,
   "id": "d56e07e7",
   "metadata": {},
   "outputs": [
    {
     "data": {
      "text/plain": [
       "count   1121482.00\n",
       "mean        104.21\n",
       "std          52.18\n",
       "min          13.00\n",
       "25%          72.00\n",
       "50%          96.00\n",
       "75%         124.00\n",
       "max         600.00\n",
       "Name: duration, dtype: float64"
      ]
     },
     "execution_count": 49,
     "metadata": {},
     "output_type": "execute_result"
    }
   ],
   "source": [
    "success_users['duration'].describe()"
   ]
  },
  {
   "cell_type": "code",
   "execution_count": 50,
   "id": "77449bc8",
   "metadata": {},
   "outputs": [
    {
     "data": {
      "text/plain": [
       "(-0.001, 10.0]         0\n",
       "(10.0, 20.0]        1223\n",
       "(20.0, 30.0]       12170\n",
       "(30.0, 40.0]       24426\n",
       "(40.0, 50.0]       47594\n",
       "(50.0, 60.0]       73988\n",
       "(60.0, 70.0]       98823\n",
       "(70.0, 80.0]      116694\n",
       "(80.0, 90.0]      124096\n",
       "(90.0, 100.0]     119575\n",
       "(100.0, 110.0]    107001\n",
       "(110.0, 120.0]     90306\n",
       "(120.0, 130.0]     72148\n",
       "(130.0, 140.0]     55597\n",
       "(140.0, 150.0]     42338\n",
       "(150.0, 160.0]     31501\n",
       "(160.0, 170.0]     23118\n",
       "(170.0, 180.0]     16941\n",
       "(180.0, 190.0]     12587\n",
       "(190.0, 200.0]      9392\n",
       "(200.0, 600.0]     41964\n",
       "Name: duration, dtype: int64"
      ]
     },
     "execution_count": 50,
     "metadata": {},
     "output_type": "execute_result"
    }
   ],
   "source": [
    "success_users['duration'].value_counts(bins=[0,10,20,30,40,50,60,70,80,90,100,\n",
    "                                             110,120,130,140,150,160,170,180,190,200,600]).sort_index()"
   ]
  },
  {
   "cell_type": "code",
   "execution_count": 51,
   "id": "fa03cb68",
   "metadata": {},
   "outputs": [
    {
     "data": {
      "text/plain": [
       "(-0.001, 10.0]   0.00\n",
       "(10.0, 20.0]     0.00\n",
       "(20.0, 30.0]     0.01\n",
       "(30.0, 40.0]     0.02\n",
       "(40.0, 50.0]     0.04\n",
       "(50.0, 60.0]     0.07\n",
       "(60.0, 70.0]     0.09\n",
       "(70.0, 80.0]     0.10\n",
       "(80.0, 90.0]     0.11\n",
       "(90.0, 100.0]    0.11\n",
       "(100.0, 110.0]   0.10\n",
       "(110.0, 120.0]   0.08\n",
       "(120.0, 130.0]   0.06\n",
       "(130.0, 140.0]   0.05\n",
       "(140.0, 150.0]   0.04\n",
       "(150.0, 160.0]   0.03\n",
       "(160.0, 170.0]   0.02\n",
       "(170.0, 180.0]   0.02\n",
       "(180.0, 190.0]   0.01\n",
       "(190.0, 200.0]   0.01\n",
       "(200.0, 600.0]   0.04\n",
       "Name: duration, dtype: float64"
      ]
     },
     "execution_count": 51,
     "metadata": {},
     "output_type": "execute_result"
    }
   ],
   "source": [
    "success_users['duration'].value_counts(bins=[0,10,20,30,40,50,60,70,80,90,100,\n",
    "                                             110,120,130,140,150,160,170,180,190,200,600],normalize=True).sort_index()"
   ]
  },
  {
   "cell_type": "code",
   "execution_count": 52,
   "id": "efdd588e",
   "metadata": {},
   "outputs": [
    {
     "data": {
      "image/png": "[encoded data removed]",
      "text/plain": [
       "<Figure size 864x432 with 1 Axes>"
      ]
     },
     "metadata": {},
     "output_type": "display_data"
    }
   ],
   "source": [
    "#Histogram of successful level attempt duration\n",
    "plt.rcParams.update({'axes.facecolor':'gold'})\n",
    "plt.figure(figsize=(12,6), facecolor='gold')\n",
    "success_users['duration'].plot(kind='hist', bins=60)\n",
    "plt.xlabel('Seconds', fontsize=18)\n",
    "plt.ylabel('Count of Players', fontsize=18)\n",
    "plt.xticks(fontsize=14, rotation=60)\n",
    "plt.yticks(fontsize=14)\n",
    "plt.title('Successful Level Attempt Duration', fontsize=22)\n",
    "#plt.tight_layout()\n",
    "plt.show()"
   ]
  },
  {
   "cell_type": "code",
   "execution_count": 53,
   "id": "974e3637",
   "metadata": {},
   "outputs": [
    {
     "data": {
      "text/plain": [
       "count   1121482.00\n",
       "mean          0.28\n",
       "std           0.22\n",
       "min           0.00\n",
       "25%           0.10\n",
       "50%           0.23\n",
       "75%           0.42\n",
       "max           1.00\n",
       "Name: reststep, dtype: float64"
      ]
     },
     "execution_count": 53,
     "metadata": {},
     "output_type": "execute_result"
    }
   ],
   "source": [
    "success_users['reststep'].describe()"
   ]
  },
  {
   "cell_type": "code",
   "execution_count": 54,
   "id": "2e1d3aba",
   "metadata": {},
   "outputs": [
    {
     "data": {
      "text/plain": [
       "(-0.002, 0.1]    301694\n",
       "(0.1, 0.2]       210331\n",
       "(0.2, 0.3]       171295\n",
       "(0.3, 0.4]       140331\n",
       "(0.4, 0.5]       122511\n",
       "(0.5, 0.6]        70955\n",
       "(0.6, 0.7]        53619\n",
       "(0.7, 0.8]        36480\n",
       "(0.8, 0.9]         8259\n",
       "(0.9, 1.0]         6007\n",
       "Name: reststep, dtype: int64"
      ]
     },
     "execution_count": 54,
     "metadata": {},
     "output_type": "execute_result"
    }
   ],
   "source": [
    "success_users['reststep'].value_counts(bins=10).sort_index()"
   ]
  },
  {
   "cell_type": "code",
   "execution_count": 55,
   "id": "a3b1e9de",
   "metadata": {},
   "outputs": [
    {
     "data": {
      "text/plain": [
       "(-0.002, 0.1]   0.27\n",
       "(0.1, 0.2]      0.19\n",
       "(0.2, 0.3]      0.15\n",
       "(0.3, 0.4]      0.13\n",
       "(0.4, 0.5]      0.11\n",
       "(0.5, 0.6]      0.06\n",
       "(0.6, 0.7]      0.05\n",
       "(0.7, 0.8]      0.03\n",
       "(0.8, 0.9]      0.01\n",
       "(0.9, 1.0]      0.01\n",
       "Name: reststep, dtype: float64"
      ]
     },
     "execution_count": 55,
     "metadata": {},
     "output_type": "execute_result"
    }
   ],
   "source": [
    "success_users['reststep'].value_counts(bins=10, normalize=True).sort_index()"
   ]
  },
  {
   "cell_type": "code",
   "execution_count": 56,
   "id": "73efeb15",
   "metadata": {},
   "outputs": [
    {
     "data": {
      "image/png": "[encoded data removed]",
      "text/plain": [
       "<Figure size 864x432 with 1 Axes>"
      ]
     },
     "metadata": {},
     "output_type": "display_data"
    }
   ],
   "source": [
    "#Histogram of successful player performance in terms of their ratio of remaining steps (Zero is failure)\n",
    "plt.rcParams.update({'axes.facecolor':'gold'})\n",
    "plt.figure(figsize=(12,6), facecolor='gold')\n",
    "success_users['reststep'].plot(kind='hist')\n",
    "plt.xlabel('Ratio of Remaining Steps', fontsize=18)\n",
    "plt.ylabel('Count of Players', fontsize=18)\n",
    "plt.xticks(fontsize=14, rotation=60)\n",
    "plt.yticks(fontsize=14)\n",
    "plt.title('Player Performance', fontsize=22)\n",
    "#plt.tight_layout()\n",
    "plt.show()"
   ]
  },
  {
   "cell_type": "code",
   "execution_count": 57,
   "id": "0234d71a",
   "metadata": {},
   "outputs": [
    {
     "data": {
      "text/plain": [
       "0    1053366\n",
       "1      68116\n",
       "Name: help, dtype: int64"
      ]
     },
     "execution_count": 57,
     "metadata": {},
     "output_type": "execute_result"
    }
   ],
   "source": [
    "success_users['help'].value_counts()"
   ]
  },
  {
   "cell_type": "code",
   "execution_count": 58,
   "id": "96c5d816",
   "metadata": {},
   "outputs": [
    {
     "data": {
      "text/plain": [
       "0   0.94\n",
       "1   0.06\n",
       "Name: help, dtype: float64"
      ]
     },
     "execution_count": 58,
     "metadata": {},
     "output_type": "execute_result"
    }
   ],
   "source": [
    "success_users['help'].value_counts(normalize=True)"
   ]
  },
  {
   "cell_type": "markdown",
   "id": "3119e3ed",
   "metadata": {},
   "source": [
    "<div class=\"alert alert-warning\">\n",
    "  <strong>Summary of Findings</strong>\n",
    "    <li>Of the 13,589 total players, 13,573 have completed at least one level.</li>\n",
    "    <li>There are 1,483 levels (out of 1,509) that have been completed, even though the penultimate level has been completed. How can you advance without completing a level?</li>\n",
    "    <li>Successful level attempt duration is unimodal around ~100 seconds and features right skewness.</li>\n",
    "    <li>Successful player performance in terms of ratio of remaining steps is unimodal around 0.1 and features right skewness</li> \n",
    "    <li>Most users (94%) don't use hints.</li>\n",
    "</div>"
   ]
  },
  {
   "cell_type": "code",
   "execution_count": 59,
   "id": "f50745aa",
   "metadata": {},
   "outputs": [],
   "source": [
    "fail_users = users[users['success'] == 0]"
   ]
  },
  {
   "cell_type": "code",
   "execution_count": 60,
   "id": "8a0f4cb0",
   "metadata": {},
   "outputs": [
    {
     "data": {
      "text/html": [
       "<div>\n",
       "<style scoped>\n",
       "    .dataframe tbody tr th:only-of-type {\n",
       "        vertical-align: middle;\n",
       "    }\n",
       "\n",
       "    .dataframe tbody tr th {\n",
       "        vertical-align: top;\n",
       "    }\n",
       "\n",
       "    .dataframe thead th {\n",
       "        text-align: right;\n",
       "    }\n",
       "</style>\n",
       "<table border=\"1\" class=\"dataframe\">\n",
       "  <thead>\n",
       "    <tr style=\"text-align: right;\">\n",
       "      <th></th>\n",
       "      <th>level_id</th>\n",
       "      <th>success</th>\n",
       "      <th>duration</th>\n",
       "      <th>reststep</th>\n",
       "      <th>help</th>\n",
       "    </tr>\n",
       "  </thead>\n",
       "  <tbody>\n",
       "    <tr>\n",
       "      <th>count</th>\n",
       "      <td>1003547.00</td>\n",
       "      <td>1003547.00</td>\n",
       "      <td>1003547.00</td>\n",
       "      <td>1003547.00</td>\n",
       "      <td>1003547.00</td>\n",
       "    </tr>\n",
       "    <tr>\n",
       "      <th>mean</th>\n",
       "      <td>128.26</td>\n",
       "      <td>0.00</td>\n",
       "      <td>112.17</td>\n",
       "      <td>0.05</td>\n",
       "      <td>0.03</td>\n",
       "    </tr>\n",
       "    <tr>\n",
       "      <th>std</th>\n",
       "      <td>90.67</td>\n",
       "      <td>0.00</td>\n",
       "      <td>54.80</td>\n",
       "      <td>0.17</td>\n",
       "      <td>0.16</td>\n",
       "    </tr>\n",
       "    <tr>\n",
       "      <th>min</th>\n",
       "      <td>1.00</td>\n",
       "      <td>0.00</td>\n",
       "      <td>1.00</td>\n",
       "      <td>0.00</td>\n",
       "      <td>0.00</td>\n",
       "    </tr>\n",
       "    <tr>\n",
       "      <th>25%</th>\n",
       "      <td>73.00</td>\n",
       "      <td>0.00</td>\n",
       "      <td>82.00</td>\n",
       "      <td>0.00</td>\n",
       "      <td>0.00</td>\n",
       "    </tr>\n",
       "    <tr>\n",
       "      <th>50%</th>\n",
       "      <td>113.00</td>\n",
       "      <td>0.00</td>\n",
       "      <td>104.00</td>\n",
       "      <td>0.00</td>\n",
       "      <td>0.00</td>\n",
       "    </tr>\n",
       "    <tr>\n",
       "      <th>75%</th>\n",
       "      <td>174.00</td>\n",
       "      <td>0.00</td>\n",
       "      <td>131.00</td>\n",
       "      <td>0.00</td>\n",
       "      <td>0.00</td>\n",
       "    </tr>\n",
       "    <tr>\n",
       "      <th>max</th>\n",
       "      <td>1509.00</td>\n",
       "      <td>0.00</td>\n",
       "      <td>600.00</td>\n",
       "      <td>1.00</td>\n",
       "      <td>1.00</td>\n",
       "    </tr>\n",
       "  </tbody>\n",
       "</table>\n",
       "</div>"
      ],
      "text/plain": [
       "        level_id    success   duration   reststep       help\n",
       "count 1003547.00 1003547.00 1003547.00 1003547.00 1003547.00\n",
       "mean      128.26       0.00     112.17       0.05       0.03\n",
       "std        90.67       0.00      54.80       0.17       0.16\n",
       "min         1.00       0.00       1.00       0.00       0.00\n",
       "25%        73.00       0.00      82.00       0.00       0.00\n",
       "50%       113.00       0.00     104.00       0.00       0.00\n",
       "75%       174.00       0.00     131.00       0.00       0.00\n",
       "max      1509.00       0.00     600.00       1.00       1.00"
      ]
     },
     "execution_count": 60,
     "metadata": {},
     "output_type": "execute_result"
    }
   ],
   "source": [
    "fail_users.describe()"
   ]
  },
  {
   "cell_type": "code",
   "execution_count": 61,
   "id": "d70d6e6b",
   "metadata": {},
   "outputs": [
    {
     "data": {
      "text/plain": [
       "12894"
      ]
     },
     "execution_count": 61,
     "metadata": {},
     "output_type": "execute_result"
    }
   ],
   "source": [
    "fail_users['user_id'].nunique()"
   ]
  },
  {
   "cell_type": "code",
   "execution_count": 62,
   "id": "5810466e",
   "metadata": {},
   "outputs": [
    {
     "data": {
      "text/plain": [
       "1222"
      ]
     },
     "execution_count": 62,
     "metadata": {},
     "output_type": "execute_result"
    }
   ],
   "source": [
    "fail_users['level_id'].nunique()"
   ]
  },
  {
   "cell_type": "code",
   "execution_count": 63,
   "id": "da76a506",
   "metadata": {},
   "outputs": [
    {
     "data": {
      "text/plain": [
       "count   1003547.00\n",
       "mean        112.17\n",
       "std          54.80\n",
       "min           1.00\n",
       "25%          82.00\n",
       "50%         104.00\n",
       "75%         131.00\n",
       "max         600.00\n",
       "Name: duration, dtype: float64"
      ]
     },
     "execution_count": 63,
     "metadata": {},
     "output_type": "execute_result"
    }
   ],
   "source": [
    "fail_users['duration'].describe()"
   ]
  },
  {
   "cell_type": "code",
   "execution_count": 83,
   "id": "6f964db1",
   "metadata": {},
   "outputs": [
    {
     "data": {
      "text/plain": [
       "(-0.001, 10.0]      8545\n",
       "(10.0, 20.0]        9193\n",
       "(20.0, 30.0]        8500\n",
       "(30.0, 40.0]        9078\n",
       "(40.0, 50.0]       12956\n",
       "(50.0, 60.0]       30156\n",
       "(60.0, 70.0]       62123\n",
       "(70.0, 80.0]       94144\n",
       "(80.0, 90.0]      113856\n",
       "(90.0, 100.0]     118492\n",
       "(100.0, 110.0]    110322\n",
       "(110.0, 120.0]     95826\n",
       "(120.0, 130.0]     77598\n",
       "(130.0, 140.0]     60922\n",
       "(140.0, 150.0]     45640\n",
       "(150.0, 160.0]     33788\n",
       "(160.0, 170.0]     24881\n",
       "(170.0, 180.0]     18366\n",
       "(180.0, 190.0]     13357\n",
       "(190.0, 200.0]      9938\n",
       "(200.0, 600.0]     45866\n",
       "Name: duration, dtype: int64"
      ]
     },
     "execution_count": 83,
     "metadata": {},
     "output_type": "execute_result"
    }
   ],
   "source": [
    "fail_users['duration'].value_counts(bins=[0,10,20,30,40,50,60,70,80,90,100,\n",
    "                                             110,120,130,140,150,160,170,180,190,200,600]).sort_index()"
   ]
  },
  {
   "cell_type": "code",
   "execution_count": 84,
   "id": "c8812979",
   "metadata": {},
   "outputs": [
    {
     "data": {
      "text/plain": [
       "(-0.001, 10.0]   0.01\n",
       "(10.0, 20.0]     0.01\n",
       "(20.0, 30.0]     0.01\n",
       "(30.0, 40.0]     0.01\n",
       "(40.0, 50.0]     0.01\n",
       "(50.0, 60.0]     0.03\n",
       "(60.0, 70.0]     0.06\n",
       "(70.0, 80.0]     0.09\n",
       "(80.0, 90.0]     0.11\n",
       "(90.0, 100.0]    0.12\n",
       "(100.0, 110.0]   0.11\n",
       "(110.0, 120.0]   0.10\n",
       "(120.0, 130.0]   0.08\n",
       "(130.0, 140.0]   0.06\n",
       "(140.0, 150.0]   0.05\n",
       "(150.0, 160.0]   0.03\n",
       "(160.0, 170.0]   0.02\n",
       "(170.0, 180.0]   0.02\n",
       "(180.0, 190.0]   0.01\n",
       "(190.0, 200.0]   0.01\n",
       "(200.0, 600.0]   0.05\n",
       "Name: duration, dtype: float64"
      ]
     },
     "execution_count": 84,
     "metadata": {},
     "output_type": "execute_result"
    }
   ],
   "source": [
    "fail_users['duration'].value_counts(bins=[0,10,20,30,40,50,60,70,80,90,100,110,\n",
    "                                             120,130,140,150,160,170,180,190,200,600], normalize=True).sort_index()"
   ]
  },
  {
   "cell_type": "code",
   "execution_count": 86,
   "id": "e7e75060",
   "metadata": {},
   "outputs": [
    {
     "data": {
      "image/png": "[encoded data removed]",
      "text/plain": [
       "<Figure size 864x432 with 1 Axes>"
      ]
     },
     "metadata": {},
     "output_type": "display_data"
    }
   ],
   "source": [
    "#Histogram of failed level attempt duration\n",
    "plt.rcParams.update({'axes.facecolor':'gold'})\n",
    "plt.figure(figsize=(12,6), facecolor='gold')\n",
    "fail_users['duration'].plot(kind='hist', bins=60)\n",
    "plt.xlabel('Seconds', fontsize=18)\n",
    "plt.ylabel('Count of Players', fontsize=18)\n",
    "plt.xticks(fontsize=14, rotation=60)\n",
    "plt.yticks(fontsize=14)\n",
    "plt.title('Failed Level Attempt Duration', fontsize=22)\n",
    "#plt.tight_layout()\n",
    "plt.show()"
   ]
  },
  {
   "cell_type": "code",
   "execution_count": 87,
   "id": "a39e5f94",
   "metadata": {},
   "outputs": [
    {
     "data": {
      "text/plain": [
       "count   1003547.00\n",
       "mean          0.05\n",
       "std           0.17\n",
       "min           0.00\n",
       "25%           0.00\n",
       "50%           0.00\n",
       "75%           0.00\n",
       "max           1.00\n",
       "Name: reststep, dtype: float64"
      ]
     },
     "execution_count": 87,
     "metadata": {},
     "output_type": "execute_result"
    }
   ],
   "source": [
    "fail_users['reststep'].describe()"
   ]
  },
  {
   "cell_type": "code",
   "execution_count": 88,
   "id": "c5af6f19",
   "metadata": {
    "scrolled": true
   },
   "outputs": [
    {
     "data": {
      "text/plain": [
       "(-0.002, 0.1]    912905\n",
       "(0.1, 0.2]        17808\n",
       "(0.9, 1.0]        12583\n",
       "(0.2, 0.3]        11229\n",
       "(0.3, 0.4]        10152\n",
       "(0.4, 0.5]         9102\n",
       "(0.5, 0.6]         7578\n",
       "(0.7, 0.8]         7572\n",
       "(0.6, 0.7]         7458\n",
       "(0.8, 0.9]         7160\n",
       "Name: reststep, dtype: int64"
      ]
     },
     "execution_count": 88,
     "metadata": {},
     "output_type": "execute_result"
    }
   ],
   "source": [
    "fail_users['reststep'].value_counts(bins=10)"
   ]
  },
  {
   "cell_type": "code",
   "execution_count": 89,
   "id": "56e36df4",
   "metadata": {},
   "outputs": [
    {
     "data": {
      "text/plain": [
       "(-0.002, 0.1]   0.91\n",
       "(0.1, 0.2]      0.02\n",
       "(0.9, 1.0]      0.01\n",
       "(0.2, 0.3]      0.01\n",
       "(0.3, 0.4]      0.01\n",
       "(0.4, 0.5]      0.01\n",
       "(0.5, 0.6]      0.01\n",
       "(0.7, 0.8]      0.01\n",
       "(0.6, 0.7]      0.01\n",
       "(0.8, 0.9]      0.01\n",
       "Name: reststep, dtype: float64"
      ]
     },
     "execution_count": 89,
     "metadata": {},
     "output_type": "execute_result"
    }
   ],
   "source": [
    "fail_users['reststep'].value_counts(bins=10, normalize=True)"
   ]
  },
  {
   "cell_type": "code",
   "execution_count": 90,
   "id": "8aca14ea",
   "metadata": {},
   "outputs": [
    {
     "data": {
      "image/png": "[encoded data removed]",
      "text/plain": [
       "<Figure size 864x432 with 1 Axes>"
      ]
     },
     "metadata": {},
     "output_type": "display_data"
    }
   ],
   "source": [
    "#Histogram of successful player performance in terms of their ratio of remaining steps (Zero is failure)\n",
    "plt.rcParams.update({'axes.facecolor':'gold'})\n",
    "plt.figure(figsize=(12,6), facecolor='gold')\n",
    "fail_users['reststep'].plot(kind='hist')\n",
    "plt.xlabel('Ratio of Remaining Steps', fontsize=18)\n",
    "plt.ylabel('Count of Players', fontsize=18)\n",
    "plt.xticks(fontsize=14, rotation=60)\n",
    "plt.yticks(fontsize=14)\n",
    "plt.title('Player Performance', fontsize=22)\n",
    "#plt.tight_layout()\n",
    "plt.show()"
   ]
  },
  {
   "cell_type": "code",
   "execution_count": 91,
   "id": "1e62bd2c",
   "metadata": {},
   "outputs": [
    {
     "data": {
      "text/plain": [
       "count   1003547.00\n",
       "mean          0.03\n",
       "std           0.16\n",
       "min           0.00\n",
       "25%           0.00\n",
       "50%           0.00\n",
       "75%           0.00\n",
       "max           1.00\n",
       "Name: help, dtype: float64"
      ]
     },
     "execution_count": 91,
     "metadata": {},
     "output_type": "execute_result"
    }
   ],
   "source": [
    "fail_users['help'].describe()"
   ]
  },
  {
   "cell_type": "code",
   "execution_count": 92,
   "id": "a81a832b",
   "metadata": {},
   "outputs": [
    {
     "data": {
      "text/plain": [
       "0    978235\n",
       "1     25312\n",
       "Name: help, dtype: int64"
      ]
     },
     "execution_count": 92,
     "metadata": {},
     "output_type": "execute_result"
    }
   ],
   "source": [
    "fail_users['help'].value_counts()"
   ]
  },
  {
   "cell_type": "code",
   "execution_count": 93,
   "id": "56ca302f",
   "metadata": {},
   "outputs": [
    {
     "data": {
      "text/plain": [
       "0   0.97\n",
       "1   0.03\n",
       "Name: help, dtype: float64"
      ]
     },
     "execution_count": 93,
     "metadata": {},
     "output_type": "execute_result"
    }
   ],
   "source": [
    "fail_users['help'].value_counts(normalize=True)"
   ]
  },
  {
   "cell_type": "markdown",
   "id": "a1b6dcc0",
   "metadata": {},
   "source": [
    "<div class=\"alert alert-warning\">\n",
    "  <strong>Summary of Findings</strong>\n",
    "    <li>Of the 13,589 total players, 13,573 have completed at least one level.</li>\n",
    "    <li>There are 1,483 levels (out of 1,509) that have been completed, even though the penultimate level has been completed. How can you advance without completing a level?</li>\n",
    "    <li>Successful level attempt duration is unimodal around ~100 seconds and features right skewness.</li>\n",
    "    <li>Successful player performance in terms of ratio of remaining steps is unimodal around 0.1 and features right skewness</li> \n",
    "    <li>Most users (94%) don't use hints.</li>\n",
    "</div>"
   ]
  },
  {
   "cell_type": "markdown",
   "id": "208e90e3",
   "metadata": {},
   "source": [
    "### Step 2b: Levels"
   ]
  },
  {
   "cell_type": "code",
   "execution_count": 64,
   "id": "3fcdfffb",
   "metadata": {},
   "outputs": [
    {
     "data": {
      "text/html": [
       "<div>\n",
       "<style scoped>\n",
       "    .dataframe tbody tr th:only-of-type {\n",
       "        vertical-align: middle;\n",
       "    }\n",
       "\n",
       "    .dataframe tbody tr th {\n",
       "        vertical-align: top;\n",
       "    }\n",
       "\n",
       "    .dataframe thead th {\n",
       "        text-align: right;\n",
       "    }\n",
       "</style>\n",
       "<table border=\"1\" class=\"dataframe\">\n",
       "  <thead>\n",
       "    <tr style=\"text-align: right;\">\n",
       "      <th></th>\n",
       "      <th>level_id</th>\n",
       "      <th>f_avg_duration</th>\n",
       "      <th>f_avg_passrate</th>\n",
       "      <th>f_avg_win_duration</th>\n",
       "      <th>f_avg_retrytimes</th>\n",
       "    </tr>\n",
       "  </thead>\n",
       "  <tbody>\n",
       "    <tr>\n",
       "      <th>0</th>\n",
       "      <td>1</td>\n",
       "      <td>39.89</td>\n",
       "      <td>0.94</td>\n",
       "      <td>35.58</td>\n",
       "      <td>0.02</td>\n",
       "    </tr>\n",
       "    <tr>\n",
       "      <th>1</th>\n",
       "      <td>2</td>\n",
       "      <td>60.68</td>\n",
       "      <td>0.99</td>\n",
       "      <td>56.72</td>\n",
       "      <td>0.00</td>\n",
       "    </tr>\n",
       "    <tr>\n",
       "      <th>2</th>\n",
       "      <td>3</td>\n",
       "      <td>76.95</td>\n",
       "      <td>0.99</td>\n",
       "      <td>71.79</td>\n",
       "      <td>0.00</td>\n",
       "    </tr>\n",
       "    <tr>\n",
       "      <th>3</th>\n",
       "      <td>4</td>\n",
       "      <td>58.17</td>\n",
       "      <td>0.99</td>\n",
       "      <td>54.84</td>\n",
       "      <td>0.00</td>\n",
       "    </tr>\n",
       "    <tr>\n",
       "      <th>4</th>\n",
       "      <td>5</td>\n",
       "      <td>101.78</td>\n",
       "      <td>0.95</td>\n",
       "      <td>85.65</td>\n",
       "      <td>0.03</td>\n",
       "    </tr>\n",
       "  </tbody>\n",
       "</table>\n",
       "</div>"
      ],
      "text/plain": [
       "   level_id  f_avg_duration  f_avg_passrate  f_avg_win_duration  \\\n",
       "0         1           39.89            0.94               35.58   \n",
       "1         2           60.68            0.99               56.72   \n",
       "2         3           76.95            0.99               71.79   \n",
       "3         4           58.17            0.99               54.84   \n",
       "4         5          101.78            0.95               85.65   \n",
       "\n",
       "   f_avg_retrytimes  \n",
       "0              0.02  \n",
       "1              0.00  \n",
       "2              0.00  \n",
       "3              0.00  \n",
       "4              0.03  "
      ]
     },
     "execution_count": 64,
     "metadata": {},
     "output_type": "execute_result"
    }
   ],
   "source": [
    "#Examine levels dataset\n",
    "levels.head()"
   ]
  },
  {
   "cell_type": "code",
   "execution_count": 65,
   "id": "3a7a8e56",
   "metadata": {},
   "outputs": [],
   "source": [
    "#Rename columns to remove \"f_\"\n",
    "levels.rename(columns=({'f_avg_duration':'avg_duration','f_avg_passrate':'avg_passrate',\n",
    "                       'f_avg_win_duration':'avg_winduration','f_avg_retrytimes':'avg_retrytimes'}), inplace=True) "
   ]
  },
  {
   "cell_type": "code",
   "execution_count": 66,
   "id": "d6459123",
   "metadata": {},
   "outputs": [
    {
     "data": {
      "text/html": [
       "<div>\n",
       "<style scoped>\n",
       "    .dataframe tbody tr th:only-of-type {\n",
       "        vertical-align: middle;\n",
       "    }\n",
       "\n",
       "    .dataframe tbody tr th {\n",
       "        vertical-align: top;\n",
       "    }\n",
       "\n",
       "    .dataframe thead th {\n",
       "        text-align: right;\n",
       "    }\n",
       "</style>\n",
       "<table border=\"1\" class=\"dataframe\">\n",
       "  <thead>\n",
       "    <tr style=\"text-align: right;\">\n",
       "      <th></th>\n",
       "      <th>level_id</th>\n",
       "      <th>avg_duration</th>\n",
       "      <th>avg_passrate</th>\n",
       "      <th>avg_winduration</th>\n",
       "      <th>avg_retrytimes</th>\n",
       "    </tr>\n",
       "  </thead>\n",
       "  <tbody>\n",
       "    <tr>\n",
       "      <th>0</th>\n",
       "      <td>1</td>\n",
       "      <td>39.89</td>\n",
       "      <td>0.94</td>\n",
       "      <td>35.58</td>\n",
       "      <td>0.02</td>\n",
       "    </tr>\n",
       "    <tr>\n",
       "      <th>1</th>\n",
       "      <td>2</td>\n",
       "      <td>60.68</td>\n",
       "      <td>0.99</td>\n",
       "      <td>56.72</td>\n",
       "      <td>0.00</td>\n",
       "    </tr>\n",
       "    <tr>\n",
       "      <th>2</th>\n",
       "      <td>3</td>\n",
       "      <td>76.95</td>\n",
       "      <td>0.99</td>\n",
       "      <td>71.79</td>\n",
       "      <td>0.00</td>\n",
       "    </tr>\n",
       "    <tr>\n",
       "      <th>3</th>\n",
       "      <td>4</td>\n",
       "      <td>58.17</td>\n",
       "      <td>0.99</td>\n",
       "      <td>54.84</td>\n",
       "      <td>0.00</td>\n",
       "    </tr>\n",
       "    <tr>\n",
       "      <th>4</th>\n",
       "      <td>5</td>\n",
       "      <td>101.78</td>\n",
       "      <td>0.95</td>\n",
       "      <td>85.65</td>\n",
       "      <td>0.03</td>\n",
       "    </tr>\n",
       "  </tbody>\n",
       "</table>\n",
       "</div>"
      ],
      "text/plain": [
       "   level_id  avg_duration  avg_passrate  avg_winduration  avg_retrytimes\n",
       "0         1         39.89          0.94            35.58            0.02\n",
       "1         2         60.68          0.99            56.72            0.00\n",
       "2         3         76.95          0.99            71.79            0.00\n",
       "3         4         58.17          0.99            54.84            0.00\n",
       "4         5        101.78          0.95            85.65            0.03"
      ]
     },
     "execution_count": 66,
     "metadata": {},
     "output_type": "execute_result"
    }
   ],
   "source": [
    "#Ensure column rename success\n",
    "levels.head()"
   ]
  },
  {
   "cell_type": "code",
   "execution_count": 67,
   "id": "e74a2aaf",
   "metadata": {},
   "outputs": [
    {
     "data": {
      "text/plain": [
       "count   1509.00\n",
       "mean     514.41\n",
       "std      234.73\n",
       "min       39.89\n",
       "25%      372.25\n",
       "50%      497.65\n",
       "75%      623.59\n",
       "max     2105.00\n",
       "Name: avg_duration, dtype: float64"
      ]
     },
     "execution_count": 67,
     "metadata": {},
     "output_type": "execute_result"
    }
   ],
   "source": [
    "#Summary statistics for average level duration\n",
    "levels['avg_duration'].describe()"
   ]
  },
  {
   "cell_type": "code",
   "execution_count": 68,
   "id": "d406579a",
   "metadata": {},
   "outputs": [
    {
     "data": {
      "text/plain": [
       "(-0.001, 100.0]      24\n",
       "(100.0, 200.0]       92\n",
       "(200.0, 300.0]      128\n",
       "(300.0, 400.0]      196\n",
       "(400.0, 500.0]      322\n",
       "(500.0, 600.0]      311\n",
       "(600.0, 700.0]      191\n",
       "(700.0, 800.0]      108\n",
       "(800.0, 900.0]       56\n",
       "(900.0, 1000.0]      33\n",
       "(1000.0, 2000.0]     46\n",
       "(2000.0, 2500.0]      2\n",
       "Name: avg_duration, dtype: int64"
      ]
     },
     "execution_count": 68,
     "metadata": {},
     "output_type": "execute_result"
    }
   ],
   "source": [
    "#Bins of average level duration\n",
    "levels['avg_duration'].value_counts(bins=[0,100,200,300,400,500,600,700,800,900,1000,2000,2500]).sort_index()"
   ]
  },
  {
   "cell_type": "code",
   "execution_count": 69,
   "id": "3e8e832f",
   "metadata": {},
   "outputs": [
    {
     "data": {
      "text/plain": [
       "(-0.001, 100.0]    0.02\n",
       "(100.0, 200.0]     0.06\n",
       "(200.0, 300.0]     0.08\n",
       "(300.0, 400.0]     0.13\n",
       "(400.0, 500.0]     0.21\n",
       "(500.0, 600.0]     0.21\n",
       "(600.0, 700.0]     0.13\n",
       "(700.0, 800.0]     0.07\n",
       "(800.0, 900.0]     0.04\n",
       "(900.0, 1000.0]    0.02\n",
       "(1000.0, 2000.0]   0.03\n",
       "(2000.0, 2500.0]   0.00\n",
       "Name: avg_duration, dtype: float64"
      ]
     },
     "execution_count": 69,
     "metadata": {},
     "output_type": "execute_result"
    }
   ],
   "source": [
    "#Frequency Bins of average level duration\n",
    "levels['avg_duration'].value_counts(bins=[0,100,200,300,400,500,600,700,\n",
    "                                          800,900,1000,2000,2500], normalize=True).sort_index()"
   ]
  },
  {
   "cell_type": "code",
   "execution_count": 70,
   "id": "757b28e8",
   "metadata": {},
   "outputs": [
    {
     "data": {
      "image/png": "[encoded data removed]",
      "text/plain": [
       "<Figure size 864x432 with 1 Axes>"
      ]
     },
     "metadata": {},
     "output_type": "display_data"
    }
   ],
   "source": [
    "#Histogram of average level duration\n",
    "plt.rcParams.update({'axes.facecolor':'gold'})\n",
    "plt.figure(figsize=(12,6), facecolor='gold')\n",
    "levels['avg_duration'].plot(kind='hist', bins=[100,200,300,400,500,600,700,800,900,1000])\n",
    "plt.xlabel('Seconds', fontsize=18)\n",
    "plt.ylabel('Count of Levels', fontsize=18)\n",
    "plt.xticks(fontsize=14, rotation=60)\n",
    "plt.yticks(fontsize=14)\n",
    "plt.title('Average Level Duration', fontsize=22)\n",
    "#plt.tight_layout()\n",
    "plt.show()"
   ]
  },
  {
   "cell_type": "code",
   "execution_count": 71,
   "id": "bdf58557",
   "metadata": {},
   "outputs": [
    {
     "data": {
      "text/plain": [
       "count   1509.00\n",
       "mean       0.45\n",
       "std        0.19\n",
       "min        0.00\n",
       "25%        0.33\n",
       "50%        0.40\n",
       "75%        0.51\n",
       "max        1.00\n",
       "Name: avg_passrate, dtype: float64"
      ]
     },
     "execution_count": 71,
     "metadata": {},
     "output_type": "execute_result"
    }
   ],
   "source": [
    "#Summary statistics for average passrate\n",
    "levels['avg_passrate'].describe()"
   ]
  },
  {
   "cell_type": "code",
   "execution_count": 72,
   "id": "c723e145",
   "metadata": {},
   "outputs": [
    {
     "data": {
      "text/plain": [
       "(-0.001, 0.1]     17\n",
       "(0.1, 0.2]        61\n",
       "(0.2, 0.3]       176\n",
       "(0.3, 0.4]       488\n",
       "(0.4, 0.5]       374\n",
       "(0.5, 0.6]       140\n",
       "(0.6, 0.7]        85\n",
       "(0.7, 0.8]        60\n",
       "(0.8, 0.9]        40\n",
       "(0.9, 1.0]        68\n",
       "Name: avg_passrate, dtype: int64"
      ]
     },
     "execution_count": 72,
     "metadata": {},
     "output_type": "execute_result"
    }
   ],
   "source": [
    "levels['avg_passrate'].value_counts(bins=[0,.1,.2,.3,.4,.5,.6,.7,.8,.9,1]).sort_index()"
   ]
  },
  {
   "cell_type": "code",
   "execution_count": 73,
   "id": "07934ee9",
   "metadata": {},
   "outputs": [
    {
     "data": {
      "text/plain": [
       "(-0.001, 0.1]   0.01\n",
       "(0.1, 0.2]      0.04\n",
       "(0.2, 0.3]      0.12\n",
       "(0.3, 0.4]      0.32\n",
       "(0.4, 0.5]      0.25\n",
       "(0.5, 0.6]      0.09\n",
       "(0.6, 0.7]      0.06\n",
       "(0.7, 0.8]      0.04\n",
       "(0.8, 0.9]      0.03\n",
       "(0.9, 1.0]      0.05\n",
       "Name: avg_passrate, dtype: float64"
      ]
     },
     "execution_count": 73,
     "metadata": {},
     "output_type": "execute_result"
    }
   ],
   "source": [
    "levels['avg_passrate'].value_counts(bins=[0,.1,.2,.3,.4,.5,.6,.7,.8,.9,1], normalize=True).sort_index()"
   ]
  },
  {
   "cell_type": "code",
   "execution_count": 74,
   "id": "8b2df27e",
   "metadata": {},
   "outputs": [
    {
     "data": {
      "image/png": "[encoded data removed]",
      "text/plain": [
       "<Figure size 864x432 with 1 Axes>"
      ]
     },
     "metadata": {},
     "output_type": "display_data"
    }
   ],
   "source": [
    "#Histogram of average level pass rate\n",
    "plt.rcParams.update({'axes.facecolor':'gold'})\n",
    "plt.figure(figsize=(12,6), facecolor='gold')\n",
    "levels['avg_passrate'].plot(kind='hist')\n",
    "plt.xlabel('Pass Rate', fontsize=18)\n",
    "plt.ylabel('Count of Levels', fontsize=18)\n",
    "plt.xticks(fontsize=14, rotation=60)\n",
    "plt.yticks(fontsize=14)\n",
    "plt.title('Average Level Pass Rate', fontsize=22)\n",
    "#plt.tight_layout()\n",
    "plt.show()"
   ]
  },
  {
   "cell_type": "code",
   "execution_count": 75,
   "id": "3ee85226",
   "metadata": {},
   "outputs": [
    {
     "data": {
      "text/plain": [
       "count   1509.00\n",
       "mean     116.01\n",
       "std       27.66\n",
       "min       35.58\n",
       "25%      101.24\n",
       "50%      112.67\n",
       "75%      126.44\n",
       "max      540.00\n",
       "Name: avg_winduration, dtype: float64"
      ]
     },
     "execution_count": 75,
     "metadata": {},
     "output_type": "execute_result"
    }
   ],
   "source": [
    "levels['avg_winduration'].describe()"
   ]
  },
  {
   "cell_type": "code",
   "execution_count": 76,
   "id": "cfde95f3",
   "metadata": {},
   "outputs": [
    {
     "data": {
      "text/plain": [
       "(-0.001, 25.0]      0\n",
       "(25.0, 50.0]        1\n",
       "(50.0, 75.0]       25\n",
       "(75.0, 100.0]     314\n",
       "(100.0, 125.0]    760\n",
       "(125.0, 150.0]    302\n",
       "(150.0, 200.0]     89\n",
       "(200.0, 300.0]     16\n",
       "(300.0, 400.0]      0\n",
       "(400.0, 500.0]      0\n",
       "(500.0, 600.0]      2\n",
       "Name: avg_winduration, dtype: int64"
      ]
     },
     "execution_count": 76,
     "metadata": {},
     "output_type": "execute_result"
    }
   ],
   "source": [
    "#Bins of average level win duration\n",
    "levels['avg_winduration'].value_counts(bins=[0,25,50,75,100,125,150,200,300,400,500,600]).sort_index()"
   ]
  },
  {
   "cell_type": "code",
   "execution_count": 77,
   "id": "8b770e2e",
   "metadata": {},
   "outputs": [
    {
     "data": {
      "text/plain": [
       "(-0.001, 25.0]   0.00\n",
       "(25.0, 50.0]     0.00\n",
       "(50.0, 75.0]     0.02\n",
       "(75.0, 100.0]    0.21\n",
       "(100.0, 125.0]   0.50\n",
       "(125.0, 150.0]   0.20\n",
       "(150.0, 200.0]   0.06\n",
       "(200.0, 300.0]   0.01\n",
       "(300.0, 400.0]   0.00\n",
       "(400.0, 500.0]   0.00\n",
       "(500.0, 600.0]   0.00\n",
       "Name: avg_winduration, dtype: float64"
      ]
     },
     "execution_count": 77,
     "metadata": {},
     "output_type": "execute_result"
    }
   ],
   "source": [
    "#Bins of average level win duration\n",
    "levels['avg_winduration'].value_counts(bins=[0,25,50,75,100,125,150,200,300,400,500,600], normalize=True).sort_index()"
   ]
  },
  {
   "cell_type": "code",
   "execution_count": 78,
   "id": "9fe25b58",
   "metadata": {},
   "outputs": [
    {
     "data": {
      "image/png": "[encoded data removed]",
      "text/plain": [
       "<Figure size 864x432 with 1 Axes>"
      ]
     },
     "metadata": {},
     "output_type": "display_data"
    }
   ],
   "source": [
    "#Histogram of average level duration\n",
    "plt.rcParams.update({'axes.facecolor':'gold'})\n",
    "plt.figure(figsize=(12,6), facecolor='gold')\n",
    "levels['avg_winduration'].plot(kind='hist',bins=[0,25,50,75,100,125,150,200])\n",
    "plt.xlabel('Seconds', fontsize=18)\n",
    "plt.ylabel('Count of Levels', fontsize=18)\n",
    "plt.xticks(fontsize=14, rotation=60)\n",
    "plt.yticks(fontsize=14)\n",
    "plt.title('Average Level Win Duration', fontsize=22)\n",
    "#plt.tight_layout()\n",
    "plt.show()"
   ]
  },
  {
   "cell_type": "code",
   "execution_count": 79,
   "id": "217e7d20",
   "metadata": {},
   "outputs": [
    {
     "data": {
      "text/plain": [
       "count   1509.00\n",
       "mean       3.42\n",
       "std        4.07\n",
       "min        0.00\n",
       "25%        2.00\n",
       "50%        3.29\n",
       "75%        4.41\n",
       "max       98.00\n",
       "Name: avg_retrytimes, dtype: float64"
      ]
     },
     "execution_count": 79,
     "metadata": {},
     "output_type": "execute_result"
    }
   ],
   "source": [
    "#Summary statistics for average number of retries\n",
    "levels['avg_retrytimes'].describe()"
   ]
  },
  {
   "cell_type": "code",
   "execution_count": 80,
   "id": "d82727ec",
   "metadata": {},
   "outputs": [
    {
     "data": {
      "text/plain": [
       "(-0.001, 1.0]    256\n",
       "(1.0, 2.0]       136\n",
       "(2.0, 3.0]       251\n",
       "(3.0, 4.0]       380\n",
       "(4.0, 5.0]       263\n",
       "(5.0, 6.0]       107\n",
       "(6.0, 7.0]        52\n",
       "(7.0, 8.0]        24\n",
       "(8.0, 9.0]        16\n",
       "(9.0, 10.0]        8\n",
       "(10.0, 11.0]       3\n",
       "(11.0, 12.0]       2\n",
       "(12.0, 13.0]       5\n",
       "(13.0, 14.0]       1\n",
       "(14.0, 15.0]       0\n",
       "(15.0, 20.0]       2\n",
       "(20.0, 50.0]       1\n",
       "(50.0, 100.0]      2\n",
       "Name: avg_retrytimes, dtype: int64"
      ]
     },
     "execution_count": 80,
     "metadata": {},
     "output_type": "execute_result"
    }
   ],
   "source": [
    "#Bins of average level retries\n",
    "levels['avg_retrytimes'].value_counts(bins=[0,1,2,3,4,5,6,7,8,9,10,11,\n",
    "                                            12,13,14,15,20,50,100]).sort_index()"
   ]
  },
  {
   "cell_type": "code",
   "execution_count": 81,
   "id": "56630ce2",
   "metadata": {},
   "outputs": [
    {
     "data": {
      "text/plain": [
       "(-0.001, 1.0]   0.17\n",
       "(1.0, 2.0]      0.09\n",
       "(2.0, 3.0]      0.17\n",
       "(3.0, 4.0]      0.25\n",
       "(4.0, 5.0]      0.17\n",
       "(5.0, 6.0]      0.07\n",
       "(6.0, 7.0]      0.03\n",
       "(7.0, 8.0]      0.02\n",
       "(8.0, 9.0]      0.01\n",
       "(9.0, 10.0]     0.01\n",
       "(10.0, 100.0]   0.01\n",
       "Name: avg_retrytimes, dtype: float64"
      ]
     },
     "execution_count": 81,
     "metadata": {},
     "output_type": "execute_result"
    }
   ],
   "source": [
    "#Frequency of bins of average level retries\n",
    "levels['avg_retrytimes'].value_counts(bins=[0,1,2,3,4,5,6,7,8,9,10,100], normalize=True).sort_index()"
   ]
  },
  {
   "cell_type": "code",
   "execution_count": 82,
   "id": "f7e969a9",
   "metadata": {},
   "outputs": [
    {
     "data": {
      "image/png": "[encoded data removed]",
      "text/plain": [
       "<Figure size 864x432 with 1 Axes>"
      ]
     },
     "metadata": {},
     "output_type": "display_data"
    }
   ],
   "source": [
    "#Histogram of average number of retries\n",
    "plt.rcParams.update({'axes.facecolor':'gold'})\n",
    "plt.figure(figsize=(12,6), facecolor='gold')\n",
    "levels['avg_retrytimes'].plot(kind='hist',bins=[0,1,2,3,4,5,6,7,8,9,10])\n",
    "plt.xlabel('Average Number of Retries', fontsize=18)\n",
    "plt.ylabel('Count of Levels', fontsize=18)\n",
    "plt.xticks(fontsize=14, rotation=60)\n",
    "plt.yticks(fontsize=14)\n",
    "plt.title('Average Number of Retries', fontsize=22)\n",
    "#plt.tight_layout()\n",
    "plt.show()"
   ]
  },
  {
   "cell_type": "markdown",
   "id": "5b1db65b",
   "metadata": {},
   "source": [
    "<div class=\"alert alert-warning\">\n",
    "  <strong>Summary of Findings</strong>\n",
    "    <li>Average level duration was normally distributed around 500/600 seconds.</li>\n",
    "    <li>Average level pass rate was normally distributed around 30/40%.</li>\n",
    "    <li>Average level win duration was normally distributed around 100 - 125 seconds.</li>\n",
    "    <li>Average number of retries was multimodal around 1, 3, 4, and 5.</li>\n",
    "</div>"
   ]
  },
  {
   "cell_type": "markdown",
   "id": "616b561e",
   "metadata": {},
   "source": [
    "# Questions/Tasks\n",
    "\n",
    "- data set of only level successes \n",
    "- data set of only level failures\n"
   ]
  },
  {
   "cell_type": "code",
   "execution_count": null,
   "id": "979a8d0f",
   "metadata": {},
   "outputs": [],
   "source": []
  },
  {
   "cell_type": "code",
   "execution_count": null,
   "id": "21ab1de5",
   "metadata": {},
   "outputs": [],
   "source": []
  },
  {
   "cell_type": "markdown",
   "id": "ebfbd29d",
   "metadata": {},
   "source": [
    "# Table of Contents\n",
    "\n",
    "[Step 1: Import Libraries and Data](#Step-1:-Import-and-Cleaning)\n",
    "\n",
    "[Step 2: Exploratory Data Analysis](#Step-2:-EDA)\n",
    "\n",
    "> [Step 2a: Users](#Step-2a:-Users)\n",
    "\n",
    "> [Step 2b: Levels](#Step-2b:-Levels)"
   ]
  }
 ],
 "metadata": {
  "kernelspec": {
   "display_name": "Python 3",
   "language": "python",
   "name": "python3"
  },
  "language_info": {
   "codemirror_mode": {
    "name": "ipython",
    "version": 3
   },
   "file_extension": ".py",
   "mimetype": "text/x-python",
   "name": "python",
   "nbconvert_exporter": "python",
   "pygments_lexer": "ipython3",
   "version": "3.7.6"
  }
 },
 "nbformat": 4,
 "nbformat_minor": 5
}
