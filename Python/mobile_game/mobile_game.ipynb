{
 "cells": [
  {
   "cell_type": "markdown",
   "id": "d09487c7",
   "metadata": {},
   "source": [
    "# Mobile Game Analysis\n",
    "\n",
    "### An analysis of user progress data\n",
    "\n",
    "Data can be found on Kaggle at [this link](https://www.kaggle.com/datasets/manchvictor/prediction-of-user-loss-in-mobile-games)"
   ]
  },
  {
   "cell_type": "markdown",
   "id": "ece0644e",
   "metadata": {},
   "source": [
    "level_seq.csv\n",
    "\n",
    "Each record is an attempt to play a level. The meaning of each column is as follows:\n",
    "- 'user_id' : user id, which can be matched with those in training, verification, and test sets;\n",
    "- 'level_id' : level id;\n",
    "- f_success ': indicates whether to complete the clearance (1: completes the clearance, 0: fails).\n",
    "- f_duration ': the duration of the attempt (unit: s);\n",
    "- f_reststep ': the ratio of the remaining steps to the limited steps (failure is 0);\n",
    "- f_help ': Whether extra help, such as props and hints, was used (1: used, 0: not used);\n",
    "'time' : indicates the timestamp."
   ]
  },
  {
   "cell_type": "markdown",
   "id": "da0344f7",
   "metadata": {},
   "source": [
    "level_meta.csv\n",
    "\n",
    "Some statistical characteristics of each level can be used to represent the level. The meaning of each column is as follows:\n",
    "\n",
    "- f_avg_duration ': Average time spent on each attempt (unit s, including successful and failed attempts);\n",
    "- 'f_avg_passrate' : average clearance rate;\n",
    "- f_avg_win_duration ': Average time spent on each clearance (in s, including only the attempts to clear the clearance);\n",
    "- f_avg_retrytimes' : Average number of retries (the second time to play the same level counts as the first retry);\n",
    "- 'level_id' : indicates the id of the level, which can be matched with the level in level_seq.csv."
   ]
  },
  {
   "cell_type": "markdown",
   "id": "af3e1cf7",
   "metadata": {},
   "source": [
    "## Step 1: Import and Cleaning"
   ]
  },
  {
   "cell_type": "code",
   "execution_count": 2,
   "id": "7bf262f4",
   "metadata": {},
   "outputs": [],
   "source": [
    "#Import libraries\n",
    "import pandas as pd\n",
    "import glob\n",
    "import os\n",
    "import datetime as dt\n",
    "import numpy as np\n",
    "import matplotlib as mpl\n",
    "from matplotlib import pyplot as plt\n",
    "from matplotlib.ticker import (MultipleLocator, FormatStrFormatter, AutoMinorLocator)\n",
    "import matplotlib.dates\n",
    "import matplotlib.dates as mdates\n",
    "import seaborn as sns"
   ]
  },
  {
   "cell_type": "code",
   "execution_count": 3,
   "id": "aac32145",
   "metadata": {},
   "outputs": [
    {
     "data": {
      "text/plain": [
       "['/Users/raws/Downloads/mobile_game_data/test.csv',\n",
       " '/Users/raws/Downloads/mobile_game_data/level_seq.csv',\n",
       " '/Users/raws/Downloads/mobile_game_data/dev.csv',\n",
       " '/Users/raws/Downloads/mobile_game_data/train.csv',\n",
       " '/Users/raws/Downloads/mobile_game_data/level_meta.csv']"
      ]
     },
     "execution_count": 3,
     "metadata": {},
     "output_type": "execute_result"
    }
   ],
   "source": [
    "#Import csv files\n",
    "path = \"/Users/raws/Downloads/mobile_game_data\"\n",
    "csv_files = glob.glob(path + \"/*.csv\")\n",
    "\n",
    "csv_files"
   ]
  },
  {
   "cell_type": "code",
   "execution_count": 4,
   "id": "22e758a4",
   "metadata": {
    "scrolled": true
   },
   "outputs": [
    {
     "data": {
      "text/plain": [
       "[      user_id\n",
       " 0           1\n",
       " 1           2\n",
       " 2           3\n",
       " 3           4\n",
       " 4           5\n",
       " ...       ...\n",
       " 2768     2769\n",
       " 2769     2770\n",
       " 2770     2771\n",
       " 2771     2772\n",
       " 2772     2773\n",
       " \n",
       " [2773 rows x 1 columns],\n",
       "          user_id  level_id  f_success  f_duration  f_reststep  f_help  \\\n",
       " 0          10932         1          1       127.0    0.500000       0   \n",
       " 1          10932         2          1        69.0    0.703704       0   \n",
       " 2          10932         3          1        67.0    0.560000       0   \n",
       " 3          10932         4          1        58.0    0.700000       0   \n",
       " 4          10932         5          1        83.0    0.666667       0   \n",
       " ...          ...       ...        ...         ...         ...     ...   \n",
       " 2194346    10931        40          1       111.0    0.250000       1   \n",
       " 2194347    10931        41          1        76.0    0.277778       0   \n",
       " 2194348    10931        42          0       121.0    0.000000       1   \n",
       " 2194349    10931        42          0       115.0    0.000000       0   \n",
       " 2194350    10931        42          1        91.0    0.181818       0   \n",
       " \n",
       "                         time  \n",
       " 0        2020-02-01 00:05:51  \n",
       " 1        2020-02-01 00:08:01  \n",
       " 2        2020-02-01 00:09:50  \n",
       " 3        2020-02-01 00:11:16  \n",
       " 4        2020-02-01 00:13:12  \n",
       " ...                      ...  \n",
       " 2194346  2020-02-03 16:26:37  \n",
       " 2194347  2020-02-03 16:28:06  \n",
       " 2194348  2020-02-03 16:30:17  \n",
       " 2194349  2020-02-03 16:33:40  \n",
       " 2194350  2020-02-03 16:35:18  \n",
       " \n",
       " [2194351 rows x 7 columns],\n",
       "       user_id  label\n",
       " 0       10932      0\n",
       " 1       10933      1\n",
       " 2       10934      0\n",
       " 3       10935      1\n",
       " 4       10936      0\n",
       " ...       ...    ...\n",
       " 2653    13585      0\n",
       " 2654    13586      0\n",
       " 2655    13587      0\n",
       " 2656    13588      1\n",
       " 2657    13589      0\n",
       " \n",
       " [2658 rows x 2 columns],\n",
       "       user_id  label\n",
       " 0        2774      0\n",
       " 1        2775      0\n",
       " 2        2776      1\n",
       " 3        2777      0\n",
       " 4        2778      1\n",
       " ...       ...    ...\n",
       " 8153    10927      1\n",
       " 8154    10928      1\n",
       " 8155    10929      0\n",
       " 8156    10930      1\n",
       " 8157    10931      0\n",
       " \n",
       " [8158 rows x 2 columns],\n",
       "       f_avg_duration  f_avg_passrate  f_avg_win_duration  f_avg_retrytimes  \\\n",
       " 0          39.889940        0.944467           35.582757          0.017225   \n",
       " 1          60.683975        0.991836           56.715706          0.004638   \n",
       " 2          76.947355        0.991232           71.789943          0.004480   \n",
       " 3          58.170347        0.993843           54.842882          0.004761   \n",
       " 4         101.784577        0.954170           85.650547          0.027353   \n",
       " ...              ...             ...                 ...               ...   \n",
       " 1504      594.878788        0.453730          133.625000          3.187500   \n",
       " 1505      486.562500        0.454180          115.906250          3.218750   \n",
       " 1506      325.968750        0.573525           86.250000          2.687500   \n",
       " 1507      793.096774        0.322684          164.000000          5.419355   \n",
       " 1508      423.406250        0.461409          106.833333          2.200000   \n",
       " \n",
       "       level_id  \n",
       " 0            1  \n",
       " 1            2  \n",
       " 2            3  \n",
       " 3            4  \n",
       " 4            5  \n",
       " ...        ...  \n",
       " 1504      1505  \n",
       " 1505      1506  \n",
       " 1506      1507  \n",
       " 1507      1508  \n",
       " 1508      1509  \n",
       " \n",
       " [1509 rows x 5 columns]]"
      ]
     },
     "execution_count": 4,
     "metadata": {},
     "output_type": "execute_result"
    }
   ],
   "source": [
    "#Append csvs to list using list comprehension\n",
    "df_list = [pd.read_csv(filename, delimiter='\\t', index_col=None, header=0) for filename in csv_files]\n",
    "df_list"
   ]
  },
  {
   "cell_type": "code",
   "execution_count": 29,
   "id": "956c5131",
   "metadata": {},
   "outputs": [],
   "source": [
    "users = df_list[1]\n",
    "levels = df_list[4]"
   ]
  },
  {
   "cell_type": "code",
   "execution_count": 25,
   "id": "436ad7f2",
   "metadata": {},
   "outputs": [
    {
     "data": {
      "text/html": [
       "<div>\n",
       "<style scoped>\n",
       "    .dataframe tbody tr th:only-of-type {\n",
       "        vertical-align: middle;\n",
       "    }\n",
       "\n",
       "    .dataframe tbody tr th {\n",
       "        vertical-align: top;\n",
       "    }\n",
       "\n",
       "    .dataframe thead th {\n",
       "        text-align: right;\n",
       "    }\n",
       "</style>\n",
       "<table border=\"1\" class=\"dataframe\">\n",
       "  <thead>\n",
       "    <tr style=\"text-align: right;\">\n",
       "      <th></th>\n",
       "      <th>user_id</th>\n",
       "      <th>level_id</th>\n",
       "      <th>f_success</th>\n",
       "      <th>f_duration</th>\n",
       "      <th>f_reststep</th>\n",
       "      <th>f_help</th>\n",
       "      <th>time</th>\n",
       "    </tr>\n",
       "  </thead>\n",
       "  <tbody>\n",
       "    <tr>\n",
       "      <th>0</th>\n",
       "      <td>10932</td>\n",
       "      <td>1</td>\n",
       "      <td>1</td>\n",
       "      <td>127.00</td>\n",
       "      <td>0.50</td>\n",
       "      <td>0</td>\n",
       "      <td>2020-02-01 00:05:51</td>\n",
       "    </tr>\n",
       "    <tr>\n",
       "      <th>1</th>\n",
       "      <td>10932</td>\n",
       "      <td>2</td>\n",
       "      <td>1</td>\n",
       "      <td>69.00</td>\n",
       "      <td>0.70</td>\n",
       "      <td>0</td>\n",
       "      <td>2020-02-01 00:08:01</td>\n",
       "    </tr>\n",
       "    <tr>\n",
       "      <th>2</th>\n",
       "      <td>10932</td>\n",
       "      <td>3</td>\n",
       "      <td>1</td>\n",
       "      <td>67.00</td>\n",
       "      <td>0.56</td>\n",
       "      <td>0</td>\n",
       "      <td>2020-02-01 00:09:50</td>\n",
       "    </tr>\n",
       "    <tr>\n",
       "      <th>3</th>\n",
       "      <td>10932</td>\n",
       "      <td>4</td>\n",
       "      <td>1</td>\n",
       "      <td>58.00</td>\n",
       "      <td>0.70</td>\n",
       "      <td>0</td>\n",
       "      <td>2020-02-01 00:11:16</td>\n",
       "    </tr>\n",
       "    <tr>\n",
       "      <th>4</th>\n",
       "      <td>10932</td>\n",
       "      <td>5</td>\n",
       "      <td>1</td>\n",
       "      <td>83.00</td>\n",
       "      <td>0.67</td>\n",
       "      <td>0</td>\n",
       "      <td>2020-02-01 00:13:12</td>\n",
       "    </tr>\n",
       "  </tbody>\n",
       "</table>\n",
       "</div>"
      ],
      "text/plain": [
       "  user_id  level_id  f_success  f_duration  f_reststep  f_help  \\\n",
       "0   10932         1          1      127.00        0.50       0   \n",
       "1   10932         2          1       69.00        0.70       0   \n",
       "2   10932         3          1       67.00        0.56       0   \n",
       "3   10932         4          1       58.00        0.70       0   \n",
       "4   10932         5          1       83.00        0.67       0   \n",
       "\n",
       "                 time  \n",
       "0 2020-02-01 00:05:51  \n",
       "1 2020-02-01 00:08:01  \n",
       "2 2020-02-01 00:09:50  \n",
       "3 2020-02-01 00:11:16  \n",
       "4 2020-02-01 00:13:12  "
      ]
     },
     "execution_count": 25,
     "metadata": {},
     "output_type": "execute_result"
    }
   ],
   "source": [
    "users.head()"
   ]
  },
  {
   "cell_type": "code",
   "execution_count": 7,
   "id": "a44acb04",
   "metadata": {},
   "outputs": [
    {
     "data": {
      "text/html": [
       "<div>\n",
       "<style scoped>\n",
       "    .dataframe tbody tr th:only-of-type {\n",
       "        vertical-align: middle;\n",
       "    }\n",
       "\n",
       "    .dataframe tbody tr th {\n",
       "        vertical-align: top;\n",
       "    }\n",
       "\n",
       "    .dataframe thead th {\n",
       "        text-align: right;\n",
       "    }\n",
       "</style>\n",
       "<table border=\"1\" class=\"dataframe\">\n",
       "  <thead>\n",
       "    <tr style=\"text-align: right;\">\n",
       "      <th></th>\n",
       "      <th>user_id</th>\n",
       "      <th>level_id</th>\n",
       "      <th>f_success</th>\n",
       "      <th>f_duration</th>\n",
       "      <th>f_reststep</th>\n",
       "      <th>f_help</th>\n",
       "    </tr>\n",
       "  </thead>\n",
       "  <tbody>\n",
       "    <tr>\n",
       "      <th>count</th>\n",
       "      <td>2194351.00</td>\n",
       "      <td>2194351.00</td>\n",
       "      <td>2194351.00</td>\n",
       "      <td>2194351.00</td>\n",
       "      <td>2194351.00</td>\n",
       "      <td>2194351.00</td>\n",
       "    </tr>\n",
       "    <tr>\n",
       "      <th>mean</th>\n",
       "      <td>6745.03</td>\n",
       "      <td>96.84</td>\n",
       "      <td>0.53</td>\n",
       "      <td>108.12</td>\n",
       "      <td>0.17</td>\n",
       "      <td>0.04</td>\n",
       "    </tr>\n",
       "    <tr>\n",
       "      <th>std</th>\n",
       "      <td>3942.09</td>\n",
       "      <td>84.11</td>\n",
       "      <td>0.50</td>\n",
       "      <td>53.61</td>\n",
       "      <td>0.23</td>\n",
       "      <td>0.21</td>\n",
       "    </tr>\n",
       "    <tr>\n",
       "      <th>min</th>\n",
       "      <td>1.00</td>\n",
       "      <td>1.00</td>\n",
       "      <td>0.00</td>\n",
       "      <td>1.00</td>\n",
       "      <td>0.00</td>\n",
       "      <td>0.00</td>\n",
       "    </tr>\n",
       "    <tr>\n",
       "      <th>25%</th>\n",
       "      <td>3287.00</td>\n",
       "      <td>41.00</td>\n",
       "      <td>0.00</td>\n",
       "      <td>77.00</td>\n",
       "      <td>0.00</td>\n",
       "      <td>0.00</td>\n",
       "    </tr>\n",
       "    <tr>\n",
       "      <th>50%</th>\n",
       "      <td>6688.00</td>\n",
       "      <td>80.00</td>\n",
       "      <td>1.00</td>\n",
       "      <td>100.00</td>\n",
       "      <td>0.05</td>\n",
       "      <td>0.00</td>\n",
       "    </tr>\n",
       "    <tr>\n",
       "      <th>75%</th>\n",
       "      <td>10163.00</td>\n",
       "      <td>142.00</td>\n",
       "      <td>1.00</td>\n",
       "      <td>127.00</td>\n",
       "      <td>0.29</td>\n",
       "      <td>0.00</td>\n",
       "    </tr>\n",
       "    <tr>\n",
       "      <th>max</th>\n",
       "      <td>13589.00</td>\n",
       "      <td>1509.00</td>\n",
       "      <td>1.00</td>\n",
       "      <td>600.00</td>\n",
       "      <td>1.00</td>\n",
       "      <td>1.00</td>\n",
       "    </tr>\n",
       "  </tbody>\n",
       "</table>\n",
       "</div>"
      ],
      "text/plain": [
       "         user_id   level_id  f_success  f_duration  f_reststep     f_help\n",
       "count 2194351.00 2194351.00 2194351.00  2194351.00  2194351.00 2194351.00\n",
       "mean     6745.03      96.84       0.53      108.12        0.17       0.04\n",
       "std      3942.09      84.11       0.50       53.61        0.23       0.21\n",
       "min         1.00       1.00       0.00        1.00        0.00       0.00\n",
       "25%      3287.00      41.00       0.00       77.00        0.00       0.00\n",
       "50%      6688.00      80.00       1.00      100.00        0.05       0.00\n",
       "75%     10163.00     142.00       1.00      127.00        0.29       0.00\n",
       "max     13589.00    1509.00       1.00      600.00        1.00       1.00"
      ]
     },
     "execution_count": 7,
     "metadata": {},
     "output_type": "execute_result"
    }
   ],
   "source": [
    "#Suppress scientific notation\n",
    "pd.set_option('display.float_format', lambda x: '%.2f' % x)\n",
    "users.describe()"
   ]
  },
  {
   "cell_type": "code",
   "execution_count": 10,
   "id": "3de55fcb",
   "metadata": {},
   "outputs": [
    {
     "name": "stdout",
     "output_type": "stream",
     "text": [
      "<class 'pandas.core.frame.DataFrame'>\n",
      "RangeIndex: 2194351 entries, 0 to 2194350\n",
      "Data columns (total 7 columns):\n",
      " #   Column      Dtype  \n",
      "---  ------      -----  \n",
      " 0   user_id     int64  \n",
      " 1   level_id    int64  \n",
      " 2   f_success   int64  \n",
      " 3   f_duration  float64\n",
      " 4   f_reststep  float64\n",
      " 5   f_help      int64  \n",
      " 6   time        object \n",
      "dtypes: float64(2), int64(4), object(1)\n",
      "memory usage: 117.2+ MB\n"
     ]
    }
   ],
   "source": [
    "users.info()"
   ]
  },
  {
   "cell_type": "code",
   "execution_count": 8,
   "id": "0a2a292e",
   "metadata": {
    "scrolled": true
   },
   "outputs": [
    {
     "data": {
      "text/plain": [
       "69322"
      ]
     },
     "execution_count": 8,
     "metadata": {},
     "output_type": "execute_result"
    }
   ],
   "source": [
    "users.duplicated().sum()"
   ]
  },
  {
   "cell_type": "code",
   "execution_count": 35,
   "id": "fe69fb50",
   "metadata": {},
   "outputs": [
    {
     "data": {
      "text/plain": [
       "user_id       0\n",
       "level_id      0\n",
       "f_success     0\n",
       "f_duration    0\n",
       "f_reststep    0\n",
       "f_help        0\n",
       "time          0\n",
       "dtype: int64"
      ]
     },
     "execution_count": 35,
     "metadata": {},
     "output_type": "execute_result"
    }
   ],
   "source": [
    "users.isna().sum()"
   ]
  },
  {
   "cell_type": "code",
   "execution_count": 43,
   "id": "2f75196e",
   "metadata": {},
   "outputs": [
    {
     "name": "stdout",
     "output_type": "stream",
     "text": [
      "0\n",
      "0\n",
      "0\n",
      "0\n",
      "0\n",
      "0\n",
      "0\n"
     ]
    }
   ],
   "source": [
    "for col in users:\n",
    "    print(users[col].isna().sum())"
   ]
  },
  {
   "cell_type": "code",
   "execution_count": 9,
   "id": "a453ae4a",
   "metadata": {},
   "outputs": [
    {
     "data": {
      "text/html": [
       "<div>\n",
       "<style scoped>\n",
       "    .dataframe tbody tr th:only-of-type {\n",
       "        vertical-align: middle;\n",
       "    }\n",
       "\n",
       "    .dataframe tbody tr th {\n",
       "        vertical-align: top;\n",
       "    }\n",
       "\n",
       "    .dataframe thead th {\n",
       "        text-align: right;\n",
       "    }\n",
       "</style>\n",
       "<table border=\"1\" class=\"dataframe\">\n",
       "  <thead>\n",
       "    <tr style=\"text-align: right;\">\n",
       "      <th></th>\n",
       "      <th>user_id</th>\n",
       "      <th>level_id</th>\n",
       "      <th>f_success</th>\n",
       "      <th>f_duration</th>\n",
       "      <th>f_reststep</th>\n",
       "      <th>f_help</th>\n",
       "      <th>time</th>\n",
       "    </tr>\n",
       "  </thead>\n",
       "  <tbody>\n",
       "    <tr>\n",
       "      <th>64</th>\n",
       "      <td>10932</td>\n",
       "      <td>50</td>\n",
       "      <td>0</td>\n",
       "      <td>153.00</td>\n",
       "      <td>0.00</td>\n",
       "      <td>0</td>\n",
       "      <td>2020-02-01 17:05:43</td>\n",
       "    </tr>\n",
       "    <tr>\n",
       "      <th>65</th>\n",
       "      <td>10932</td>\n",
       "      <td>50</td>\n",
       "      <td>0</td>\n",
       "      <td>153.00</td>\n",
       "      <td>0.00</td>\n",
       "      <td>0</td>\n",
       "      <td>2020-02-01 17:05:43</td>\n",
       "    </tr>\n",
       "    <tr>\n",
       "      <th>665</th>\n",
       "      <td>2774</td>\n",
       "      <td>42</td>\n",
       "      <td>1</td>\n",
       "      <td>130.00</td>\n",
       "      <td>0.05</td>\n",
       "      <td>0</td>\n",
       "      <td>2020-02-01 10:56:34</td>\n",
       "    </tr>\n",
       "    <tr>\n",
       "      <th>667</th>\n",
       "      <td>2774</td>\n",
       "      <td>44</td>\n",
       "      <td>1</td>\n",
       "      <td>116.00</td>\n",
       "      <td>0.21</td>\n",
       "      <td>0</td>\n",
       "      <td>2020-02-01 11:02:32</td>\n",
       "    </tr>\n",
       "    <tr>\n",
       "      <th>707</th>\n",
       "      <td>2774</td>\n",
       "      <td>62</td>\n",
       "      <td>1</td>\n",
       "      <td>89.00</td>\n",
       "      <td>0.43</td>\n",
       "      <td>0</td>\n",
       "      <td>2020-02-02 09:10:50</td>\n",
       "    </tr>\n",
       "    <tr>\n",
       "      <th>...</th>\n",
       "      <td>...</td>\n",
       "      <td>...</td>\n",
       "      <td>...</td>\n",
       "      <td>...</td>\n",
       "      <td>...</td>\n",
       "      <td>...</td>\n",
       "      <td>...</td>\n",
       "    </tr>\n",
       "    <tr>\n",
       "      <th>2192592</th>\n",
       "      <td>10924</td>\n",
       "      <td>36</td>\n",
       "      <td>1</td>\n",
       "      <td>110.00</td>\n",
       "      <td>0.50</td>\n",
       "      <td>0</td>\n",
       "      <td>2020-02-02 00:45:41</td>\n",
       "    </tr>\n",
       "    <tr>\n",
       "      <th>2193091</th>\n",
       "      <td>13586</td>\n",
       "      <td>104</td>\n",
       "      <td>0</td>\n",
       "      <td>155.00</td>\n",
       "      <td>0.00</td>\n",
       "      <td>0</td>\n",
       "      <td>2020-02-03 21:13:35</td>\n",
       "    </tr>\n",
       "    <tr>\n",
       "      <th>2193569</th>\n",
       "      <td>10927</td>\n",
       "      <td>137</td>\n",
       "      <td>1</td>\n",
       "      <td>73.00</td>\n",
       "      <td>0.29</td>\n",
       "      <td>0</td>\n",
       "      <td>2020-02-02 22:36:23</td>\n",
       "    </tr>\n",
       "    <tr>\n",
       "      <th>2193666</th>\n",
       "      <td>10927</td>\n",
       "      <td>207</td>\n",
       "      <td>0</td>\n",
       "      <td>166.00</td>\n",
       "      <td>0.00</td>\n",
       "      <td>0</td>\n",
       "      <td>2020-02-04 20:59:36</td>\n",
       "    </tr>\n",
       "    <tr>\n",
       "      <th>2193844</th>\n",
       "      <td>10929</td>\n",
       "      <td>64</td>\n",
       "      <td>0</td>\n",
       "      <td>118.00</td>\n",
       "      <td>0.00</td>\n",
       "      <td>0</td>\n",
       "      <td>2020-02-02 21:21:02</td>\n",
       "    </tr>\n",
       "  </tbody>\n",
       "</table>\n",
       "<p>69322 rows × 7 columns</p>\n",
       "</div>"
      ],
      "text/plain": [
       "         user_id  level_id  f_success  f_duration  f_reststep  f_help  \\\n",
       "64         10932        50          0      153.00        0.00       0   \n",
       "65         10932        50          0      153.00        0.00       0   \n",
       "665         2774        42          1      130.00        0.05       0   \n",
       "667         2774        44          1      116.00        0.21       0   \n",
       "707         2774        62          1       89.00        0.43       0   \n",
       "...          ...       ...        ...         ...         ...     ...   \n",
       "2192592    10924        36          1      110.00        0.50       0   \n",
       "2193091    13586       104          0      155.00        0.00       0   \n",
       "2193569    10927       137          1       73.00        0.29       0   \n",
       "2193666    10927       207          0      166.00        0.00       0   \n",
       "2193844    10929        64          0      118.00        0.00       0   \n",
       "\n",
       "                        time  \n",
       "64       2020-02-01 17:05:43  \n",
       "65       2020-02-01 17:05:43  \n",
       "665      2020-02-01 10:56:34  \n",
       "667      2020-02-01 11:02:32  \n",
       "707      2020-02-02 09:10:50  \n",
       "...                      ...  \n",
       "2192592  2020-02-02 00:45:41  \n",
       "2193091  2020-02-03 21:13:35  \n",
       "2193569  2020-02-02 22:36:23  \n",
       "2193666  2020-02-04 20:59:36  \n",
       "2193844  2020-02-02 21:21:02  \n",
       "\n",
       "[69322 rows x 7 columns]"
      ]
     },
     "execution_count": 9,
     "metadata": {},
     "output_type": "execute_result"
    }
   ],
   "source": [
    "dupes = users[users.duplicated()]\n",
    "dupes"
   ]
  },
  {
   "cell_type": "markdown",
   "id": "1a2ffbed",
   "metadata": {},
   "source": [
    "<div class=\"alert alert-warning\">\n",
    "  <strong>Summary of Findings</strong>\n",
    "    <li>Out of roughly 2.2 million rows there are about 70k duplicates.</li>\n",
    "    <li>Out of roughly 2.2 million rows there are about 70k duplicates.</li>\n",
    "    <li>user_id needs to be converted to string.</li>\n",
    "    <li>time needs to be converted to datetime.</li>\n",
    "</div>"
   ]
  },
  {
   "cell_type": "code",
   "execution_count": 11,
   "id": "69d39e6a",
   "metadata": {},
   "outputs": [],
   "source": [
    "users.drop_duplicates(inplace=True)"
   ]
  },
  {
   "cell_type": "code",
   "execution_count": 14,
   "id": "99aa77f9",
   "metadata": {},
   "outputs": [],
   "source": [
    "users['user_id'] = users['user_id'].astype('str')"
   ]
  },
  {
   "cell_type": "code",
   "execution_count": 16,
   "id": "40df790f",
   "metadata": {},
   "outputs": [],
   "source": [
    "users['time'] = pd.to_datetime(users['time'], format='%Y-%m-%d %H:%M:%S')"
   ]
  },
  {
   "cell_type": "code",
   "execution_count": 17,
   "id": "05a6c834",
   "metadata": {},
   "outputs": [
    {
     "name": "stdout",
     "output_type": "stream",
     "text": [
      "<class 'pandas.core.frame.DataFrame'>\n",
      "Int64Index: 2125029 entries, 0 to 2194350\n",
      "Data columns (total 7 columns):\n",
      " #   Column      Dtype         \n",
      "---  ------      -----         \n",
      " 0   user_id     object        \n",
      " 1   level_id    int64         \n",
      " 2   f_success   int64         \n",
      " 3   f_duration  float64       \n",
      " 4   f_reststep  float64       \n",
      " 5   f_help      int64         \n",
      " 6   time        datetime64[ns]\n",
      "dtypes: datetime64[ns](1), float64(2), int64(3), object(1)\n",
      "memory usage: 129.7+ MB\n"
     ]
    }
   ],
   "source": [
    "users.info()"
   ]
  },
  {
   "cell_type": "markdown",
   "id": "f982196b",
   "metadata": {},
   "source": [
    "<div class=\"alert alert-success\">\n",
    "  <strong>Summary of Actions</strong>\n",
    "    <li>Dropped ~70k duplicates.</li>\n",
    "    <li>Changed user_id to string.</li>\n",
    "    <li>Converted time to datetime object.</li>\n",
    "</div>"
   ]
  },
  {
   "cell_type": "code",
   "execution_count": 30,
   "id": "ecba1b48",
   "metadata": {},
   "outputs": [
    {
     "data": {
      "text/html": [
       "<div>\n",
       "<style scoped>\n",
       "    .dataframe tbody tr th:only-of-type {\n",
       "        vertical-align: middle;\n",
       "    }\n",
       "\n",
       "    .dataframe tbody tr th {\n",
       "        vertical-align: top;\n",
       "    }\n",
       "\n",
       "    .dataframe thead th {\n",
       "        text-align: right;\n",
       "    }\n",
       "</style>\n",
       "<table border=\"1\" class=\"dataframe\">\n",
       "  <thead>\n",
       "    <tr style=\"text-align: right;\">\n",
       "      <th></th>\n",
       "      <th>f_avg_duration</th>\n",
       "      <th>f_avg_passrate</th>\n",
       "      <th>f_avg_win_duration</th>\n",
       "      <th>f_avg_retrytimes</th>\n",
       "      <th>level_id</th>\n",
       "    </tr>\n",
       "  </thead>\n",
       "  <tbody>\n",
       "    <tr>\n",
       "      <th>0</th>\n",
       "      <td>39.89</td>\n",
       "      <td>0.94</td>\n",
       "      <td>35.58</td>\n",
       "      <td>0.02</td>\n",
       "      <td>1</td>\n",
       "    </tr>\n",
       "    <tr>\n",
       "      <th>1</th>\n",
       "      <td>60.68</td>\n",
       "      <td>0.99</td>\n",
       "      <td>56.72</td>\n",
       "      <td>0.00</td>\n",
       "      <td>2</td>\n",
       "    </tr>\n",
       "    <tr>\n",
       "      <th>2</th>\n",
       "      <td>76.95</td>\n",
       "      <td>0.99</td>\n",
       "      <td>71.79</td>\n",
       "      <td>0.00</td>\n",
       "      <td>3</td>\n",
       "    </tr>\n",
       "    <tr>\n",
       "      <th>3</th>\n",
       "      <td>58.17</td>\n",
       "      <td>0.99</td>\n",
       "      <td>54.84</td>\n",
       "      <td>0.00</td>\n",
       "      <td>4</td>\n",
       "    </tr>\n",
       "    <tr>\n",
       "      <th>4</th>\n",
       "      <td>101.78</td>\n",
       "      <td>0.95</td>\n",
       "      <td>85.65</td>\n",
       "      <td>0.03</td>\n",
       "      <td>5</td>\n",
       "    </tr>\n",
       "  </tbody>\n",
       "</table>\n",
       "</div>"
      ],
      "text/plain": [
       "   f_avg_duration  f_avg_passrate  f_avg_win_duration  f_avg_retrytimes  \\\n",
       "0           39.89            0.94               35.58              0.02   \n",
       "1           60.68            0.99               56.72              0.00   \n",
       "2           76.95            0.99               71.79              0.00   \n",
       "3           58.17            0.99               54.84              0.00   \n",
       "4          101.78            0.95               85.65              0.03   \n",
       "\n",
       "   level_id  \n",
       "0         1  \n",
       "1         2  \n",
       "2         3  \n",
       "3         4  \n",
       "4         5  "
      ]
     },
     "execution_count": 30,
     "metadata": {},
     "output_type": "execute_result"
    }
   ],
   "source": [
    "levels.head()"
   ]
  },
  {
   "cell_type": "code",
   "execution_count": 31,
   "id": "8ef586f1",
   "metadata": {},
   "outputs": [
    {
     "name": "stdout",
     "output_type": "stream",
     "text": [
      "<class 'pandas.core.frame.DataFrame'>\n",
      "RangeIndex: 1509 entries, 0 to 1508\n",
      "Data columns (total 5 columns):\n",
      " #   Column              Non-Null Count  Dtype  \n",
      "---  ------              --------------  -----  \n",
      " 0   f_avg_duration      1509 non-null   float64\n",
      " 1   f_avg_passrate      1509 non-null   float64\n",
      " 2   f_avg_win_duration  1509 non-null   float64\n",
      " 3   f_avg_retrytimes    1509 non-null   float64\n",
      " 4   level_id            1509 non-null   int64  \n",
      "dtypes: float64(4), int64(1)\n",
      "memory usage: 59.1 KB\n"
     ]
    }
   ],
   "source": [
    "levels.info()"
   ]
  },
  {
   "cell_type": "code",
   "execution_count": 32,
   "id": "cfd2c401",
   "metadata": {},
   "outputs": [
    {
     "data": {
      "text/html": [
       "<div>\n",
       "<style scoped>\n",
       "    .dataframe tbody tr th:only-of-type {\n",
       "        vertical-align: middle;\n",
       "    }\n",
       "\n",
       "    .dataframe tbody tr th {\n",
       "        vertical-align: top;\n",
       "    }\n",
       "\n",
       "    .dataframe thead th {\n",
       "        text-align: right;\n",
       "    }\n",
       "</style>\n",
       "<table border=\"1\" class=\"dataframe\">\n",
       "  <thead>\n",
       "    <tr style=\"text-align: right;\">\n",
       "      <th></th>\n",
       "      <th>f_avg_duration</th>\n",
       "      <th>f_avg_passrate</th>\n",
       "      <th>f_avg_win_duration</th>\n",
       "      <th>f_avg_retrytimes</th>\n",
       "      <th>level_id</th>\n",
       "    </tr>\n",
       "  </thead>\n",
       "  <tbody>\n",
       "    <tr>\n",
       "      <th>count</th>\n",
       "      <td>1509.00</td>\n",
       "      <td>1509.00</td>\n",
       "      <td>1509.00</td>\n",
       "      <td>1509.00</td>\n",
       "      <td>1509.00</td>\n",
       "    </tr>\n",
       "    <tr>\n",
       "      <th>mean</th>\n",
       "      <td>514.41</td>\n",
       "      <td>0.45</td>\n",
       "      <td>116.01</td>\n",
       "      <td>3.42</td>\n",
       "      <td>755.00</td>\n",
       "    </tr>\n",
       "    <tr>\n",
       "      <th>std</th>\n",
       "      <td>234.73</td>\n",
       "      <td>0.19</td>\n",
       "      <td>27.66</td>\n",
       "      <td>4.07</td>\n",
       "      <td>435.76</td>\n",
       "    </tr>\n",
       "    <tr>\n",
       "      <th>min</th>\n",
       "      <td>39.89</td>\n",
       "      <td>0.00</td>\n",
       "      <td>35.58</td>\n",
       "      <td>0.00</td>\n",
       "      <td>1.00</td>\n",
       "    </tr>\n",
       "    <tr>\n",
       "      <th>25%</th>\n",
       "      <td>372.25</td>\n",
       "      <td>0.33</td>\n",
       "      <td>101.24</td>\n",
       "      <td>2.00</td>\n",
       "      <td>378.00</td>\n",
       "    </tr>\n",
       "    <tr>\n",
       "      <th>50%</th>\n",
       "      <td>497.65</td>\n",
       "      <td>0.40</td>\n",
       "      <td>112.67</td>\n",
       "      <td>3.29</td>\n",
       "      <td>755.00</td>\n",
       "    </tr>\n",
       "    <tr>\n",
       "      <th>75%</th>\n",
       "      <td>623.59</td>\n",
       "      <td>0.51</td>\n",
       "      <td>126.44</td>\n",
       "      <td>4.41</td>\n",
       "      <td>1132.00</td>\n",
       "    </tr>\n",
       "    <tr>\n",
       "      <th>max</th>\n",
       "      <td>2105.00</td>\n",
       "      <td>1.00</td>\n",
       "      <td>540.00</td>\n",
       "      <td>98.00</td>\n",
       "      <td>1509.00</td>\n",
       "    </tr>\n",
       "  </tbody>\n",
       "</table>\n",
       "</div>"
      ],
      "text/plain": [
       "       f_avg_duration  f_avg_passrate  f_avg_win_duration  f_avg_retrytimes  \\\n",
       "count         1509.00         1509.00             1509.00           1509.00   \n",
       "mean           514.41            0.45              116.01              3.42   \n",
       "std            234.73            0.19               27.66              4.07   \n",
       "min             39.89            0.00               35.58              0.00   \n",
       "25%            372.25            0.33              101.24              2.00   \n",
       "50%            497.65            0.40              112.67              3.29   \n",
       "75%            623.59            0.51              126.44              4.41   \n",
       "max           2105.00            1.00              540.00             98.00   \n",
       "\n",
       "       level_id  \n",
       "count   1509.00  \n",
       "mean     755.00  \n",
       "std      435.76  \n",
       "min        1.00  \n",
       "25%      378.00  \n",
       "50%      755.00  \n",
       "75%     1132.00  \n",
       "max     1509.00  "
      ]
     },
     "execution_count": 32,
     "metadata": {},
     "output_type": "execute_result"
    }
   ],
   "source": [
    "levels.describe()"
   ]
  },
  {
   "cell_type": "code",
   "execution_count": 33,
   "id": "3ae503bd",
   "metadata": {},
   "outputs": [
    {
     "data": {
      "text/plain": [
       "0"
      ]
     },
     "execution_count": 33,
     "metadata": {},
     "output_type": "execute_result"
    }
   ],
   "source": [
    "levels.duplicated().sum()"
   ]
  },
  {
   "cell_type": "code",
   "execution_count": null,
   "id": "dfcd6b8b",
   "metadata": {},
   "outputs": [],
   "source": []
  },
  {
   "cell_type": "code",
   "execution_count": null,
   "id": "30744031",
   "metadata": {},
   "outputs": [],
   "source": []
  },
  {
   "cell_type": "code",
   "execution_count": null,
   "id": "c39c99eb",
   "metadata": {},
   "outputs": [],
   "source": []
  },
  {
   "cell_type": "markdown",
   "id": "70be9be7",
   "metadata": {},
   "source": [
    "## Step 2: EDA"
   ]
  },
  {
   "cell_type": "code",
   "execution_count": 21,
   "id": "6c3adab8",
   "metadata": {},
   "outputs": [
    {
     "data": {
      "text/plain": [
       "1509"
      ]
     },
     "execution_count": 21,
     "metadata": {},
     "output_type": "execute_result"
    }
   ],
   "source": [
    "#Examine number of levels\n",
    "users['level_id'].max()"
   ]
  },
  {
   "cell_type": "code",
   "execution_count": 23,
   "id": "81cb213a",
   "metadata": {},
   "outputs": [
    {
     "data": {
      "text/plain": [
       "1    1121482\n",
       "0    1003547\n",
       "Name: f_success, dtype: int64"
      ]
     },
     "execution_count": 23,
     "metadata": {},
     "output_type": "execute_result"
    }
   ],
   "source": [
    "#Examine success/failure ratio\n",
    "users['f_success'].value_counts()"
   ]
  },
  {
   "cell_type": "code",
   "execution_count": 24,
   "id": "06403aba",
   "metadata": {},
   "outputs": [
    {
     "data": {
      "text/plain": [
       "count   2125029.00\n",
       "mean        107.97\n",
       "std          53.58\n",
       "min           1.00\n",
       "25%          77.00\n",
       "50%          99.00\n",
       "75%         127.00\n",
       "max         600.00\n",
       "Name: f_duration, dtype: float64"
      ]
     },
     "execution_count": 24,
     "metadata": {},
     "output_type": "execute_result"
    }
   ],
   "source": [
    "#Examine level attempt duration time\n",
    "users['f_duration'].describe()"
   ]
  },
  {
   "cell_type": "code",
   "execution_count": null,
   "id": "c840cbaa",
   "metadata": {},
   "outputs": [],
   "source": [
    "users['f_duration']"
   ]
  },
  {
   "cell_type": "code",
   "execution_count": null,
   "id": "c4905ed0",
   "metadata": {},
   "outputs": [],
   "source": []
  },
  {
   "cell_type": "code",
   "execution_count": null,
   "id": "23e27ba1",
   "metadata": {},
   "outputs": [],
   "source": []
  },
  {
   "cell_type": "code",
   "execution_count": null,
   "id": "ebc46f6d",
   "metadata": {},
   "outputs": [],
   "source": []
  },
  {
   "cell_type": "code",
   "execution_count": null,
   "id": "56a6a2d3",
   "metadata": {},
   "outputs": [],
   "source": []
  },
  {
   "cell_type": "code",
   "execution_count": null,
   "id": "0cf4f103",
   "metadata": {},
   "outputs": [],
   "source": []
  },
  {
   "cell_type": "code",
   "execution_count": null,
   "id": "cdd91169",
   "metadata": {},
   "outputs": [],
   "source": []
  },
  {
   "cell_type": "code",
   "execution_count": null,
   "id": "3f580eeb",
   "metadata": {},
   "outputs": [],
   "source": []
  },
  {
   "cell_type": "code",
   "execution_count": null,
   "id": "a4457755",
   "metadata": {},
   "outputs": [],
   "source": []
  },
  {
   "cell_type": "code",
   "execution_count": null,
   "id": "76ed7351",
   "metadata": {},
   "outputs": [],
   "source": []
  },
  {
   "cell_type": "code",
   "execution_count": null,
   "id": "02742c0d",
   "metadata": {},
   "outputs": [],
   "source": []
  },
  {
   "cell_type": "code",
   "execution_count": null,
   "id": "1bb069c0",
   "metadata": {},
   "outputs": [],
   "source": []
  },
  {
   "cell_type": "code",
   "execution_count": null,
   "id": "e1e6502a",
   "metadata": {},
   "outputs": [],
   "source": []
  },
  {
   "cell_type": "code",
   "execution_count": null,
   "id": "2247dd52",
   "metadata": {},
   "outputs": [],
   "source": []
  },
  {
   "cell_type": "code",
   "execution_count": null,
   "id": "689b3cee",
   "metadata": {},
   "outputs": [],
   "source": []
  },
  {
   "cell_type": "code",
   "execution_count": null,
   "id": "160368b6",
   "metadata": {},
   "outputs": [],
   "source": []
  },
  {
   "cell_type": "code",
   "execution_count": null,
   "id": "d2eeef4a",
   "metadata": {},
   "outputs": [],
   "source": []
  },
  {
   "cell_type": "code",
   "execution_count": null,
   "id": "60557623",
   "metadata": {},
   "outputs": [],
   "source": []
  },
  {
   "cell_type": "code",
   "execution_count": null,
   "id": "e473c8ff",
   "metadata": {},
   "outputs": [],
   "source": []
  },
  {
   "cell_type": "code",
   "execution_count": null,
   "id": "b87bb6d9",
   "metadata": {},
   "outputs": [],
   "source": []
  },
  {
   "cell_type": "code",
   "execution_count": null,
   "id": "9aec0776",
   "metadata": {},
   "outputs": [],
   "source": []
  }
 ],
 "metadata": {
  "kernelspec": {
   "display_name": "Python 3",
   "language": "python",
   "name": "python3"
  },
  "language_info": {
   "codemirror_mode": {
    "name": "ipython",
    "version": 3
   },
   "file_extension": ".py",
   "mimetype": "text/x-python",
   "name": "python",
   "nbconvert_exporter": "python",
   "pygments_lexer": "ipython3",
   "version": "3.7.6"
  }
 },
 "nbformat": 4,
 "nbformat_minor": 5
}
