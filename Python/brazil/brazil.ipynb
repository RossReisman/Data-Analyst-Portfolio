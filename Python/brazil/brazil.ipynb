{
 "cells": [
  {
   "cell_type": "markdown",
   "id": "7eca6e05",
   "metadata": {},
   "source": [
    "## Brazilian E-Commerce Data"
   ]
  },
  {
   "cell_type": "markdown",
   "id": "07f03175",
   "metadata": {},
   "source": [
    "### An analysis of E-Commerce data from Olist\n",
    "\n",
    "the data can be found on Kaggle at [this link](https://www.kaggle.com/datasets/olistbr/brazilian-ecommerce)"
   ]
  },
  {
   "cell_type": "markdown",
   "id": "8ba145c0",
   "metadata": {},
   "source": [
    "<img src=\"data_schema.png\" width=750>"
   ]
  },
  {
   "cell_type": "markdown",
   "id": "5770fc92",
   "metadata": {},
   "source": [
    "## Step 1) Import Libraries and Data"
   ]
  },
  {
   "cell_type": "code",
   "execution_count": 1,
   "id": "44a583e2",
   "metadata": {},
   "outputs": [],
   "source": [
    "import pandas as pd\n",
    "import glob\n",
    "import os\n",
    "import numpy as np\n",
    "import matplotlib as mpl\n",
    "from matplotlib import pyplot as plt\n",
    "from matplotlib.ticker import (MultipleLocator, FormatStrFormatter, AutoMinorLocator)\n",
    "import seaborn as sns"
   ]
  },
  {
   "cell_type": "code",
   "execution_count": 2,
   "id": "ac6d0e83",
   "metadata": {},
   "outputs": [
    {
     "data": {
      "text/plain": [
       "['/Users/raws/Documents/GitHub/portfolio/Python/brazil/olist_sellers_dataset.csv',\n",
       " '/Users/raws/Documents/GitHub/portfolio/Python/brazil/product_category_name_translation.csv',\n",
       " '/Users/raws/Documents/GitHub/portfolio/Python/brazil/olist_orders_dataset.csv',\n",
       " '/Users/raws/Documents/GitHub/portfolio/Python/brazil/olist_order_items_dataset.csv',\n",
       " '/Users/raws/Documents/GitHub/portfolio/Python/brazil/olist_customers_dataset.csv',\n",
       " '/Users/raws/Documents/GitHub/portfolio/Python/brazil/olist_geolocation_dataset.csv',\n",
       " '/Users/raws/Documents/GitHub/portfolio/Python/brazil/olist_order_payments_dataset.csv',\n",
       " '/Users/raws/Documents/GitHub/portfolio/Python/brazil/olist_order_reviews_dataset.csv',\n",
       " '/Users/raws/Documents/GitHub/portfolio/Python/brazil/olist_products_dataset.csv']"
      ]
     },
     "execution_count": 2,
     "metadata": {},
     "output_type": "execute_result"
    }
   ],
   "source": [
    "path = os.getcwd()\n",
    "csv_files = glob.glob(path + \"/*.csv\")\n",
    "\n",
    "csv_files"
   ]
  },
  {
   "cell_type": "code",
   "execution_count": 3,
   "id": "517b74cc",
   "metadata": {},
   "outputs": [
    {
     "data": {
      "text/plain": [
       "[                             seller_id  seller_zip_code_prefix  \\\n",
       " 0     3442f8959a84dea7ee197c632cb2df15                   13023   \n",
       " 1     d1b65fc7debc3361ea86b5f14c68d2e2                   13844   \n",
       " 2     ce3ad9de960102d0677a81f5d0bb7b2d                   20031   \n",
       " 3     c0f3eea2e14555b6faeea3dd58c1b1c3                    4195   \n",
       " 4     51a04a8a6bdcb23deccc82b0b80742cf                   12914   \n",
       " ...                                ...                     ...   \n",
       " 3090  98dddbc4601dd4443ca174359b237166                   87111   \n",
       " 3091  f8201cab383e484733266d1906e2fdfa                   88137   \n",
       " 3092  74871d19219c7d518d0090283e03c137                    4650   \n",
       " 3093  e603cf3fec55f8697c9059638d6c8eb5                   96080   \n",
       " 3094  9e25199f6ef7e7c347120ff175652c3b                   12051   \n",
       " \n",
       "             seller_city seller_state  \n",
       " 0              campinas           SP  \n",
       " 1            mogi guacu           SP  \n",
       " 2        rio de janeiro           RJ  \n",
       " 3             sao paulo           SP  \n",
       " 4     braganca paulista           SP  \n",
       " ...                 ...          ...  \n",
       " 3090            sarandi           PR  \n",
       " 3091            palhoca           SC  \n",
       " 3092          sao paulo           SP  \n",
       " 3093            pelotas           RS  \n",
       " 3094            taubate           SP  \n",
       " \n",
       " [3095 rows x 4 columns],\n",
       "             product_category_name product_category_name_english\n",
       " 0                    beleza_saude                 health_beauty\n",
       " 1          informatica_acessorios         computers_accessories\n",
       " 2                      automotivo                          auto\n",
       " 3                 cama_mesa_banho                bed_bath_table\n",
       " 4                moveis_decoracao               furniture_decor\n",
       " ..                            ...                           ...\n",
       " 66                         flores                       flowers\n",
       " 67             artes_e_artesanato         arts_and_craftmanship\n",
       " 68                fraldas_higiene           diapers_and_hygiene\n",
       " 69  fashion_roupa_infanto_juvenil     fashion_childrens_clothes\n",
       " 70             seguros_e_servicos         security_and_services\n",
       " \n",
       " [71 rows x 2 columns],\n",
       "                                order_id                       customer_id  \\\n",
       " 0      e481f51cbdc54678b7cc49136f2d6af7  9ef432eb6251297304e76186b10a928d   \n",
       " 1      53cdb2fc8bc7dce0b6741e2150273451  b0830fb4747a6c6d20dea0b8c802d7ef   \n",
       " 2      47770eb9100c2d0c44946d9cf07ec65d  41ce2a54c0b03bf3443c3d931a367089   \n",
       " 3      949d5b44dbf5de918fe9c16f97b45f8a  f88197465ea7920adcdbec7375364d82   \n",
       " 4      ad21c59c0840e6cb83a9ceb5573f8159  8ab97904e6daea8866dbdbc4fb7aad2c   \n",
       " ...                                 ...                               ...   \n",
       " 99436  9c5dedf39a927c1b2549525ed64a053c  39bd1228ee8140590ac3aca26f2dfe00   \n",
       " 99437  63943bddc261676b46f01ca7ac2f7bd8  1fca14ff2861355f6e5f14306ff977a7   \n",
       " 99438  83c1379a015df1e13d02aae0204711ab  1aa71eb042121263aafbe80c1b562c9c   \n",
       " 99439  11c177c8e97725db2631073c19f07b62  b331b74b18dc79bcdf6532d51e1637c1   \n",
       " 99440  66dea50a8b16d9b4dee7af250b4be1a5  edb027a75a1449115f6b43211ae02a24   \n",
       " \n",
       "       order_status order_purchase_timestamp    order_approved_at  \\\n",
       " 0        delivered      2017-10-02 10:56:33  2017-10-02 11:07:15   \n",
       " 1        delivered      2018-07-24 20:41:37  2018-07-26 03:24:27   \n",
       " 2        delivered      2018-08-08 08:38:49  2018-08-08 08:55:23   \n",
       " 3        delivered      2017-11-18 19:28:06  2017-11-18 19:45:59   \n",
       " 4        delivered      2018-02-13 21:18:39  2018-02-13 22:20:29   \n",
       " ...            ...                      ...                  ...   \n",
       " 99436    delivered      2017-03-09 09:54:05  2017-03-09 09:54:05   \n",
       " 99437    delivered      2018-02-06 12:58:58  2018-02-06 13:10:37   \n",
       " 99438    delivered      2017-08-27 14:46:43  2017-08-27 15:04:16   \n",
       " 99439    delivered      2018-01-08 21:28:27  2018-01-08 21:36:21   \n",
       " 99440    delivered      2018-03-08 20:57:30  2018-03-09 11:20:28   \n",
       " \n",
       "       order_delivered_carrier_date order_delivered_customer_date  \\\n",
       " 0              2017-10-04 19:55:00           2017-10-10 21:25:13   \n",
       " 1              2018-07-26 14:31:00           2018-08-07 15:27:45   \n",
       " 2              2018-08-08 13:50:00           2018-08-17 18:06:29   \n",
       " 3              2017-11-22 13:39:59           2017-12-02 00:28:42   \n",
       " 4              2018-02-14 19:46:34           2018-02-16 18:17:02   \n",
       " ...                            ...                           ...   \n",
       " 99436          2017-03-10 11:18:03           2017-03-17 15:08:01   \n",
       " 99437          2018-02-07 23:22:42           2018-02-28 17:37:56   \n",
       " 99438          2017-08-28 20:52:26           2017-09-21 11:24:17   \n",
       " 99439          2018-01-12 15:35:03           2018-01-25 23:32:54   \n",
       " 99440          2018-03-09 22:11:59           2018-03-16 13:08:30   \n",
       " \n",
       "       order_estimated_delivery_date  \n",
       " 0               2017-10-18 00:00:00  \n",
       " 1               2018-08-13 00:00:00  \n",
       " 2               2018-09-04 00:00:00  \n",
       " 3               2017-12-15 00:00:00  \n",
       " 4               2018-02-26 00:00:00  \n",
       " ...                             ...  \n",
       " 99436           2017-03-28 00:00:00  \n",
       " 99437           2018-03-02 00:00:00  \n",
       " 99438           2017-09-27 00:00:00  \n",
       " 99439           2018-02-15 00:00:00  \n",
       " 99440           2018-04-03 00:00:00  \n",
       " \n",
       " [99441 rows x 8 columns],\n",
       "                                 order_id  order_item_id  \\\n",
       " 0       00010242fe8c5a6d1ba2dd792cb16214              1   \n",
       " 1       00018f77f2f0320c557190d7a144bdd3              1   \n",
       " 2       000229ec398224ef6ca0657da4fc703e              1   \n",
       " 3       00024acbcdf0a6daa1e931b038114c75              1   \n",
       " 4       00042b26cf59d7ce69dfabb4e55b4fd9              1   \n",
       " ...                                  ...            ...   \n",
       " 112645  fffc94f6ce00a00581880bf54a75a037              1   \n",
       " 112646  fffcd46ef2263f404302a634eb57f7eb              1   \n",
       " 112647  fffce4705a9662cd70adb13d4a31832d              1   \n",
       " 112648  fffe18544ffabc95dfada21779c9644f              1   \n",
       " 112649  fffe41c64501cc87c801fd61db3f6244              1   \n",
       " \n",
       "                               product_id                         seller_id  \\\n",
       " 0       4244733e06e7ecb4970a6e2683c13e61  48436dade18ac8b2bce089ec2a041202   \n",
       " 1       e5f2d52b802189ee658865ca93d83a8f  dd7ddc04e1b6c2c614352b383efe2d36   \n",
       " 2       c777355d18b72b67abbeef9df44fd0fd  5b51032eddd242adc84c38acab88f23d   \n",
       " 3       7634da152a4610f1595efa32f14722fc  9d7a1d34a5052409006425275ba1c2b4   \n",
       " 4       ac6c3623068f30de03045865e4e10089  df560393f3a51e74553ab94004ba5c87   \n",
       " ...                                  ...                               ...   \n",
       " 112645  4aa6014eceb682077f9dc4bffebc05b0  b8bc237ba3788b23da09c0f1f3a3288c   \n",
       " 112646  32e07fd915822b0765e448c4dd74c828  f3c38ab652836d21de61fb8314b69182   \n",
       " 112647  72a30483855e2eafc67aee5dc2560482  c3cfdc648177fdbbbb35635a37472c53   \n",
       " 112648  9c422a519119dcad7575db5af1ba540e  2b3e4a2a3ea8e01938cabda2a3e5cc79   \n",
       " 112649  350688d9dc1e75ff97be326363655e01  f7ccf836d21b2fb1de37564105216cc1   \n",
       " \n",
       "         shipping_limit_date   price  freight_value  \n",
       " 0       2017-09-19 09:45:35   58.90          13.29  \n",
       " 1       2017-05-03 11:05:13  239.90          19.93  \n",
       " 2       2018-01-18 14:48:30  199.00          17.87  \n",
       " 3       2018-08-15 10:10:18   12.99          12.79  \n",
       " 4       2017-02-13 13:57:51  199.90          18.14  \n",
       " ...                     ...     ...            ...  \n",
       " 112645  2018-05-02 04:11:01  299.99          43.41  \n",
       " 112646  2018-07-20 04:31:48  350.00          36.53  \n",
       " 112647  2017-10-30 17:14:25   99.90          16.95  \n",
       " 112648  2017-08-21 00:04:32   55.99           8.72  \n",
       " 112649  2018-06-12 17:10:13   43.00          12.79  \n",
       " \n",
       " [112650 rows x 7 columns],\n",
       "                             customer_id                customer_unique_id  \\\n",
       " 0      06b8999e2fba1a1fbc88172c00ba8bc7  861eff4711a542e4b93843c6dd7febb0   \n",
       " 1      18955e83d337fd6b2def6b18a428ac77  290c77bc529b7ac935b93aa66c333dc3   \n",
       " 2      4e7b3e00288586ebd08712fdd0374a03  060e732b5b29e8181a18229c7b0b2b5e   \n",
       " 3      b2b6027bc5c5109e529d4dc6358b12c3  259dac757896d24d7702b9acbbff3f3c   \n",
       " 4      4f2d8ab171c80ec8364f7c12e35b23ad  345ecd01c38d18a9036ed96c73b8d066   \n",
       " ...                                 ...                               ...   \n",
       " 99436  17ddf5dd5d51696bb3d7c6291687be6f  1a29b476fee25c95fbafc67c5ac95cf8   \n",
       " 99437  e7b71a9017aa05c9a7fd292d714858e8  d52a67c98be1cf6a5c84435bd38d095d   \n",
       " 99438  5e28dfe12db7fb50a4b2f691faecea5e  e9f50caf99f032f0bf3c55141f019d99   \n",
       " 99439  56b18e2166679b8a959d72dd06da27f9  73c2643a0a458b49f58cea58833b192e   \n",
       " 99440  274fa6071e5e17fe303b9748641082c8  84732c5050c01db9b23e19ba39899398   \n",
       " \n",
       "        customer_zip_code_prefix          customer_city customer_state  \n",
       " 0                         14409                 franca             SP  \n",
       " 1                          9790  sao bernardo do campo             SP  \n",
       " 2                          1151              sao paulo             SP  \n",
       " 3                          8775        mogi das cruzes             SP  \n",
       " 4                         13056               campinas             SP  \n",
       " ...                         ...                    ...            ...  \n",
       " 99436                      3937              sao paulo             SP  \n",
       " 99437                      6764        taboao da serra             SP  \n",
       " 99438                     60115              fortaleza             CE  \n",
       " 99439                     92120                 canoas             RS  \n",
       " 99440                      6703                  cotia             SP  \n",
       " \n",
       " [99441 rows x 5 columns],\n",
       "          geolocation_zip_code_prefix  geolocation_lat  geolocation_lng  \\\n",
       " 0                               1037       -23.545621       -46.639292   \n",
       " 1                               1046       -23.546081       -46.644820   \n",
       " 2                               1046       -23.546129       -46.642951   \n",
       " 3                               1041       -23.544392       -46.639499   \n",
       " 4                               1035       -23.541578       -46.641607   \n",
       " ...                              ...              ...              ...   \n",
       " 1000158                        99950       -28.068639       -52.010705   \n",
       " 1000159                        99900       -27.877125       -52.224882   \n",
       " 1000160                        99950       -28.071855       -52.014716   \n",
       " 1000161                        99980       -28.388932       -51.846871   \n",
       " 1000162                        99950       -28.070104       -52.018658   \n",
       " \n",
       "         geolocation_city geolocation_state  \n",
       " 0              sao paulo                SP  \n",
       " 1              sao paulo                SP  \n",
       " 2              sao paulo                SP  \n",
       " 3              sao paulo                SP  \n",
       " 4              sao paulo                SP  \n",
       " ...                  ...               ...  \n",
       " 1000158         tapejara                RS  \n",
       " 1000159   getulio vargas                RS  \n",
       " 1000160         tapejara                RS  \n",
       " 1000161  david canabarro                RS  \n",
       " 1000162         tapejara                RS  \n",
       " \n",
       " [1000163 rows x 5 columns],\n",
       "                                 order_id  payment_sequential payment_type  \\\n",
       " 0       b81ef226f3fe1789b1e8b2acac839d17                   1  credit_card   \n",
       " 1       a9810da82917af2d9aefd1278f1dcfa0                   1  credit_card   \n",
       " 2       25e8ea4e93396b6fa0d3dd708e76c1bd                   1  credit_card   \n",
       " 3       ba78997921bbcdc1373bb41e913ab953                   1  credit_card   \n",
       " 4       42fdf880ba16b47b59251dd489d4441a                   1  credit_card   \n",
       " ...                                  ...                 ...          ...   \n",
       " 103881  0406037ad97740d563a178ecc7a2075c                   1       boleto   \n",
       " 103882  7b905861d7c825891d6347454ea7863f                   1  credit_card   \n",
       " 103883  32609bbb3dd69b3c066a6860554a77bf                   1  credit_card   \n",
       " 103884  b8b61059626efa996a60be9bb9320e10                   1  credit_card   \n",
       " 103885  28bbae6599b09d39ca406b747b6632b1                   1       boleto   \n",
       " \n",
       "         payment_installments  payment_value  \n",
       " 0                          8          99.33  \n",
       " 1                          1          24.39  \n",
       " 2                          1          65.71  \n",
       " 3                          8         107.78  \n",
       " 4                          2         128.45  \n",
       " ...                      ...            ...  \n",
       " 103881                     1         363.31  \n",
       " 103882                     2          96.80  \n",
       " 103883                     1          47.77  \n",
       " 103884                     5         369.54  \n",
       " 103885                     1         191.58  \n",
       " \n",
       " [103886 rows x 5 columns],\n",
       "                               review_id                          order_id  \\\n",
       " 0      7bc2406110b926393aa56f80a40eba40  73fc7af87114b39712e6da79b0a377eb   \n",
       " 1      80e641a11e56f04c1ad469d5645fdfde  a548910a1c6147796b98fdf73dbeba33   \n",
       " 2      228ce5500dc1d8e020d8d1322874b6f0  f9e4b658b201a9f2ecdecbb34bed034b   \n",
       " 3      e64fb393e7b32834bb789ff8bb30750e  658677c97b385a9be170737859d3511b   \n",
       " 4      f7c4243c7fe1938f181bec41a392bdeb  8e6bfb81e283fa7e4f11123a3fb894f1   \n",
       " ...                                 ...                               ...   \n",
       " 99219  574ed12dd733e5fa530cfd4bbf39d7c9  2a8c23fee101d4d5662fa670396eb8da   \n",
       " 99220  f3897127253a9592a73be9bdfdf4ed7a  22ec9f0669f784db00fa86d035cf8602   \n",
       " 99221  b3de70c89b1510c4cd3d0649fd302472  55d4004744368f5571d1f590031933e4   \n",
       " 99222  1adeb9d84d72fe4e337617733eb85149  7725825d039fc1f0ceb7635e3f7d9206   \n",
       " 99223  efe49f1d6f951dd88b51e6ccd4cc548f  90531360ecb1eec2a1fbb265a0db0508   \n",
       " \n",
       "        review_score review_comment_title  \\\n",
       " 0                 4                  NaN   \n",
       " 1                 5                  NaN   \n",
       " 2                 5                  NaN   \n",
       " 3                 5                  NaN   \n",
       " 4                 5                  NaN   \n",
       " ...             ...                  ...   \n",
       " 99219             5                  NaN   \n",
       " 99220             5                  NaN   \n",
       " 99221             5                  NaN   \n",
       " 99222             4                  NaN   \n",
       " 99223             1                  NaN   \n",
       " \n",
       "                                   review_comment_message review_creation_date  \\\n",
       " 0                                                    NaN  2018-01-18 00:00:00   \n",
       " 1                                                    NaN  2018-03-10 00:00:00   \n",
       " 2                                                    NaN  2018-02-17 00:00:00   \n",
       " 3                  Recebi bem antes do prazo estipulado.  2017-04-21 00:00:00   \n",
       " 4      Parabéns lojas lannister adorei comprar pela I...  2018-03-01 00:00:00   \n",
       " ...                                                  ...                  ...   \n",
       " 99219                                                NaN  2018-07-07 00:00:00   \n",
       " 99220                                                NaN  2017-12-09 00:00:00   \n",
       " 99221  Excelente mochila, entrega super rápida. Super...  2018-03-22 00:00:00   \n",
       " 99222                                                NaN  2018-07-01 00:00:00   \n",
       " 99223  meu produto chegou e ja tenho que devolver, po...  2017-07-03 00:00:00   \n",
       " \n",
       "       review_answer_timestamp  \n",
       " 0         2018-01-18 21:46:59  \n",
       " 1         2018-03-11 03:05:13  \n",
       " 2         2018-02-18 14:36:24  \n",
       " 3         2017-04-21 22:02:06  \n",
       " 4         2018-03-02 10:26:53  \n",
       " ...                       ...  \n",
       " 99219     2018-07-14 17:18:30  \n",
       " 99220     2017-12-11 20:06:42  \n",
       " 99221     2018-03-23 09:10:43  \n",
       " 99222     2018-07-02 12:59:13  \n",
       " 99223     2017-07-03 21:01:49  \n",
       " \n",
       " [99224 rows x 7 columns],\n",
       "                              product_id              product_category_name  \\\n",
       " 0      1e9e8ef04dbcff4541ed26657ea517e5                         perfumaria   \n",
       " 1      3aa071139cb16b67ca9e5dea641aaa2f                              artes   \n",
       " 2      96bd76ec8810374ed1b65e291975717f                      esporte_lazer   \n",
       " 3      cef67bcfe19066a932b7673e239eb23d                              bebes   \n",
       " 4      9dc1a7de274444849c219cff195d0b71              utilidades_domesticas   \n",
       " ...                                 ...                                ...   \n",
       " 32946  a0b7d5a992ccda646f2d34e418fff5a0                   moveis_decoracao   \n",
       " 32947  bf4538d88321d0fd4412a93c974510e6  construcao_ferramentas_iluminacao   \n",
       " 32948  9a7c6041fa9592d9d9ef6cfe62a71f8c                    cama_mesa_banho   \n",
       " 32949  83808703fc0706a22e264b9d75f04a2e             informatica_acessorios   \n",
       " 32950  106392145fca363410d287a815be6de4                    cama_mesa_banho   \n",
       " \n",
       "        product_name_lenght  product_description_lenght  product_photos_qty  \\\n",
       " 0                     40.0                       287.0                 1.0   \n",
       " 1                     44.0                       276.0                 1.0   \n",
       " 2                     46.0                       250.0                 1.0   \n",
       " 3                     27.0                       261.0                 1.0   \n",
       " 4                     37.0                       402.0                 4.0   \n",
       " ...                    ...                         ...                 ...   \n",
       " 32946                 45.0                        67.0                 2.0   \n",
       " 32947                 41.0                       971.0                 1.0   \n",
       " 32948                 50.0                       799.0                 1.0   \n",
       " 32949                 60.0                       156.0                 2.0   \n",
       " 32950                 58.0                       309.0                 1.0   \n",
       " \n",
       "        product_weight_g  product_length_cm  product_height_cm  \\\n",
       " 0                 225.0               16.0               10.0   \n",
       " 1                1000.0               30.0               18.0   \n",
       " 2                 154.0               18.0                9.0   \n",
       " 3                 371.0               26.0                4.0   \n",
       " 4                 625.0               20.0               17.0   \n",
       " ...                 ...                ...                ...   \n",
       " 32946           12300.0               40.0               40.0   \n",
       " 32947            1700.0               16.0               19.0   \n",
       " 32948            1400.0               27.0                7.0   \n",
       " 32949             700.0               31.0               13.0   \n",
       " 32950            2083.0               12.0                2.0   \n",
       " \n",
       "        product_width_cm  \n",
       " 0                  14.0  \n",
       " 1                  20.0  \n",
       " 2                  15.0  \n",
       " 3                  26.0  \n",
       " 4                  13.0  \n",
       " ...                 ...  \n",
       " 32946              40.0  \n",
       " 32947              16.0  \n",
       " 32948              27.0  \n",
       " 32949              20.0  \n",
       " 32950               7.0  \n",
       " \n",
       " [32951 rows x 9 columns]]"
      ]
     },
     "execution_count": 3,
     "metadata": {},
     "output_type": "execute_result"
    }
   ],
   "source": [
    "df_list = [pd.read_csv(filename, index_col=None, header=0) for filename in csv_files]\n",
    "df_list"
   ]
  },
  {
   "cell_type": "code",
   "execution_count": 4,
   "id": "9e1be0d0",
   "metadata": {},
   "outputs": [],
   "source": [
    "sellers_df = df_list[0]\n",
    "prod_cat_df = df_list[1]\n",
    "orders_df = df_list[2]\n",
    "items_df = df_list[3]\n",
    "customers_df = df_list[4]\n",
    "geolocation_df = df_list[5]\n",
    "payments_df = df_list[6]\n",
    "reviews_df = df_list[7]\n",
    "products_df = df_list[8]"
   ]
  },
  {
   "cell_type": "markdown",
   "id": "91b55f87",
   "metadata": {},
   "source": [
    "<div class=\"alert alert-success\">\n",
    "  <strong>Summary of Actions</strong>\n",
    "    <li>By importing the CSV files to a list, we're able to assign each one to a data frame using list indices</li>\n",
    "</div>\n",
    "\n",
    "\n",
    "    \n",
    "\n"
   ]
  },
  {
   "cell_type": "markdown",
   "id": "03825561",
   "metadata": {},
   "source": [
    "## Step 2) Examine Datasets"
   ]
  },
  {
   "cell_type": "code",
   "execution_count": 5,
   "id": "6258c6f4",
   "metadata": {
    "scrolled": false
   },
   "outputs": [
    {
     "name": "stdout",
     "output_type": "stream",
     "text": [
      "<class 'pandas.core.frame.DataFrame'>\n",
      "RangeIndex: 3095 entries, 0 to 3094\n",
      "Data columns (total 4 columns):\n",
      " #   Column                  Non-Null Count  Dtype \n",
      "---  ------                  --------------  ----- \n",
      " 0   seller_id               3095 non-null   object\n",
      " 1   seller_zip_code_prefix  3095 non-null   int64 \n",
      " 2   seller_city             3095 non-null   object\n",
      " 3   seller_state            3095 non-null   object\n",
      "dtypes: int64(1), object(3)\n",
      "memory usage: 96.8+ KB\n"
     ]
    }
   ],
   "source": [
    "sellers_df.info()"
   ]
  },
  {
   "cell_type": "code",
   "execution_count": 20,
   "id": "521c4dca",
   "metadata": {},
   "outputs": [
    {
     "data": {
      "text/plain": [
       "array(['3442f8959a84dea7ee197c632cb2df15',\n",
       "       'd1b65fc7debc3361ea86b5f14c68d2e2',\n",
       "       'ce3ad9de960102d0677a81f5d0bb7b2d', ...,\n",
       "       '74871d19219c7d518d0090283e03c137',\n",
       "       'e603cf3fec55f8697c9059638d6c8eb5',\n",
       "       '9e25199f6ef7e7c347120ff175652c3b'], dtype=object)"
      ]
     },
     "execution_count": 20,
     "metadata": {},
     "output_type": "execute_result"
    }
   ],
   "source": [
    "sellers_df['seller_id'].unique()"
   ]
  },
  {
   "cell_type": "code",
   "execution_count": 6,
   "id": "0d48d368",
   "metadata": {},
   "outputs": [
    {
     "name": "stdout",
     "output_type": "stream",
     "text": [
      "<class 'pandas.core.frame.DataFrame'>\n",
      "RangeIndex: 71 entries, 0 to 70\n",
      "Data columns (total 2 columns):\n",
      " #   Column                         Non-Null Count  Dtype \n",
      "---  ------                         --------------  ----- \n",
      " 0   product_category_name          71 non-null     object\n",
      " 1   product_category_name_english  71 non-null     object\n",
      "dtypes: object(2)\n",
      "memory usage: 1.2+ KB\n"
     ]
    }
   ],
   "source": [
    "prod_cat_df.info()"
   ]
  },
  {
   "cell_type": "code",
   "execution_count": 19,
   "id": "969be5dd",
   "metadata": {},
   "outputs": [
    {
     "data": {
      "text/plain": [
       "array(['health_beauty', 'computers_accessories', 'auto', 'bed_bath_table',\n",
       "       'furniture_decor', 'sports_leisure', 'perfumery', 'housewares',\n",
       "       'telephony', 'watches_gifts', 'food_drink', 'baby', 'stationery',\n",
       "       'tablets_printing_image', 'toys', 'fixed_telephony',\n",
       "       'garden_tools', 'fashion_bags_accessories', 'small_appliances',\n",
       "       'consoles_games', 'audio', 'fashion_shoes', 'cool_stuff',\n",
       "       'luggage_accessories', 'air_conditioning',\n",
       "       'construction_tools_construction',\n",
       "       'kitchen_dining_laundry_garden_furniture',\n",
       "       'costruction_tools_garden', 'fashion_male_clothing', 'pet_shop',\n",
       "       'office_furniture', 'market_place', 'electronics',\n",
       "       'home_appliances', 'party_supplies', 'home_confort',\n",
       "       'costruction_tools_tools', 'agro_industry_and_commerce',\n",
       "       'furniture_mattress_and_upholstery', 'books_technical',\n",
       "       'home_construction', 'musical_instruments',\n",
       "       'furniture_living_room', 'construction_tools_lights',\n",
       "       'industry_commerce_and_business', 'food', 'art',\n",
       "       'furniture_bedroom', 'books_general_interest',\n",
       "       'construction_tools_safety', 'fashion_underwear_beach',\n",
       "       'fashion_sport', 'signaling_and_security', 'computers',\n",
       "       'christmas_supplies', 'fashio_female_clothing',\n",
       "       'home_appliances_2', 'books_imported', 'drinks', 'cine_photo',\n",
       "       'la_cuisine', 'music', 'home_comfort_2',\n",
       "       'small_appliances_home_oven_and_coffee', 'cds_dvds_musicals',\n",
       "       'dvds_blu_ray', 'flowers', 'arts_and_craftmanship',\n",
       "       'diapers_and_hygiene', 'fashion_childrens_clothes',\n",
       "       'security_and_services'], dtype=object)"
      ]
     },
     "execution_count": 19,
     "metadata": {},
     "output_type": "execute_result"
    }
   ],
   "source": [
    "prod_cat_df['product_category_name_english'].unique()"
   ]
  },
  {
   "cell_type": "code",
   "execution_count": 7,
   "id": "afd7ed33",
   "metadata": {
    "scrolled": true
   },
   "outputs": [
    {
     "name": "stdout",
     "output_type": "stream",
     "text": [
      "<class 'pandas.core.frame.DataFrame'>\n",
      "RangeIndex: 99441 entries, 0 to 99440\n",
      "Data columns (total 8 columns):\n",
      " #   Column                         Non-Null Count  Dtype \n",
      "---  ------                         --------------  ----- \n",
      " 0   order_id                       99441 non-null  object\n",
      " 1   customer_id                    99441 non-null  object\n",
      " 2   order_status                   99441 non-null  object\n",
      " 3   order_purchase_timestamp       99441 non-null  object\n",
      " 4   order_approved_at              99281 non-null  object\n",
      " 5   order_delivered_carrier_date   97658 non-null  object\n",
      " 6   order_delivered_customer_date  96476 non-null  object\n",
      " 7   order_estimated_delivery_date  99441 non-null  object\n",
      "dtypes: object(8)\n",
      "memory usage: 6.1+ MB\n"
     ]
    }
   ],
   "source": [
    "orders_df.info()"
   ]
  },
  {
   "cell_type": "code",
   "execution_count": null,
   "id": "0da0a7bb",
   "metadata": {},
   "outputs": [],
   "source": [
    "orders_df['']"
   ]
  },
  {
   "cell_type": "code",
   "execution_count": null,
   "id": "bde00222",
   "metadata": {},
   "outputs": [],
   "source": []
  },
  {
   "cell_type": "code",
   "execution_count": 8,
   "id": "994893c4",
   "metadata": {},
   "outputs": [
    {
     "name": "stdout",
     "output_type": "stream",
     "text": [
      "<class 'pandas.core.frame.DataFrame'>\n",
      "RangeIndex: 112650 entries, 0 to 112649\n",
      "Data columns (total 7 columns):\n",
      " #   Column               Non-Null Count   Dtype  \n",
      "---  ------               --------------   -----  \n",
      " 0   order_id             112650 non-null  object \n",
      " 1   order_item_id        112650 non-null  int64  \n",
      " 2   product_id           112650 non-null  object \n",
      " 3   seller_id            112650 non-null  object \n",
      " 4   shipping_limit_date  112650 non-null  object \n",
      " 5   price                112650 non-null  float64\n",
      " 6   freight_value        112650 non-null  float64\n",
      "dtypes: float64(2), int64(1), object(4)\n",
      "memory usage: 6.0+ MB\n"
     ]
    }
   ],
   "source": [
    "items_df.info()"
   ]
  },
  {
   "cell_type": "code",
   "execution_count": 9,
   "id": "c26ff3db",
   "metadata": {},
   "outputs": [
    {
     "name": "stdout",
     "output_type": "stream",
     "text": [
      "<class 'pandas.core.frame.DataFrame'>\n",
      "RangeIndex: 99441 entries, 0 to 99440\n",
      "Data columns (total 5 columns):\n",
      " #   Column                    Non-Null Count  Dtype \n",
      "---  ------                    --------------  ----- \n",
      " 0   customer_id               99441 non-null  object\n",
      " 1   customer_unique_id        99441 non-null  object\n",
      " 2   customer_zip_code_prefix  99441 non-null  int64 \n",
      " 3   customer_city             99441 non-null  object\n",
      " 4   customer_state            99441 non-null  object\n",
      "dtypes: int64(1), object(4)\n",
      "memory usage: 3.8+ MB\n"
     ]
    }
   ],
   "source": [
    "customers_df.info()"
   ]
  },
  {
   "cell_type": "code",
   "execution_count": 10,
   "id": "0f679723",
   "metadata": {},
   "outputs": [
    {
     "name": "stdout",
     "output_type": "stream",
     "text": [
      "<class 'pandas.core.frame.DataFrame'>\n",
      "RangeIndex: 1000163 entries, 0 to 1000162\n",
      "Data columns (total 5 columns):\n",
      " #   Column                       Non-Null Count    Dtype  \n",
      "---  ------                       --------------    -----  \n",
      " 0   geolocation_zip_code_prefix  1000163 non-null  int64  \n",
      " 1   geolocation_lat              1000163 non-null  float64\n",
      " 2   geolocation_lng              1000163 non-null  float64\n",
      " 3   geolocation_city             1000163 non-null  object \n",
      " 4   geolocation_state            1000163 non-null  object \n",
      "dtypes: float64(2), int64(1), object(2)\n",
      "memory usage: 38.2+ MB\n"
     ]
    }
   ],
   "source": [
    "geolocation_df.info()"
   ]
  },
  {
   "cell_type": "code",
   "execution_count": 11,
   "id": "ef40b528",
   "metadata": {},
   "outputs": [
    {
     "name": "stdout",
     "output_type": "stream",
     "text": [
      "<class 'pandas.core.frame.DataFrame'>\n",
      "RangeIndex: 103886 entries, 0 to 103885\n",
      "Data columns (total 5 columns):\n",
      " #   Column                Non-Null Count   Dtype  \n",
      "---  ------                --------------   -----  \n",
      " 0   order_id              103886 non-null  object \n",
      " 1   payment_sequential    103886 non-null  int64  \n",
      " 2   payment_type          103886 non-null  object \n",
      " 3   payment_installments  103886 non-null  int64  \n",
      " 4   payment_value         103886 non-null  float64\n",
      "dtypes: float64(1), int64(2), object(2)\n",
      "memory usage: 4.0+ MB\n"
     ]
    }
   ],
   "source": [
    "payments_df.info()"
   ]
  },
  {
   "cell_type": "code",
   "execution_count": 12,
   "id": "f2d5b8f6",
   "metadata": {},
   "outputs": [
    {
     "name": "stdout",
     "output_type": "stream",
     "text": [
      "<class 'pandas.core.frame.DataFrame'>\n",
      "RangeIndex: 99224 entries, 0 to 99223\n",
      "Data columns (total 7 columns):\n",
      " #   Column                   Non-Null Count  Dtype \n",
      "---  ------                   --------------  ----- \n",
      " 0   review_id                99224 non-null  object\n",
      " 1   order_id                 99224 non-null  object\n",
      " 2   review_score             99224 non-null  int64 \n",
      " 3   review_comment_title     11568 non-null  object\n",
      " 4   review_comment_message   40977 non-null  object\n",
      " 5   review_creation_date     99224 non-null  object\n",
      " 6   review_answer_timestamp  99224 non-null  object\n",
      "dtypes: int64(1), object(6)\n",
      "memory usage: 5.3+ MB\n"
     ]
    }
   ],
   "source": [
    "reviews_df.info()"
   ]
  },
  {
   "cell_type": "code",
   "execution_count": 13,
   "id": "ec3c3a0d",
   "metadata": {},
   "outputs": [
    {
     "name": "stdout",
     "output_type": "stream",
     "text": [
      "<class 'pandas.core.frame.DataFrame'>\n",
      "RangeIndex: 32951 entries, 0 to 32950\n",
      "Data columns (total 9 columns):\n",
      " #   Column                      Non-Null Count  Dtype  \n",
      "---  ------                      --------------  -----  \n",
      " 0   product_id                  32951 non-null  object \n",
      " 1   product_category_name       32341 non-null  object \n",
      " 2   product_name_lenght         32341 non-null  float64\n",
      " 3   product_description_lenght  32341 non-null  float64\n",
      " 4   product_photos_qty          32341 non-null  float64\n",
      " 5   product_weight_g            32949 non-null  float64\n",
      " 6   product_length_cm           32949 non-null  float64\n",
      " 7   product_height_cm           32949 non-null  float64\n",
      " 8   product_width_cm            32949 non-null  float64\n",
      "dtypes: float64(7), object(2)\n",
      "memory usage: 2.3+ MB\n"
     ]
    }
   ],
   "source": [
    "products_df.info()"
   ]
  },
  {
   "cell_type": "code",
   "execution_count": 14,
   "id": "5eea5033",
   "metadata": {},
   "outputs": [
    {
     "data": {
      "text/plain": [
       "RangeIndex(start=0, stop=99441, step=1)"
      ]
     },
     "execution_count": 14,
     "metadata": {},
     "output_type": "execute_result"
    }
   ],
   "source": [
    "orders_df.index"
   ]
  },
  {
   "cell_type": "code",
   "execution_count": null,
   "id": "51c35aec",
   "metadata": {},
   "outputs": [],
   "source": []
  },
  {
   "cell_type": "code",
   "execution_count": null,
   "id": "fbd7b8b1",
   "metadata": {},
   "outputs": [],
   "source": []
  },
  {
   "cell_type": "code",
   "execution_count": null,
   "id": "cb96517b",
   "metadata": {},
   "outputs": [],
   "source": []
  },
  {
   "cell_type": "code",
   "execution_count": null,
   "id": "ef6d9a7e",
   "metadata": {},
   "outputs": [],
   "source": []
  },
  {
   "cell_type": "code",
   "execution_count": null,
   "id": "b4a63aa2",
   "metadata": {},
   "outputs": [],
   "source": []
  },
  {
   "cell_type": "code",
   "execution_count": null,
   "id": "fab511f1",
   "metadata": {},
   "outputs": [],
   "source": []
  },
  {
   "cell_type": "code",
   "execution_count": null,
   "id": "62746406",
   "metadata": {},
   "outputs": [],
   "source": []
  },
  {
   "cell_type": "code",
   "execution_count": null,
   "id": "2259e71f",
   "metadata": {},
   "outputs": [],
   "source": []
  },
  {
   "cell_type": "code",
   "execution_count": null,
   "id": "006132de",
   "metadata": {},
   "outputs": [],
   "source": []
  },
  {
   "cell_type": "code",
   "execution_count": null,
   "id": "b9ce18a6",
   "metadata": {},
   "outputs": [],
   "source": []
  },
  {
   "cell_type": "code",
   "execution_count": null,
   "id": "e3c846ed",
   "metadata": {},
   "outputs": [],
   "source": []
  },
  {
   "cell_type": "code",
   "execution_count": null,
   "id": "6a2985a3",
   "metadata": {},
   "outputs": [],
   "source": []
  },
  {
   "cell_type": "code",
   "execution_count": null,
   "id": "ec9180ca",
   "metadata": {},
   "outputs": [],
   "source": []
  },
  {
   "cell_type": "code",
   "execution_count": null,
   "id": "03f9d7a3",
   "metadata": {},
   "outputs": [],
   "source": []
  },
  {
   "cell_type": "code",
   "execution_count": null,
   "id": "f7cf0c53",
   "metadata": {},
   "outputs": [],
   "source": []
  },
  {
   "cell_type": "code",
   "execution_count": null,
   "id": "7142977a",
   "metadata": {},
   "outputs": [],
   "source": []
  }
 ],
 "metadata": {
  "kernelspec": {
   "display_name": "Python 3",
   "language": "python",
   "name": "python3"
  },
  "language_info": {
   "codemirror_mode": {
    "name": "ipython",
    "version": 3
   },
   "file_extension": ".py",
   "mimetype": "text/x-python",
   "name": "python",
   "nbconvert_exporter": "python",
   "pygments_lexer": "ipython3",
   "version": "3.7.6"
  }
 },
 "nbformat": 4,
 "nbformat_minor": 5
}
